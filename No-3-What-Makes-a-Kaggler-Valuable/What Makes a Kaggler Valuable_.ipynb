{
 "cells": [
  {
   "cell_type": "code",
   "execution_count": 1,
   "metadata": {
    "_cell_guid": "b1076dfc-b9ad-4769-8c92-a6c4dae69d19",
    "_kg_hide-input": false,
    "_kg_hide-output": false,
    "_uuid": "8f2839f25d086af736a60e9eeb907d3b93b6e0e5"
   },
   "outputs": [],
   "source": [
    "import numpy as np \n",
    "import pandas as pd\n",
    "\n",
    "# Loading the multiple choices dataset, we will not look to the free form data on this study\n",
    "mc = pd.read_csv('./input/kaggle-survey-2018/multipleChoiceResponses.csv', low_memory=False)\n",
    "\n",
    "# Separating questions from answers\n",
    "# This Series stores all questions\n",
    "mcQ = mc.iloc[0,:]\n",
    "# This DataFrame stores all answers\n",
    "mcA = mc.iloc[1:,:]"
   ]
  },
  {
   "cell_type": "markdown",
   "metadata": {
    "_uuid": "f654fe2ac18dd51776da93b40cdcd889926e938a"
   },
   "source": [
    "# What Makes a Kaggler Valuable? \n",
    "Ever wondered what you should do to add some weight to your Data Science resume? Many of us already have a good notion of what is important to build a strong data science career. Of what is relevant to increase our compensation. But I personally, have never seen a systematic, data based, approach to this problem. That was the motivation of building a model to explain what makes a data scientist valuable to the market. Some results are pretty obvious, but many others might really help you boost your earnings.\n",
    "\n",
    "* [See the article published on **Towards Data Science** that was written from this Kernel](https://towardsdatascience.com/what-makes-a-data-scientist-valuable-b723e6e814aa) \n",
    "\n",
    "* [We also deployed a model at AWS Lambda to predict the probability of earning more than U$100k per year. Check the code.](https://github.com/andresionek91/kaggle-top20-predictor)\n",
    "\n",
    "* [Finally we deployed a Flask App so you can predict your own probability.](http://www.data-scientist-value.com/)\n",
    "\n",
    "[![website](https://i.imgur.com/8ahkF2J.png)](http://www.data-scientist-value.com/)\n",
    "\n",
    "## Learning how to increase your own compensation\n",
    "We only could do this study because Kaggle has released the data from its [second annual Machine Learning and Data Science Survey](https://www.kaggle.com/kaggle/kaggle-survey-2018). The survey was live for one week in October 2018 and got a total of 23,859 responses. The results include raw numbers about who is working with data, what’s happening with machine learning in different industries, and the best ways for new data scientists to break into the field.\n",
    "\n",
    "With access to that data, we wanted to understand what affects a Kaggler’s compensation (we are calling Kaggler anyone that answered the survey). Our idea was to give you precise insights of what is more valuable to the market, so you can stop spending time on things that won’t have a good ROI (return on investment) and speed up towards higher compensation. Following those insights, extracted from data, I hope one day you might find yourself laying down on a pile of money like Mr. Babineaux down here.\n",
    "\n",
    "![](https://media.giphy.com/media/w1z2ilkWZagRG/giphy.gif)\n",
    "\n",
    "## Considerations\n",
    "1. We are assuming that respondents were honest and sincere in their answers.\n",
    "2. This may not represent the whole universe of data professionals (it only has answers from Kaggle users), but it's a good proxy.\n",
    "\n",
    "# Basic Cleaning\n",
    "Survey answers are messy... Most survey softwares dont deliver the data on tidy format, and it is exactly the case of this survey. So we are going to have some really hard work to clean it. First lets just look at some personal data and clean it while we do our EDA."
   ]
  },
  {
   "cell_type": "code",
   "execution_count": 2,
   "metadata": {
    "_kg_hide-input": true,
    "_uuid": "82439ae25f1c969f7b355b6829e619a2ab4f116e"
   },
   "outputs": [],
   "source": [
    "# removing everyone that took less than 4 minutes or more than 600 minutes to answer the survey\n",
    "less3 = mcA[round(mcA.iloc[:,0].astype(int) / 60) <= 4].index\n",
    "mcA = mcA.drop(less3, axis=0)\n",
    "more300 = mcA[round(mcA.iloc[:,0].astype(int) / 60) >= 600].index\n",
    "mcA = mcA.drop(more300, axis=0)\n",
    "\n",
    "# removing gender trolls, because we noticed from other kernels thata there are some ouliers here\n",
    "gender_trolls = mcA[(mcA.Q1 == 'Prefer to self-describe') | (mcA.Q1 == 'Prefer not to say')].index\n",
    "mcA = mcA.drop(list(gender_trolls), axis=0)\n",
    "\n",
    "# removing student trolls, because a student won't make more than 250k a year.\n",
    "student_trolls = mcA[((mcA.Q6 == 'Student') & (mcA.Q9 > '500,000+')) | \\\n",
    "                     ((mcA.Q6 == 'Student') & (mcA.Q9 > '400-500,000')) | \\\n",
    "                     ((mcA.Q6 == 'Student') & (mcA.Q9 > '300-400,000')) | \\\n",
    "                     ((mcA.Q6 == 'Student') & (mcA.Q9 > '250-300,000'))].index\n",
    "mcA = mcA.drop(list(student_trolls), axis=0)\n",
    "\n",
    "# dropping all NaN and I do not wish to disclose my approximate yearly compensation, because we are only interested in respondents that revealed their earnings\n",
    "mcA = mcA[~mcA.Q9.isnull()].copy()\n",
    "not_disclosed = mcA[mcA.Q9 == 'I do not wish to disclose my approximate yearly compensation'].index\n",
    "mcA = mcA.drop(list(not_disclosed), axis=0)"
   ]
  },
  {
   "cell_type": "markdown",
   "metadata": {
    "_uuid": "6e34bd79b1c58cf9b09a6775017baa39484f35b1"
   },
   "source": [
    "We noticed that questions 1 through 9 are all about personal information of data scientists. So we are first focusing on them."
   ]
  },
  {
   "cell_type": "code",
   "execution_count": 3,
   "metadata": {
    "_kg_hide-input": true,
    "_kg_hide-output": false,
    "_uuid": "6e0f577cd2b33afa98527ee66e553d1734e87242",
    "scrolled": false
   },
   "outputs": [
    {
     "data": {
      "text/html": [
       "<div>\n",
       "<style scoped>\n",
       "    .dataframe tbody tr th:only-of-type {\n",
       "        vertical-align: middle;\n",
       "    }\n",
       "\n",
       "    .dataframe tbody tr th {\n",
       "        vertical-align: top;\n",
       "    }\n",
       "\n",
       "    .dataframe thead th {\n",
       "        text-align: right;\n",
       "    }\n",
       "</style>\n",
       "<table border=\"1\" class=\"dataframe\">\n",
       "  <thead>\n",
       "    <tr style=\"text-align: right;\">\n",
       "      <th></th>\n",
       "      <th>gender</th>\n",
       "      <th>age</th>\n",
       "      <th>country</th>\n",
       "      <th>education_level</th>\n",
       "      <th>undergrad_major</th>\n",
       "      <th>role</th>\n",
       "      <th>employer_industry</th>\n",
       "      <th>years_experience</th>\n",
       "      <th>yearly_compensation</th>\n",
       "    </tr>\n",
       "  </thead>\n",
       "  <tbody>\n",
       "    <tr>\n",
       "      <th>2</th>\n",
       "      <td>Male</td>\n",
       "      <td>30-34</td>\n",
       "      <td>Indonesia</td>\n",
       "      <td>Bachelor’s degree</td>\n",
       "      <td>Engineering (non-computer focused)</td>\n",
       "      <td>Other</td>\n",
       "      <td>Manufacturing/Fabrication</td>\n",
       "      <td>5-10</td>\n",
       "      <td>10-20,000</td>\n",
       "    </tr>\n",
       "    <tr>\n",
       "      <th>3</th>\n",
       "      <td>Female</td>\n",
       "      <td>30-34</td>\n",
       "      <td>United States of America</td>\n",
       "      <td>Master’s degree</td>\n",
       "      <td>Computer science (software engineering, etc.)</td>\n",
       "      <td>Data Scientist</td>\n",
       "      <td>I am a student</td>\n",
       "      <td>0-1</td>\n",
       "      <td>0-10,000</td>\n",
       "    </tr>\n",
       "    <tr>\n",
       "      <th>5</th>\n",
       "      <td>Male</td>\n",
       "      <td>22-24</td>\n",
       "      <td>India</td>\n",
       "      <td>Master’s degree</td>\n",
       "      <td>Mathematics or statistics</td>\n",
       "      <td>Data Analyst</td>\n",
       "      <td>I am a student</td>\n",
       "      <td>0-1</td>\n",
       "      <td>0-10,000</td>\n",
       "    </tr>\n",
       "  </tbody>\n",
       "</table>\n",
       "</div>"
      ],
      "text/plain": [
       "   gender    age                   country    education_level  \\\n",
       "2    Male  30-34                 Indonesia  Bachelor’s degree   \n",
       "3  Female  30-34  United States of America    Master’s degree   \n",
       "5    Male  22-24                     India    Master’s degree   \n",
       "\n",
       "                                 undergrad_major            role  \\\n",
       "2             Engineering (non-computer focused)           Other   \n",
       "3  Computer science (software engineering, etc.)  Data Scientist   \n",
       "5                      Mathematics or statistics    Data Analyst   \n",
       "\n",
       "           employer_industry years_experience yearly_compensation  \n",
       "2  Manufacturing/Fabrication             5-10           10-20,000  \n",
       "3             I am a student              0-1            0-10,000  \n",
       "5             I am a student              0-1            0-10,000  "
      ]
     },
     "execution_count": 3,
     "metadata": {},
     "output_type": "execute_result"
    }
   ],
   "source": [
    "# Creating a table with personal data\n",
    "personal_data = mcA.iloc[:,:13].copy()\n",
    "\n",
    "# renaming columns\n",
    "cols = ['survey_duration', 'gender', 'gender_text', 'age', 'country', 'education_level', 'undergrad_major', 'role', 'role_text',\n",
    "        'employer_industry', 'employer_industry_text', 'years_experience', 'yearly_compensation']\n",
    "personal_data.columns = cols\n",
    "\n",
    "# Drop text and survey_duration columns \n",
    "personal_data.drop(['survey_duration', 'gender_text', 'role_text', 'employer_industry_text'], axis=1, inplace=True)\n",
    "\n",
    "personal_data.head(3)"
   ]
  },
  {
   "cell_type": "code",
   "execution_count": 4,
   "metadata": {
    "_kg_hide-input": true,
    "_kg_hide-output": true,
    "_uuid": "5c4b7065d9a9fe39a4819ce3be74491af6dc9770"
   },
   "outputs": [],
   "source": [
    "from pandas.api.types import CategoricalDtype\n",
    "\n",
    "# transforming compensation into category type and ordening the values\n",
    "categ = ['0-10,000', '10-20,000', '20-30,000', '30-40,000', '40-50,000',\n",
    "         '50-60,000', '60-70,000', '70-80,000', '80-90,000', '90-100,000',\n",
    "         '100-125,000', '125-150,000', '150-200,000', '200-250,000', '250-300,000',\n",
    "         '300-400,000', '400-500,000', '500,000+']\n",
    "cat_type = CategoricalDtype(categories=categ, ordered=True)\n",
    "personal_data.yearly_compensation = personal_data.yearly_compensation.astype(cat_type)\n",
    "# Doing this we are transforming the category \"I do not wish to disclose my approximate yearly compensation\" into NaN\n",
    "\n",
    "# transforming age into category type and sorting the values\n",
    "categ = ['18-21', '22-24', '25-29', '30-34', '35-39', '40-44', \n",
    "         '45-49', '50-54', '55-59', '60-69', '70-79', '80+']\n",
    "cat_type = CategoricalDtype(categories=categ, ordered=True)\n",
    "personal_data.age = personal_data.age.astype(cat_type)\n",
    "\n",
    "# transforming years of experience into category type and sorting the values\n",
    "categ = ['0-1', '1-2', '2-3', '3-4', '4-5', '5-10',\n",
    "         '10-15', '15-20', '20-25', '25-30', '30+']\n",
    "cat_type = CategoricalDtype(categories=categ, ordered=True)\n",
    "personal_data.years_experience = personal_data.years_experience.astype(cat_type)\n",
    "\n",
    "# transforming education level into category type and sorting the values\n",
    "categ = ['No formal education past high school', 'Some college/university study without earning a bachelor’s degree',\n",
    "         'Professional degree', 'Bachelor’s degree', 'Master’s degree', 'Doctoral degree', 'I prefer not to answer']\n",
    "cat_type = CategoricalDtype(categories=categ, ordered=True)\n",
    "personal_data.education_level = personal_data.education_level.astype(cat_type)"
   ]
  },
  {
   "cell_type": "markdown",
   "metadata": {
    "_uuid": "47683af39eb52ce6d04a930498fb5a20c4d839c9"
   },
   "source": [
    "We have already dropped all participants that did not disclose their compensation. Let's see how many answers we have at each compensation, including NaNs (we expect to see none)."
   ]
  },
  {
   "cell_type": "code",
   "execution_count": 5,
   "metadata": {
    "_kg_hide-input": false,
    "_uuid": "a89c0a5b4686b2e753111db40d4ac4e5ee28d943"
   },
   "outputs": [
    {
     "data": {
      "text/plain": [
       "0-10,000       3652\n",
       "10-20,000      1633\n",
       "20-30,000      1177\n",
       "30-40,000       886\n",
       "40-50,000       796\n",
       "50-60,000       767\n",
       "60-70,000       631\n",
       "70-80,000       587\n",
       "80-90,000       429\n",
       "90-100,000      486\n",
       "100-125,000     728\n",
       "125-150,000     473\n",
       "150-200,000     404\n",
       "200-250,000     152\n",
       "250-300,000      64\n",
       "300-400,000      39\n",
       "400-500,000      16\n",
       "500,000+         36\n",
       "Name: yearly_compensation, dtype: int64"
      ]
     },
     "execution_count": 5,
     "metadata": {},
     "output_type": "execute_result"
    }
   ],
   "source": [
    "personal_data.yearly_compensation.value_counts(dropna=False, sort=False)"
   ]
  },
  {
   "cell_type": "markdown",
   "metadata": {
    "_uuid": "ac6e289a38c9ebfd02402685fc68819631176b90"
   },
   "source": [
    "Now we want to create a numerical feature that describes compensation. I'm doing that by summing the lower and upper bound and then dividing by 2.  The highest range (500,000+) is summed with itself."
   ]
  },
  {
   "cell_type": "code",
   "execution_count": 6,
   "metadata": {
    "_kg_hide-input": true,
    "_uuid": "b162f513fb2bad326de759eda491b6cc0fc18196"
   },
   "outputs": [
    {
     "name": "stdout",
     "output_type": "stream",
     "text": [
      "Dataset Shape:  (12956, 10)\n"
     ]
    },
    {
     "data": {
      "text/html": [
       "<div>\n",
       "<style scoped>\n",
       "    .dataframe tbody tr th:only-of-type {\n",
       "        vertical-align: middle;\n",
       "    }\n",
       "\n",
       "    .dataframe tbody tr th {\n",
       "        vertical-align: top;\n",
       "    }\n",
       "\n",
       "    .dataframe thead th {\n",
       "        text-align: right;\n",
       "    }\n",
       "</style>\n",
       "<table border=\"1\" class=\"dataframe\">\n",
       "  <thead>\n",
       "    <tr style=\"text-align: right;\">\n",
       "      <th></th>\n",
       "      <th>gender</th>\n",
       "      <th>age</th>\n",
       "      <th>country</th>\n",
       "      <th>education_level</th>\n",
       "      <th>undergrad_major</th>\n",
       "      <th>role</th>\n",
       "      <th>employer_industry</th>\n",
       "      <th>years_experience</th>\n",
       "      <th>yearly_compensation</th>\n",
       "      <th>yearly_compensation_numerical</th>\n",
       "    </tr>\n",
       "  </thead>\n",
       "  <tbody>\n",
       "    <tr>\n",
       "      <th>2</th>\n",
       "      <td>Male</td>\n",
       "      <td>30-34</td>\n",
       "      <td>Indonesia</td>\n",
       "      <td>Bachelor’s degree</td>\n",
       "      <td>Engineering (non-computer focused)</td>\n",
       "      <td>Other</td>\n",
       "      <td>Manufacturing/Fabrication</td>\n",
       "      <td>5-10</td>\n",
       "      <td>10-20,000</td>\n",
       "      <td>15.0</td>\n",
       "    </tr>\n",
       "    <tr>\n",
       "      <th>3</th>\n",
       "      <td>Female</td>\n",
       "      <td>30-34</td>\n",
       "      <td>United States of America</td>\n",
       "      <td>Master’s degree</td>\n",
       "      <td>Computer science (software engineering, etc.)</td>\n",
       "      <td>Data Scientist</td>\n",
       "      <td>I am a student</td>\n",
       "      <td>0-1</td>\n",
       "      <td>0-10,000</td>\n",
       "      <td>5.0</td>\n",
       "    </tr>\n",
       "    <tr>\n",
       "      <th>5</th>\n",
       "      <td>Male</td>\n",
       "      <td>22-24</td>\n",
       "      <td>India</td>\n",
       "      <td>Master’s degree</td>\n",
       "      <td>Mathematics or statistics</td>\n",
       "      <td>Data Analyst</td>\n",
       "      <td>I am a student</td>\n",
       "      <td>0-1</td>\n",
       "      <td>0-10,000</td>\n",
       "      <td>5.0</td>\n",
       "    </tr>\n",
       "  </tbody>\n",
       "</table>\n",
       "</div>"
      ],
      "text/plain": [
       "   gender    age                   country    education_level  \\\n",
       "2    Male  30-34                 Indonesia  Bachelor’s degree   \n",
       "3  Female  30-34  United States of America    Master’s degree   \n",
       "5    Male  22-24                     India    Master’s degree   \n",
       "\n",
       "                                 undergrad_major            role  \\\n",
       "2             Engineering (non-computer focused)           Other   \n",
       "3  Computer science (software engineering, etc.)  Data Scientist   \n",
       "5                      Mathematics or statistics    Data Analyst   \n",
       "\n",
       "           employer_industry years_experience yearly_compensation  \\\n",
       "2  Manufacturing/Fabrication             5-10           10-20,000   \n",
       "3             I am a student              0-1            0-10,000   \n",
       "5             I am a student              0-1            0-10,000   \n",
       "\n",
       "   yearly_compensation_numerical  \n",
       "2                           15.0  \n",
       "3                            5.0  \n",
       "5                            5.0  "
      ]
     },
     "execution_count": 6,
     "metadata": {},
     "output_type": "execute_result"
    }
   ],
   "source": [
    "compensation = personal_data.yearly_compensation.str.replace(',', '').str.replace('500000\\+', '500-500000').str.split('-')\n",
    "personal_data['yearly_compensation_numerical'] = compensation.apply(lambda x: (int(x[0]) * 1000 + int(x[1]))/ 2) / 1000 # it is calculated in thousand dollars\n",
    "print('Dataset Shape: ', personal_data.shape)\n",
    "personal_data.head(3)"
   ]
  },
  {
   "cell_type": "markdown",
   "metadata": {
    "_uuid": "9028626ee08f688e28f04cc990997f5bde54a75d"
   },
   "source": [
    "---\n",
    "# EDA - Studying the problem: How personal data affects compensation?\n",
    "\n",
    "Now that we have done a basic data cleaning, we are able to do some in depth EDA and ultimately build a model to predict the earnings of data scientists and find the most important features that affect compensation. Because we had 50 multiple choice questions, many of them with multiple answers, we will do an EDA only to analyse how personal data correlates to compensation. Other features will be used later on this study, on the modeling step.\n",
    "\n",
    "**Note about splitting the data into train and test sets:** \n",
    "1. Ideally we would split the data into train and test sets before doing the Exploratory Data Analysis. This is good practice to avoid cognitive bias and overfitting the data. I'm not doing it here because I have already studied many of this dataset's kernels before start working on the data, so I'm probably already biased. \n",
    "2. We also have static data, I mean we are not getting any new answers from this survey. If we do the EDA and impute NaNs with the whole dataset, instead of just the training set, we shouldn't have any problem, because we are working with the full universe of data available. \n",
    "\n",
    "### Finding the Top 20% most well paid"
   ]
  },
  {
   "cell_type": "code",
   "execution_count": 7,
   "metadata": {
    "_kg_hide-input": false,
    "_uuid": "3e437982121d689fac74ae7e66ef6b87aee6629c"
   },
   "outputs": [
    {
     "data": {
      "text/plain": [
       "85.0"
      ]
     },
     "execution_count": 7,
     "metadata": {},
     "output_type": "execute_result"
    }
   ],
   "source": [
    "# Finding the compensation that separates the Top 20% most welll paid from the Bottom 80%\n",
    "top20flag = personal_data.yearly_compensation_numerical.quantile(0.8)\n",
    "top20flag"
   ]
  },
  {
   "cell_type": "code",
   "execution_count": 8,
   "metadata": {
    "_kg_hide-input": true,
    "_kg_hide-output": true,
    "_uuid": "4ce7c90131248de35125a13d548b8eeb33d55dd8"
   },
   "outputs": [],
   "source": [
    "# Creating a flag to identify who belongs to the Top 20%\n",
    "personal_data['top20'] = personal_data.yearly_compensation_numerical > top20flag\n",
    "\n",
    "# creating data for future mapping of values\n",
    "top20 = personal_data.groupby('yearly_compensation', as_index=False)['top20'].min()"
   ]
  },
  {
   "cell_type": "code",
   "execution_count": 9,
   "metadata": {
    "_kg_hide-input": true,
    "_kg_hide-output": true,
    "_uuid": "eb4e55f89756410284871491145d68ac17140d5a"
   },
   "outputs": [
    {
     "data": {
      "text/html": [
       "        <script type=\"text/javascript\">\n",
       "        window.PlotlyConfig = {MathJaxConfig: 'local'};\n",
       "        if (window.MathJax) {MathJax.Hub.Config({SVG: {font: \"STIX-Web\"}});}\n",
       "        if (typeof require !== 'undefined') {\n",
       "        require.undef(\"plotly\");\n",
       "        requirejs.config({\n",
       "            paths: {\n",
       "                'plotly': ['https://cdn.plot.ly/plotly-latest.min']\n",
       "            }\n",
       "        });\n",
       "        require(['plotly'], function(Plotly) {\n",
       "            window._Plotly = Plotly;\n",
       "        });\n",
       "        }\n",
       "        </script>\n",
       "        "
      ]
     },
     "metadata": {},
     "output_type": "display_data"
    }
   ],
   "source": [
    "# Some helper functions to make our plots cleaner with Plotly\n",
    "from plotly.offline import init_notebook_mode, iplot\n",
    "import plotly.graph_objs as go\n",
    "from plotly import tools\n",
    "init_notebook_mode(connected=True)\n",
    "\n",
    "\n",
    "def gen_xaxis(title):\n",
    "    \"\"\"\n",
    "    Creates the X Axis layout and title\n",
    "    \"\"\"\n",
    "    xaxis = dict(\n",
    "            title=title,\n",
    "            titlefont=dict(\n",
    "                color='#AAAAAA'\n",
    "            ),\n",
    "            showgrid=False,\n",
    "            color='#AAAAAA',\n",
    "            )\n",
    "    return xaxis\n",
    "\n",
    "\n",
    "def gen_yaxis(title):\n",
    "    \"\"\"\n",
    "    Creates the Y Axis layout and title\n",
    "    \"\"\"\n",
    "    yaxis=dict(\n",
    "            title=title,\n",
    "            titlefont=dict(\n",
    "                color='#AAAAAA'\n",
    "            ),\n",
    "            showgrid=False,\n",
    "            color='#AAAAAA',\n",
    "            )\n",
    "    return yaxis\n",
    "\n",
    "\n",
    "def gen_layout(charttitle, xtitle, ytitle, lmarg, h, annotations=None):  \n",
    "    \"\"\"\n",
    "    Creates whole layout, with both axis, annotations, size and margin\n",
    "    \"\"\"\n",
    "    return go.Layout(title=charttitle, \n",
    "                     height=h, \n",
    "                     width=800,\n",
    "                     showlegend=False,\n",
    "                     xaxis=gen_xaxis(xtitle), \n",
    "                     yaxis=gen_yaxis(ytitle),\n",
    "                     annotations = annotations,\n",
    "                     margin=dict(l=lmarg),\n",
    "                    )\n",
    "\n",
    "\n",
    "def gen_bars(data, color, orient):\n",
    "    \"\"\"\n",
    "    Generates the bars for plotting, with their color and orient\n",
    "    \"\"\"\n",
    "    bars = []\n",
    "    for label, label_df in data.groupby(color):\n",
    "        if orient == 'h':\n",
    "            label_df = label_df.sort_values(by='x', ascending=True)\n",
    "        if label == 'a':\n",
    "            label = 'lightgray'\n",
    "        bars.append(go.Bar(x=label_df.x,\n",
    "                           y=label_df.y,\n",
    "                           name=label,\n",
    "                           marker={'color': label},\n",
    "                           orientation = orient\n",
    "                          )\n",
    "                   )\n",
    "    return bars\n",
    "\n",
    "\n",
    "def gen_annotations(annot):\n",
    "    \"\"\"\n",
    "    Generates annotations to insert in the chart\n",
    "    \"\"\"\n",
    "    if annot is None:\n",
    "        return []\n",
    "    \n",
    "    annotations = []\n",
    "    # Adding labels\n",
    "    for d in annot:\n",
    "        annotations.append(dict(xref='paper', x=d['x'], y=d['y'],\n",
    "                           xanchor='left', yanchor='bottom',\n",
    "                           text= d['text'],\n",
    "                           font=dict(size=13,\n",
    "                           color=d['color']),\n",
    "                           showarrow=False))\n",
    "    return annotations\n",
    "\n",
    "\n",
    "def generate_barplot(text, annot_dict, orient='v', lmarg=120, h=400):\n",
    "    \"\"\"\n",
    "    Generate the barplot with all data, using previous helper functions\n",
    "    \"\"\"\n",
    "    layout = gen_layout(text[0], text[1], text[2], lmarg, h, gen_annotations(annot_dict))\n",
    "    fig = go.Figure(data=gen_bars(barplot, 'color', orient=orient), layout=layout)\n",
    "    return iplot(fig)"
   ]
  },
  {
   "cell_type": "code",
   "execution_count": 10,
   "metadata": {
    "_kg_hide-input": true,
    "_uuid": "e8a3c57630f124a0b802f2ac455cadca88706ed8"
   },
   "outputs": [
    {
     "data": {
      "application/vnd.plotly.v1+json": {
       "config": {
        "linkText": "Export to plot.ly",
        "plotlyServerURL": "https://plot.ly",
        "responsive": true,
        "showLink": false
       },
       "data": [
        {
         "marker": {
          "color": "lightgray"
         },
         "name": "lightgray",
         "orientation": "v",
         "type": "bar",
         "uid": "3c5da5ac-35b9-46e5-b943-9407d0d8ae9f",
         "x": [
          "0-10,000",
          "10-20,000",
          "20-30,000",
          "30-40,000",
          "40-50,000",
          "50-60,000",
          "60-70,000",
          "70-80,000",
          "80-90,000"
         ],
         "y": [
          3652,
          1633,
          1177,
          886,
          796,
          767,
          631,
          587,
          429
         ]
        },
        {
         "marker": {
          "color": "mediumaquamarine"
         },
         "name": "mediumaquamarine",
         "orientation": "v",
         "type": "bar",
         "uid": "ecf4c980-9c66-4d56-b25b-f105563e8efd",
         "x": [
          "90-100,000",
          "100-125,000",
          "125-150,000",
          "150-200,000",
          "200-250,000",
          "250-300,000",
          "300-400,000",
          "400-500,000",
          "500,000+"
         ],
         "y": [
          486,
          728,
          473,
          404,
          152,
          64,
          39,
          16,
          36
         ]
        }
       ],
       "layout": {
        "annotations": [
         {
          "font": {
           "color": "gray",
           "size": 13
          },
          "showarrow": false,
          "text": "80% of respondents earn up to USD 90k",
          "x": 0.06,
          "xanchor": "left",
          "xref": "paper",
          "y": 2200,
          "yanchor": "bottom"
         },
         {
          "font": {
           "color": "mediumaquamarine",
           "size": 13
          },
          "showarrow": false,
          "text": "20% of respondents earn more than USD 90k",
          "x": 0.51,
          "xanchor": "left",
          "xref": "paper",
          "y": 1100,
          "yanchor": "bottom"
         }
        ],
        "height": 400,
        "margin": {
         "l": 120
        },
        "showlegend": false,
        "title": {
         "text": "<b>How Much Does Kagglers Get Paid?</b>"
        },
        "width": 800,
        "xaxis": {
         "color": "#AAAAAA",
         "showgrid": false,
         "title": {
          "font": {
           "color": "#AAAAAA"
          },
          "text": "Yearly Compensation (USD)"
         }
        },
        "yaxis": {
         "color": "#AAAAAA",
         "showgrid": false,
         "title": {
          "font": {
           "color": "#AAAAAA"
          },
          "text": "Quantity of Respondents"
         }
        }
       }
      },
      "text/html": [
       "<div>\n",
       "        \n",
       "        \n",
       "            <div id=\"1ff5da82-0354-4508-afea-9de6644f80f5\" class=\"plotly-graph-div\" style=\"height:400px; width:800px;\"></div>\n",
       "            <script type=\"text/javascript\">\n",
       "                require([\"plotly\"], function(Plotly) {\n",
       "                    window.PLOTLYENV=window.PLOTLYENV || {};\n",
       "                    window.PLOTLYENV.BASE_URL='https://plot.ly';\n",
       "                    \n",
       "                if (document.getElementById(\"1ff5da82-0354-4508-afea-9de6644f80f5\")) {\n",
       "                    Plotly.newPlot(\n",
       "                        '1ff5da82-0354-4508-afea-9de6644f80f5',\n",
       "                        [{\"marker\": {\"color\": \"lightgray\"}, \"name\": \"lightgray\", \"orientation\": \"v\", \"type\": \"bar\", \"uid\": \"6d49391b-fcae-4655-b805-91537f9ee900\", \"x\": [\"0-10,000\", \"10-20,000\", \"20-30,000\", \"30-40,000\", \"40-50,000\", \"50-60,000\", \"60-70,000\", \"70-80,000\", \"80-90,000\"], \"y\": [3652, 1633, 1177, 886, 796, 767, 631, 587, 429]}, {\"marker\": {\"color\": \"mediumaquamarine\"}, \"name\": \"mediumaquamarine\", \"orientation\": \"v\", \"type\": \"bar\", \"uid\": \"e244ab1b-2699-448f-8cde-b01417527fbe\", \"x\": [\"90-100,000\", \"100-125,000\", \"125-150,000\", \"150-200,000\", \"200-250,000\", \"250-300,000\", \"300-400,000\", \"400-500,000\", \"500,000+\"], \"y\": [486, 728, 473, 404, 152, 64, 39, 16, 36]}],\n",
       "                        {\"annotations\": [{\"font\": {\"color\": \"gray\", \"size\": 13}, \"showarrow\": false, \"text\": \"80% of respondents earn up to USD 90k\", \"x\": 0.06, \"xanchor\": \"left\", \"xref\": \"paper\", \"y\": 2200, \"yanchor\": \"bottom\"}, {\"font\": {\"color\": \"mediumaquamarine\", \"size\": 13}, \"showarrow\": false, \"text\": \"20% of respondents earn more than USD 90k\", \"x\": 0.51, \"xanchor\": \"left\", \"xref\": \"paper\", \"y\": 1100, \"yanchor\": \"bottom\"}], \"height\": 400, \"margin\": {\"l\": 120}, \"showlegend\": false, \"title\": {\"text\": \"<b>How Much Does Kagglers Get Paid?</b>\"}, \"width\": 800, \"xaxis\": {\"color\": \"#AAAAAA\", \"showgrid\": false, \"title\": {\"font\": {\"color\": \"#AAAAAA\"}, \"text\": \"Yearly Compensation (USD)\"}}, \"yaxis\": {\"color\": \"#AAAAAA\", \"showgrid\": false, \"title\": {\"font\": {\"color\": \"#AAAAAA\"}, \"text\": \"Quantity of Respondents\"}}},\n",
       "                        {\"showLink\": false, \"linkText\": \"Export to plot.ly\", \"plotlyServerURL\": \"https://plot.ly\", \"responsive\": true}\n",
       "                    ).then(function(){\n",
       "                            \n",
       "var gd = document.getElementById('1ff5da82-0354-4508-afea-9de6644f80f5');\n",
       "var x = new MutationObserver(function (mutations, observer) {{\n",
       "        var display = window.getComputedStyle(gd).display;\n",
       "        if (!display || display === 'none') {{\n",
       "            console.log([gd, 'removed!']);\n",
       "            Plotly.purge(gd);\n",
       "            observer.disconnect();\n",
       "        }}\n",
       "}});\n",
       "\n",
       "// Listen for the removal of the full notebook cells\n",
       "var notebookContainer = gd.closest('#notebook-container');\n",
       "if (notebookContainer) {{\n",
       "    x.observe(notebookContainer, {childList: true});\n",
       "}}\n",
       "\n",
       "// Listen for the clearing of the current output cell\n",
       "var outputEl = gd.closest('.output');\n",
       "if (outputEl) {{\n",
       "    x.observe(outputEl, {childList: true});\n",
       "}}\n",
       "\n",
       "                        })\n",
       "                };\n",
       "                });\n",
       "            </script>\n",
       "        </div>"
      ]
     },
     "metadata": {},
     "output_type": "display_data"
    }
   ],
   "source": [
    "# Counting the quantity of respondents per compensation\n",
    "barplot = personal_data.yearly_compensation.value_counts(sort=False).to_frame().reset_index()\n",
    "barplot.columns = ['yearly_compensation', 'qty']\n",
    "\n",
    "# mapping back to get top 20% label\n",
    "barplot = barplot.merge(top20, on='yearly_compensation')\n",
    "barplot.columns = ['x', 'y', 'top20']\n",
    "\n",
    "# apply color for top 20% and bottom 80%\n",
    "barplot['color'] = barplot.top20.apply(lambda x: 'mediumaquamarine' if x else 'lightgray') \n",
    "\n",
    "# Create title and annotations\n",
    "title_text = ['<b>How Much Does Kagglers Get Paid?</b>', 'Yearly Compensation (USD)', 'Quantity of Respondents']\n",
    "annotations = [{'x': 0.06, 'y': 2200, 'text': '80% of respondents earn up to USD 90k','color': 'gray'},\n",
    "              {'x': 0.51, 'y': 1100, 'text': '20% of respondents earn more than USD 90k','color': 'mediumaquamarine'}]\n",
    "\n",
    "# call function for plotting\n",
    "generate_barplot(title_text, annotations)"
   ]
  },
  {
   "cell_type": "code",
   "execution_count": 11,
   "metadata": {
    "_kg_hide-input": true,
    "_kg_hide-output": false,
    "_uuid": "83d077c1ad8b535e6d49942b47a577b47420e132"
   },
   "outputs": [
    {
     "data": {
      "application/vnd.plotly.v1+json": {
       "config": {
        "linkText": "Export to plot.ly",
        "plotlyServerURL": "https://plot.ly",
        "responsive": true,
        "showLink": false
       },
       "data": [
        {
         "marker": {
          "color": "crimson"
         },
         "name": "crimson",
         "orientation": "v",
         "type": "bar",
         "uid": "782f01f3-9f02-4795-ad67-5f537b1c17ea",
         "x": [
          "0-10,000"
         ],
         "y": [
          1808
         ]
        },
        {
         "marker": {
          "color": "lightgray"
         },
         "name": "lightgray",
         "orientation": "v",
         "type": "bar",
         "uid": "7d9979ae-7db1-412f-9737-15b7df2b5333",
         "x": [
          "10-20,000",
          "20-30,000",
          "30-40,000",
          "40-50,000",
          "50-60,000",
          "60-70,000",
          "70-80,000",
          "80-90,000",
          "90-100,000",
          "100-125,000",
          "125-150,000",
          "150-200,000",
          "200-250,000",
          "250-300,000",
          "300-400,000",
          "400-500,000",
          "500,000+"
         ],
         "y": [
          249,
          144,
          14,
          3,
          5,
          4,
          4,
          3,
          2,
          12,
          6,
          3,
          2,
          0,
          2,
          0,
          0
         ]
        }
       ],
       "layout": {
        "annotations": [
         {
          "font": {
           "color": "crimson",
           "size": 13
          },
          "showarrow": false,
          "text": "75% of students earn up to USD 10k",
          "x": 0.06,
          "xanchor": "left",
          "xref": "paper",
          "y": 1650,
          "yanchor": "bottom"
         }
        ],
        "height": 400,
        "margin": {
         "l": 120
        },
        "showlegend": false,
        "title": {
         "text": "<b>Do Students Get Paid at All?</b><br><i>only students</i>"
        },
        "width": 800,
        "xaxis": {
         "color": "#AAAAAA",
         "showgrid": false,
         "title": {
          "font": {
           "color": "#AAAAAA"
          },
          "text": "Yearly Compensation (USD)"
         }
        },
        "yaxis": {
         "color": "#AAAAAA",
         "showgrid": false,
         "title": {
          "font": {
           "color": "#AAAAAA"
          },
          "text": "Quantity of Respondents"
         }
        }
       }
      },
      "text/html": [
       "<div>\n",
       "        \n",
       "        \n",
       "            <div id=\"28c18515-8255-4c8f-b0cd-7905b3977872\" class=\"plotly-graph-div\" style=\"height:400px; width:800px;\"></div>\n",
       "            <script type=\"text/javascript\">\n",
       "                require([\"plotly\"], function(Plotly) {\n",
       "                    window.PLOTLYENV=window.PLOTLYENV || {};\n",
       "                    window.PLOTLYENV.BASE_URL='https://plot.ly';\n",
       "                    \n",
       "                if (document.getElementById(\"28c18515-8255-4c8f-b0cd-7905b3977872\")) {\n",
       "                    Plotly.newPlot(\n",
       "                        '28c18515-8255-4c8f-b0cd-7905b3977872',\n",
       "                        [{\"marker\": {\"color\": \"crimson\"}, \"name\": \"crimson\", \"orientation\": \"v\", \"type\": \"bar\", \"uid\": \"d7bc1dc3-4716-4f3d-8d8e-16d881103230\", \"x\": [\"0-10,000\"], \"y\": [1808]}, {\"marker\": {\"color\": \"lightgray\"}, \"name\": \"lightgray\", \"orientation\": \"v\", \"type\": \"bar\", \"uid\": \"872e1dad-42dd-43f4-bc33-50d89a08ed5f\", \"x\": [\"10-20,000\", \"20-30,000\", \"30-40,000\", \"40-50,000\", \"50-60,000\", \"60-70,000\", \"70-80,000\", \"80-90,000\", \"90-100,000\", \"100-125,000\", \"125-150,000\", \"150-200,000\", \"200-250,000\", \"250-300,000\", \"300-400,000\", \"400-500,000\", \"500,000+\"], \"y\": [249, 144, 14, 3, 5, 4, 4, 3, 2, 12, 6, 3, 2, 0, 2, 0, 0]}],\n",
       "                        {\"annotations\": [{\"font\": {\"color\": \"crimson\", \"size\": 13}, \"showarrow\": false, \"text\": \"75% of students earn up to USD 10k\", \"x\": 0.06, \"xanchor\": \"left\", \"xref\": \"paper\", \"y\": 1650, \"yanchor\": \"bottom\"}], \"height\": 400, \"margin\": {\"l\": 120}, \"showlegend\": false, \"title\": {\"text\": \"<b>Do Students Get Paid at All?</b><br><i>only students</i>\"}, \"width\": 800, \"xaxis\": {\"color\": \"#AAAAAA\", \"showgrid\": false, \"title\": {\"font\": {\"color\": \"#AAAAAA\"}, \"text\": \"Yearly Compensation (USD)\"}}, \"yaxis\": {\"color\": \"#AAAAAA\", \"showgrid\": false, \"title\": {\"font\": {\"color\": \"#AAAAAA\"}, \"text\": \"Quantity of Respondents\"}}},\n",
       "                        {\"showLink\": false, \"linkText\": \"Export to plot.ly\", \"plotlyServerURL\": \"https://plot.ly\", \"responsive\": true}\n",
       "                    ).then(function(){\n",
       "                            \n",
       "var gd = document.getElementById('28c18515-8255-4c8f-b0cd-7905b3977872');\n",
       "var x = new MutationObserver(function (mutations, observer) {{\n",
       "        var display = window.getComputedStyle(gd).display;\n",
       "        if (!display || display === 'none') {{\n",
       "            console.log([gd, 'removed!']);\n",
       "            Plotly.purge(gd);\n",
       "            observer.disconnect();\n",
       "        }}\n",
       "}});\n",
       "\n",
       "// Listen for the removal of the full notebook cells\n",
       "var notebookContainer = gd.closest('#notebook-container');\n",
       "if (notebookContainer) {{\n",
       "    x.observe(notebookContainer, {childList: true});\n",
       "}}\n",
       "\n",
       "// Listen for the clearing of the current output cell\n",
       "var outputEl = gd.closest('.output');\n",
       "if (outputEl) {{\n",
       "    x.observe(outputEl, {childList: true});\n",
       "}}\n",
       "\n",
       "                        })\n",
       "                };\n",
       "                });\n",
       "            </script>\n",
       "        </div>"
      ]
     },
     "metadata": {},
     "output_type": "display_data"
    }
   ],
   "source": [
    "# creating masks to identify students and not students\n",
    "is_student_mask = (personal_data['role'] == 'Student') | (personal_data['employer_industry'] == 'I am a student')\n",
    "not_student_mask = (personal_data['role'] != 'Student') & (personal_data['employer_industry'] != 'I am a student')\n",
    "\n",
    "# Counting the quantity of respondents per compensation (where is student)\n",
    "barplot = personal_data[is_student_mask].yearly_compensation.value_counts(sort=False).to_frame().reset_index()\n",
    "barplot.columns = ['yearly_compensation', 'qty']\n",
    "\n",
    "# mapping back to get top 20%\n",
    "barplot.columns = ['x', 'y',]\n",
    "barplot['highlight'] = barplot.x != '0-10,000'\n",
    "\n",
    "# applying color\n",
    "barplot['color'] = barplot.highlight.apply(lambda x: 'lightgray' if x else 'crimson')\n",
    "\n",
    "# title and annotations\n",
    "title_text = ['<b>Do Students Get Paid at All?</b><br><i>only students</i>', 'Yearly Compensation (USD)', 'Quantity of Respondents']\n",
    "annotations = [{'x': 0.06, 'y': 1650, 'text': '75% of students earn up to USD 10k','color': 'crimson'}]\n",
    "\n",
    "# ploting\n",
    "generate_barplot(title_text, annotations)"
   ]
  },
  {
   "cell_type": "markdown",
   "metadata": {
    "_uuid": "1b817a8b9d50f715d5df09966001554f181ae0a2"
   },
   "source": [
    "--- \n",
    "# What If We Remove Students From Our Data?\n",
    "We have seen that students aren't usually remunerated: 76% of them earn up to USD 10k. Because they have very low compensation (and aren't actually working), they are probably biasing the data towards lower compensation. That is why we are removing them from the rest of EDA."
   ]
  },
  {
   "cell_type": "code",
   "execution_count": 12,
   "metadata": {
    "_kg_hide-input": false,
    "_uuid": "45160cf280ca10576cf0d6c8fd572dfc882ee6a0"
   },
   "outputs": [
    {
     "data": {
      "text/plain": [
       "95.0"
      ]
     },
     "execution_count": 12,
     "metadata": {},
     "output_type": "execute_result"
    }
   ],
   "source": [
    "# Finding the compensation that separates the Top 20% most welll paid from the Bottom 80% (without students)\n",
    "top20flag_no_students = personal_data[not_student_mask].yearly_compensation_numerical.quantile(0.8)\n",
    "top20flag_no_students"
   ]
  },
  {
   "cell_type": "code",
   "execution_count": 13,
   "metadata": {
    "_kg_hide-input": true,
    "_uuid": "4d87836d999c9102abdd6015b9544081263a244c"
   },
   "outputs": [
    {
     "data": {
      "application/vnd.plotly.v1+json": {
       "config": {
        "linkText": "Export to plot.ly",
        "plotlyServerURL": "https://plot.ly",
        "responsive": true,
        "showLink": false
       },
       "data": [
        {
         "marker": {
          "color": "lightgray"
         },
         "name": "lightgray",
         "orientation": "v",
         "type": "bar",
         "uid": "25d2241f-fbdf-4ebc-951a-0e2a5a89f313",
         "x": [
          "0-10,000",
          "10-20,000",
          "20-30,000",
          "30-40,000",
          "40-50,000",
          "50-60,000",
          "60-70,000",
          "70-80,000",
          "80-90,000",
          "90-100,000"
         ],
         "y": [
          1844,
          1384,
          1033,
          872,
          793,
          762,
          627,
          583,
          426,
          484
         ]
        },
        {
         "marker": {
          "color": "mediumaquamarine"
         },
         "name": "mediumaquamarine",
         "orientation": "v",
         "type": "bar",
         "uid": "d57f2c8e-70e3-4e5e-ae31-fdd3fadd6dbf",
         "x": [
          "100-125,000",
          "125-150,000",
          "150-200,000",
          "200-250,000",
          "250-300,000",
          "300-400,000",
          "400-500,000",
          "500,000+"
         ],
         "y": [
          716,
          467,
          401,
          150,
          64,
          37,
          16,
          36
         ]
        }
       ],
       "layout": {
        "annotations": [
         {
          "font": {
           "color": "gray",
           "size": 13
          },
          "showarrow": false,
          "text": "80% of earn up to USD 100k",
          "x": 0.06,
          "xanchor": "left",
          "xref": "paper",
          "y": 1600,
          "yanchor": "bottom"
         },
         {
          "font": {
           "color": "mediumaquamarine",
           "size": 13
          },
          "showarrow": false,
          "text": "20% of earn more than USD 100k",
          "x": 0.56,
          "xanchor": "left",
          "xref": "paper",
          "y": 800,
          "yanchor": "bottom"
         }
        ],
        "height": 400,
        "margin": {
         "l": 120
        },
        "showlegend": false,
        "title": {
         "text": "<b>How Much Does Kagglers Get Paid?</b><br><i>without students</i>"
        },
        "width": 800,
        "xaxis": {
         "color": "#AAAAAA",
         "showgrid": false,
         "title": {
          "font": {
           "color": "#AAAAAA"
          },
          "text": "Yearly Compensation (USD)"
         }
        },
        "yaxis": {
         "color": "#AAAAAA",
         "showgrid": false,
         "title": {
          "font": {
           "color": "#AAAAAA"
          },
          "text": "Quantity of Respondents"
         }
        }
       }
      },
      "text/html": [
       "<div>\n",
       "        \n",
       "        \n",
       "            <div id=\"3707b9d0-c915-4b50-8792-b84e79d2bb88\" class=\"plotly-graph-div\" style=\"height:400px; width:800px;\"></div>\n",
       "            <script type=\"text/javascript\">\n",
       "                require([\"plotly\"], function(Plotly) {\n",
       "                    window.PLOTLYENV=window.PLOTLYENV || {};\n",
       "                    window.PLOTLYENV.BASE_URL='https://plot.ly';\n",
       "                    \n",
       "                if (document.getElementById(\"3707b9d0-c915-4b50-8792-b84e79d2bb88\")) {\n",
       "                    Plotly.newPlot(\n",
       "                        '3707b9d0-c915-4b50-8792-b84e79d2bb88',\n",
       "                        [{\"marker\": {\"color\": \"lightgray\"}, \"name\": \"lightgray\", \"orientation\": \"v\", \"type\": \"bar\", \"uid\": \"cd80c0fd-bda2-42d4-b5f7-f6177546266b\", \"x\": [\"0-10,000\", \"10-20,000\", \"20-30,000\", \"30-40,000\", \"40-50,000\", \"50-60,000\", \"60-70,000\", \"70-80,000\", \"80-90,000\", \"90-100,000\"], \"y\": [1844, 1384, 1033, 872, 793, 762, 627, 583, 426, 484]}, {\"marker\": {\"color\": \"mediumaquamarine\"}, \"name\": \"mediumaquamarine\", \"orientation\": \"v\", \"type\": \"bar\", \"uid\": \"2b918a60-3f51-4cea-b415-8458a9e48156\", \"x\": [\"100-125,000\", \"125-150,000\", \"150-200,000\", \"200-250,000\", \"250-300,000\", \"300-400,000\", \"400-500,000\", \"500,000+\"], \"y\": [716, 467, 401, 150, 64, 37, 16, 36]}],\n",
       "                        {\"annotations\": [{\"font\": {\"color\": \"gray\", \"size\": 13}, \"showarrow\": false, \"text\": \"80% of earn up to USD 100k\", \"x\": 0.06, \"xanchor\": \"left\", \"xref\": \"paper\", \"y\": 1600, \"yanchor\": \"bottom\"}, {\"font\": {\"color\": \"mediumaquamarine\", \"size\": 13}, \"showarrow\": false, \"text\": \"20% of earn more than USD 100k\", \"x\": 0.56, \"xanchor\": \"left\", \"xref\": \"paper\", \"y\": 800, \"yanchor\": \"bottom\"}], \"height\": 400, \"margin\": {\"l\": 120}, \"showlegend\": false, \"title\": {\"text\": \"<b>How Much Does Kagglers Get Paid?</b><br><i>without students</i>\"}, \"width\": 800, \"xaxis\": {\"color\": \"#AAAAAA\", \"showgrid\": false, \"title\": {\"font\": {\"color\": \"#AAAAAA\"}, \"text\": \"Yearly Compensation (USD)\"}}, \"yaxis\": {\"color\": \"#AAAAAA\", \"showgrid\": false, \"title\": {\"font\": {\"color\": \"#AAAAAA\"}, \"text\": \"Quantity of Respondents\"}}},\n",
       "                        {\"showLink\": false, \"linkText\": \"Export to plot.ly\", \"plotlyServerURL\": \"https://plot.ly\", \"responsive\": true}\n",
       "                    ).then(function(){\n",
       "                            \n",
       "var gd = document.getElementById('3707b9d0-c915-4b50-8792-b84e79d2bb88');\n",
       "var x = new MutationObserver(function (mutations, observer) {{\n",
       "        var display = window.getComputedStyle(gd).display;\n",
       "        if (!display || display === 'none') {{\n",
       "            console.log([gd, 'removed!']);\n",
       "            Plotly.purge(gd);\n",
       "            observer.disconnect();\n",
       "        }}\n",
       "}});\n",
       "\n",
       "// Listen for the removal of the full notebook cells\n",
       "var notebookContainer = gd.closest('#notebook-container');\n",
       "if (notebookContainer) {{\n",
       "    x.observe(notebookContainer, {childList: true});\n",
       "}}\n",
       "\n",
       "// Listen for the clearing of the current output cell\n",
       "var outputEl = gd.closest('.output');\n",
       "if (outputEl) {{\n",
       "    x.observe(outputEl, {childList: true});\n",
       "}}\n",
       "\n",
       "                        })\n",
       "                };\n",
       "                });\n",
       "            </script>\n",
       "        </div>"
      ]
     },
     "metadata": {},
     "output_type": "display_data"
    }
   ],
   "source": [
    "# Creating a flag for Top 20% when there are no students in the dataset\n",
    "personal_data['top20_no_students'] = personal_data.yearly_compensation_numerical > top20flag_no_students\n",
    "\n",
    "# creating data for future mapping of values\n",
    "top20 = personal_data[not_student_mask].groupby('yearly_compensation', as_index=False)['top20_no_students'].min()\n",
    "\n",
    "# Counting the quantity of respondents per compensation (where is not student)\n",
    "barplot = personal_data[not_student_mask].yearly_compensation.value_counts(sort=False).to_frame().reset_index()\n",
    "barplot.columns = ['yearly_compensation', 'qty']\n",
    "\n",
    "# mapping back to get top 20%\n",
    "barplot = barplot.merge(top20, on='yearly_compensation')\n",
    "barplot.columns = ['x', 'y', 'top20']\n",
    "barplot['color'] = barplot.top20.apply(lambda x: 'mediumaquamarine' if x else 'lightgray')\n",
    "\n",
    "title_text = ['<b>How Much Does Kagglers Get Paid?</b><br><i>without students</i>', 'Yearly Compensation (USD)', 'Quantity of Respondents']\n",
    "annotations = [{'x': 0.06, 'y': 1600, 'text': '80% of earn up to USD 100k','color': 'gray'},\n",
    "              {'x': 0.56, 'y': 800, 'text': '20% of earn more than USD 100k','color': 'mediumaquamarine'}]\n",
    "\n",
    "generate_barplot(title_text, annotations)"
   ]
  },
  {
   "cell_type": "markdown",
   "metadata": {
    "_uuid": "42476d0a060a72601de29ef4307b70a187128fc9"
   },
   "source": [
    "### Are there any gender difference between the top 20% most well paid?\n",
    "Unfortunatelly we still have differences in payment due to gender. This gets very noticeable when we compare the top 20% most well paid men and women."
   ]
  },
  {
   "cell_type": "code",
   "execution_count": 14,
   "metadata": {
    "_kg_hide-input": true,
    "_kg_hide-output": true,
    "_uuid": "ba7bdd8e0d36708694d92aa05c4c0d0b852e4b90"
   },
   "outputs": [],
   "source": [
    "# Creating a helper function to generate lineplot\n",
    "def gen_lines(data, colorby):\n",
    "    \"\"\"\n",
    "    Generate the lineplot with data\n",
    "    \"\"\"\n",
    "    if colorby == 'top20': \n",
    "        colors = {False: 'lightgray',\n",
    "                  True: 'mediumaquamarine'}\n",
    "    else:\n",
    "        colors = {False: 'lightgray',\n",
    "                  True: 'deepskyblue'}\n",
    "\n",
    "    traces = []\n",
    "    for label, label_df in data.groupby(colorby):\n",
    "        traces.append(go.Scatter(\n",
    "                    x=label_df.x,\n",
    "                    y=label_df.y,\n",
    "                    mode='lines+markers+text',\n",
    "                    line={'color': colors[label], 'width':2},\n",
    "                    connectgaps=True,\n",
    "                    text=label_df.y.round(),\n",
    "                    hoverinfo='none',\n",
    "                    textposition='top center',\n",
    "                    textfont=dict(size=12, color=colors[label]),\n",
    "                    marker={'color': colors[label], 'size':8},\n",
    "                   )\n",
    "                   )\n",
    "    return traces"
   ]
  },
  {
   "cell_type": "code",
   "execution_count": 15,
   "metadata": {
    "_kg_hide-input": true,
    "_uuid": "b275e656a441ab8f5c73fb75d2491643bf279b85"
   },
   "outputs": [
    {
     "data": {
      "application/vnd.plotly.v1+json": {
       "config": {
        "linkText": "Export to plot.ly",
        "plotlyServerURL": "https://plot.ly",
        "responsive": true,
        "showLink": false
       },
       "data": [
        {
         "connectgaps": true,
         "hoverinfo": "none",
         "line": {
          "color": "lightgray",
          "width": 2
         },
         "marker": {
          "color": "lightgray",
          "size": 8
         },
         "mode": "lines+markers+text",
         "text": [
          38,
          37
         ],
         "textfont": {
          "color": "lightgray",
          "size": 12
         },
         "textposition": "top center",
         "type": "scatter",
         "uid": "c2886274-f97f-4427-9118-f2b8224f3834",
         "x": [
          "Female",
          "Male"
         ],
         "y": [
          38.04606240713225,
          37.44036451353524
         ]
        },
        {
         "connectgaps": true,
         "hoverinfo": "none",
         "line": {
          "color": "deepskyblue",
          "width": 2
         },
         "marker": {
          "color": "deepskyblue",
          "size": 8
         },
         "mode": "lines+markers+text",
         "text": [
          145,
          164
         ],
         "textfont": {
          "color": "deepskyblue",
          "size": 12
         },
         "textposition": "top center",
         "type": "scatter",
         "uid": "197f5300-4751-43e5-9d30-c4a78579ceaa",
         "x": [
          "Female",
          "Male"
         ],
         "y": [
          145.47413793103448,
          163.55740181268882
         ]
        }
       ],
       "layout": {
        "annotations": [
         {
          "font": {
           "color": "deepskyblue",
           "size": 13
          },
          "showarrow": false,
          "text": "The top 20% men are almost 12% better paid than the top 20% woman",
          "x": 0.05,
          "xanchor": "left",
          "xref": "paper",
          "y": 180,
          "yanchor": "bottom"
         },
         {
          "font": {
           "color": "gray",
           "size": 13
          },
          "showarrow": false,
          "text": "At the bottom 80% there is almost no difference in payment",
          "x": 0.05,
          "xanchor": "left",
          "xref": "paper",
          "y": 60,
          "yanchor": "bottom"
         }
        ],
        "height": 400,
        "margin": {
         "l": 120
        },
        "showlegend": false,
        "title": {
         "text": "<b>What is the gender difference in compensation at the top 20%?</b><br><i>without students</i>"
        },
        "width": 800,
        "xaxis": {
         "color": "#AAAAAA",
         "showgrid": false,
         "title": {
          "font": {
           "color": "#AAAAAA"
          },
          "text": "Gender"
         }
        },
        "yaxis": {
         "color": "#AAAAAA",
         "showgrid": false,
         "title": {
          "font": {
           "color": "#AAAAAA"
          },
          "text": "Average Yearly Compensation (USD)"
         }
        }
       }
      },
      "text/html": [
       "<div>\n",
       "        \n",
       "        \n",
       "            <div id=\"7528e3be-1eb7-41ef-ba5c-892acd5df5a1\" class=\"plotly-graph-div\" style=\"height:400px; width:800px;\"></div>\n",
       "            <script type=\"text/javascript\">\n",
       "                require([\"plotly\"], function(Plotly) {\n",
       "                    window.PLOTLYENV=window.PLOTLYENV || {};\n",
       "                    window.PLOTLYENV.BASE_URL='https://plot.ly';\n",
       "                    \n",
       "                if (document.getElementById(\"7528e3be-1eb7-41ef-ba5c-892acd5df5a1\")) {\n",
       "                    Plotly.newPlot(\n",
       "                        '7528e3be-1eb7-41ef-ba5c-892acd5df5a1',\n",
       "                        [{\"connectgaps\": true, \"hoverinfo\": \"none\", \"line\": {\"color\": \"lightgray\", \"width\": 2}, \"marker\": {\"color\": \"lightgray\", \"size\": 8}, \"mode\": \"lines+markers+text\", \"text\": [38.0, 37.0], \"textfont\": {\"color\": \"lightgray\", \"size\": 12}, \"textposition\": \"top center\", \"type\": \"scatter\", \"uid\": \"e8fefd7a-e01a-4ea2-a93d-5f045b92a37e\", \"x\": [\"Female\", \"Male\"], \"y\": [38.04606240713225, 37.44036451353524]}, {\"connectgaps\": true, \"hoverinfo\": \"none\", \"line\": {\"color\": \"deepskyblue\", \"width\": 2}, \"marker\": {\"color\": \"deepskyblue\", \"size\": 8}, \"mode\": \"lines+markers+text\", \"text\": [145.0, 164.0], \"textfont\": {\"color\": \"deepskyblue\", \"size\": 12}, \"textposition\": \"top center\", \"type\": \"scatter\", \"uid\": \"23157cf9-04f7-47e3-ac45-81e4916a0cf6\", \"x\": [\"Female\", \"Male\"], \"y\": [145.47413793103448, 163.55740181268882]}],\n",
       "                        {\"annotations\": [{\"font\": {\"color\": \"deepskyblue\", \"size\": 13}, \"showarrow\": false, \"text\": \"The top 20% men are almost 12% better paid than the top 20% woman\", \"x\": 0.05, \"xanchor\": \"left\", \"xref\": \"paper\", \"y\": 180, \"yanchor\": \"bottom\"}, {\"font\": {\"color\": \"gray\", \"size\": 13}, \"showarrow\": false, \"text\": \"At the bottom 80% there is almost no difference in payment\", \"x\": 0.05, \"xanchor\": \"left\", \"xref\": \"paper\", \"y\": 60, \"yanchor\": \"bottom\"}], \"height\": 400, \"margin\": {\"l\": 120}, \"showlegend\": false, \"title\": {\"text\": \"<b>What is the gender difference in compensation at the top 20%?</b><br><i>without students</i>\"}, \"width\": 800, \"xaxis\": {\"color\": \"#AAAAAA\", \"showgrid\": false, \"title\": {\"font\": {\"color\": \"#AAAAAA\"}, \"text\": \"Gender\"}}, \"yaxis\": {\"color\": \"#AAAAAA\", \"showgrid\": false, \"title\": {\"font\": {\"color\": \"#AAAAAA\"}, \"text\": \"Average Yearly Compensation (USD)\"}}},\n",
       "                        {\"showLink\": false, \"linkText\": \"Export to plot.ly\", \"plotlyServerURL\": \"https://plot.ly\", \"responsive\": true}\n",
       "                    ).then(function(){\n",
       "                            \n",
       "var gd = document.getElementById('7528e3be-1eb7-41ef-ba5c-892acd5df5a1');\n",
       "var x = new MutationObserver(function (mutations, observer) {{\n",
       "        var display = window.getComputedStyle(gd).display;\n",
       "        if (!display || display === 'none') {{\n",
       "            console.log([gd, 'removed!']);\n",
       "            Plotly.purge(gd);\n",
       "            observer.disconnect();\n",
       "        }}\n",
       "}});\n",
       "\n",
       "// Listen for the removal of the full notebook cells\n",
       "var notebookContainer = gd.closest('#notebook-container');\n",
       "if (notebookContainer) {{\n",
       "    x.observe(notebookContainer, {childList: true});\n",
       "}}\n",
       "\n",
       "// Listen for the clearing of the current output cell\n",
       "var outputEl = gd.closest('.output');\n",
       "if (outputEl) {{\n",
       "    x.observe(outputEl, {childList: true});\n",
       "}}\n",
       "\n",
       "                        })\n",
       "                };\n",
       "                });\n",
       "            </script>\n",
       "        </div>"
      ]
     },
     "metadata": {},
     "output_type": "display_data"
    }
   ],
   "source": [
    "# Grouping data to get compensation per gender of Top20% and Bottom 80%\n",
    "barplot = personal_data[not_student_mask].groupby(['gender', 'top20_no_students'], as_index=False)['yearly_compensation_numerical'].mean()\n",
    "barplot = barplot[(barplot['gender'] == 'Female') | (barplot['gender'] == 'Male')]\n",
    "barplot.columns = ['x', 'gender', 'y']\n",
    "\n",
    "# Creates annotations\n",
    "annot_dict = [{'x': 0.05, 'y': 180, 'text': 'The top 20% men are almost 12% better paid than the top 20% woman','color': 'deepskyblue'},\n",
    "              {'x': 0.05, 'y': 60, 'text': 'At the bottom 80% there is almost no difference in payment','color': 'gray'}]\n",
    "\n",
    "# Creates layout\n",
    "layout = gen_layout('<b>What is the gender difference in compensation at the top 20%?</b><br><i>without students</i>', \n",
    "                    'Gender', \n",
    "                    'Average Yearly Compensation (USD)',\n",
    "                    120, \n",
    "                    400,\n",
    "                    gen_annotations(annot_dict)\n",
    "                    )\n",
    "# Make plot\n",
    "fig = go.Figure(data=gen_lines(barplot, 'gender'), \n",
    "                layout=layout)\n",
    "iplot(fig, filename='color-bar')"
   ]
  },
  {
   "cell_type": "markdown",
   "metadata": {
    "_uuid": "c37256ea834789bf2a8db3691df94dd73ae46b1f"
   },
   "source": [
    "### Should you get formal education?\n",
    "To earn more in this field you have either to go all the way up the formal education and get a Doctoral Degree, or you just don't get any formal education at all. It obviously doesn't mean that you should quit college, but that you are problable better off studying by yourself than attending a post-gratuation program."
   ]
  },
  {
   "cell_type": "code",
   "execution_count": 16,
   "metadata": {
    "_kg_hide-input": true,
    "_uuid": "4f44884750eab14730676cd85e7f75fbe09ba726"
   },
   "outputs": [
    {
     "data": {
      "application/vnd.plotly.v1+json": {
       "config": {
        "linkText": "Export to plot.ly",
        "plotlyServerURL": "https://plot.ly",
        "responsive": true,
        "showLink": false
       },
       "data": [
        {
         "marker": {
          "color": "lightgray"
         },
         "name": "lightgray",
         "orientation": "h",
         "type": "bar",
         "uid": "4cb61d4e-a61b-4626-ac10-c31d981c6cfa",
         "x": [
          36.47435897435897,
          43.758445945945944,
          49.68243972652033,
          58.02839116719243,
          60.183416125334354
         ],
         "y": [
          "I prefer not to answer",
          "Professional degree",
          "Bachelor’s degree",
          "Some college/university study <br> without earning a bachelor’s degree",
          "Master’s degree"
         ]
        },
        {
         "marker": {
          "color": "coral"
         },
         "name": "coral",
         "orientation": "h",
         "type": "bar",
         "uid": "941920f0-2af0-4fd9-9020-c8d8512febe8",
         "x": [
          56.44117647058823,
          75.01049317943337
         ],
         "y": [
          "No formal education past high school",
          "Doctoral degree"
         ]
        }
       ],
       "layout": {
        "height": 400,
        "margin": {
         "l": 300
        },
        "showlegend": false,
        "title": {
         "text": "<b>Impact of Formal Education on Compenstaion</b><br><i>without students</i>"
        },
        "width": 800,
        "xaxis": {
         "color": "#AAAAAA",
         "showgrid": false,
         "title": {
          "font": {
           "color": "#AAAAAA"
          },
          "text": "Average Yearly Compensation (USD)"
         }
        },
        "yaxis": {
         "color": "#AAAAAA",
         "showgrid": false,
         "title": {
          "font": {
           "color": "#AAAAAA"
          },
          "text": "Level of Education"
         }
        }
       }
      },
      "text/html": [
       "<div>\n",
       "        \n",
       "        \n",
       "            <div id=\"9bec8196-1a29-4fb8-b635-01ee273f06bb\" class=\"plotly-graph-div\" style=\"height:400px; width:800px;\"></div>\n",
       "            <script type=\"text/javascript\">\n",
       "                require([\"plotly\"], function(Plotly) {\n",
       "                    window.PLOTLYENV=window.PLOTLYENV || {};\n",
       "                    window.PLOTLYENV.BASE_URL='https://plot.ly';\n",
       "                    \n",
       "                if (document.getElementById(\"9bec8196-1a29-4fb8-b635-01ee273f06bb\")) {\n",
       "                    Plotly.newPlot(\n",
       "                        '9bec8196-1a29-4fb8-b635-01ee273f06bb',\n",
       "                        [{\"marker\": {\"color\": \"lightgray\"}, \"name\": \"lightgray\", \"orientation\": \"h\", \"type\": \"bar\", \"uid\": \"f2653fff-49a2-4032-ab28-0a4483514615\", \"x\": [36.47435897435897, 43.758445945945944, 49.68243972652033, 58.02839116719243, 60.183416125334354], \"y\": [\"I prefer not to answer\", \"Professional degree\", \"Bachelor\\u2019s degree\", \"Some college/university study <br> without earning a bachelor\\u2019s degree\", \"Master\\u2019s degree\"]}, {\"marker\": {\"color\": \"coral\"}, \"name\": \"coral\", \"orientation\": \"h\", \"type\": \"bar\", \"uid\": \"c83d3af1-43a6-43b7-ae62-3b78ffaebc3e\", \"x\": [56.44117647058823, 75.01049317943337], \"y\": [\"No formal education past high school\", \"Doctoral degree\"]}],\n",
       "                        {\"height\": 400, \"margin\": {\"l\": 300}, \"showlegend\": false, \"title\": {\"text\": \"<b>Impact of Formal Education on Compenstaion</b><br><i>without students</i>\"}, \"width\": 800, \"xaxis\": {\"color\": \"#AAAAAA\", \"showgrid\": false, \"title\": {\"font\": {\"color\": \"#AAAAAA\"}, \"text\": \"Average Yearly Compensation (USD)\"}}, \"yaxis\": {\"color\": \"#AAAAAA\", \"showgrid\": false, \"title\": {\"font\": {\"color\": \"#AAAAAA\"}, \"text\": \"Level of Education\"}}},\n",
       "                        {\"showLink\": false, \"linkText\": \"Export to plot.ly\", \"plotlyServerURL\": \"https://plot.ly\", \"responsive\": true}\n",
       "                    ).then(function(){\n",
       "                            \n",
       "var gd = document.getElementById('9bec8196-1a29-4fb8-b635-01ee273f06bb');\n",
       "var x = new MutationObserver(function (mutations, observer) {{\n",
       "        var display = window.getComputedStyle(gd).display;\n",
       "        if (!display || display === 'none') {{\n",
       "            console.log([gd, 'removed!']);\n",
       "            Plotly.purge(gd);\n",
       "            observer.disconnect();\n",
       "        }}\n",
       "}});\n",
       "\n",
       "// Listen for the removal of the full notebook cells\n",
       "var notebookContainer = gd.closest('#notebook-container');\n",
       "if (notebookContainer) {{\n",
       "    x.observe(notebookContainer, {childList: true});\n",
       "}}\n",
       "\n",
       "// Listen for the clearing of the current output cell\n",
       "var outputEl = gd.closest('.output');\n",
       "if (outputEl) {{\n",
       "    x.observe(outputEl, {childList: true});\n",
       "}}\n",
       "\n",
       "                        })\n",
       "                };\n",
       "                });\n",
       "            </script>\n",
       "        </div>"
      ]
     },
     "metadata": {},
     "output_type": "display_data"
    }
   ],
   "source": [
    "# Calculates compensation per education level\n",
    "barplot = personal_data[not_student_mask].groupby(['education_level'], as_index=False)['yearly_compensation_numerical'].mean()\n",
    "barplot['no_college'] = (barplot.education_level == 'No formal education past high school') | \\\n",
    "                        (barplot.education_level == 'Doctoral degree')\n",
    "\n",
    "# creates a line break for better visualisation\n",
    "barplot.education_level = barplot.education_level.str.replace('study without', 'study <br> without')\n",
    "\n",
    "barplot.columns = ['y', 'x', 'no_college']\n",
    "barplot = barplot.sort_values(by='x', ascending=True)\n",
    "barplot['color'] = barplot.no_college.apply(lambda x: 'coral' if x else 'a')\n",
    "\n",
    "# Add title and annotations\n",
    "title_text = ['<b>Impact of Formal Education on Compenstaion</b><br><i>without students</i>', 'Average Yearly Compensation (USD)', 'Level of Education']\n",
    "annotations = []\n",
    "\n",
    "generate_barplot(title_text, annotations, orient='h', lmarg=300)"
   ]
  },
  {
   "cell_type": "markdown",
   "metadata": {
    "_uuid": "7c2985d1cb480e9d0f2ee50829ac421ff7904991"
   },
   "source": [
    "### Which industry should you target?\n",
    "If you concentrate your efforts on some industry specific problems you'll eventually get hired by them. Bellow we show the top 5 industries, and their average yearly compensation, compared to all others sectors. Choose wisely!"
   ]
  },
  {
   "cell_type": "code",
   "execution_count": 17,
   "metadata": {
    "_kg_hide-input": true,
    "_uuid": "7b233028a4effc68debfddc249c7da4226eaa180"
   },
   "outputs": [
    {
     "data": {
      "application/vnd.plotly.v1+json": {
       "config": {
        "linkText": "Export to plot.ly",
        "plotlyServerURL": "https://plot.ly",
        "responsive": true,
        "showLink": false
       },
       "data": [
        {
         "marker": {
          "color": "lightgray"
         },
         "name": "lightgray",
         "orientation": "h",
         "type": "bar",
         "uid": "3babb423-a123-4e37-aafd-13d99f2b4e69",
         "x": [
          40.566247224278314,
          47.156488549618324,
          55.549828178694156,
          57.640086206896555,
          58.107969528274246,
          58.50931677018634,
          60.10223048327138,
          60.46367851622875,
          62.48861047835991,
          62.76056338028169,
          65.21844660194175,
          65.52721088435374,
          66.6540404040404
         ],
         "y": [
          "Academics/Education",
          "Non-profit/Service",
          "Retail/Sales",
          "Online Business/Internet-based Sales",
          "Computers/Technology",
          "Marketing/CRM",
          "Broadcasting/Communications",
          "Other",
          "Government/Public Service",
          "Manufacturing/Fabrication",
          "Shipping/Transportation",
          "Energy/Mining",
          "Online Service/Internet-based Services"
         ]
        },
        {
         "marker": {
          "color": "darkgoldenrod"
         },
         "name": "darkgoldenrod",
         "orientation": "h",
         "type": "bar",
         "uid": "a8a959fc-db8c-46fe-99f7-8ac80c2aef03",
         "x": [
          66.8069556451613,
          71.425,
          71.93359375,
          72.35756385068763,
          75.18442622950819
         ],
         "y": [
          "Accounting/Finance",
          "Insurance/Risk Assessment",
          "Military/Security/Defense",
          "Medical/Pharmaceutical",
          "Hospitality/Entertainment/Sports"
         ]
        }
       ],
       "layout": {
        "height": 600,
        "margin": {
         "l": 300
        },
        "showlegend": false,
        "title": {
         "text": "<b>Average Compensation per Industry | Top 5 in Color</b><br><i>without students</i>"
        },
        "width": 800,
        "xaxis": {
         "color": "#AAAAAA",
         "showgrid": false,
         "title": {
          "font": {
           "color": "#AAAAAA"
          },
          "text": "Average Yearly Compensation (USD)"
         }
        },
        "yaxis": {
         "color": "#AAAAAA",
         "showgrid": false,
         "title": {
          "font": {
           "color": "#AAAAAA"
          },
          "text": "Industry"
         }
        }
       }
      },
      "text/html": [
       "<div>\n",
       "        \n",
       "        \n",
       "            <div id=\"fad08d36-3f04-4527-a2e5-9e860bf72e65\" class=\"plotly-graph-div\" style=\"height:600px; width:800px;\"></div>\n",
       "            <script type=\"text/javascript\">\n",
       "                require([\"plotly\"], function(Plotly) {\n",
       "                    window.PLOTLYENV=window.PLOTLYENV || {};\n",
       "                    window.PLOTLYENV.BASE_URL='https://plot.ly';\n",
       "                    \n",
       "                if (document.getElementById(\"fad08d36-3f04-4527-a2e5-9e860bf72e65\")) {\n",
       "                    Plotly.newPlot(\n",
       "                        'fad08d36-3f04-4527-a2e5-9e860bf72e65',\n",
       "                        [{\"marker\": {\"color\": \"lightgray\"}, \"name\": \"lightgray\", \"orientation\": \"h\", \"type\": \"bar\", \"uid\": \"c09e4f24-683a-49b2-bc98-149e06336c79\", \"x\": [40.566247224278314, 47.156488549618324, 55.549828178694156, 57.640086206896555, 58.107969528274246, 58.50931677018634, 60.10223048327138, 60.46367851622875, 62.48861047835991, 62.76056338028169, 65.21844660194175, 65.52721088435374, 66.6540404040404], \"y\": [\"Academics/Education\", \"Non-profit/Service\", \"Retail/Sales\", \"Online Business/Internet-based Sales\", \"Computers/Technology\", \"Marketing/CRM\", \"Broadcasting/Communications\", \"Other\", \"Government/Public Service\", \"Manufacturing/Fabrication\", \"Shipping/Transportation\", \"Energy/Mining\", \"Online Service/Internet-based Services\"]}, {\"marker\": {\"color\": \"darkgoldenrod\"}, \"name\": \"darkgoldenrod\", \"orientation\": \"h\", \"type\": \"bar\", \"uid\": \"edd8b2d1-3a44-4700-8b03-145cf44e9bd4\", \"x\": [66.8069556451613, 71.425, 71.93359375, 72.35756385068763, 75.18442622950819], \"y\": [\"Accounting/Finance\", \"Insurance/Risk Assessment\", \"Military/Security/Defense\", \"Medical/Pharmaceutical\", \"Hospitality/Entertainment/Sports\"]}],\n",
       "                        {\"height\": 600, \"margin\": {\"l\": 300}, \"showlegend\": false, \"title\": {\"text\": \"<b>Average Compensation per Industry | Top 5 in Color</b><br><i>without students</i>\"}, \"width\": 800, \"xaxis\": {\"color\": \"#AAAAAA\", \"showgrid\": false, \"title\": {\"font\": {\"color\": \"#AAAAAA\"}, \"text\": \"Average Yearly Compensation (USD)\"}}, \"yaxis\": {\"color\": \"#AAAAAA\", \"showgrid\": false, \"title\": {\"font\": {\"color\": \"#AAAAAA\"}, \"text\": \"Industry\"}}},\n",
       "                        {\"showLink\": false, \"linkText\": \"Export to plot.ly\", \"plotlyServerURL\": \"https://plot.ly\", \"responsive\": true}\n",
       "                    ).then(function(){\n",
       "                            \n",
       "var gd = document.getElementById('fad08d36-3f04-4527-a2e5-9e860bf72e65');\n",
       "var x = new MutationObserver(function (mutations, observer) {{\n",
       "        var display = window.getComputedStyle(gd).display;\n",
       "        if (!display || display === 'none') {{\n",
       "            console.log([gd, 'removed!']);\n",
       "            Plotly.purge(gd);\n",
       "            observer.disconnect();\n",
       "        }}\n",
       "}});\n",
       "\n",
       "// Listen for the removal of the full notebook cells\n",
       "var notebookContainer = gd.closest('#notebook-container');\n",
       "if (notebookContainer) {{\n",
       "    x.observe(notebookContainer, {childList: true});\n",
       "}}\n",
       "\n",
       "// Listen for the clearing of the current output cell\n",
       "var outputEl = gd.closest('.output');\n",
       "if (outputEl) {{\n",
       "    x.observe(outputEl, {childList: true});\n",
       "}}\n",
       "\n",
       "                        })\n",
       "                };\n",
       "                });\n",
       "            </script>\n",
       "        </div>"
      ]
     },
     "metadata": {},
     "output_type": "display_data"
    }
   ],
   "source": [
    "# Calculates compensation per industry\n",
    "barplot = personal_data[not_student_mask].groupby(['employer_industry'], as_index=False)['yearly_compensation_numerical'].mean()\n",
    "\n",
    "# Flags the top 5 industries to add color\n",
    "barplot['best_industries'] = (barplot.employer_industry == 'Medical/Pharmaceutical') | \\\n",
    "                             (barplot.employer_industry == 'Insurance/Risk Assessment') | \\\n",
    "                             (barplot.employer_industry == 'Military/Security/Defense') | \\\n",
    "                             (barplot.employer_industry == 'Hospitality/Entertainment/Sports') | \\\n",
    "                             (barplot.employer_industry == 'Accounting/Finance')\n",
    "\n",
    "barplot.columns = ['y', 'x', 'best_industries']\n",
    "barplot = barplot.sort_values(by='x', ascending=True)\n",
    "barplot['color'] = barplot.best_industries.apply(lambda x: 'darkgoldenrod' if x else 'a')\n",
    "\n",
    "title_text = ['<b>Average Compensation per Industry | Top 5 in Color</b><br><i>without students</i>', 'Average Yearly Compensation (USD)', 'Industry']\n",
    "annotations = []\n",
    "\n",
    "generate_barplot(title_text, annotations, orient='h', lmarg=300, h=600)"
   ]
  },
  {
   "cell_type": "markdown",
   "metadata": {
    "_uuid": "cac639ce4ac2b477a7ad29d1cc5d6b0ef517f103"
   },
   "source": [
    "### Should You Aim at the C-level?\n",
    "It's obvious that a C-level compensation is much higher than an analyst's. But how much? Almost 3x. Also, managerial levels have better compensation. Makes sense, no?"
   ]
  },
  {
   "cell_type": "code",
   "execution_count": 18,
   "metadata": {
    "_kg_hide-input": true,
    "_uuid": "f463b453be7a77acd97ab4ffc3356e8abcbfdecf"
   },
   "outputs": [
    {
     "data": {
      "application/vnd.plotly.v1+json": {
       "config": {
        "linkText": "Export to plot.ly",
        "plotlyServerURL": "https://plot.ly",
        "responsive": true,
        "showLink": false
       },
       "data": [
        {
         "marker": {
          "color": "lightgray"
         },
         "name": "lightgray",
         "orientation": "h",
         "type": "bar",
         "uid": "d3a75c85-ffd1-4750-830e-7825453c9147",
         "x": [
          26.25,
          43.42672413793103,
          43.898305084745765,
          47.775,
          48.298611111111114,
          48.83561643835616,
          49.701550387596896,
          50.656565656565654,
          54.26767676767677,
          57.24315068493151,
          57.315668202764975,
          58.07142857142857
         ],
         "y": [
          "Research Assistant",
          "Data Analyst",
          "Salesperson",
          "Business Analyst",
          "Developer Advocate",
          "Marketing Analyst",
          "Software Engineer",
          "DBA/Database Engineer",
          "Research Scientist",
          "Statistician",
          "Other",
          "Data Engineer"
         ]
        },
        {
         "marker": {
          "color": "mediumvioletred"
         },
         "name": "mediumvioletred",
         "orientation": "h",
         "type": "bar",
         "uid": "7d3bfb46-7558-4aea-93d3-1b215be2ea5b",
         "x": [
          67.94395116537181,
          68.88888888888889,
          70.51393728222996,
          72.0611439842209,
          94.8375,
          96.73611111111111,
          127.37268518518519
         ],
         "y": [
          "Data Scientist",
          "Data Journalist",
          "Product/Project Manager",
          "Consultant",
          "Manager",
          "Principal Investigator",
          "Chief Officer"
         ]
        }
       ],
       "layout": {
        "annotations": [
         {
          "font": {
           "color": "mediumvioletred",
           "size": 13
          },
          "showarrow": false,
          "text": "The first step into the ladder<br>of better compensation is<br>becoming a Data Scientist",
          "x": 0.6,
          "xanchor": "left",
          "xref": "paper",
          "y": 11.5,
          "yanchor": "bottom"
         }
        ],
        "height": 600,
        "margin": {
         "l": 300
        },
        "showlegend": false,
        "title": {
         "text": "<b>Average Compensation per Role | Top 7 in Color</b><br><i>without students</i>"
        },
        "width": 800,
        "xaxis": {
         "color": "#AAAAAA",
         "showgrid": false,
         "title": {
          "font": {
           "color": "#AAAAAA"
          },
          "text": "Average Yearly Compensation (USD)"
         }
        },
        "yaxis": {
         "color": "#AAAAAA",
         "showgrid": false,
         "title": {
          "font": {
           "color": "#AAAAAA"
          },
          "text": "Job Title"
         }
        }
       }
      },
      "text/html": [
       "<div>\n",
       "        \n",
       "        \n",
       "            <div id=\"9f89ed5c-8b1a-41a1-aaf5-765b85a25292\" class=\"plotly-graph-div\" style=\"height:600px; width:800px;\"></div>\n",
       "            <script type=\"text/javascript\">\n",
       "                require([\"plotly\"], function(Plotly) {\n",
       "                    window.PLOTLYENV=window.PLOTLYENV || {};\n",
       "                    window.PLOTLYENV.BASE_URL='https://plot.ly';\n",
       "                    \n",
       "                if (document.getElementById(\"9f89ed5c-8b1a-41a1-aaf5-765b85a25292\")) {\n",
       "                    Plotly.newPlot(\n",
       "                        '9f89ed5c-8b1a-41a1-aaf5-765b85a25292',\n",
       "                        [{\"marker\": {\"color\": \"lightgray\"}, \"name\": \"lightgray\", \"orientation\": \"h\", \"type\": \"bar\", \"uid\": \"3e9a3b01-e65b-4768-8212-224d01428819\", \"x\": [26.25, 43.42672413793103, 43.898305084745765, 47.775, 48.298611111111114, 48.83561643835616, 49.701550387596896, 50.656565656565654, 54.26767676767677, 57.24315068493151, 57.315668202764975, 58.07142857142857], \"y\": [\"Research Assistant\", \"Data Analyst\", \"Salesperson\", \"Business Analyst\", \"Developer Advocate\", \"Marketing Analyst\", \"Software Engineer\", \"DBA/Database Engineer\", \"Research Scientist\", \"Statistician\", \"Other\", \"Data Engineer\"]}, {\"marker\": {\"color\": \"mediumvioletred\"}, \"name\": \"mediumvioletred\", \"orientation\": \"h\", \"type\": \"bar\", \"uid\": \"eac7312a-9599-4bd5-af02-f85de3ed30ba\", \"x\": [67.94395116537181, 68.88888888888889, 70.51393728222996, 72.0611439842209, 94.8375, 96.73611111111111, 127.37268518518519], \"y\": [\"Data Scientist\", \"Data Journalist\", \"Product/Project Manager\", \"Consultant\", \"Manager\", \"Principal Investigator\", \"Chief Officer\"]}],\n",
       "                        {\"annotations\": [{\"font\": {\"color\": \"mediumvioletred\", \"size\": 13}, \"showarrow\": false, \"text\": \"The first step into the ladder<br>of better compensation is<br>becoming a Data Scientist\", \"x\": 0.6, \"xanchor\": \"left\", \"xref\": \"paper\", \"y\": 11.5, \"yanchor\": \"bottom\"}], \"height\": 600, \"margin\": {\"l\": 300}, \"showlegend\": false, \"title\": {\"text\": \"<b>Average Compensation per Role | Top 7 in Color</b><br><i>without students</i>\"}, \"width\": 800, \"xaxis\": {\"color\": \"#AAAAAA\", \"showgrid\": false, \"title\": {\"font\": {\"color\": \"#AAAAAA\"}, \"text\": \"Average Yearly Compensation (USD)\"}}, \"yaxis\": {\"color\": \"#AAAAAA\", \"showgrid\": false, \"title\": {\"font\": {\"color\": \"#AAAAAA\"}, \"text\": \"Job Title\"}}},\n",
       "                        {\"showLink\": false, \"linkText\": \"Export to plot.ly\", \"plotlyServerURL\": \"https://plot.ly\", \"responsive\": true}\n",
       "                    ).then(function(){\n",
       "                            \n",
       "var gd = document.getElementById('9f89ed5c-8b1a-41a1-aaf5-765b85a25292');\n",
       "var x = new MutationObserver(function (mutations, observer) {{\n",
       "        var display = window.getComputedStyle(gd).display;\n",
       "        if (!display || display === 'none') {{\n",
       "            console.log([gd, 'removed!']);\n",
       "            Plotly.purge(gd);\n",
       "            observer.disconnect();\n",
       "        }}\n",
       "}});\n",
       "\n",
       "// Listen for the removal of the full notebook cells\n",
       "var notebookContainer = gd.closest('#notebook-container');\n",
       "if (notebookContainer) {{\n",
       "    x.observe(notebookContainer, {childList: true});\n",
       "}}\n",
       "\n",
       "// Listen for the clearing of the current output cell\n",
       "var outputEl = gd.closest('.output');\n",
       "if (outputEl) {{\n",
       "    x.observe(outputEl, {childList: true});\n",
       "}}\n",
       "\n",
       "                        })\n",
       "                };\n",
       "                });\n",
       "            </script>\n",
       "        </div>"
      ]
     },
     "metadata": {},
     "output_type": "display_data"
    }
   ],
   "source": [
    "# Calculates compensation per role\n",
    "barplot = personal_data[not_student_mask].groupby(['role'], as_index=False)['yearly_compensation_numerical'].mean()\n",
    "\n",
    "# Flags the top 5 roles to add color\n",
    "barplot['role_highlight'] = (barplot.role == 'Data Scientist') | \\\n",
    "                        (barplot.role == 'Product/Project Manager') | \\\n",
    "                        (barplot.role == 'Consultant') | \\\n",
    "                        (barplot.role == 'Data Journalist') | \\\n",
    "                        (barplot.role == 'Manager') | \\\n",
    "                        (barplot.role == 'Principal Investigator') | \\\n",
    "                        (barplot.role == 'Chief Officer')\n",
    "\n",
    "barplot.columns = ['y', 'x', 'role_highlight']\n",
    "barplot = barplot.sort_values(by='x', ascending=True)\n",
    "barplot['color'] = barplot.role_highlight.apply(lambda x: 'mediumvioletred' if x else 'lightgray')\n",
    "\n",
    "title_text = ['<b>Average Compensation per Role | Top 7 in Color</b><br><i>without students</i>', 'Average Yearly Compensation (USD)', 'Job Title']\n",
    "annotations = [{'x': 0.6, 'y': 11.5, 'text': 'The first step into the ladder<br>of better compensation is<br>becoming a Data Scientist','color': 'mediumvioletred'}]\n",
    "\n",
    "generate_barplot(title_text, annotations, orient='h', lmarg=300, h=600)"
   ]
  },
  {
   "cell_type": "markdown",
   "metadata": {
    "_kg_hide-input": false,
    "_uuid": "f0fc64d311e409826f80769b20fb51e332740ec0"
   },
   "source": [
    "### Which countries pay more?\n",
    "Does living on certain contries impact the average compensation you get? Below we show how much, on average, you should expect to earn in each country."
   ]
  },
  {
   "cell_type": "code",
   "execution_count": 19,
   "metadata": {
    "_kg_hide-input": true,
    "_uuid": "aaa6ec885f7a7d5aaa3efe859d9954ff6dfcd966",
    "scrolled": true
   },
   "outputs": [
    {
     "data": {
      "application/vnd.plotly.v1+json": {
       "config": {
        "linkText": "Export to plot.ly",
        "plotlyServerURL": "https://plot.ly",
        "responsive": true,
        "showLink": false
       },
       "data": [
        {
         "marker": {
          "color": "lightgray"
         },
         "name": "lightgray",
         "orientation": "h",
         "type": "bar",
         "uid": "1e7ff04e-31e8-4eb4-8687-f075d7b98c09",
         "x": [
          9.938271604938272,
          13.55072463768116,
          15.071428571428571,
          15.214285714285714,
          17.17241379310345,
          18.333333333333332,
          19.193548387096776,
          19.39516129032258,
          21.25,
          22.833333333333332,
          23.13953488372093,
          23.75,
          24.67391304347826,
          25.05,
          25.490762124711317,
          25.632911392405063,
          25.73170731707317,
          25.93686354378819,
          26.923076923076923,
          27.59090909090909,
          28.42948717948718,
          29.127789046653145,
          30.238095238095237,
          30.333333333333332,
          30.33625730994152,
          30.405405405405407,
          30.89430894308943,
          31.812339331619537,
          33.91891891891892,
          35.1619170984456,
          36.02564102564103,
          40.54469273743017,
          43.094795539033456,
          46.59090909090909,
          47.9746835443038,
          49.65625,
          53.44827586206897,
          55.35087719298246,
          55.51282051282051,
          57.70695364238411,
          60.0625,
          61.921052631578945,
          64.13366336633663,
          65.89285714285714,
          67.28187919463087,
          67.51385041551247,
          67.74647887323944
         ],
         "y": [
          "Nigeria",
          "Vietnam",
          "Egypt",
          "Iran",
          "Turkey",
          "Morocco",
          "Bangladesh",
          "Pakistan",
          "Peru",
          "Greece",
          "Belarus",
          "Romania",
          "Indonesia",
          "Malaysia",
          "Russia",
          "Argentina",
          "Ukraine",
          "India",
          "Philippines",
          "Hungary",
          "Portugal",
          "Other",
          "Kenya",
          "Tunisia",
          "Poland",
          "Thailand",
          "Mexico",
          "Brazil",
          "Czech Republic",
          "China",
          "Colombia",
          "Italy",
          "Spain",
          "Chile",
          "South Africa",
          "Not Disclosed",
          "Austria",
          "Belgium",
          "Finland",
          "France",
          "New Zealand",
          "South Korea",
          "Sweden",
          "Singapore",
          "Netherlands",
          "Germany",
          "Japan"
         ]
        },
        {
         "marker": {
          "color": "mediumseagreen"
         },
         "name": "mediumseagreen",
         "orientation": "h",
         "type": "bar",
         "uid": "e8c95d64-6cf3-418c-83f0-e3e8b1d3b19d",
         "x": [
          70.98026315789474,
          72.9326923076923,
          75.93023255813954,
          81.21753246753246,
          84.57627118644068,
          84.66666666666667,
          90.76530612244898,
          98.9327485380117,
          112.67608517608518,
          122.1875
         ],
         "y": [
          "United Kingdom",
          "Ireland",
          "Norway",
          "Canada",
          "Denmark",
          "Hong Kong",
          "Israel",
          "Australia",
          "United States",
          "Switzerland"
         ]
        }
       ],
       "layout": {
        "height": 1200,
        "margin": {
         "l": 300
        },
        "showlegend": false,
        "title": {
         "text": "<b>Average Compensation per Country - Top 10 in Color</b><br><i>without students</i>"
        },
        "width": 800,
        "xaxis": {
         "color": "#AAAAAA",
         "showgrid": false,
         "title": {
          "font": {
           "color": "#AAAAAA"
          },
          "text": "Average Yearly Compensation (USD)"
         }
        },
        "yaxis": {
         "color": "#AAAAAA",
         "showgrid": false,
         "title": {
          "font": {
           "color": "#AAAAAA"
          },
          "text": "Country"
         }
        }
       }
      },
      "text/html": [
       "<div>\n",
       "        \n",
       "        \n",
       "            <div id=\"cbf13b5d-697f-4a63-b180-ba67bd11e5c9\" class=\"plotly-graph-div\" style=\"height:1200px; width:800px;\"></div>\n",
       "            <script type=\"text/javascript\">\n",
       "                require([\"plotly\"], function(Plotly) {\n",
       "                    window.PLOTLYENV=window.PLOTLYENV || {};\n",
       "                    window.PLOTLYENV.BASE_URL='https://plot.ly';\n",
       "                    \n",
       "                if (document.getElementById(\"cbf13b5d-697f-4a63-b180-ba67bd11e5c9\")) {\n",
       "                    Plotly.newPlot(\n",
       "                        'cbf13b5d-697f-4a63-b180-ba67bd11e5c9',\n",
       "                        [{\"marker\": {\"color\": \"lightgray\"}, \"name\": \"lightgray\", \"orientation\": \"h\", \"type\": \"bar\", \"uid\": \"632b8e39-0fc7-4aaf-8a67-e390c5594cd8\", \"x\": [9.938271604938272, 13.55072463768116, 15.071428571428571, 15.214285714285714, 17.17241379310345, 18.333333333333332, 19.193548387096776, 19.39516129032258, 21.25, 22.833333333333332, 23.13953488372093, 23.75, 24.67391304347826, 25.05, 25.490762124711317, 25.632911392405063, 25.73170731707317, 25.93686354378819, 26.923076923076923, 27.59090909090909, 28.42948717948718, 29.127789046653145, 30.238095238095237, 30.333333333333332, 30.33625730994152, 30.405405405405407, 30.89430894308943, 31.812339331619537, 33.91891891891892, 35.1619170984456, 36.02564102564103, 40.54469273743017, 43.094795539033456, 46.59090909090909, 47.9746835443038, 49.65625, 53.44827586206897, 55.35087719298246, 55.51282051282051, 57.70695364238411, 60.0625, 61.921052631578945, 64.13366336633663, 65.89285714285714, 67.28187919463087, 67.51385041551247, 67.74647887323944], \"y\": [\"Nigeria\", \"Vietnam\", \"Egypt\", \"Iran\", \"Turkey\", \"Morocco\", \"Bangladesh\", \"Pakistan\", \"Peru\", \"Greece\", \"Belarus\", \"Romania\", \"Indonesia\", \"Malaysia\", \"Russia\", \"Argentina\", \"Ukraine\", \"India\", \"Philippines\", \"Hungary\", \"Portugal\", \"Other\", \"Kenya\", \"Tunisia\", \"Poland\", \"Thailand\", \"Mexico\", \"Brazil\", \"Czech Republic\", \"China\", \"Colombia\", \"Italy\", \"Spain\", \"Chile\", \"South Africa\", \"Not Disclosed\", \"Austria\", \"Belgium\", \"Finland\", \"France\", \"New Zealand\", \"South Korea\", \"Sweden\", \"Singapore\", \"Netherlands\", \"Germany\", \"Japan\"]}, {\"marker\": {\"color\": \"mediumseagreen\"}, \"name\": \"mediumseagreen\", \"orientation\": \"h\", \"type\": \"bar\", \"uid\": \"777504cb-1c74-4382-b49a-14eb9d327272\", \"x\": [70.98026315789474, 72.9326923076923, 75.93023255813954, 81.21753246753246, 84.57627118644068, 84.66666666666667, 90.76530612244898, 98.9327485380117, 112.67608517608518, 122.1875], \"y\": [\"United Kingdom\", \"Ireland\", \"Norway\", \"Canada\", \"Denmark\", \"Hong Kong\", \"Israel\", \"Australia\", \"United States\", \"Switzerland\"]}],\n",
       "                        {\"height\": 1200, \"margin\": {\"l\": 300}, \"showlegend\": false, \"title\": {\"text\": \"<b>Average Compensation per Country - Top 10 in Color</b><br><i>without students</i>\"}, \"width\": 800, \"xaxis\": {\"color\": \"#AAAAAA\", \"showgrid\": false, \"title\": {\"font\": {\"color\": \"#AAAAAA\"}, \"text\": \"Average Yearly Compensation (USD)\"}}, \"yaxis\": {\"color\": \"#AAAAAA\", \"showgrid\": false, \"title\": {\"font\": {\"color\": \"#AAAAAA\"}, \"text\": \"Country\"}}},\n",
       "                        {\"showLink\": false, \"linkText\": \"Export to plot.ly\", \"plotlyServerURL\": \"https://plot.ly\", \"responsive\": true}\n",
       "                    ).then(function(){\n",
       "                            \n",
       "var gd = document.getElementById('cbf13b5d-697f-4a63-b180-ba67bd11e5c9');\n",
       "var x = new MutationObserver(function (mutations, observer) {{\n",
       "        var display = window.getComputedStyle(gd).display;\n",
       "        if (!display || display === 'none') {{\n",
       "            console.log([gd, 'removed!']);\n",
       "            Plotly.purge(gd);\n",
       "            observer.disconnect();\n",
       "        }}\n",
       "}});\n",
       "\n",
       "// Listen for the removal of the full notebook cells\n",
       "var notebookContainer = gd.closest('#notebook-container');\n",
       "if (notebookContainer) {{\n",
       "    x.observe(notebookContainer, {childList: true});\n",
       "}}\n",
       "\n",
       "// Listen for the clearing of the current output cell\n",
       "var outputEl = gd.closest('.output');\n",
       "if (outputEl) {{\n",
       "    x.observe(outputEl, {childList: true});\n",
       "}}\n",
       "\n",
       "                        })\n",
       "                };\n",
       "                });\n",
       "            </script>\n",
       "        </div>"
      ]
     },
     "metadata": {},
     "output_type": "display_data"
    }
   ],
   "source": [
    "# Replacing long country names\n",
    "personal_data.country = personal_data.country.str.replace('United Kingdom of Great Britain and Northern Ireland', 'United Kingdom')\n",
    "personal_data.country = personal_data.country.str.replace('United States of America', 'United States')\n",
    "personal_data.country = personal_data.country.str.replace('I do not wish to disclose my location', 'Not Disclosed')\n",
    "personal_data.country = personal_data.country.str.replace('Iran, Islamic Republic of...', 'Iran')\n",
    "personal_data.country = personal_data.country.str.replace('Hong Kong \\(S.A.R.\\)', 'Hong Kong')\n",
    "personal_data.country = personal_data.country.str.replace('Viet Nam', 'Vietnam')\n",
    "personal_data.country = personal_data.country.str.replace('Republic of Korea', 'South Korea')\n",
    "\n",
    "# Calculates compensation per country\n",
    "barplot = personal_data[not_student_mask].groupby(['country'], as_index=False)['yearly_compensation_numerical'].mean()\n",
    "\n",
    "# Flags the top 10 countries to add color\n",
    "barplot['country_highlight'] = (barplot.country == 'United States') | \\\n",
    "                               (barplot.country == 'Switzerland') | \\\n",
    "                               (barplot.country == 'Australia') | \\\n",
    "                               (barplot.country == 'Israel') | \\\n",
    "                               (barplot.country == 'Denmark') | \\\n",
    "                               (barplot.country == 'Canada') | \\\n",
    "                               (barplot.country == 'Hong Kong') | \\\n",
    "                               (barplot.country == 'Norway') | \\\n",
    "                               (barplot.country == 'Ireland') | \\\n",
    "                               (barplot.country == 'United Kingdom')\n",
    "\n",
    "barplot.columns = ['y', 'x', 'country_highlight']\n",
    "barplot = barplot.sort_values(by='x', ascending=True)\n",
    "barplot['color'] = barplot.country_highlight.apply(lambda x: 'mediumseagreen' if x else 'lightgray')\n",
    "\n",
    "title_text = ['<b>Average Compensation per Country - Top 10 in Color</b><br><i>without students</i>', 'Average Yearly Compensation (USD)', 'Country']\n",
    "annotations = []\n",
    "\n",
    "generate_barplot(title_text, annotations, orient='h', lmarg=300, h=1200)"
   ]
  },
  {
   "cell_type": "markdown",
   "metadata": {
    "_uuid": "0b6ec7d7b1813924a4f6471eb71ccfa23441e10d"
   },
   "source": [
    "We see that countries that have a higher cost of living are showing up at the top, paying more. Let's try to divide the average compensation by the cost of living to normalize this feature? We found a ranking of cost of living per country at [Expatistan.com](https://www.expatistan.com/cost-of-living/country/ranking) on Nov. 15th 2018. This source also provide a price index for each country, that is calculated as described below: \n",
    "\n",
    "> To calculate each country's Price Index value, we start by assigning a value of 100 to a central reference country (that happens to be the Czech Republic). Once the reference point has been established, the Price Index value of every other country in the database is calculated by comparing their cost of living to the cost of living in the Czech Republic.\n",
    "Therefore, if a country has a Price Index of 134, that means that living there is 34% more expensive than living in the Czech Republic. Source: [Expatistan.com](https://www.expatistan.com/cost-of-living/country/ranking)"
   ]
  },
  {
   "cell_type": "code",
   "execution_count": 20,
   "metadata": {
    "_kg_hide-input": true,
    "_uuid": "d49c1f95007f08e69d5ba8aa4c5a2ea81da4c08a"
   },
   "outputs": [
    {
     "data": {
      "text/html": [
       "<div>\n",
       "<style scoped>\n",
       "    .dataframe tbody tr th:only-of-type {\n",
       "        vertical-align: middle;\n",
       "    }\n",
       "\n",
       "    .dataframe tbody tr th {\n",
       "        vertical-align: top;\n",
       "    }\n",
       "\n",
       "    .dataframe thead th {\n",
       "        text-align: right;\n",
       "    }\n",
       "</style>\n",
       "<table border=\"1\" class=\"dataframe\">\n",
       "  <thead>\n",
       "    <tr style=\"text-align: right;\">\n",
       "      <th></th>\n",
       "      <th>ranking</th>\n",
       "      <th>country</th>\n",
       "      <th>price_index</th>\n",
       "    </tr>\n",
       "  </thead>\n",
       "  <tbody>\n",
       "    <tr>\n",
       "      <th>0</th>\n",
       "      <td>1</td>\n",
       "      <td>Bermuda</td>\n",
       "      <td>293</td>\n",
       "    </tr>\n",
       "    <tr>\n",
       "      <th>1</th>\n",
       "      <td>2</td>\n",
       "      <td>Cayman Islands</td>\n",
       "      <td>254</td>\n",
       "    </tr>\n",
       "    <tr>\n",
       "      <th>2</th>\n",
       "      <td>3</td>\n",
       "      <td>Switzerland</td>\n",
       "      <td>234</td>\n",
       "    </tr>\n",
       "    <tr>\n",
       "      <th>3</th>\n",
       "      <td>4</td>\n",
       "      <td>Hong Kong</td>\n",
       "      <td>233</td>\n",
       "    </tr>\n",
       "    <tr>\n",
       "      <th>4</th>\n",
       "      <td>5</td>\n",
       "      <td>Iceland</td>\n",
       "      <td>221</td>\n",
       "    </tr>\n",
       "  </tbody>\n",
       "</table>\n",
       "</div>"
      ],
      "text/plain": [
       "   ranking         country  price_index\n",
       "0        1         Bermuda          293\n",
       "1        2  Cayman Islands          254\n",
       "2        3     Switzerland          234\n",
       "3        4       Hong Kong          233\n",
       "4        5         Iceland          221"
      ]
     },
     "execution_count": 20,
     "metadata": {},
     "output_type": "execute_result"
    }
   ],
   "source": [
    "# Loading the cost of living\n",
    "cost_living = pd.read_csv('./input/cost-of-living-per-country/cost_of_living.csv')\n",
    "cost_living.columns = ['ranking', 'country', 'price_index']\n",
    "cost_living.head()"
   ]
  },
  {
   "cell_type": "code",
   "execution_count": 21,
   "metadata": {
    "_kg_hide-input": true,
    "_kg_hide-output": true,
    "_uuid": "ce30573a4c2f49c7a84d90bf0c2ee4e4fb7846c2"
   },
   "outputs": [],
   "source": [
    "# joining both tables\n",
    "personal_data = personal_data.merge(cost_living, on='country') # doing an inner join to avoid nans on normalized compensation\n",
    "\n",
    "# calculating the normalized compensation\n",
    "personal_data['normalized_compensation'] = personal_data.yearly_compensation_numerical / personal_data.price_index * 10\n",
    "personal_data['normalized_compensation'] = personal_data['normalized_compensation'].round() * 10"
   ]
  },
  {
   "cell_type": "code",
   "execution_count": 22,
   "metadata": {
    "_kg_hide-input": true,
    "_kg_hide-output": true,
    "_uuid": "96cbd3bdfc5fe23e50794b015cf86f8e23e445d0"
   },
   "outputs": [],
   "source": [
    "# recreating masks\n",
    "is_student_mask = (personal_data['role'] == 'Student') | (personal_data['employer_industry'] == 'I am a student')\n",
    "not_student_mask = (personal_data['role'] != 'Student') & (personal_data['employer_industry'] != 'I am a student')"
   ]
  },
  {
   "cell_type": "code",
   "execution_count": 23,
   "metadata": {
    "_kg_hide-input": true,
    "_uuid": "4a4291b760f12ee285015bcd8247f19da80ae191"
   },
   "outputs": [
    {
     "data": {
      "application/vnd.plotly.v1+json": {
       "config": {
        "linkText": "Export to plot.ly",
        "plotlyServerURL": "https://plot.ly",
        "responsive": true,
        "showLink": false
       },
       "data": [
        {
         "marker": {
          "color": "lightgray"
         },
         "name": "lightgray",
         "orientation": "h",
         "type": "bar",
         "uid": "68093263-deda-466b-ad24-2da52bd6cb4e",
         "x": [
          15.185185185185185,
          17.5,
          19.420289855072465,
          22.564102564102566,
          22.571428571428573,
          24.193548387096776,
          24.275862068965516,
          24.594594594594593,
          24.761904761904763,
          25.238095238095237,
          26.73521850899743,
          26.764705882352942,
          28.6046511627907,
          30,
          30.11173184357542,
          30.155440414507773,
          30.8,
          31.87066974595843,
          32.028985507246375,
          32.55813953488372,
          32.60223048327138,
          32.72727272727273,
          32.972972972972975,
          33.06122448979592,
          33.079470198675494,
          33.5,
          34.1025641025641,
          35.12820512820513,
          35.49707602339181,
          35.594025797691785,
          36.55172413793103,
          36.835443037974684,
          37.333333333333336,
          37.69230769230769,
          38.01980198019802,
          38.32214765100671,
          38.421052631578945,
          38.68421052631579,
          39.26829268292683,
          39.7887323943662,
          39.91869918699187,
          41.13636363636363,
          42.78481012658228
         ],
         "y": [
          "Nigeria",
          "Greece",
          "Vietnam",
          "Portugal",
          "Egypt",
          "Bangladesh",
          "Turkey",
          "Thailand",
          "Morocco",
          "Kenya",
          "Brazil",
          "Peru",
          "Belarus",
          "Romania",
          "Italy",
          "China",
          "Malaysia",
          "Russia",
          "Indonesia",
          "Norway",
          "Spain",
          "Hungary",
          "Czech Republic",
          "Singapore",
          "France",
          "New Zealand",
          "Finland",
          "Philippines",
          "Poland",
          "India",
          "Austria",
          "Argentina",
          "Hong Kong",
          "Ireland",
          "Sweden",
          "Netherlands",
          "Belgium",
          "United Kingdom",
          "Mexico",
          "Japan",
          "Ukraine",
          "Chile",
          "South Africa"
         ]
        },
        {
         "marker": {
          "color": "mediumseagreen"
         },
         "name": "mediumseagreen",
         "orientation": "h",
         "type": "bar",
         "uid": "94ea6ee5-bade-4c69-b798-580dcf8f51a6",
         "x": [
          43.220338983050844,
          43.578947368421055,
          44.666666666666664,
          45.18005540166205,
          45.76923076923077,
          50.68181818181818,
          52.5,
          53.775510204081634,
          54.853801169590646,
          63.32923832923833
         ],
         "y": [
          "Denmark",
          "South Korea",
          "Tunisia",
          "Germany",
          "Colombia",
          "Canada",
          "Switzerland",
          "Israel",
          "Australia",
          "United States"
         ]
        }
       ],
       "layout": {
        "height": 1200,
        "margin": {
         "l": 300
        },
        "showlegend": false,
        "title": {
         "text": "<b>Normalized Average Compensation per Country - Top 10 in Color</b><br><i>without students</i>"
        },
        "width": 800,
        "xaxis": {
         "color": "#AAAAAA",
         "showgrid": false,
         "title": {
          "font": {
           "color": "#AAAAAA"
          },
          "text": "Normalized Average Yearly Compensation (USD)"
         }
        },
        "yaxis": {
         "color": "#AAAAAA",
         "showgrid": false,
         "title": {
          "font": {
           "color": "#AAAAAA"
          },
          "text": "Country"
         }
        }
       }
      },
      "text/html": [
       "<div>\n",
       "        \n",
       "        \n",
       "            <div id=\"fb107311-5d81-477a-b9ec-c5d59b3c0c66\" class=\"plotly-graph-div\" style=\"height:1200px; width:800px;\"></div>\n",
       "            <script type=\"text/javascript\">\n",
       "                require([\"plotly\"], function(Plotly) {\n",
       "                    window.PLOTLYENV=window.PLOTLYENV || {};\n",
       "                    window.PLOTLYENV.BASE_URL='https://plot.ly';\n",
       "                    \n",
       "                if (document.getElementById(\"fb107311-5d81-477a-b9ec-c5d59b3c0c66\")) {\n",
       "                    Plotly.newPlot(\n",
       "                        'fb107311-5d81-477a-b9ec-c5d59b3c0c66',\n",
       "                        [{\"marker\": {\"color\": \"lightgray\"}, \"name\": \"lightgray\", \"orientation\": \"h\", \"type\": \"bar\", \"uid\": \"434af571-85d9-4dc7-b1c3-375725823ba6\", \"x\": [15.185185185185185, 17.5, 19.420289855072465, 22.564102564102566, 22.571428571428573, 24.193548387096776, 24.275862068965516, 24.594594594594593, 24.761904761904763, 25.238095238095237, 26.73521850899743, 26.764705882352942, 28.6046511627907, 30.0, 30.11173184357542, 30.155440414507773, 30.8, 31.87066974595843, 32.028985507246375, 32.55813953488372, 32.60223048327138, 32.72727272727273, 32.972972972972975, 33.06122448979592, 33.079470198675494, 33.5, 34.1025641025641, 35.12820512820513, 35.49707602339181, 35.594025797691785, 36.55172413793103, 36.835443037974684, 37.333333333333336, 37.69230769230769, 38.01980198019802, 38.32214765100671, 38.421052631578945, 38.68421052631579, 39.26829268292683, 39.7887323943662, 39.91869918699187, 41.13636363636363, 42.78481012658228], \"y\": [\"Nigeria\", \"Greece\", \"Vietnam\", \"Portugal\", \"Egypt\", \"Bangladesh\", \"Turkey\", \"Thailand\", \"Morocco\", \"Kenya\", \"Brazil\", \"Peru\", \"Belarus\", \"Romania\", \"Italy\", \"China\", \"Malaysia\", \"Russia\", \"Indonesia\", \"Norway\", \"Spain\", \"Hungary\", \"Czech Republic\", \"Singapore\", \"France\", \"New Zealand\", \"Finland\", \"Philippines\", \"Poland\", \"India\", \"Austria\", \"Argentina\", \"Hong Kong\", \"Ireland\", \"Sweden\", \"Netherlands\", \"Belgium\", \"United Kingdom\", \"Mexico\", \"Japan\", \"Ukraine\", \"Chile\", \"South Africa\"]}, {\"marker\": {\"color\": \"mediumseagreen\"}, \"name\": \"mediumseagreen\", \"orientation\": \"h\", \"type\": \"bar\", \"uid\": \"de1791e5-125d-47e1-8246-dc631ddbeac3\", \"x\": [43.220338983050844, 43.578947368421055, 44.666666666666664, 45.18005540166205, 45.76923076923077, 50.68181818181818, 52.5, 53.775510204081634, 54.853801169590646, 63.32923832923833], \"y\": [\"Denmark\", \"South Korea\", \"Tunisia\", \"Germany\", \"Colombia\", \"Canada\", \"Switzerland\", \"Israel\", \"Australia\", \"United States\"]}],\n",
       "                        {\"height\": 1200, \"margin\": {\"l\": 300}, \"showlegend\": false, \"title\": {\"text\": \"<b>Normalized Average Compensation per Country - Top 10 in Color</b><br><i>without students</i>\"}, \"width\": 800, \"xaxis\": {\"color\": \"#AAAAAA\", \"showgrid\": false, \"title\": {\"font\": {\"color\": \"#AAAAAA\"}, \"text\": \"Normalized Average Yearly Compensation (USD)\"}}, \"yaxis\": {\"color\": \"#AAAAAA\", \"showgrid\": false, \"title\": {\"font\": {\"color\": \"#AAAAAA\"}, \"text\": \"Country\"}}},\n",
       "                        {\"showLink\": false, \"linkText\": \"Export to plot.ly\", \"plotlyServerURL\": \"https://plot.ly\", \"responsive\": true}\n",
       "                    ).then(function(){\n",
       "                            \n",
       "var gd = document.getElementById('fb107311-5d81-477a-b9ec-c5d59b3c0c66');\n",
       "var x = new MutationObserver(function (mutations, observer) {{\n",
       "        var display = window.getComputedStyle(gd).display;\n",
       "        if (!display || display === 'none') {{\n",
       "            console.log([gd, 'removed!']);\n",
       "            Plotly.purge(gd);\n",
       "            observer.disconnect();\n",
       "        }}\n",
       "}});\n",
       "\n",
       "// Listen for the removal of the full notebook cells\n",
       "var notebookContainer = gd.closest('#notebook-container');\n",
       "if (notebookContainer) {{\n",
       "    x.observe(notebookContainer, {childList: true});\n",
       "}}\n",
       "\n",
       "// Listen for the clearing of the current output cell\n",
       "var outputEl = gd.closest('.output');\n",
       "if (outputEl) {{\n",
       "    x.observe(outputEl, {childList: true});\n",
       "}}\n",
       "\n",
       "                        })\n",
       "                };\n",
       "                });\n",
       "            </script>\n",
       "        </div>"
      ]
     },
     "metadata": {},
     "output_type": "display_data"
    }
   ],
   "source": [
    "# Calculates compensation per country\n",
    "barplot = personal_data[not_student_mask].groupby(['country'], as_index=False)['normalized_compensation'].mean()\n",
    "\n",
    "# Flags the top 10 countries to add color\n",
    "barplot['country_highlight'] = (barplot.country == 'United States') | \\\n",
    "                               (barplot.country == 'Australia') | \\\n",
    "                               (barplot.country == 'Israel') | \\\n",
    "                               (barplot.country == 'Switzerland') | \\\n",
    "                               (barplot.country == 'Canada') | \\\n",
    "                               (barplot.country == 'Tunisia') | \\\n",
    "                               (barplot.country == 'Germany') | \\\n",
    "                               (barplot.country == 'Denmark') | \\\n",
    "                               (barplot.country == 'Colombia') | \\\n",
    "                               (barplot.country == 'South Korea')\n",
    "\n",
    "barplot.columns = ['y', 'x', 'country_highlight']\n",
    "barplot = barplot.sort_values(by='x', ascending=True)\n",
    "barplot['color'] = barplot.country_highlight.apply(lambda x: 'mediumseagreen' if x else 'lightgray')\n",
    "\n",
    "title_text = ['<b>Normalized Average Compensation per Country - Top 10 in Color</b><br><i>without students</i>', \n",
    "              'Normalized Average Yearly Compensation (USD)', 'Country']\n",
    "annotations = []\n",
    "\n",
    "generate_barplot(title_text, annotations, orient='h', lmarg=300, h=1200)"
   ]
  },
  {
   "cell_type": "markdown",
   "metadata": {
    "_uuid": "fe30076afb489d320687d64d6348eb88829b40c3"
   },
   "source": [
    "We see that compensation is much smoother when we divide it by the cost of living. By livinng in most countries around the world, you should get almost the same compensation on average (between USD 30k and 40k per year). A few countries pay above the average (United States pays better than any other country), and other few countries pay below the average. \n",
    "\n",
    "## Top 20% by considering each country cost of living\n",
    "Let's define the top 20% again, now based on the normalized compensation to see it in a chart. "
   ]
  },
  {
   "cell_type": "code",
   "execution_count": 24,
   "metadata": {
    "_kg_hide-input": true,
    "_uuid": "4246abdf54220e323ec36875ef6b7c8a0a289c28"
   },
   "outputs": [
    {
     "data": {
      "application/vnd.plotly.v1+json": {
       "config": {
        "linkText": "Export to plot.ly",
        "plotlyServerURL": "https://plot.ly",
        "responsive": true,
        "showLink": false
       },
       "data": [
        {
         "marker": {
          "color": "lightgray"
         },
         "name": "lightgray",
         "orientation": "v",
         "type": "bar",
         "uid": "4f8cf99e-8dcb-4209-acb5-cdc8857ab8dd",
         "x": [
          20,
          10,
          40,
          0,
          50,
          30
         ],
         "y": [
          1745,
          2813,
          1254,
          1326,
          1019,
          1576
         ]
        },
        {
         "marker": {
          "color": "mediumaquamarine"
         },
         "name": "mediumaquamarine",
         "orientation": "v",
         "type": "bar",
         "uid": "eb5d1194-7553-4761-ab1c-d68cf6343aa4",
         "x": [
          320,
          80,
          160,
          210,
          340,
          140,
          150,
          350,
          580,
          180,
          600,
          280,
          660,
          190,
          430,
          250,
          60,
          100,
          120,
          130,
          330,
          300,
          620,
          90,
          260,
          220,
          230,
          270,
          70,
          200,
          290,
          170,
          590,
          110,
          460,
          360,
          490,
          540
         ],
         "y": [
          4,
          464,
          8,
          6,
          1,
          9,
          71,
          2,
          1,
          11,
          1,
          14,
          6,
          7,
          1,
          6,
          780,
          389,
          40,
          131,
          3,
          7,
          2,
          108,
          1,
          5,
          10,
          4,
          220,
          26,
          1,
          12,
          4,
          51,
          4,
          8,
          2,
          1
         ]
        }
       ],
       "layout": {
        "annotations": [
         {
          "font": {
           "color": "mediumaquamarine",
           "size": 13
          },
          "showarrow": false,
          "text": "20% Most well paid",
          "x": 0.1,
          "xanchor": "left",
          "xref": "paper",
          "y": 1000,
          "yanchor": "bottom"
         }
        ],
        "height": 400,
        "margin": {
         "l": 120
        },
        "showlegend": false,
        "title": {
         "text": "<b>How Much Does Kagglers Get Paid?<br></b><i>normalized by cost of living</i>"
        },
        "width": 800,
        "xaxis": {
         "color": "#AAAAAA",
         "showgrid": false,
         "title": {
          "font": {
           "color": "#AAAAAA"
          },
          "text": "Normalized Yearly Compensation"
         }
        },
        "yaxis": {
         "color": "#AAAAAA",
         "showgrid": false,
         "title": {
          "font": {
           "color": "#AAAAAA"
          },
          "text": "Quantity of Respondents"
         }
        }
       }
      },
      "text/html": [
       "<div>\n",
       "        \n",
       "        \n",
       "            <div id=\"888a5ec3-f6bf-4424-83e3-7530bd35ed44\" class=\"plotly-graph-div\" style=\"height:400px; width:800px;\"></div>\n",
       "            <script type=\"text/javascript\">\n",
       "                require([\"plotly\"], function(Plotly) {\n",
       "                    window.PLOTLYENV=window.PLOTLYENV || {};\n",
       "                    window.PLOTLYENV.BASE_URL='https://plot.ly';\n",
       "                    \n",
       "                if (document.getElementById(\"888a5ec3-f6bf-4424-83e3-7530bd35ed44\")) {\n",
       "                    Plotly.newPlot(\n",
       "                        '888a5ec3-f6bf-4424-83e3-7530bd35ed44',\n",
       "                        [{\"marker\": {\"color\": \"lightgray\"}, \"name\": \"lightgray\", \"orientation\": \"v\", \"type\": \"bar\", \"uid\": \"d95a3228-2afe-481a-b0df-a6ab5f0edaab\", \"x\": [20.0, 10.0, 40.0, 0.0, 50.0, 30.0], \"y\": [1745, 2813, 1254, 1326, 1019, 1576]}, {\"marker\": {\"color\": \"mediumaquamarine\"}, \"name\": \"mediumaquamarine\", \"orientation\": \"v\", \"type\": \"bar\", \"uid\": \"92ace47f-1750-46b1-b10b-52eab1ed857d\", \"x\": [320.0, 80.0, 160.0, 210.0, 340.0, 140.0, 150.0, 350.0, 580.0, 180.0, 600.0, 280.0, 660.0, 190.0, 430.0, 250.0, 60.0, 100.0, 120.0, 130.0, 330.0, 300.0, 620.0, 90.0, 260.0, 220.0, 230.0, 270.0, 70.0, 200.0, 290.0, 170.0, 590.0, 110.0, 460.0, 360.0, 490.0, 540.0], \"y\": [4, 464, 8, 6, 1, 9, 71, 2, 1, 11, 1, 14, 6, 7, 1, 6, 780, 389, 40, 131, 3, 7, 2, 108, 1, 5, 10, 4, 220, 26, 1, 12, 4, 51, 4, 8, 2, 1]}],\n",
       "                        {\"annotations\": [{\"font\": {\"color\": \"mediumaquamarine\", \"size\": 13}, \"showarrow\": false, \"text\": \"20% Most well paid\", \"x\": 0.1, \"xanchor\": \"left\", \"xref\": \"paper\", \"y\": 1000, \"yanchor\": \"bottom\"}], \"height\": 400, \"margin\": {\"l\": 120}, \"showlegend\": false, \"title\": {\"text\": \"<b>How Much Does Kagglers Get Paid?<br></b><i>normalized by cost of living</i>\"}, \"width\": 800, \"xaxis\": {\"color\": \"#AAAAAA\", \"showgrid\": false, \"title\": {\"font\": {\"color\": \"#AAAAAA\"}, \"text\": \"Normalized Yearly Compensation\"}}, \"yaxis\": {\"color\": \"#AAAAAA\", \"showgrid\": false, \"title\": {\"font\": {\"color\": \"#AAAAAA\"}, \"text\": \"Quantity of Respondents\"}}},\n",
       "                        {\"showLink\": false, \"linkText\": \"Export to plot.ly\", \"plotlyServerURL\": \"https://plot.ly\", \"responsive\": true}\n",
       "                    ).then(function(){\n",
       "                            \n",
       "var gd = document.getElementById('888a5ec3-f6bf-4424-83e3-7530bd35ed44');\n",
       "var x = new MutationObserver(function (mutations, observer) {{\n",
       "        var display = window.getComputedStyle(gd).display;\n",
       "        if (!display || display === 'none') {{\n",
       "            console.log([gd, 'removed!']);\n",
       "            Plotly.purge(gd);\n",
       "            observer.disconnect();\n",
       "        }}\n",
       "}});\n",
       "\n",
       "// Listen for the removal of the full notebook cells\n",
       "var notebookContainer = gd.closest('#notebook-container');\n",
       "if (notebookContainer) {{\n",
       "    x.observe(notebookContainer, {childList: true});\n",
       "}}\n",
       "\n",
       "// Listen for the clearing of the current output cell\n",
       "var outputEl = gd.closest('.output');\n",
       "if (outputEl) {{\n",
       "    x.observe(outputEl, {childList: true});\n",
       "}}\n",
       "\n",
       "                        })\n",
       "                };\n",
       "                });\n",
       "            </script>\n",
       "        </div>"
      ]
     },
     "metadata": {},
     "output_type": "display_data"
    }
   ],
   "source": [
    "# Defining the threshold for top 20% most paid\n",
    "top20_tresh = personal_data.normalized_compensation.quantile(0.8)\n",
    "personal_data['top20'] = personal_data.normalized_compensation > top20_tresh\n",
    "\n",
    "# creating data for future mapping of values\n",
    "top20 = personal_data.groupby('normalized_compensation', as_index=False)['top20'].min()\n",
    "\n",
    "# Calculates respondents per compensation\n",
    "barplot = personal_data.normalized_compensation.value_counts(sort=False).to_frame().reset_index()\n",
    "barplot.columns = ['normalized_compensation', 'qty']\n",
    "\n",
    "# mapping back to get top 20% and 50%\n",
    "barplot = barplot.merge(top20, on='normalized_compensation')\n",
    "barplot.columns = ['x', 'y', 'top20']\n",
    "barplot['color'] = barplot.top20.apply(lambda x: 'mediumaquamarine' if x else 'lightgray')\n",
    "\n",
    "title_text = ['<b>How Much Does Kagglers Get Paid?<br></b><i>normalized by cost of living</i>', 'Normalized Yearly Compensation', 'Quantity of Respondents']\n",
    "annotations = [{'x': 0.1, 'y': 1000, 'text': '20% Most well paid','color': 'mediumaquamarine'}]\n",
    "\n",
    "generate_barplot(title_text, annotations)"
   ]
  },
  {
   "cell_type": "markdown",
   "metadata": {
    "_uuid": "82c45080490a94dbbb991574ba9f0b3da1fe1adb"
   },
   "source": [
    "# Predicting if a Kaggler Earns More than USD 100k (Top 20% - without students)\n",
    "After doing this initial EDA, we see that there are a ton of different features to explore one by one (there were 50 question on the survey). So we propose creating a model to show wich features makes a Kaggler be in the top 20%. After that we may look at them more carefully and draw some conclusions."
   ]
  },
  {
   "cell_type": "markdown",
   "metadata": {
    "_uuid": "2152df1eb86e0d4d7178d6bd51f931b941f34ae0"
   },
   "source": [
    "## Advanced Data Cleaning\n",
    "The data is really, really messy... We are going to clean it and transform all questions in dummies.  For the purpose of modelling, we are just selecting some questions that we believe might explain higher salaries. All other questions were left here, but were not treated, so you can use this kernel for other purposes."
   ]
  },
  {
   "cell_type": "code",
   "execution_count": 25,
   "metadata": {
    "_kg_hide-input": true,
    "_kg_hide-output": true,
    "_uuid": "76f8d81b40d06e063cf3a633165fa0f30e817bf3"
   },
   "outputs": [],
   "source": [
    "# First we store all answers in a dict\n",
    "answers = {'Q1': mcA.iloc[:,1],\n",
    "           'Q2': mcA.iloc[:,3],\n",
    "           'Q3': mcA.iloc[:,4],\n",
    "           'Q4': mcA.iloc[:,5],\n",
    "           'Q5': mcA.iloc[:,6],\n",
    "           'Q6': mcA.iloc[:,7],\n",
    "           'Q7': mcA.iloc[:,9],\n",
    "           'Q8': mcA.iloc[:,11],\n",
    "           'Q9': mcA.iloc[:,12],\n",
    "           'Q10': mcA.iloc[:,13],\n",
    "           'Q11': mcA.iloc[:,14:21],\n",
    "           'Q12': mcA.iloc[:,22],\n",
    "           'Q13': mcA.iloc[:,29:44],\n",
    "           'Q14': mcA.iloc[:,45:56],\n",
    "           'Q15': mcA.iloc[:,57:64],\n",
    "           'Q16': mcA.iloc[:,65:83],\n",
    "           'Q17': mcA.iloc[:,84],\n",
    "           'Q18': mcA.iloc[:,86],\n",
    "           'Q19': mcA.iloc[:,88:107],\n",
    "           'Q20': mcA.iloc[:,108],\n",
    "           'Q21': mcA.iloc[:,110:123],\n",
    "           'Q22': mcA.iloc[:,124],\n",
    "           'Q23': mcA.iloc[:,126],\n",
    "           'Q24': mcA.iloc[:,127],\n",
    "           'Q25': mcA.iloc[:,128],\n",
    "           'Q26': mcA.iloc[:,129],\n",
    "           'Q27': mcA.iloc[:,130:150],\n",
    "           'Q28': mcA.iloc[:,151:194],\n",
    "           'Q29': mcA.iloc[:,195:223],\n",
    "           'Q30': mcA.iloc[:,224:249],\n",
    "           'Q31': mcA.iloc[:,250:262],\n",
    "           'Q32': mcA.iloc[:,263],\n",
    "           'Q33': mcA.iloc[:,265:276],\n",
    "           'Q34': mcA.iloc[:, 277:283],\n",
    "           'Q35': mcA.iloc[:, 284:290],\n",
    "           'Q36': mcA.iloc[:,291:304],\n",
    "           'Q37': mcA.iloc[:,305],\n",
    "           'Q38': mcA.iloc[:,307:329],\n",
    "           'Q39': mcA.iloc[:,330:332],\n",
    "           'Q40': mcA.iloc[:,332],\n",
    "           'Q41': mcA.iloc[:,333:336],\n",
    "           'Q42': mcA.iloc[:,336:341],\n",
    "           'Q43': mcA.iloc[:,342],\n",
    "           'Q44': mcA.iloc[:,343:348],\n",
    "           'Q45': mcA.iloc[:,349:355],\n",
    "           'Q46': mcA.iloc[:,355],\n",
    "           'Q47': mcA.iloc[:,356:371],\n",
    "           'Q48': mcA.iloc[:,372],\n",
    "           'Q49': mcA.iloc[:,373:385],\n",
    "           'Q50': mcA.iloc[:,386:394]}"
   ]
  },
  {
   "cell_type": "code",
   "execution_count": 26,
   "metadata": {
    "_kg_hide-input": true,
    "_kg_hide-output": true,
    "_uuid": "6e02a784e500962e267dfc41ee8490aa6664dfb7"
   },
   "outputs": [],
   "source": [
    "# Then we store all questions in another dict\n",
    "questions = {\n",
    "'Q1': 'What is your gender?',\n",
    "'Q2': 'What is your age (# years)?',\n",
    "'Q3': 'In which country do you currently reside?',\n",
    "'Q4': 'What is the highest level of formal education that you have attained or plan to attain within the next 2 years?',\n",
    "'Q5': 'Which best describes your undergraduate major?',\n",
    "'Q6': 'Select the title most similar to your current role (or most recent title if retired)',\n",
    "'Q7': 'In what industry is your current employer/contract (or your most recent employer if retired)?',\n",
    "'Q8': 'How many years of experience do you have in your current role?',\n",
    "'Q9': 'What is your current yearly compensation (approximate $USD)?',\n",
    "'Q10': 'Does your current employer incorporate machine learning methods into their business?',\n",
    "'Q11': 'Select any activities that make up an important part of your role at work',\n",
    "'Q12': 'What is the primary tool that you use at work or school to analyze data?',\n",
    "'Q13': 'Which of the following integrated development environments (IDEs) have you used at work or school in the last 5 years?',\n",
    "'Q14': 'Which of the following hosted notebooks have you used at work or school in the last 5 years?',\n",
    "'Q15': 'Which of the following cloud computing services have you used at work or school in the last 5 years?',\n",
    "'Q16': 'What programming languages do you use on a regular basis?',\n",
    "'Q17': 'What specific programming language do you use most often?',\n",
    "'Q18': 'What programming language would you recommend an aspiring data scientist to learn first?',\n",
    "'Q19': 'What machine learning frameworks have you used in the past 5 years?',\n",
    "'Q20': 'Of the choices that you selected in the previous question, which ML library have you used the most?',\n",
    "'Q21': 'What data visualization libraries or tools have you used in the past 5 years?',\n",
    "'Q22': 'Of the choices that you selected in the previous question, which specific data visualization library or tool have you used the most?',\n",
    "'Q23': 'Approximately what percent of your time at work or school is spent actively coding?',\n",
    "'Q24': 'How long have you been writing code to analyze data?',\n",
    "'Q25': 'For how many years have you used machine learning methods (at work or in school)?',\n",
    "'Q26': 'Do you consider yourself to be a data scientist?',\n",
    "'Q27': 'Which of the following cloud computing products have you used at work or school in the last 5 years?',\n",
    "'Q28': 'Which of the following machine learning products have you used at work or school in the last 5 years?',\n",
    "'Q29': 'Which of the following relational database products have you used at work or school in the last 5 years?',\n",
    "'Q30': 'Which of the following big data and analytics products have you used at work or school in the last 5 years?',\n",
    "'Q31': 'Which types of data do you currently interact with most often at work or school?',\n",
    "'Q32': 'What is the type of data that you currently interact with most often at work or school? ',\n",
    "'Q33': 'Where do you find public datasets?',\n",
    "'Q34': 'During a typical data science project at work or school, approximately what proportion of your time is devoted to the following?',\n",
    "'Q35': 'What percentage of your current machine learning/data science training falls under each category?',\n",
    "'Q36': 'On which online platforms have you begun or completed data science courses?',\n",
    "'Q37': 'On which online platform have you spent the most amount of time?',\n",
    "'Q38': 'Who/what are your favorite media sources that report on data science topics?',\n",
    "'Q39': 'How do you perceive the quality of online learning platforms and in-person bootcamps as compared to the quality of the education provided by traditional brick and mortar institutions?',\n",
    "'Q40': 'Which better demonstrates expertise in data science: academic achievements or independent projects? ',\n",
    "'Q41': 'How do you perceive the importance of the following topics?',\n",
    "'Q42': 'What metrics do you or your organization use to determine whether or not your models were successful?',\n",
    "'Q43': 'Approximately what percent of your data projects involved exploring unfair bias in the dataset and/or algorithm?',\n",
    "'Q44': 'What do you find most difficult about ensuring that your algorithms are fair and unbiased? ',\n",
    "'Q45': 'In what circumstances would you explore model insights and interpret your models predictions?',\n",
    "'Q46': 'Approximately what percent of your data projects involve exploring model insights?',\n",
    "'Q47': 'What methods do you prefer for explaining and/or interpreting decisions that are made by ML models?',\n",
    "'Q48': 'Do you consider ML models to be \"black boxes\" with outputs that are difficult or impossible to explain?',\n",
    "'Q49': 'What tools and methods do you use to make your work easy to reproduce?',\n",
    "'Q50': 'What barriers prevent you from making your work even easier to reuse and reproduce?',\n",
    "'top7_job_title': 'Select the title most similar to your current role (or most recent title if retired)',\n",
    "'job_title_student': 'Select the title most similar to your current role (or most recent title if retired)',\n",
    "'top10_country': 'In which country do you currently reside?',\n",
    "'age': 'What is your age (# years)?',\n",
    "'gender-Male': 'What is your gender?',\n",
    "'top2_education_level': 'What is the highest level of formal education that you have attained or plan to attain within the next 2 years?',\n",
    "'top5_industries': 'In what industry is your current employer/contract (or your most recent employer if retired)?',\n",
    "'industry_student': 'In what industry is your current employer/contract (or your most recent employer if retired)?',\n",
    "'years_experience': 'How many years of experience do you have in your current role?'}"
   ]
  },
  {
   "cell_type": "markdown",
   "metadata": {
    "_uuid": "4d018105aff8ae232fd5d1532fd96980041a1e13"
   },
   "source": [
    "## The selected questions are:\n",
    "* Q1. What is your gender?\n",
    "* Q2. What is your age (# years)?\n",
    "* Q3. In which country do you currently reside?\n",
    "* Q4. What is the highest level of formal education that you have attained or plan to attain within the next 2 years?\n",
    "* Q6. Select the title most similar to your current role (or most recent title if retired)\n",
    "* Q7. In what industry is your current employer/contract (or your most recent employer if retired)?\n",
    "* Q8. How many years of experience do you have in your current role?\n",
    "* Q10. Does your current employer incorporate machine learning methods into their business?\n",
    "* Q11. Select any activities that make up an important part of your role at work\n",
    "* Q15. Which of the following cloud computing services have you used at work or school in the last 5 years?\n",
    "* Q16. What programming languages do you use on a regular basis?\n",
    "* Q17. What specific programming language do you use most often?\n",
    "* Q18. What programming language would you recommend an aspiring data scientist to learn first?\n",
    "* Q19. What machine learning frameworks have you used in the past 5 years?\n",
    "* Q21 What data visualization libraries or tools have you used in the past 5 years?\n",
    "* Q23. Approximately what percent of your time at work or school is spent actively coding?\n",
    "* Q24. How long have you been writing code to analyze data?\n",
    "* Q26. Do you consider yourself to be a data scientist?\n",
    "* Q29. Which of the following relational database products have you used at work or school in the last 5 years?\n",
    "* Q30. Which of the following big data and analytics products have you used at work or school in the last 5 years?\n",
    "* Q31. Which types of data do you currently interact with most often at work or school?\n",
    "* Q36. On which online platforms have you begun or completed data science courses?\n",
    "* Q38. Who/what are your favorite media sources that report on data science topics?\n",
    "* Q40. Which better demonstrates expertise in data science: academic achievements or independent projects? \n",
    "* Q42. What metrics do you or your organization use to determine whether or not your models were successful?\n",
    "* Q47. What methods do you prefer for explaining and/or interpreting decisions that are made by ML models?\n",
    "* Q48. Do you consider ML models to be \"black boxes\" with outputs that are difficult or impossible to explain?\n",
    "* Q49. What tools and methods do you use to make your work easy to reproduce?"
   ]
  },
  {
   "cell_type": "markdown",
   "metadata": {
    "_kg_hide-input": true,
    "_uuid": "9c40cf946d59f1116a84cb7c2a08a6f8548f77b4"
   },
   "source": [
    "## Reducing Answers Dimensions\n",
    "Some answers have multiple choices, to avoid overfitting we will drop all answers that had less than 5% of respondents. I'm doing this because we could have some answers with just a few respondents biasing the model towards the Top20%. One example below:\n",
    "\n",
    "1. On average we expect each answer to have around 80% of the respondents from the Bottom 80% and the rest from the Top 20%. \n",
    "2. Let's say we get an answer that has only 10 respondents, and 4 of them are in the Top 20%. This makes this answer very strong towards the top 20%.\n",
    "3. Our model will probably consider this feature very important (because the odds of belonging to the Top 20% is much greater to who ansered that question, odds are 40% in fact).\n",
    "4. But... A question with only 10 respondents is not representative of the whole population, so our model will be overfitted.\n",
    "5. Dropping answers that have less than 5% of respondents will avoid this kind of overfitting, because we know that each answer represents at least 5% of our population. \n",
    "6. It's better to have a slightly underfitted than a overfitted model.\n",
    "\n",
    "*Why 5%? Because it's round and because I want it to be 5%. Could be 10%, 15%, 20%... Try it out and see how the results change.*"
   ]
  },
  {
   "cell_type": "code",
   "execution_count": 27,
   "metadata": {
    "_kg_hide-input": true,
    "_uuid": "cd90760ac5fe0a6d95372a74deecd92e2340c082"
   },
   "outputs": [],
   "source": [
    "def normalize_labels(full_label):\n",
    "    \"\"\"\n",
    "    treat labels for new column names\n",
    "    \"\"\"\n",
    "    try:\n",
    "        label = full_label.split('<>')[1] # split and get second item\n",
    "    except IndexError:\n",
    "        label = full_label.split('<>')[0] # split and get first item\n",
    "\n",
    "    return label\n",
    "\n",
    "def treat_data(data, idx, tresh):\n",
    "    \"\"\"\n",
    "    Clean and get dumies for columns\n",
    "    \"\"\" \n",
    "    # get dummies with a distinct separator\n",
    "    result = pd.get_dummies(data, prefix_sep='<>', drop_first=False)\n",
    "    # gets and normalize dummies names\n",
    "    cols = [normalize_labels(str(x)) for x in result.columns]\n",
    "    \n",
    "    # build columns labels with questions\n",
    "    try:\n",
    "        Qtext = mcQ['Q{}'.format(idx)]\n",
    "    except KeyError:\n",
    "        try:\n",
    "            Qtext = mcQ['Q{}_Part_1'.format(idx)]\n",
    "        except KeyError:\n",
    "            Qtext = mcQ['Q{}_MULTIPLE_CHOICE'.format(idx)]\n",
    "            \n",
    "    # Build new columns names\n",
    "    prefix = 'Q{}-'.format(idx)\n",
    "    result.columns = [prefix + x for x in cols]\n",
    "    \n",
    "    # dropping columns that had less than 10% of answers to avoid overfitting\n",
    "    percent_answer = result.sum() / result.shape[0]\n",
    "    for row in percent_answer.iteritems():\n",
    "        if row[1] < tresh:\n",
    "            result = result.drop(row[0], axis=1)\n",
    "        \n",
    "    return result"
   ]
  },
  {
   "cell_type": "code",
   "execution_count": 28,
   "metadata": {
    "_kg_hide-input": true,
    "_uuid": "a917e8a2ea57f52af8ecf7116390171f5dbee227"
   },
   "outputs": [
    {
     "data": {
      "text/html": [
       "<div>\n",
       "<style scoped>\n",
       "    .dataframe tbody tr th:only-of-type {\n",
       "        vertical-align: middle;\n",
       "    }\n",
       "\n",
       "    .dataframe tbody tr th {\n",
       "        vertical-align: top;\n",
       "    }\n",
       "\n",
       "    .dataframe thead th {\n",
       "        text-align: right;\n",
       "    }\n",
       "</style>\n",
       "<table border=\"1\" class=\"dataframe\">\n",
       "  <thead>\n",
       "    <tr style=\"text-align: right;\">\n",
       "      <th></th>\n",
       "      <th>top20</th>\n",
       "      <th>Q1-Female</th>\n",
       "      <th>Q1-Male</th>\n",
       "      <th>Q2-18-21</th>\n",
       "      <th>Q2-22-24</th>\n",
       "      <th>Q2-25-29</th>\n",
       "      <th>Q2-30-34</th>\n",
       "      <th>Q2-35-39</th>\n",
       "      <th>Q2-40-44</th>\n",
       "      <th>Q3-China</th>\n",
       "      <th>...</th>\n",
       "      <th>Q49-Share code on Github or a similar code-sharing repository</th>\n",
       "      <th>Q49-Share both data and code on Github or a similar code-sharing repository</th>\n",
       "      <th>Q49-Share data, code, and environment using a hosted service (Kaggle Kernels, Google Colaboratory, Amazon SageMaker, etc.)</th>\n",
       "      <th>Q49-Share data, code, and environment using containers (Docker, etc.)</th>\n",
       "      <th>Q49-Share code, data, and environment using virtual machines (VirtualBox, etc.)</th>\n",
       "      <th>Q49-Make sure the code is well documented</th>\n",
       "      <th>Q49-Make sure the code is human-readable</th>\n",
       "      <th>Q49-Define all random seeds</th>\n",
       "      <th>Q49-Define relative rather than absolute file paths</th>\n",
       "      <th>Q49-Include a text file describing all dependencies</th>\n",
       "    </tr>\n",
       "  </thead>\n",
       "  <tbody>\n",
       "    <tr>\n",
       "      <th>0</th>\n",
       "      <td>0</td>\n",
       "      <td>0</td>\n",
       "      <td>1</td>\n",
       "      <td>0</td>\n",
       "      <td>0</td>\n",
       "      <td>0</td>\n",
       "      <td>1</td>\n",
       "      <td>0</td>\n",
       "      <td>0</td>\n",
       "      <td>0</td>\n",
       "      <td>...</td>\n",
       "      <td>0</td>\n",
       "      <td>0</td>\n",
       "      <td>0</td>\n",
       "      <td>0</td>\n",
       "      <td>0</td>\n",
       "      <td>0</td>\n",
       "      <td>0</td>\n",
       "      <td>0</td>\n",
       "      <td>0</td>\n",
       "      <td>0</td>\n",
       "    </tr>\n",
       "    <tr>\n",
       "      <th>1</th>\n",
       "      <td>0</td>\n",
       "      <td>1</td>\n",
       "      <td>0</td>\n",
       "      <td>0</td>\n",
       "      <td>0</td>\n",
       "      <td>0</td>\n",
       "      <td>1</td>\n",
       "      <td>0</td>\n",
       "      <td>0</td>\n",
       "      <td>0</td>\n",
       "      <td>...</td>\n",
       "      <td>0</td>\n",
       "      <td>0</td>\n",
       "      <td>0</td>\n",
       "      <td>0</td>\n",
       "      <td>0</td>\n",
       "      <td>0</td>\n",
       "      <td>1</td>\n",
       "      <td>1</td>\n",
       "      <td>0</td>\n",
       "      <td>1</td>\n",
       "    </tr>\n",
       "    <tr>\n",
       "      <th>2</th>\n",
       "      <td>0</td>\n",
       "      <td>0</td>\n",
       "      <td>1</td>\n",
       "      <td>0</td>\n",
       "      <td>1</td>\n",
       "      <td>0</td>\n",
       "      <td>0</td>\n",
       "      <td>0</td>\n",
       "      <td>0</td>\n",
       "      <td>0</td>\n",
       "      <td>...</td>\n",
       "      <td>0</td>\n",
       "      <td>0</td>\n",
       "      <td>0</td>\n",
       "      <td>0</td>\n",
       "      <td>0</td>\n",
       "      <td>0</td>\n",
       "      <td>0</td>\n",
       "      <td>0</td>\n",
       "      <td>1</td>\n",
       "      <td>0</td>\n",
       "    </tr>\n",
       "    <tr>\n",
       "      <th>3</th>\n",
       "      <td>0</td>\n",
       "      <td>0</td>\n",
       "      <td>1</td>\n",
       "      <td>0</td>\n",
       "      <td>0</td>\n",
       "      <td>0</td>\n",
       "      <td>0</td>\n",
       "      <td>1</td>\n",
       "      <td>0</td>\n",
       "      <td>0</td>\n",
       "      <td>...</td>\n",
       "      <td>1</td>\n",
       "      <td>0</td>\n",
       "      <td>1</td>\n",
       "      <td>1</td>\n",
       "      <td>1</td>\n",
       "      <td>0</td>\n",
       "      <td>0</td>\n",
       "      <td>1</td>\n",
       "      <td>0</td>\n",
       "      <td>0</td>\n",
       "    </tr>\n",
       "    <tr>\n",
       "      <th>4</th>\n",
       "      <td>0</td>\n",
       "      <td>0</td>\n",
       "      <td>1</td>\n",
       "      <td>1</td>\n",
       "      <td>0</td>\n",
       "      <td>0</td>\n",
       "      <td>0</td>\n",
       "      <td>0</td>\n",
       "      <td>0</td>\n",
       "      <td>0</td>\n",
       "      <td>...</td>\n",
       "      <td>0</td>\n",
       "      <td>1</td>\n",
       "      <td>0</td>\n",
       "      <td>0</td>\n",
       "      <td>0</td>\n",
       "      <td>1</td>\n",
       "      <td>1</td>\n",
       "      <td>0</td>\n",
       "      <td>1</td>\n",
       "      <td>0</td>\n",
       "    </tr>\n",
       "  </tbody>\n",
       "</table>\n",
       "<p>5 rows × 186 columns</p>\n",
       "</div>"
      ],
      "text/plain": [
       "   top20  Q1-Female  Q1-Male  Q2-18-21  Q2-22-24  Q2-25-29  Q2-30-34  \\\n",
       "0      0          0        1         0         0         0         1   \n",
       "1      0          1        0         0         0         0         1   \n",
       "2      0          0        1         0         1         0         0   \n",
       "3      0          0        1         0         0         0         0   \n",
       "4      0          0        1         1         0         0         0   \n",
       "\n",
       "   Q2-35-39  Q2-40-44  Q3-China  ...  \\\n",
       "0         0         0         0  ...   \n",
       "1         0         0         0  ...   \n",
       "2         0         0         0  ...   \n",
       "3         1         0         0  ...   \n",
       "4         0         0         0  ...   \n",
       "\n",
       "   Q49-Share code on Github or a similar code-sharing repository  \\\n",
       "0                                                  0               \n",
       "1                                                  0               \n",
       "2                                                  0               \n",
       "3                                                  1               \n",
       "4                                                  0               \n",
       "\n",
       "   Q49-Share both data and code on Github or a similar code-sharing repository  \\\n",
       "0                                                  0                             \n",
       "1                                                  0                             \n",
       "2                                                  0                             \n",
       "3                                                  0                             \n",
       "4                                                  1                             \n",
       "\n",
       "   Q49-Share data, code, and environment using a hosted service (Kaggle Kernels, Google Colaboratory, Amazon SageMaker, etc.)  \\\n",
       "0                                                  0                                                                            \n",
       "1                                                  0                                                                            \n",
       "2                                                  0                                                                            \n",
       "3                                                  1                                                                            \n",
       "4                                                  0                                                                            \n",
       "\n",
       "   Q49-Share data, code, and environment using containers (Docker, etc.)  \\\n",
       "0                                                  0                       \n",
       "1                                                  0                       \n",
       "2                                                  0                       \n",
       "3                                                  1                       \n",
       "4                                                  0                       \n",
       "\n",
       "   Q49-Share code, data, and environment using virtual machines (VirtualBox, etc.)  \\\n",
       "0                                                  0                                 \n",
       "1                                                  0                                 \n",
       "2                                                  0                                 \n",
       "3                                                  1                                 \n",
       "4                                                  0                                 \n",
       "\n",
       "   Q49-Make sure the code is well documented  \\\n",
       "0                                          0   \n",
       "1                                          0   \n",
       "2                                          0   \n",
       "3                                          0   \n",
       "4                                          1   \n",
       "\n",
       "   Q49-Make sure the code is human-readable  Q49-Define all random seeds  \\\n",
       "0                                         0                            0   \n",
       "1                                         1                            1   \n",
       "2                                         0                            0   \n",
       "3                                         0                            1   \n",
       "4                                         1                            0   \n",
       "\n",
       "   Q49-Define relative rather than absolute file paths  \\\n",
       "0                                                  0     \n",
       "1                                                  0     \n",
       "2                                                  1     \n",
       "3                                                  0     \n",
       "4                                                  1     \n",
       "\n",
       "   Q49-Include a text file describing all dependencies  \n",
       "0                                                  0    \n",
       "1                                                  1    \n",
       "2                                                  0    \n",
       "3                                                  0    \n",
       "4                                                  0    \n",
       "\n",
       "[5 rows x 186 columns]"
      ]
     },
     "execution_count": 28,
     "metadata": {},
     "output_type": "execute_result"
    }
   ],
   "source": [
    "# selecting the questions\n",
    "selected_questions = [1, 2, 3, 4, 6, 7, 8, 10, 11, 15, 16, 17, 18, 19, 21, 23, 24, 25, 26, 29, 31, 36, 38, 40, 42, 47, 48, 49]\n",
    "treated_data = {}\n",
    "\n",
    "# Formatting all answers from the selected questions, dropping answers with less than 5%\n",
    "for sq in selected_questions:\n",
    "    treated_data['Q{}'.format(sq)] = treat_data(answers['Q{}'.format(sq)], sq, 0.05)   \n",
    "# Done! Now we are able to rebuild a much cleaner dataset!\n",
    "\n",
    "# Define target variable\n",
    "compensation = mcA.Q9.str.replace(',', '').str.replace('500000\\+', '500-500000').str.split('-')\n",
    "mcA['yearly_compensation_numerical'] = compensation.apply(lambda x: (int(x[0]) * 1000 + int(x[1]))/ 2) / 1000 # it is calculated in thousand dollars\n",
    "clean_dataset = (mcA.yearly_compensation_numerical > 100).reset_index().astype(int)\n",
    "clean_dataset.columns = ['index', 'top20']\n",
    "\n",
    "# Join with treated questions\n",
    "for key, value in treated_data.items():\n",
    "    value = value.reset_index(drop=True)\n",
    "    clean_dataset = clean_dataset.join(value, how='left')\n",
    "\n",
    "clean_dataset = clean_dataset.drop('index', axis=1)\n",
    "\n",
    "# saving back to csv so others may use it\n",
    "clean_dataset.to_csv('clean_dataset.csv')\n",
    "\n",
    "clean_dataset.head()"
   ]
  },
  {
   "cell_type": "code",
   "execution_count": 29,
   "metadata": {
    "_kg_hide-input": true,
    "_uuid": "aef1dce35974cd26f1c8581dba2eeccefae133f8"
   },
   "outputs": [
    {
     "name": "stdout",
     "output_type": "stream",
     "text": [
      "Our cleaned dataset has 12956 records and 186 features\n"
     ]
    }
   ],
   "source": [
    "shape = clean_dataset.shape\n",
    "print('Our cleaned dataset has {} records and {} features'.format(shape[0], shape[1]))"
   ]
  },
  {
   "cell_type": "markdown",
   "metadata": {
    "_uuid": "055550cf47419999bfefda00dd5e1b49322f18b9"
   },
   "source": [
    "##  Finding Correlation Between Features\n",
    "Let's identify all features that have correlation higher than ```abs(±0.5)``` and drop them from the dataset. "
   ]
  },
  {
   "cell_type": "code",
   "execution_count": 30,
   "metadata": {
    "_kg_hide-input": true,
    "_uuid": "8a56a18f899f9ae8b64c1fa4d7d776c9d185fe6b"
   },
   "outputs": [
    {
     "name": "stdout",
     "output_type": "stream",
     "text": [
      "After dropping highly correlated features, our has 12956 records and 171 features\n",
      "Dropped features:  ['Q1-Male', 'Q4-Master’s degree', 'Q7-I am a student', 'Q15-I have not used any cloud providers', 'Q18-R', 'Q19-Scikit-Learn', 'Q19-Keras', 'Q19-None', 'Q21-ggplot2', 'Q21-Matplotlib', 'Q25-I have never studied machine learning but plan to learn in the future', 'Q29-MySQL', 'Q36-Fast.AI', 'Q47-Examine feature importances', 'Q49-Make sure the code is human-readable']\n"
     ]
    }
   ],
   "source": [
    "# Create correlation matrix\n",
    "correl = clean_dataset.corr().abs()\n",
    "\n",
    "# Select upper triangle of correlation matrix\n",
    "upper = correl.where(np.triu(np.ones(correl.shape), k=1).astype(np.bool))\n",
    "\n",
    "# Find index of feature columns with correlation greater than 0.5\n",
    "to_drop = [column for column in upper.columns if any(upper[column] > 0.5)]\n",
    "\n",
    "# Drop features \n",
    "clean_dataset_dropped = clean_dataset.drop(to_drop, axis=1)\n",
    "\n",
    "shape = clean_dataset_dropped.shape\n",
    "print('After dropping highly correlated features, our has {} records and {} features'.format(shape[0], shape[1]))\n",
    "print('Dropped features: ', to_drop)"
   ]
  },
  {
   "cell_type": "markdown",
   "metadata": {
    "_uuid": "0dcd016667f75ebe98bf540db077ee908d1fb284"
   },
   "source": [
    "## Dealing With Missing Data\n",
    "As result of dataset cleaning we are left with no questions with NaNs."
   ]
  },
  {
   "cell_type": "code",
   "execution_count": 31,
   "metadata": {
    "_kg_hide-input": true,
    "_uuid": "c5aba49d1fcb22af4a7e3e6f10fb9731728f96d9"
   },
   "outputs": [
    {
     "name": "stdout",
     "output_type": "stream",
     "text": [
      "We found 0 NaNs on the dataset after treatment\n"
     ]
    }
   ],
   "source": [
    "# Finding NANs\n",
    "df = clean_dataset_dropped.isnull().sum().to_frame()\n",
    "print('We found {} NaNs on the dataset after treatment'.format(df[df[0] > 0].shape[0]))"
   ]
  },
  {
   "cell_type": "markdown",
   "metadata": {
    "_uuid": "11ac6c8d67bac714c15dc8c7b751257bb1404426"
   },
   "source": [
    "## Spliting Into Train and Test Data"
   ]
  },
  {
   "cell_type": "code",
   "execution_count": 32,
   "metadata": {
    "_kg_hide-input": true,
    "_uuid": "b10b0bbc0ab40910f19e16eb9613496068c4e712"
   },
   "outputs": [
    {
     "name": "stdout",
     "output_type": "stream",
     "text": [
      "Train Shape: (10364, 171)\n",
      "Test Shape: (2592, 171)\n"
     ]
    }
   ],
   "source": [
    "from sklearn.model_selection import train_test_split\n",
    "\n",
    "train, test = train_test_split(clean_dataset_dropped, test_size=0.2, random_state=42)\n",
    "print('Train Shape:', train.shape)\n",
    "print('Test Shape:', test.shape)"
   ]
  },
  {
   "cell_type": "markdown",
   "metadata": {
    "_uuid": "9770b0fd1cc95659924c0a80827e9ca81cfc4edb"
   },
   "source": [
    "## Fitting the Model\n",
    "We want to draw some conclusions on the data, so let's try a Random Forest and a Logistic Regression."
   ]
  },
  {
   "cell_type": "code",
   "execution_count": 33,
   "metadata": {
    "_kg_hide-input": true,
    "_uuid": "a77bc8449f25261ee52bcd6ab0d13aee909cef53"
   },
   "outputs": [],
   "source": [
    "# Separating X,y train and test sets\n",
    "ytrain = train['top20'].copy()\n",
    "Xtrain = train.drop(['top20'], axis=1).copy() # removing both target variables from features\n",
    "\n",
    "ytest = test['top20'].copy()\n",
    "Xtest = test.drop(['top20'], axis=1).copy() # removing both target variables from features"
   ]
  },
  {
   "cell_type": "code",
   "execution_count": 34,
   "metadata": {
    "_kg_hide-input": true,
    "_kg_hide-output": true,
    "_uuid": "04a0990d887d89b6c063c87562238569b474fc9a"
   },
   "outputs": [],
   "source": [
    "# Helper function to help evaluating the model\n",
    "from sklearn.metrics import roc_auc_score\n",
    "from sklearn.metrics import accuracy_score\n",
    "from sklearn.metrics import confusion_matrix\n",
    "\n",
    "def display_scores(predictor, X, y):\n",
    "    \"\"\"\n",
    "    Calculates metrics and display it\n",
    "    \"\"\"\n",
    "    print('\\n### -- ### -- ' + str(type(predictor)).split('.')[-1][:-2] + ' -- ### -- ###')\n",
    "    # Getting the predicted values\n",
    "    ypred = predictor.predict(X)\n",
    "    ypred_score = predictor.predict_proba(X)\n",
    "    \n",
    "    # calculating metrics\n",
    "    accuracy = accuracy_score(y, ypred)\n",
    "    roc = roc_auc_score(y, pd.DataFrame(ypred_score)[1])\n",
    "    confusion = confusion_matrix(y, ypred)\n",
    "    \n",
    "    print('Confusion Matrix: ', confusion)\n",
    "    print('Accuracy: ', accuracy)\n",
    "    print('AUC: ', roc)\n",
    "    \n",
    "    type1_error = confusion[0][1] / confusion[0].sum() # False Positive - model predicted in top 20%, while it wasn't\n",
    "    type2_error = confusion[1][0] / confusion[1].sum() # False Negative - model predicted out of top 20%, while it was\n",
    "    \n",
    "    print('Type 1 error: ', type1_error)\n",
    "    print('Type 2 error: ', type2_error)"
   ]
  },
  {
   "cell_type": "code",
   "execution_count": 35,
   "metadata": {
    "_kg_hide-input": true,
    "_uuid": "66d32994bbfefc5ddaf9ff0a4be2277af0358da5"
   },
   "outputs": [
    {
     "name": "stdout",
     "output_type": "stream",
     "text": [
      "\n",
      "### -- ### -- RandomForestClassifier -- ### -- ###\n",
      "Confusion Matrix:  [[8816    0]\n",
      " [   0 1548]]\n",
      "Accuracy:  1.0\n",
      "AUC:  1.0\n",
      "Type 1 error:  0.0\n",
      "Type 2 error:  0.0\n",
      "\n",
      "### -- ### -- LogisticRegression -- ### -- ###\n",
      "Confusion Matrix:  [[8561  255]\n",
      " [ 683  865]]\n",
      "Accuracy:  0.9094944037051331\n",
      "AUC:  0.9204083953535269\n",
      "Type 1 error:  0.02892468239564428\n",
      "Type 2 error:  0.4412144702842377\n"
     ]
    }
   ],
   "source": [
    "from sklearn.ensemble import RandomForestClassifier\n",
    "from sklearn.linear_model import LogisticRegression\n",
    "\n",
    "rforest = RandomForestClassifier(n_estimators=100, random_state=42)\n",
    "lreg = LogisticRegression(solver='liblinear', random_state=42)\n",
    "\n",
    "# Fit the models\n",
    "rforest.fit(Xtrain, ytrain)\n",
    "lreg.fit(Xtrain, ytrain)\n",
    "\n",
    "# Check some metrics\n",
    "display_scores(rforest, Xtrain, ytrain)\n",
    "display_scores(lreg, Xtrain, ytrain)"
   ]
  },
  {
   "cell_type": "markdown",
   "metadata": {
    "_uuid": "1b50a31a46a3248dbf2add561bf3778e6968f2fb"
   },
   "source": [
    "A Random Forest model with 100% accuracy and AUC is definetly overfitted. Probably due to imbalanced classes. LogReg has better results, but still might be overfitted.\n",
    "\n",
    "After a 5-fold cross validation, we see that the real accuracy is around 88% for Random Forest and 90% for Logistic Regression."
   ]
  },
  {
   "cell_type": "code",
   "execution_count": 36,
   "metadata": {
    "_kg_hide-input": true,
    "_uuid": "f83d6bf58f36931a465c8994d0576993bcc93032"
   },
   "outputs": [
    {
     "name": "stdout",
     "output_type": "stream",
     "text": [
      "### -- ### -- RandomForestClassifier -- ### -- ###\n",
      "Mean AUC score after a 5-fold cross validation:  0.8904011075121188\n",
      "AUC score of each fold:  [0.88536683 0.90098805 0.9044197  0.88205967 0.87917128]\n",
      "\n",
      " ----------------------------- \n",
      "\n",
      "### -- ### -- LogisticRegression -- ### -- ###\n",
      "Mean AUC score after a 5-fold cross validation:  0.9070467565363508\n",
      "AUC score of each fold:  [0.89975313 0.92629682 0.91664684 0.89369767 0.89883932]\n"
     ]
    }
   ],
   "source": [
    "from sklearn.model_selection import cross_val_score\n",
    "\n",
    "def do_cv(predictor, X, y, cv):\n",
    "    \"\"\"\n",
    "    Executes cross validation and display scores\n",
    "    \"\"\"\n",
    "    print('### -- ### -- ' + str(type(predictor)).split('.')[-1][:-2] + ' -- ### -- ###')\n",
    "    cv_score = cross_val_score(predictor, X, y, scoring='roc_auc', cv=5)\n",
    "    print ('Mean AUC score after a 5-fold cross validation: ', cv_score.mean())\n",
    "    print ('AUC score of each fold: ', cv_score)\n",
    "    \n",
    "do_cv(rforest, Xtrain, ytrain, 5)\n",
    "print('\\n ----------------------------- \\n')\n",
    "do_cv(lreg, Xtrain, ytrain, 5)"
   ]
  },
  {
   "cell_type": "markdown",
   "metadata": {
    "_uuid": "0fc29ac1a3011503f8b42e4434c6f248d22b7a7a"
   },
   "source": [
    "## Undersampling \n",
    "The classes are imbalanced and it's impacting our model. We defined the ```top20``` target variable in a way that we have about 80% of our sample at class 0, and 20% at class 1. Let's fix that."
   ]
  },
  {
   "cell_type": "code",
   "execution_count": 37,
   "metadata": {
    "_kg_hide-input": true,
    "_uuid": "80bcc9c61d13d53c7cac2e99a0db4d2c39bbd0af"
   },
   "outputs": [
    {
     "name": "stdout",
     "output_type": "stream",
     "text": [
      "Quantity of samples on each class BEFORE undersampling:  [(0, 8816), (1, 1548)]\n",
      "Quantity of samples on each class AFTER undersampling:  [(0, 1548), (1, 1548)]\n"
     ]
    }
   ],
   "source": [
    "from collections import Counter\n",
    "from imblearn.under_sampling import RandomUnderSampler\n",
    "\n",
    "print('Quantity of samples on each class BEFORE undersampling: ', sorted(Counter(ytrain).items()))\n",
    "rus = RandomUnderSampler(random_state=42)\n",
    "X_resampled, y_resampled = rus.fit_resample(Xtrain, ytrain)\n",
    "print('Quantity of samples on each class AFTER undersampling: ', sorted(Counter(y_resampled).items()))"
   ]
  },
  {
   "cell_type": "markdown",
   "metadata": {
    "_uuid": "a1db5285b3ca219fb93e3cf017b91c98586e42b5"
   },
   "source": [
    "Doing the crossvalidation again, we see that the mean AUC Score stays in 88% for Random Forest and 90% for the Logistic Regression model, but we had differences in the confusion matrices and reduction of type 2 error for LogReg. We are selecting Logistic Regression to continue this study because we had better score and can draw more conclusions from the model coeficients. "
   ]
  },
  {
   "cell_type": "code",
   "execution_count": 38,
   "metadata": {
    "_kg_hide-input": true,
    "_uuid": "785f9df5dc568281e417a363ffb089c70daa53be"
   },
   "outputs": [
    {
     "name": "stdout",
     "output_type": "stream",
     "text": [
      "### -- ### -- RandomForestClassifier -- ### -- ###\n",
      "Mean AUC score after a 5-fold cross validation:  0.8904011075121188\n",
      "AUC score of each fold:  [0.88536683 0.90098805 0.9044197  0.88205967 0.87917128]\n",
      "\n",
      "### -- ### -- RandomForestClassifier -- ### -- ###\n",
      "Confusion Matrix:  [[7440 1376]\n",
      " [   0 1548]]\n",
      "Accuracy:  0.8672327286761868\n",
      "AUC:  0.9960671693936793\n",
      "Type 1 error:  0.1560798548094374\n",
      "Type 2 error:  0.0\n",
      "\n",
      " ----------------------------- \n",
      "\n",
      "### -- ### -- LogisticRegression -- ### -- ###\n",
      "Mean AUC score after a 5-fold cross validation:  0.9070467565363508\n",
      "AUC score of each fold:  [0.89975313 0.92629682 0.91664684 0.89369767 0.89883932]\n",
      "\n",
      "### -- ### -- LogisticRegression -- ### -- ###\n",
      "Confusion Matrix:  [[7297 1519]\n",
      " [ 230 1318]]\n",
      "Accuracy:  0.8312427634118101\n",
      "AUC:  0.9162986782312639\n",
      "Type 1 error:  0.17230036297640652\n",
      "Type 2 error:  0.14857881136950904\n"
     ]
    }
   ],
   "source": [
    "# refit the model\n",
    "rforest.fit(X_resampled, y_resampled)\n",
    "lreg.fit(X_resampled, y_resampled)\n",
    "\n",
    "# do Cross Validation\n",
    "do_cv(rforest, Xtrain, ytrain, 5)\n",
    "display_scores(rforest, Xtrain, ytrain)\n",
    "print('\\n ----------------------------- \\n')\n",
    "do_cv(lreg, Xtrain, ytrain, 5)\n",
    "display_scores(lreg, Xtrain, ytrain)"
   ]
  },
  {
   "cell_type": "markdown",
   "metadata": {
    "_uuid": "de5c33bd1a86c64017d319774bdac2994b0463b1"
   },
   "source": [
    "## Validating the Model on the Test Data\n",
    "Now we finally test the model on the test dataset! We see that the Accuracy is around 81% and AUC is now 89%. It is a quite good prediction model."
   ]
  },
  {
   "cell_type": "code",
   "execution_count": 39,
   "metadata": {
    "_kg_hide-input": true,
    "_uuid": "41b10d105a2263d5cb21db0ea94c00b48b5a0398"
   },
   "outputs": [
    {
     "name": "stdout",
     "output_type": "stream",
     "text": [
      "\n",
      "### -- ### -- LogisticRegression -- ### -- ###\n",
      "Confusion Matrix:  [[1806  422]\n",
      " [  59  305]]\n",
      "Accuracy:  0.814429012345679\n",
      "AUC:  0.8926956122871743\n",
      "Type 1 error:  0.18940754039497307\n",
      "Type 2 error:  0.1620879120879121\n"
     ]
    }
   ],
   "source": [
    "display_scores(lreg, Xtest, ytest)"
   ]
  },
  {
   "cell_type": "markdown",
   "metadata": {
    "_uuid": "2b3dc238aab066c7e96b6689de23d1094aee4d49"
   },
   "source": [
    "Let's see how scores for both Top20% and Bottom 80% are distributed in test data?"
   ]
  },
  {
   "cell_type": "code",
   "execution_count": 40,
   "metadata": {
    "_kg_hide-input": true,
    "_uuid": "4381542f33f1f653e553ae5d2987759dd1c6512d"
   },
   "outputs": [
    {
     "data": {
      "application/vnd.plotly.v1+json": {
       "config": {
        "linkText": "Export to plot.ly",
        "plotlyServerURL": "https://plot.ly",
        "responsive": true,
        "showLink": false
       },
       "data": [
        {
         "marker": {
          "color": "lightgray"
         },
         "name": "Bottom 80%",
         "opacity": 0.5,
         "type": "histogram",
         "uid": "615183e1-c0f0-43ee-8241-3a0971076514",
         "x": [
          0.5994872011876192,
          0.11718456605658506,
          0.1065691649169762,
          0.12074423332486889,
          0.004640464609057245,
          0.005174349612034873,
          0.016698699062066787,
          0.1501685548040909,
          0.007308083854619649,
          0.5406988687468177,
          0.8162852254815683,
          0.13126066327027494,
          0.052062084499605255,
          0.011895880065277762,
          0.8468539670549466,
          0.8735191753092235,
          0.01123396669992178,
          0.07328879071625065,
          0.5016893494139092,
          0.025998458795668575,
          0.13890909082382003,
          0.639850480493799,
          0.1421296867618669,
          0.03334421222906891,
          0.29397897889390273,
          0.02690453609404978,
          0.6100300065790287,
          0.18468851385766216,
          0.08087579849297186,
          0.4693034586969928,
          0.9837380388180115,
          0.240913216361117,
          0.12028002124196499,
          0.2642059203171319,
          0.027371157086460454,
          0.15302164869678808,
          0.561455132889543,
          0.08111457287861494,
          0.34954137789017337,
          0.3612733935953358,
          0.011389893010204108,
          0.5595820854664646,
          0.9655954911556227,
          0.2678905877153243,
          0.8516218058211341,
          0.00724099708564478,
          0.03712455297746883,
          0.012742461623453941,
          0.25886379850578844,
          0.018775305526607288,
          0.771132396303489,
          0.15969035406086957,
          0.0018166454572760055,
          0.2288931656099544,
          0.012810254627273776,
          0.31806123589653973,
          0.5640433150862209,
          0.4687116124724311,
          0.02958916081855208,
          0.07847667288951367,
          0.29532197989592934,
          0.6883119237330341,
          0.4580643767257735,
          0.584998791185166,
          0.2828130547341075,
          0.5001832130947247,
          0.5346777152648594,
          0.2436421458906801,
          0.4341404915030657,
          0.19929701985453102,
          0.34704118853117627,
          0.3202430609899923,
          0.06823679138936524,
          0.746968465701391,
          0.030713434055004332,
          0.23568996810191287,
          0.5122926956574826,
          0.2611299868469585,
          0.8780949587587772,
          0.1215260731963131,
          0.0558703813514833,
          0.07305952555237802,
          0.0014804963554228806,
          0.17946608435586625,
          0.3055749883364027,
          0.2131370904398371,
          0.08508989141446124,
          0.07159381843164575,
          0.05718995532257973,
          0.01643279174762718,
          0.11387079814970578,
          0.09896287761012831,
          0.40708885880830226,
          0.007893228301614128,
          0.0068034054916742215,
          0.2380757105819021,
          0.03023116958977625,
          0.017139450923223224,
          0.3193352393206852,
          0.004673913187505887,
          0.505165184215542,
          0.31991849761726915,
          0.010766904970892483,
          0.383376743580507,
          0.03446537858927004,
          0.5343298471306802,
          0.03429497831181051,
          0.13888406951604504,
          0.002967534815513874,
          0.08766884962462874,
          0.015162635266542424,
          0.011363653807293234,
          0.15504873594762206,
          0.011625179611391976,
          0.03598187640823369,
          0.7395856724261981,
          0.8009073030333356,
          0.5728654014583668,
          0.2196065082930241,
          0.0068746709540877995,
          0.8340717036633748,
          0.22723390674994084,
          0.07926768040552463,
          0.6812749666560727,
          0.2074810513036202,
          0.04861110892604921,
          0.34995660017732205,
          0.6452184762477783,
          0.2552770097583151,
          0.12226135497019322,
          0.003169373727470017,
          0.15631160919978024,
          0.014351578604703963,
          0.2946344494356344,
          0.08677513497836739,
          0.03708298143831693,
          0.1436513389464804,
          0.008108032425032703,
          0.29443090442502307,
          0.0068194842527340505,
          0.010095566237539296,
          0.022343971031753354,
          0.06425011761161024,
          0.03542095261918635,
          0.4468787074377476,
          0.6073422256133506,
          0.14668723352432228,
          0.032953207631292544,
          0.5910434779989869,
          0.11576472756992962,
          0.12733083974165327,
          0.09661296254977329,
          0.08447698596676559,
          0.09952483705979016,
          0.05906895171416064,
          0.045807746794587,
          0.06056948445005786,
          0.02326884792394312,
          0.69153995445732,
          0.3501151378729143,
          0.00263462470201493,
          0.3099735075332467,
          0.1798690256811147,
          0.3003799298858484,
          0.3227015659669455,
          0.18955817912839001,
          0.40720806975906476,
          0.24862635410728576,
          0.029455929267963633,
          0.5243166391466383,
          0.6446557720964982,
          0.7401279597361926,
          0.0031420836328797737,
          0.3783192651019602,
          0.9682654903830257,
          0.044373597990934245,
          0.37382177529127986,
          0.16205170660170345,
          0.44973855711413196,
          0.022512668567543144,
          0.12469719780450703,
          0.015613621521390833,
          0.05240059875018153,
          0.09202992770183055,
          0.5772815752539091,
          0.030940432867616045,
          0.7034411104378444,
          0.18598293364203658,
          0.8576964539042862,
          0.08820245668828967,
          0.8499560657345254,
          0.004488846001134328,
          0.07980910515352714,
          0.07671367927324733,
          0.004737474280270257,
          0.5210424033823989,
          0.7760360048755329,
          0.06987028382222744,
          0.04084401849278901,
          0.013766581889225115,
          0.08722146109157612,
          0.4139447237469834,
          0.4362814433721937,
          0.03211472977811682,
          0.10428784785402066,
          0.11642277778324446,
          0.4399020347431963,
          0.032215962526564515,
          0.8298534625460254,
          0.05008062677029417,
          0.006073696119062275,
          0.1946528852317267,
          0.026965494033693523,
          0.025209998643262236,
          0.7968961311475915,
          0.05620499758886441,
          0.016491463033722103,
          0.15639416924260013,
          0.05195478595910721,
          0.323232697492117,
          0.5054377604699329,
          0.22806849862241876,
          0.16048983262489666,
          0.6236124393190404,
          0.2745775630697733,
          0.11271169470335626,
          0.5416276218949803,
          0.05717510076103733,
          0.015446574691614005,
          0.06898584087070864,
          0.2630012848489588,
          0.17059748257211182,
          0.014300143201685881,
          0.08141680418162166,
          0.3229503271896182,
          0.22650058494309575,
          0.015582153966079699,
          0.10708179284237745,
          0.5391633738655481,
          0.23427556573024325,
          0.47704667428658976,
          0.6657179281057645,
          0.8222689186509748,
          0.26555379716582256,
          0.05727838503717144,
          0.917657740165372,
          0.5017228866191042,
          0.7641282380893184,
          0.014350449938743369,
          0.14451297823456646,
          0.02835983945292037,
          0.12868505362345725,
          0.21046191704825584,
          0.015192913186501776,
          0.10899883881126704,
          0.36823258595641045,
          0.9110469957180232,
          0.5758150854287584,
          0.03245456947683159,
          0.24659118684186443,
          0.026794811633517754,
          0.40109733609060183,
          0.06545157322549996,
          0.7696795923721643,
          0.4624957079053537,
          0.9456442443249564,
          0.175275356326866,
          0.45063971191683433,
          0.016502002354110777,
          0.10384606576189974,
          0.14648116628394958,
          0.021028442442410342,
          0.3573447420506528,
          0.597322400464877,
          0.057626914157194654,
          0.22959734055309086,
          0.8619872574620085,
          0.07602210898568053,
          0.23773720794897465,
          0.13648813093351106,
          0.43598166901856067,
          0.07383510589708678,
          0.896901124538922,
          0.5300473574266822,
          0.0059731503328086626,
          0.1235135393457909,
          0.7837530777232069,
          0.06326638698790682,
          0.006903591560564061,
          0.3577460323068823,
          0.10327069428442215,
          0.09004001633262841,
          0.28302538313228004,
          0.21365591930276231,
          0.1333739785907808,
          0.0037554867673054216,
          0.10934428536049615,
          0.027382989118802843,
          0.5054442163682893,
          0.7185912243748374,
          0.008768181379997514,
          0.019600813004690514,
          0.044114326107623565,
          0.024281037154516304,
          0.019255574854486136,
          0.12254161884824989,
          0.06603740381659186,
          0.20320235009930374,
          0.06353385844560808,
          0.06841156299284418,
          0.0072953629561965955,
          0.08192944022143589,
          0.6284414848089357,
          0.07996473855925457,
          0.0040762308009960405,
          0.019084641394687817,
          0.49163315666588214,
          0.7125610773428918,
          0.004964804291893923,
          0.04629277231490663,
          0.006164538494858037,
          0.3365305832107424,
          0.48609194882208984,
          0.17764412811872662,
          0.08302378589160019,
          0.033090922359852976,
          0.5246673363758089,
          0.7773212293612425,
          0.019304671767789647,
          0.4557799083153596,
          0.43229173772232604,
          0.009556376828613298,
          0.27075438423722187,
          0.003807437075411783,
          0.02790152625848138,
          0.47456307771090767,
          0.05816743767513954,
          0.2642436791034726,
          0.3865339910669325,
          0.09699081741421935,
          0.0066944569197301025,
          0.12559313758351454,
          0.018716854752260682,
          0.4475045366238579,
          0.15588110101265215,
          0.5331606644788192,
          0.4116981954078452,
          0.3306456956363045,
          0.245608956423761,
          0.009015203752279795,
          0.14707308705319638,
          0.017655949386087957,
          0.47579140561979555,
          0.15517827973279552,
          0.6049346167111492,
          0.01592844187765845,
          0.8168755113404503,
          0.015195134376527539,
          0.08500692193146979,
          0.00752550764987266,
          0.1968700549209014,
          0.5592403968459433,
          0.4246677154446915,
          0.03187696049146731,
          0.3018584631342485,
          0.0004358505967690743,
          0.28435466023149164,
          0.18938081871396326,
          0.10119237904765455,
          0.05900460725014553,
          0.016705964284978704,
          0.33071177930204615,
          0.3052606772155772,
          0.32375083392117415,
          0.390289004832681,
          0.3675534656014111,
          0.07860167715114419,
          0.6096229645063962,
          0.01629748880517976,
          0.04661277792079615,
          0.2329144395013958,
          0.0175730757365474,
          0.021648071301994986,
          0.4833921124771455,
          0.016434170644136572,
          0.05248467226796584,
          0.32970552328986724,
          0.06549053758834632,
          0.09431048978169923,
          0.5120442953251448,
          0.39846338122466585,
          0.6575052474396931,
          0.7363986345029361,
          0.06183789995615733,
          0.06095465000003412,
          0.08231486166922655,
          0.14412451644066523,
          0.14497805678563566,
          0.9291927946897234,
          0.7726011683345306,
          0.041220363554144455,
          0.0310592721956912,
          0.15226566704598582,
          0.06199088284245037,
          0.007566802933579714,
          0.059510340403968916,
          0.1689700822032978,
          0.3611367187679277,
          0.23422549212239727,
          0.4300061971558933,
          0.38846806570221193,
          0.11276750362734635,
          0.8706814870296886,
          0.012032856611026885,
          0.1812172829402335,
          0.574397295377547,
          0.2726735548649315,
          0.29129918692517676,
          0.25903399406447203,
          0.0024633359057617443,
          0.21367598012764408,
          0.8100656892247804,
          0.1054846938088796,
          0.12317986774355516,
          0.07937706254794508,
          0.8213989693583026,
          0.041744188376850275,
          0.2057726836719019,
          0.004519611716645042,
          0.5187616825385343,
          0.02412905232545129,
          0.015019234600343847,
          0.06424426986897452,
          0.029955717432308786,
          0.42796615751499273,
          0.020388885585362466,
          0.040682036760684416,
          0.119772098250893,
          0.018951858704410626,
          0.3022512906839053,
          0.09205227419166312,
          0.09479187026409201,
          0.2689312076496869,
          0.01605996540946358,
          0.12072487841084481,
          0.6798033025407826,
          0.18114298635263287,
          0.07500653981425111,
          0.3118510240802553,
          0.14094231183406614,
          0.0472577337910162,
          0.5567187122644062,
          0.10023707024669283,
          0.08276007627741501,
          0.3472852747407742,
          0.008554528417694749,
          0.30240727933697203,
          0.4996013137633892,
          0.33332725119627465,
          0.5278327295063815,
          0.09224222058703616,
          0.5421079700223702,
          0.1333850757245168,
          0.773240020957655,
          0.5843109700372398,
          0.10278934657533428,
          0.003203375676732213,
          0.17140647307178258,
          0.008004212863929947,
          0.010802498985894247,
          0.5400125869806864,
          0.026425066286436028,
          0.07148102224416934,
          0.11204641917318826,
          0.3113600669037113,
          0.2696302312409118,
          0.04031032211888015,
          0.06892920853433028,
          0.5079643608389648,
          0.01984649821785809,
          0.07159894951668015,
          0.12923431125752846,
          0.0669718280437873,
          0.7926777194647789,
          0.02178677175896176,
          0.8365766193116064,
          0.2999868043172005,
          0.10555401890788103,
          0.1697546516827689,
          0.4692804844983233,
          0.2983116738598371,
          0.15632581004219548,
          0.010191357350568411,
          0.9697298324283554,
          0.12692828598835826,
          0.27667087684141217,
          0.9476257745031558,
          0.009707565309925715,
          0.34436067735032594,
          0.3234806169125431,
          0.2335600601044341,
          0.04826247447162165,
          0.08549687399123669,
          0.13008915870691118,
          0.020826563847603237,
          0.23559461359813694,
          0.012574656024723917,
          0.013088062513535106,
          0.17940733908109757,
          0.28470131516920616,
          0.007838582877263791,
          0.503107967140331,
          0.006224797464193309,
          0.1379173017446489,
          0.13709729482597288,
          0.34047819570708043,
          0.2116985337477615,
          0.1374211721354212,
          0.296265388012106,
          0.04564387709017064,
          0.6611740833389823,
          0.014077750138928445,
          0.06871910070751537,
          0.4395919970944874,
          0.4578733127356702,
          0.0014581401455771425,
          0.01822724542809659,
          0.958260227461446,
          0.67082395970336,
          0.1690309797725014,
          0.006589645440702585,
          0.008108032425032703,
          0.12548641563367416,
          0.07403627434001539,
          0.8441877642353006,
          0.18177929088543646,
          0.4910489005795275,
          0.14581481879560643,
          0.012017241240486509,
          0.0999705122370666,
          0.10873529515509102,
          0.45402666907464795,
          0.08655739021728645,
          0.2763076598278785,
          0.25064785771571646,
          0.04345991837011188,
          0.1648648728434374,
          0.0014193624517983496,
          0.1143136731154665,
          0.10747958365619141,
          0.1306087770216656,
          0.022419917951618767,
          0.8471774847390271,
          0.028114401493200637,
          0.006442604794464588,
          0.4011234979478727,
          0.04319336138054069,
          0.1939536206116229,
          0.22370124422224896,
          0.36327460823597335,
          0.05330351332664035,
          0.3299489109827258,
          0.821371844027672,
          0.27553782284006173,
          0.15297434501962787,
          0.14889037202642164,
          0.14643723928254612,
          0.04184666490609782,
          0.01511829817039978,
          0.07469633681191214,
          0.566353325532546,
          0.01942552199381857,
          0.009540646946639662,
          0.4403854892283475,
          0.11243746870461874,
          0.06474528136363344,
          0.19547178470109183,
          0.6142652257126623,
          0.1050886395237291,
          0.5942337151516524,
          0.1392206904024237,
          0.7694538023178181,
          0.45063265397030733,
          0.26284498881349533,
          0.2363402914096234,
          0.012920155489803357,
          0.07407333709214337,
          0.6867815555203928,
          0.42737411150860627,
          0.017133538250953546,
          0.023944185976263965,
          0.049734145982568215,
          0.02945760010421357,
          0.11523634586998945,
          0.4188933447752548,
          0.2684741632076056,
          0.5684649664957021,
          0.24584029451076866,
          0.1755588922808723,
          0.5892869797114454,
          0.28353100985765234,
          0.26706266730025846,
          0.20155229073540643,
          0.22200771029462515,
          0.4107382310209677,
          0.0055709277848624405,
          0.05641397756166477,
          0.007204783910885983,
          0.650668871194736,
          0.27366093015753384,
          0.7792135554023332,
          0.665954579008587,
          0.2669135892838668,
          0.5557308977735465,
          0.24143291252566532,
          0.06259071140578859,
          0.00452682678313706,
          0.006203340659813346,
          0.44012356024819826,
          0.012809345857786751,
          0.4838080499921519,
          0.041613501172758756,
          0.10276153807789619,
          0.9883626283280118,
          0.2375185703247592,
          0.5154295238011953,
          0.004585523813381113,
          0.006439164251915258,
          0.19888531620268235,
          0.4046034159477616,
          0.7282966454568062,
          0.00407753274744323,
          0.15403920162116636,
          0.007882181392925552,
          0.9145606226059909,
          0.14207512336119119,
          0.06574161236054897,
          0.6226028183591914,
          0.4925503034358454,
          0.05413586102192908,
          0.2509571063526866,
          0.36778690962389443,
          0.4489372359733194,
          0.08793405986354133,
          0.758888618764604,
          0.03573788453321098,
          0.022988334505870917,
          0.022303494559137438,
          0.012973171357409163,
          0.0017358616272483834,
          0.011579529762678007,
          0.08854547789260496,
          0.45925133416549885,
          0.2793228894123535,
          0.9696598344890334,
          0.13695086067282403,
          0.25354104494065766,
          0.0440857501849712,
          0.35811096398950387,
          0.0976215790729324,
          0.20071347981254745,
          0.9100546031233763,
          0.7635520156227478,
          0.0022411257027772622,
          0.03910255672211962,
          0.9326067548255195,
          0.14553880848646453,
          0.6588091654472008,
          0.08907148353637097,
          0.7040451610619881,
          0.016909570175773086,
          0.10687717130136318,
          0.06472835573769636,
          0.4131296269905141,
          0.006330132427765808,
          0.6562108429600972,
          0.01666761013428606,
          0.8599984980090164,
          0.1919958985231691,
          0.004857415265618014,
          0.13615652728986222,
          0.9234832748744993,
          0.018021617868779427,
          0.10418701368272172,
          0.013277638154779342,
          0.34722276714311323,
          0.01161631222072148,
          0.9276552816251742,
          0.43902311880511147,
          0.5086314465175399,
          0.19347631028194645,
          0.44884415503570974,
          0.9583030748917678,
          0.5436956201076812,
          0.8255050523865615,
          0.11970885107291139,
          0.32305653974723203,
          0.053548986748644015,
          0.02511510530691888,
          0.1931396313073573,
          0.4726505394880529,
          0.02465668406119549,
          0.15224258569539142,
          0.9135167317160842,
          0.016136507326512152,
          0.43282554670364237,
          0.12766186178972094,
          0.08578819647960192,
          0.05896333709819181,
          0.20440889739306764,
          0.032732096071468694,
          0.10634820221796591,
          0.2734116493405618,
          0.0246851901577598,
          0.016572969439918393,
          0.9356099108411737,
          0.15018171778640188,
          0.04638912960339752,
          0.35201902040599703,
          0.9316068399710685,
          0.8543859022235424,
          0.0013810456009370213,
          0.623354270975191,
          0.15209693646274589,
          0.6014176222477545,
          0.015359081003394713,
          0.013387751137602977,
          0.06163391156435108,
          0.1371514791356602,
          0.695107363577983,
          0.011682718677960051,
          0.45661176334664444,
          0.0023049904933753595,
          0.10554055771163785,
          0.10694483835529024,
          0.07274365999768378,
          0.039960483509332595,
          0.38736162086467835,
          0.020114287445422565,
          0.09142169131311888,
          0.060144597089100915,
          0.14668723352432228,
          0.1535007057350012,
          0.017134479643049816,
          0.2608608957457119,
          0.21803045687355693,
          0.017952155381066075,
          0.9137745743611435,
          0.3460848929804414,
          0.2401217700205437,
          0.018286811654629576,
          0.7913590286712328,
          0.010028631107942875,
          0.3044659809987625,
          0.10682342520840049,
          0.0018827567814103847,
          0.1607956682612679,
          0.021174133739484572,
          0.04346618144408398,
          0.6207810040777405,
          0.029145510258616333,
          0.07931201057866503,
          0.009957064977112118,
          0.4023378215704434,
          0.09094912232603408,
          0.05783040344077924,
          0.2803906052296826,
          0.351918021042142,
          0.40302701070940866,
          0.48466090553576996,
          0.06044430678607301,
          0.7868767739695401,
          0.01974061213515912,
          0.05731468638403744,
          0.03123839721296276,
          0.028624653485493076,
          0.15308894967255504,
          0.3687012675515487,
          0.08498809475535898,
          0.022530254969766506,
          0.07605683845045938,
          0.7081682401881829,
          0.11347918670464013,
          0.024677685924481094,
          0.07283583589112098,
          0.24621310482159794,
          0.04134496775909974,
          0.09709055290969051,
          0.049770774275774136,
          0.2408331583353539,
          0.19545363266294455,
          0.009609533083726153,
          0.4792984950579321,
          0.36127549080424115,
          0.01032113192458251,
          0.12157172902923812,
          0.7202182084437351,
          0.016943781424764433,
          0.0575579977929753,
          0.04809517327826401,
          0.22870335916422957,
          0.01279332747185098,
          0.1798108215694336,
          0.18689019720659072,
          0.3656038866456736,
          0.0036939610250162507,
          0.5574855168507866,
          0.08037070061522984,
          0.06787451355846534,
          0.01716382832473484,
          0.1287221680458284,
          0.40041192444022444,
          0.23972737287946178,
          0.703213259046984,
          0.12793514231247344,
          0.5565575967199281,
          0.8207460078167338,
          0.08820136503516732,
          0.9278098216702142,
          0.5905811039848073,
          0.0015110176118684755,
          0.06704814994221885,
          0.13501908630690349,
          0.7853301471099486,
          0.022614213973250585,
          0.01157221325493851,
          0.9498298500426924,
          0.001688706348185798,
          0.17221686294687624,
          0.020491964808816487,
          0.0325548215931868,
          0.913700587200116,
          0.003559947887448758,
          0.7897805416087617,
          0.27781848174717033,
          0.000727412202743016,
          0.231003017119702,
          0.08930203299764236,
          0.058575515025426364,
          0.08060916989644891,
          0.030868565175779357,
          0.08373994891123611,
          0.33915997709081996,
          0.7774047260895592,
          0.6016833164531868,
          0.047236536207943464,
          0.10232831135889128,
          0.08447714968784961,
          0.32607595350653723,
          0.012202093827237626,
          0.3504805383128468,
          0.43815063602162746,
          0.9191123285019878,
          0.24531144560930837,
          0.11350358292874288,
          0.01903865782544354,
          0.29062842915363424,
          0.3082822319297709,
          0.287625942010542,
          0.6354983695571493,
          0.08283915472910974,
          0.010828362486628506,
          0.005138385247316738,
          0.03357063143859572,
          0.08202824253656259,
          0.11172942827349414,
          0.05798982903119618,
          0.00821152337632847,
          0.02493146336199635,
          0.633498185037639,
          0.01233435177677865,
          0.6359776136652465,
          0.6073325656696428,
          0.3738934632646392,
          0.0500445781194985,
          0.0030057030820825987,
          0.4042860559946515,
          0.16036858450026525,
          0.32230713746627965,
          0.19219219589720113,
          0.192947792034564,
          0.07683587392346175,
          0.2092637378180053,
          0.039881464829183914,
          0.021133464838052982,
          0.2806913314113608,
          0.06603769616769466,
          0.11127812600234836,
          0.20088634904690653,
          0.10817527162876624,
          0.011612164613021236,
          0.06291260055464451,
          0.009038859960885317,
          0.6602882386740813,
          0.5063834554825142,
          0.014701571644247178,
          0.14641086003626277,
          0.47907122577224903,
          0.39120969722768323,
          0.03902715104450225,
          0.11017529781722502,
          0.024594620488032615,
          0.15957649272449595,
          0.9150781558428994,
          0.01780665237006439,
          0.37262532048926844,
          0.03896587735596518,
          0.31519820357266465,
          0.33115433990487886,
          0.12069383859685373,
          0.2877851409497504,
          0.5563284379211983,
          0.12915250308320833,
          0.19380582759630738,
          0.12520158868635917,
          0.13103079345469712,
          0.18216626596520283,
          0.032688663655191755,
          0.0009956881388195954,
          0.005385286448633952,
          0.09479182297418301,
          0.12884499919345055,
          0.06824595371616561,
          0.029281768952204013,
          0.12062457191812916,
          0.01573367772556842,
          0.6899807124649406,
          0.4315371877955422,
          0.004187638271546339,
          0.021732389031677655,
          0.5723850000926475,
          0.005672885013110131,
          0.005968162737871582,
          0.23691712224196854,
          0.020523605209668446,
          0.1297221812618155,
          0.06487852646718138,
          0.03838270950262062,
          0.6862399703771633,
          0.004242417624679263,
          0.007421973444107938,
          0.011154825130127539,
          0.8319235212525941,
          0.19765577702516413,
          0.043184941838020505,
          0.07288181080038098,
          0.005338998642078489,
          0.005494359402809162,
          0.10642601201695664,
          0.8886947590821316,
          0.007011038617971405,
          0.02155592865790517,
          0.018745335088217716,
          0.09395134203200242,
          0.2754869278577847,
          0.9560016544635882,
          0.8053547592720659,
          0.47895644375516044,
          0.1191713278785974,
          0.2751306690633108,
          0.049833420383529364,
          0.41014735307011674,
          0.09379506958250208,
          0.4086687788775116,
          0.0029749877995527588,
          0.1890411664320042,
          0.04153036285162726,
          0.015213762551293331,
          0.060234518366582265,
          0.017017483796212075,
          0.003342751568228749,
          0.12359098156104496,
          0.046955959826579116,
          0.29276964549631523,
          0.013852366221791139,
          0.0032437954006206936,
          0.5178864037512609,
          0.04639953517529872,
          0.12499905331208097,
          0.6829113130086515,
          0.00303222347796336,
          0.10147438527547988,
          0.21637322881656265,
          0.01140743533645795,
          0.4447788615917108,
          0.030357046395245234,
          0.7117352944088711,
          0.4158973497601163,
          0.0027550638102702505,
          0.9876841427935009,
          0.6292505412088388,
          0.2962396793976613,
          0.044779306696301244,
          0.18611253454148158,
          0.027183701789697434,
          0.5199238668103912,
          0.9666380101155833,
          0.007980969933012335,
          0.1409373497959353,
          0.024616727288459025,
          0.105897005789368,
          0.049128921075434186,
          0.16827537411564797,
          0.024604826181999728,
          0.02979023659885356,
          0.010318090184900897,
          0.556140265021515,
          0.9143733499257354,
          0.14765920952862518,
          0.17040768553272523,
          0.6951946780660018,
          0.00868926271863495,
          0.08736720616127765,
          0.0314657791270541,
          0.40840337640498275,
          0.3318513327001539,
          0.961449068454644,
          0.20481935224306175,
          0.899982298437836,
          0.005458367823093433,
          0.0022009807705106062,
          0.08387735603754808,
          0.2616792188161026,
          0.44279638117767267,
          0.6492747247516221,
          0.2844726908239141,
          0.025078979615467126,
          0.5983367950386611,
          0.01118643845725403,
          0.6339586629291248,
          0.04352179680378243,
          0.1035048440236093,
          0.046944999480090566,
          0.027227222332778137,
          0.009663778419767066,
          0.16728261997789057,
          0.003681493842689607,
          0.0017578526930169848,
          0.6614327484571889,
          0.006615688398774427,
          0.18125925590656244,
          0.015179406875073735,
          0.20929182864401022,
          0.6258182332782983,
          0.0023947414949793914,
          0.08633690046213444,
          0.602590731671053,
          0.007697464365758573,
          0.19952737144505714,
          0.05133511815994919,
          0.4839123264425813,
          0.47964181782924664,
          0.10711531773830157,
          0.007143906737724734,
          0.09701523865053296,
          0.015536925423492422,
          0.40124960113668645,
          0.626106598994321,
          0.32297403991766516,
          0.0036226888456418723,
          0.03228755470577803,
          0.6800517318091558,
          0.29830917126702783,
          0.22987089514967873,
          0.012610629778129647,
          0.48624187918136735,
          0.07034547354205525,
          0.00802850615620313,
          0.07456554802453305,
          0.09948894850631985,
          0.4709101176824627,
          0.02580417427699337,
          0.2697056920085051,
          0.03461321431196519,
          0.21861863509955426,
          0.28678778484063594,
          0.5998319255304786,
          0.00793815469974978,
          0.006466086097283072,
          0.010713672849485904,
          0.1514289812081053,
          0.26626975657412527,
          0.04755955471829557,
          0.035866682170124696,
          0.009910850814768103,
          0.020958604533827665,
          0.20191873667936516,
          0.3158874615634489,
          0.25191474272620284,
          0.12960523737835744,
          0.6285793219288127,
          0.28158628502759736,
          0.06806485226549343,
          0.25336363163548803,
          0.017182318283448232,
          0.19044164941181066,
          0.06137570079602521,
          0.2113841882836133,
          0.45400739000568446,
          0.07020854679437892,
          0.2770012907239273,
          0.5386404499033167,
          0.15856464241929583,
          0.5251723401114184,
          0.017871823520771067,
          0.07202427898908825,
          0.039142030760113404,
          0.7602414244727379,
          0.15302783526150662,
          0.2243201244412963,
          0.7231352443172836,
          0.05347294909500947,
          0.2209208846690678,
          0.02263892307528493,
          0.5012409920820322,
          0.3527130345681525,
          0.027940230055378344,
          0.26594020518252115,
          0.6765850180637146,
          0.07338484898423649,
          0.29631006246690605,
          0.04752399703502907,
          0.7344215843926608,
          0.07519607981686387,
          0.032025386031193974,
          0.048672140950736076,
          0.014827061129928699,
          0.0018671407951699986,
          0.5614236261856644,
          0.2083185964073462,
          0.37909277498880933,
          0.32452901862364425,
          0.052478304471281344,
          0.013174120946800639,
          0.05385974964541495,
          0.23809511265240552,
          0.012640780730016647,
          0.33030505615050165,
          0.6476177777873633,
          0.037687654581818844,
          0.30713271130591957,
          0.31985413029101595,
          0.05929943354669535,
          0.0077662159915486886,
          0.10479147429636672,
          0.944232032690393,
          0.1919787607332755,
          0.013341883388419518,
          0.8459823381173444,
          0.03542195570931356,
          0.49922424691254275,
          0.0427245538493166,
          0.40910410019837834,
          0.07379772169303651,
          0.6481320487105485,
          0.42890570646687365,
          0.08787249975908457,
          0.5018850872798477,
          0.012389590073228663,
          0.14972224079916593,
          0.010794044104447835,
          0.12031204213074395,
          0.1103109580802874,
          0.7500828748839692,
          0.061273015799796764,
          0.05016077410764466,
          0.6575847910558154,
          0.15066514991752042,
          0.1070369871593572,
          0.1305929076811097,
          0.28708859437926887,
          0.3240231561509903,
          0.35263983017879885,
          0.13137804808578155,
          0.6385798070557703,
          0.026863312079565854,
          0.03540824467130655,
          0.813214474940879,
          0.16103392214508125,
          0.02599099079033943,
          0.4669495570900471,
          0.07190708031436385,
          0.1125323337080738,
          0.7263964412981305,
          0.21539331193179317,
          0.08130848106772139,
          0.46571984940649164,
          0.4854039557725664,
          0.2556004233621815,
          0.2270831277736121,
          0.09843916431039221,
          0.3217256700067765,
          0.4742868405886985,
          0.4675130611596975,
          0.6985267840301633,
          0.03623847473138963,
          0.029307915669870475,
          0.8710548220122131,
          0.12999453751855677,
          0.0075161400277739985,
          0.459004539792845,
          0.024024764976216327,
          0.5366137004121836,
          0.41108613785541886,
          0.27417866531152496,
          0.3221145021140586,
          0.019128032966846297,
          0.17616241564517074,
          0.029030507424733298,
          0.041087648882611905,
          0.1482938146443971,
          0.0025418133900394157,
          0.017717672351697522,
          0.02207611829454952,
          0.028482653111072887,
          0.968323910124479,
          0.38437412722388026,
          0.5135314633069352,
          0.021477078683267897,
          0.09885716584988853,
          0.028425330383747748,
          0.16974277856823042,
          0.6415100047780672,
          0.31553361457899165,
          0.6360032339887626,
          0.0021400083921121133,
          0.3873483204390962,
          0.5074201163872372,
          0.010938534605446639,
          0.14827189466099075,
          0.00605325729128084,
          0.3098485335997836,
          0.06094967391634468,
          0.13866343594479016,
          0.23626563966552475,
          0.027543599842848956,
          0.7322003262353532,
          0.014243927890383045,
          0.8328490173881058,
          0.011692554804269829,
          0.7339710761822532,
          0.043752451606793405,
          0.4297446023259088,
          0.4914745603278469,
          0.6679793586072154,
          0.021166820774889544,
          0.03491256071260507,
          0.035289362750337575,
          0.29315206130084864,
          0.3371631940837373,
          0.9376361508803124,
          0.47150681523195503,
          0.004424592666632056,
          0.01841016352154123,
          0.3845679620520743,
          0.015435459626122673,
          0.24608800548374501,
          0.042477929671149474,
          0.7400620959653786,
          0.014864723067153057,
          0.10354809541537616,
          0.029238449187313265,
          0.08499058385468299,
          0.013358586518255711,
          0.0028348030031963836,
          0.002046420200480782,
          0.8505116951772083,
          0.1372970065215334,
          0.015741143595849088,
          0.00151382287428066,
          0.019402446482887307,
          0.4359017901621973,
          0.3094228330502959,
          0.8466722100344463,
          0.8479392037009936,
          0.2185531780578439,
          0.8620307191122449,
          0.4235501148532757,
          0.0955163730241471,
          0.23964668833008512,
          0.04950395130720272,
          0.26511112420298505,
          0.06405437950918023,
          0.17092947569873365,
          0.008798367981272773,
          0.14875531857677338,
          0.5426545124619835,
          0.012682218938734792,
          0.036216086764088766,
          0.9517500595146399,
          0.4477248890447242,
          0.09845242421078923,
          0.2272703094437173,
          0.0014884760373602697,
          0.46219754012922054,
          0.04010374034099742,
          0.07345970972971783,
          0.12459957717700898,
          0.05638435459335976,
          0.08313644536189525,
          0.5791739513505006,
          0.4700272479036792,
          0.06800081688193267,
          0.026875895519624052,
          0.019996624754349705,
          0.8231495744315421,
          0.010687008342988519,
          0.013641230012619382,
          0.33399866578029125,
          0.2441079763833251,
          0.2630408533999611,
          0.202838530541387,
          0.03507500670587955,
          0.47663461107626803,
          0.4218492298380955,
          0.6113721241518917,
          0.05625083806194162,
          0.9051065105085346,
          0.3662279305058747,
          0.11825466557627992,
          0.1411314487213644,
          0.7982238898372311,
          0.5103343712743442,
          0.30620146483865407,
          0.005377960376451295,
          0.0021309537459449825,
          0.04290351915510413,
          0.7798607275920206,
          0.24267433820319542,
          0.7087575411741354,
          0.02054814923488848,
          0.03014627729762875,
          0.36942421984056895,
          0.5142848225485752,
          0.16652663811255256,
          0.2592324415321224,
          0.5829856466715292,
          0.11713033788719375,
          0.1339658307722424,
          0.6266824464048792,
          0.4099803882698179,
          0.010274609175851237,
          0.0034374575596010305,
          0.17139273935093235,
          0.3030654125116287,
          0.27640611775285845,
          0.3121310395248263,
          0.07249040321801134,
          0.9517568254601528,
          0.13179032865110943,
          0.02156168380000351,
          0.2934483986748598,
          0.855411679673507,
          0.038453557393675036,
          0.297659419137928,
          0.44037703856654653,
          0.03929127083879127,
          0.6308083773632019,
          0.49534066450811354,
          0.010906331638555013,
          0.008169462431529245,
          0.05986246745418202,
          0.0022272587404329005,
          0.03274295063776822,
          0.17574529702212574,
          0.02217466795300929,
          0.0033482579070746622,
          0.7472453610236769,
          0.041073722904441216,
          0.028560134992736765,
          0.4410953812746019,
          0.1369043630767278,
          0.02392480233150623,
          0.08454250081959648,
          0.09433157677916806,
          0.006296432462943305,
          0.6319582622246425,
          0.03088948477963354,
          0.0866581338784291,
          0.11540621978680925,
          0.08186621812835403,
          0.978618458283432,
          0.47873246351810395,
          0.9032828457220432,
          0.13367859691319914,
          0.027340576412310694,
          0.26280289971304965,
          0.8720099781870323,
          0.3776121593591022,
          0.012493753222839967,
          0.0014590690611033252,
          0.05416377861533815,
          0.07013452209555926,
          0.35102236425878464,
          0.020273642355613138,
          0.6742648716116293,
          0.17411611879420655,
          0.09600265180423209,
          0.5168778681630708,
          0.5544221203613459,
          0.3456851819072261,
          0.01747447936405796,
          0.41591526702597226,
          0.9366866522289228,
          0.09839210633256336,
          0.06352688882476892,
          0.6288517268059194,
          0.2744435631143013,
          0.004336933242915608,
          0.45377525153219656,
          0.07653435081123758,
          0.0403105547513689,
          0.39528302346640815,
          0.03387443703197936,
          0.0950192163112656,
          0.2370354556532365,
          0.18361653557410815,
          0.05561410488005918,
          0.059490218355063434,
          0.013929775450703003,
          0.06500220745883224,
          0.3569878076520949,
          0.01633958291879753,
          0.0220992389689184,
          0.18922225524639297,
          0.25973139457630545,
          0.16694117244278048,
          0.033459353241975874,
          0.06177808699766122,
          0.6760560632970819,
          0.1406007539063597,
          0.052676861274753045,
          0.22635800787235663,
          0.14551617567435926,
          0.7168161096716754,
          0.09298570977663738,
          0.3381996056679037,
          0.00874479046744841,
          0.4195870672024121,
          0.03361979262900223,
          0.24496694243481512,
          0.454042772773037,
          0.6776543604676868,
          0.9286244398437754,
          0.16706431437160163,
          0.03910126482060112,
          0.039753821514913,
          0.0028647913678097187,
          0.0026064386936483605,
          0.38864003122183916,
          0.11602619611861173,
          0.11211762834485393,
          0.8885233927678611,
          0.06775732171213211,
          0.5159374180187688,
          0.020694812134024805,
          0.28031149830708607,
          0.02689654352682996,
          0.028711690128371627,
          0.37782647688033766,
          0.01850537361441757,
          0.06777693812251374,
          0.36628917439592906,
          0.03135064938746425,
          0.04247263174328162,
          0.07130646939433752,
          0.8810762699850172,
          0.22742845809133855,
          0.13011064108980538,
          0.7092309953874599,
          0.22445633807522727,
          0.06549711540334219,
          0.01802900268022519,
          0.7559845199886575,
          0.023701620768733507,
          0.11422043312421357,
          0.06044450213150353,
          0.6427493468269762,
          0.46419705162625996,
          0.19376340591111066,
          0.5008422596076236,
          0.05125467845969973,
          0.024711905573573407,
          0.15953719243420006,
          0.15292081023065882,
          0.008018010074652185,
          0.17266818546233745,
          0.10636128122173615,
          0.2629855219956299,
          0.012197534187978207,
          0.4210991519139683,
          0.2523493659558751,
          0.5567701587902391,
          0.5702406612626274,
          0.24469180563970466,
          0.0012183993711838252,
          0.0033250918311267287,
          0.06877406512693136,
          0.58513677443051,
          0.37425120390868366,
          0.024638294378632037,
          0.20999689702321617,
          0.0502757004328998,
          0.007332471619677705,
          0.04367631851796948,
          0.006845252616108404,
          0.19155655303308616,
          0.7076344601086134,
          0.005779997883518764,
          0.8864095306591498,
          0.16159285059506026,
          0.036051624788255736,
          0.10254681443339299,
          0.3167750882483623,
          0.055145248837387494,
          0.20200745562102673,
          0.5919008749231429,
          0.038808579658526056,
          0.19080296576259265,
          0.01951655765427565,
          0.6054073954726775,
          0.03813688627359,
          0.05325255549724551,
          0.0035248804204175317,
          0.970130852606236,
          0.006656185747993164,
          0.07313667246273312,
          0.0017716661922602805,
          0.942963284884971,
          0.07624713020415386,
          0.3139774396409918,
          0.256155585135216,
          0.028404332426080554,
          0.1901905277794342,
          0.002676724561984702,
          0.056252981273552154,
          0.11913191436155778,
          0.4069521733609651,
          0.23481888699289288,
          0.06661091375846867,
          0.026714032115713392,
          0.6906728751656128,
          0.728748304217819,
          0.035098661595721274,
          0.6138464688181049,
          0.17944239378728227,
          0.14254893622260495,
          0.4463098564722251,
          0.08238251245103019,
          0.08243696011119411,
          0.03297321192956372,
          0.3708245990752142,
          0.13646293376574795,
          0.14443563394542122,
          0.01268186997513266,
          0.8971931459947267,
          0.022421049830764966,
          0.47949617644527465,
          0.004196303676361085,
          0.6628081732190712,
          0.4688204196587266,
          0.572824574625438,
          0.5781250325189876,
          0.4270691325146872,
          0.1375298232028852,
          0.03248731552154353,
          0.1618273779313409,
          0.17694544403270884,
          0.30042910588947624,
          0.3214975963117096,
          0.012381100947571727,
          0.7314327591257651,
          0.08048231637289499,
          0.1746362260510112,
          0.6662763908332112,
          0.11628609641937133,
          0.18983829955142556,
          0.4597804756109934,
          0.8806162668332095,
          0.05595971392219399,
          0.021447361809882923,
          0.01127860495461411,
          0.6328984070435562,
          0.2517993249966831,
          0.010534624637698022,
          0.0764982963697751,
          0.7770338084954069,
          0.046657712086409904,
          0.8228204130271424,
          0.04916359098774566,
          0.07991873953973067,
          0.7813715116461767,
          0.14161489277911474,
          0.9176902208209474,
          0.08994272274109802,
          0.1811431558004924,
          0.004660751190370229,
          0.059267795288762117,
          0.011161150570689027,
          0.22272609532996274,
          0.012826716740030756,
          0.3487103386681772,
          0.030648113899001874,
          0.057266798205984376,
          0.19511066210996644,
          0.10329802430977499,
          0.00708293027061574,
          0.050399550895965296,
          0.7507428394008705,
          0.41069051800734035,
          0.0196929828393371,
          0.12814709969452828,
          0.17489365812988866,
          0.015238135102622969,
          0.8330595595966016,
          0.10568401346351458,
          0.9369546020848707,
          0.8496311138926197,
          0.22441749083724144,
          0.01798487871320911,
          0.4993846445694063,
          0.04555085846842883,
          0.30275524530883413,
          0.5179653138403212,
          0.724438685772526,
          0.48577429065887884,
          0.21317938175533765,
          0.07099940729812769,
          0.25263134877219806,
          0.051204444323700256,
          0.0066139135724694025,
          0.6263548734443116,
          0.34384051653334596,
          0.006455148965613528,
          0.16141204163095182,
          0.41438663486364846,
          0.01363994932184588,
          0.5042885469896834,
          0.07354737770885016,
          0.2718346443909,
          0.08098131204811874,
          0.07771133962973685,
          0.5818529788964264,
          0.007268153464542294,
          0.35599704445138614,
          0.09235213014470041,
          0.023238273311354307,
          0.14678789290579758,
          0.03685118759221788,
          0.002674018631234186,
          0.008067834059167665,
          0.01234560106996153,
          0.06990208423775059,
          0.3525520569986383,
          0.3999429286539809,
          0.017826300052141506,
          0.23408919657934765,
          0.7190105134877753,
          0.19344956111423445,
          0.013702428833578906,
          0.034223128462214654,
          0.03322983156628735,
          0.2585570157709161,
          0.4524652062798471,
          0.5654252376993942,
          0.18920034226938612,
          0.0037099798880997343,
          0.32208034199123753,
          0.1570451385156995,
          0.009172288307547462,
          0.24337494507235316,
          0.27172076044585064,
          0.004735677783838744,
          0.03267059781586122,
          0.10548949529536925,
          0.008716865989105007,
          0.09447322076672525,
          0.014632002874418983,
          0.07614144880369446,
          0.059485821095148134,
          0.24834199535484125,
          0.010905461138239448,
          0.06893269303582004,
          0.6235441212109719,
          0.6383565517667706,
          0.09329811847380656,
          0.6780152279140502,
          0.27991473940089695,
          0.7720978298795731,
          0.5736463039854567,
          0.0872393125105394,
          0.7789215183705667,
          0.06559968876820473,
          0.26924999524397353,
          0.33661059283586553,
          0.016025496559814306,
          0.11927004187123925,
          0.18325800111332366,
          0.297541801462416,
          0.06956892183155844,
          0.03550449833508067,
          0.29834609816864965,
          0.08645783129305505,
          0.8520007043853631,
          0.009924686908698313,
          0.009386421241085144,
          0.03708419697455471,
          0.7522268150496642,
          0.6402533887099382,
          0.08667092586499736,
          0.06903535329230717,
          0.9154238252142275,
          0.03628915110086514,
          0.8065593758931455,
          0.2955671135509328,
          0.6271363578629158,
          0.21026931455697115,
          0.062362169092129764,
          0.7871847152064682,
          0.009394551204930377,
          0.06874737031917176,
          0.1084322889348805,
          0.07558271306256568,
          0.0027237658614978994,
          0.3319780826607416,
          0.20694910953774406,
          0.6707367776468959,
          0.0029958097635745737,
          0.6560652723716371,
          0.5618429920109385,
          0.20292330712860543,
          0.27665181479889733,
          0.10038977451287005,
          0.1686361050587853,
          0.005542285888382927,
          0.3558895590619842,
          0.21544833670057037,
          0.45906397615735933,
          0.015215786869725297,
          0.18530226826901475,
          0.018403235558875086,
          0.6318863647746368,
          0.05897442918730515,
          0.05972755035951874,
          0.057820775704032414,
          0.4117032633498372,
          0.0902363267766582,
          0.5371650097823666,
          0.06764832312912833,
          0.23539487797642145,
          0.05125052362127816,
          0.2566896462241441,
          0.17923976662897592,
          0.32553044757592414,
          0.4662379772760752,
          0.1405645919558028,
          0.4106543488101925,
          0.49433095440723723,
          0.11883648061937116,
          0.6959351023984296,
          0.05418053722858422,
          0.17138254299880956,
          0.7153246145619804,
          0.002279794066153639,
          0.32317777243445267,
          0.1652334648662792,
          0.09712973496041283,
          0.8049153839483815,
          0.008011101923497028,
          0.021229207549692618,
          0.004179409148569809,
          0.010648226407155032,
          0.05016246366979881,
          0.25635048320669374,
          0.6037279386123559,
          0.004223227388419315,
          0.11237666862078634,
          0.8299755629595172,
          0.44136875227628664,
          0.6390182168467589,
          0.3766403947078807,
          0.33816601114372824,
          0.2660515752985294,
          0.037794176110118885,
          0.03641776266546482,
          0.20957367463842969,
          0.04952027291293663,
          0.14793659767780826,
          0.006118148338353099,
          0.9577773269337043,
          0.2913677144276161,
          0.7059274590497121,
          0.26806055806970003,
          0.3612090824437734,
          0.11029454124957146,
          0.08040262495778802,
          0.15497894578145832,
          0.14197444676822818,
          0.9073521006280969,
          0.29221919613647374,
          0.004656869613104301,
          0.36096737225285136,
          0.4726347849465694,
          0.19008407284161044,
          0.010803433524052329,
          0.6815757047142924,
          0.009652370915370141,
          0.23904499724636935,
          0.7130305375432914,
          0.5811315975140885,
          0.04460350151459208,
          0.038813593281378345,
          0.9106963191054249,
          0.05518823888051489,
          0.5272179610731327,
          0.04926844281928186,
          0.9226362976865515,
          0.7491773370075737,
          0.08089187076208466,
          0.033106829495738975,
          0.43562853633597337,
          0.6968684209244382,
          0.02259943879079949,
          0.03945561604259477,
          0.014697501352086783,
          0.008190902418850876,
          0.6813048883536739,
          0.020164838039595376,
          0.1770500888389889,
          0.23246683211060853,
          0.4552275846974857,
          0.4139617230601591,
          0.058950504040659345,
          0.10200270337159854,
          0.057211177905127135,
          0.2744127328574901,
          0.5959974431092494,
          0.04414079124309972,
          0.012344152003107978,
          0.16749802747868542,
          0.21983460896039292,
          0.2775979814764555,
          0.40746802029404744,
          0.017740522623185657,
          0.06560938051965219,
          0.7614824752162653,
          0.052589644928711154,
          0.00801699237584268,
          0.6590269522929599,
          0.49931396577615267,
          0.06221344744619338,
          0.00774482256456601,
          0.016667576656890722,
          0.28872324747022443,
          0.21068166591420612,
          0.9021478779974799,
          0.162418815662956,
          0.2608357726383233,
          0.021732403368058248,
          0.07690124345739195,
          0.002850756580276319,
          0.9534068431170827,
          0.996546237056336,
          0.3165748352406234,
          0.07121141185834225,
          0.672670562490436,
          0.01863871328074507,
          0.2088892564668704,
          0.5930629633433062,
          0.058546702651526,
          0.6671251866331794,
          0.15965309801776417,
          0.47715551378220467,
          0.20864598715055696,
          0.4815112948464261,
          0.0620017179495614,
          0.430729929865467,
          0.017362500011886838,
          0.44533604780084896,
          0.01733426966468262,
          0.6870000974385976,
          0.40182156351775605,
          0.18496843397833632,
          0.45364616907777866,
          0.00274267528135459,
          0.26129558022750254,
          0.13518771447760458,
          0.34023208566564245,
          0.34464982205961675,
          0.6049674247250357,
          0.07426588837271984,
          0.005361646950375664,
          0.011102858014722257,
          0.06267823529872187,
          0.9312290588366933,
          0.014894654708099083,
          0.10079944983955637,
          0.33814213167275836,
          0.3715182106471579,
          0.003360043198384163,
          0.7182803568284878,
          0.4981537071723278,
          0.4459911951603199,
          0.03598792061372885,
          0.10191682445911006,
          0.007429929363844392,
          0.9699860723656417,
          0.08270342700548824,
          0.11594888509033392,
          0.020003758377686975,
          0.0584270502526129,
          0.4942249442465901,
          0.01907546926740637,
          0.1035870422041004,
          0.01057806949045824,
          0.24117050480524585,
          0.4808750909686238,
          0.9240649386681226,
          0.7109472158402443,
          0.2620944526533023,
          0.7448290179362531,
          0.5434728092686996,
          0.7181789301487124,
          0.6461750171162541,
          0.0062222490368174285,
          0.3433959322610349,
          0.012219299651517617,
          0.01397032415797952,
          0.1931320269034748,
          0.012050004630064502,
          0.28412033692867733,
          0.06446415728993148,
          0.03232437621063407,
          0.8881717646270249,
          0.01222927492592194,
          0.34059374912208445,
          0.0031498712728593612,
          0.3670923486519668,
          0.06009842406904319,
          0.44858181798874464,
          0.07539964242691359,
          0.9408186185769086,
          0.8535073062138923,
          0.48736242244608363,
          0.4374937249123317,
          0.08015466139953736,
          0.002697006176770335,
          0.4902480233430414,
          0.04905713678267186,
          0.11049627111330902,
          0.20898063019078533,
          0.06617678029969096,
          0.12350060127490453,
          0.15556271108074826,
          0.05857044660054298,
          0.6313445424702278,
          0.057578085739403165,
          0.048224821367578045,
          0.01994154166066262,
          0.2042670724174251,
          0.6981167281545735,
          0.17152591700367056,
          0.0299125869593341,
          0.022196389156635937,
          0.02078036408271384,
          0.6476166272050928,
          0.5962459404132536,
          0.0013604334479792937,
          0.042209459953675914,
          0.46427752483810386,
          0.49825796167563957,
          0.6047613036943666,
          0.10291163595631588,
          0.6144118531065631,
          0.12471570166078724,
          0.05930669750205389,
          0.09466607240288086,
          0.4242715489411947,
          0.32918632164504774,
          0.10388796508502847,
          0.02643012373173738,
          0.01813157058360692,
          0.15810374185720302,
          0.46416895497929217,
          0.2030761930345195,
          0.9485291930020565,
          0.08176424358668874,
          0.1694324502320827,
          0.6796971602089547,
          0.5252896495792174,
          0.4189425027260142,
          0.01133745184052221,
          0.021809755163060357,
          0.20644623331673034,
          0.017927521687195472,
          0.4519406886939943,
          0.05302218368627168,
          0.1575607164872403,
          0.45637299897286404,
          0.03969880248229207,
          0.11471762425383245,
          0.19278105709496798,
          0.03498822441852149,
          0.3341403924744623,
          0.9453744714087848,
          0.02719094286123147,
          0.6663328443039536,
          0.004943768018275014,
          0.6720119370157063,
          0.014498510479668186,
          0.9858687161746661,
          0.3335836045982201,
          0.8797228759335587,
          0.910459487747214,
          0.2613419711191324,
          0.3751032282264693,
          0.07534997371439725,
          0.2788331128901783,
          0.24863675649803052,
          0.19565649034938748,
          0.32150532598238074,
          0.10376287872658642,
          0.63075252524838,
          0.06484699954469252,
          0.8947782928934557,
          0.06668871694050274,
          0.06974047781044533,
          0.21893215857479162,
          0.18491307088802714,
          0.0011014259196446667,
          0.07177584648455669,
          0.023739964541312553,
          0.040449521668774864,
          0.026103860576019773,
          0.2109636733522709,
          0.13760525584236938,
          0.07661064956996569,
          0.06668391418991503,
          0.36851727866724154,
          0.5438256329471304,
          0.0064105793263829645,
          0.07472846387167283,
          0.23261894361931984,
          0.6293239862538123,
          0.5773127359825548,
          0.23293337228763852,
          0.19397144170888056,
          0.033430704010288095,
          0.2225226438293523,
          0.2606520092643919,
          0.012010662213571494,
          0.04194961682754592,
          0.1104565968188493,
          0.26420727661437576,
          0.7745684913369595,
          0.11479724616939548,
          0.333120851935032,
          0.3248533179578018,
          0.11952905205658632,
          0.4597443056736757,
          0.5065454923643806,
          0.024466866216715243,
          0.017836545188652044,
          0.1192589871220498,
          0.04495131377643627,
          0.02903063182654002,
          0.7170311954518638,
          0.0026638581544437766,
          0.008824138272914799,
          0.0057823444274244335,
          0.2404967993674225,
          0.0020770464151289793,
          0.10394666005941511,
          0.11630626305161373,
          0.27079231418626765,
          0.9481625292223732,
          0.32722411545653285,
          0.28299123150283945,
          0.15415464446121743,
          0.36964087644984706,
          0.4527010020371066,
          0.7304992975497383,
          0.3575151900196363,
          0.10099481440651875,
          0.057290570004357715,
          0.03928655629299783,
          0.012207981267276433,
          0.5816479030505707,
          0.968491849701766,
          0.04147135017581831,
          0.10082870710380036,
          0.9503583081774216,
          0.38274701016553825,
          0.1598930422704975,
          0.10205438176339394,
          0.4087674698581114,
          0.01875298510158706,
          0.7092391764227621,
          0.13070883798464006,
          0.9357855852780246,
          0.043978088441827934,
          0.2598565772997112,
          0.13623043924328646,
          0.028131707426260217,
          0.16736545298772923,
          0.591553495731055,
          0.8666606965505204,
          0.15359602948899767,
          0.43040577810129077,
          0.8768716820152972,
          0.00226914383955692,
          0.09153772537208803,
          0.14592324342652052,
          0.34912101765757636,
          0.041036558089294926,
          0.613613026746933,
          0.1602254927130002,
          0.003935824873253969,
          0.024608499427907674,
          0.46568818132049083,
          0.6870461425256708,
          0.4418208280700893,
          0.007890389686707135,
          0.07717984114821164,
          0.13068816923663892,
          0.3707833852939307,
          0.024255928032504523,
          0.4843374130279628,
          0.726482024328207,
          0.03947412952783697,
          0.2070085023911272,
          0.06537634587142954,
          0.34490441559613666,
          0.00924700649301697,
          0.260913924112142,
          0.4998113010228942,
          0.008135757192945021,
          0.217701019230125,
          0.8400167853645867,
          0.034320042425811464,
          0.028387954113167094,
          0.7513904445798885,
          0.5918409016926639,
          0.39479056696569764,
          0.15301719339784603,
          0.4434337327841446,
          0.03999004158080998,
          0.3890963167399931,
          0.04578439861198967,
          0.03302129866101906,
          0.8901764486962084,
          0.19636961594095179,
          0.012276553990800862,
          0.035673912839911746,
          0.8882537518031443,
          0.00404719211449928,
          0.07629753384211263,
          0.03813567350789346,
          0.587596370027226,
          0.009208663223143322,
          0.7172393076530508,
          0.04598318561212101,
          0.458198848976542,
          0.0033857153611824473,
          0.006152319196353227,
          0.26189966706208745,
          0.09553363317887087,
          0.18382393933572655,
          0.21404946928387078,
          0.0222257927926574,
          0.023989701046572613,
          0.011353041232985799,
          0.2599577724285809,
          0.6148670580683273,
          0.006094158193460214,
          0.7429286308948903,
          0.3718371071078469,
          0.5722582278462105,
          0.04517073168372247,
          0.46001034459764734,
          0.010721330398627011,
          0.3125828981491571,
          0.21115123420691928,
          0.3738980739501728,
          0.008722932349856046,
          0.07503024136264827,
          0.14504188250495367,
          0.9168311983305858,
          0.6993240897853077,
          0.005947641720682366,
          0.38555587844902434,
          0.22159351336024677,
          0.07876293892156341,
          0.0026371279457436036,
          0.4937367403997946,
          0.42492994646497567,
          0.502840015581153,
          0.07270114398702109,
          0.023080297548316305,
          0.7056133420690134,
          0.6768994162319918,
          0.9601447291754566,
          0.7135872571279289,
          0.5923093667254732,
          0.10554578860513787,
          0.09427466579365464,
          0.36322629311509,
          0.02935517848334381,
          0.08064791553761116,
          0.25883712474634935,
          0.18955382504400478,
          0.02132748448691053,
          0.05293457916836283,
          0.017871823520771067,
          0.10210869978765097,
          0.5760903030394516,
          0.22435113203668158,
          0.015526440290758923,
          0.7015447776401227,
          0.1880656232382766,
          0.02274847157146599,
          0.10300962154825036,
          0.5623975007505272,
          0.3472920431220736,
          0.9397989945048857,
          0.46709263721036176,
          0.05538673356630702,
          0.04297946784541331
         ]
        },
        {
         "marker": {
          "color": "mediumaquamarine"
         },
         "name": "Top 20%",
         "opacity": 0.5,
         "type": "histogram",
         "uid": "e652249d-e919-4e8a-ac3e-5dea2eee1d4b",
         "x": [
          0.9824598386555046,
          0.2316737569534865,
          0.7650120189502233,
          0.9380946652902103,
          0.7397868172416858,
          0.7022320935592116,
          0.8817562076016248,
          0.577339506042596,
          0.5286009164435689,
          0.8690309309679752,
          0.9790049182632927,
          0.6994163462810062,
          0.7900243299914183,
          0.26393957944927754,
          0.10110018896860057,
          0.9032332897661929,
          0.7817115897702043,
          0.7194326581684739,
          0.8930144770632619,
          0.9141816918580048,
          0.9285271745450788,
          0.918003881356022,
          0.9596473402691256,
          0.8918082371510799,
          0.9808986148814055,
          0.9054639512863657,
          0.9815425744451388,
          0.07340807123756876,
          0.8931274489723913,
          0.7450774532055771,
          0.6000016965950201,
          0.8363602277129987,
          0.94033928424385,
          0.7831402083585848,
          0.5918774967857848,
          0.9297563958041174,
          0.9932218626340454,
          0.9567309666257082,
          0.9863799512201039,
          0.9891513023034161,
          0.9737759263073185,
          0.9890367959100467,
          0.6362274921431916,
          0.9961751605078399,
          0.9483876910948437,
          0.9824401670085234,
          0.9746243690400633,
          0.6984251024104369,
          0.9662442437292607,
          0.8486119443570573,
          0.9520568206324381,
          0.8942297880725584,
          0.3768639615501978,
          0.7635106205910351,
          0.9451459308476997,
          0.6931733155081409,
          0.9527794323001143,
          0.9087164219780774,
          0.9631797007785063,
          0.9868596389674185,
          0.8240632440150651,
          0.9835704612532468,
          0.9616515017140395,
          0.9736786585420456,
          0.5633903524169112,
          0.9137551529289215,
          0.8624053958417507,
          0.9928160007403878,
          0.9806522033080295,
          0.9877287743569452,
          0.9317397494129064,
          0.6604759028456962,
          0.9878322985796495,
          0.8801460841606378,
          0.9698818219890976,
          0.9092919646669632,
          0.9961906200208972,
          0.21293149628834399,
          0.6827446252469805,
          0.5344795615530478,
          0.8160997688662079,
          0.9548467652882092,
          0.18271547342071195,
          0.9830372650229424,
          0.8988813237475483,
          0.8239721596845866,
          0.05163998515613768,
          0.04199940378324282,
          0.8701445631581585,
          0.9803681874751151,
          0.942216368267948,
          0.8933950665766114,
          0.27487771187664406,
          0.5578884363497385,
          0.8434404644323074,
          0.974465760312493,
          0.8733485514664885,
          0.9357926534273932,
          0.5404429332333669,
          0.5199247556677695,
          0.04768018565363327,
          0.6980530899370168,
          0.28506555901641567,
          0.7533449810961476,
          0.9765882141510303,
          0.5835278535059462,
          0.6724686691152332,
          0.5259105714637484,
          0.3721531215780204,
          0.9816806609458761,
          0.9751548190785742,
          0.9906980740120892,
          0.7758118421223358,
          0.7330275030507072,
          0.3728432185319839,
          0.9079235884558594,
          0.9585653496048823,
          0.7370750889642953,
          0.7289917982737345,
          0.7382623409232327,
          0.631459379140217,
          0.9662127530304907,
          0.9987921378220358,
          0.4447769002439766,
          0.8481200457368735,
          0.5201875929070989,
          0.7594171996311722,
          0.9894203180963491,
          0.9126124075256117,
          0.9186975837967862,
          0.36112933281923393,
          0.8782352317870435,
          0.5697674525534661,
          0.26202204827621245,
          0.7970664846019673,
          0.8857632077229618,
          0.9649734464957684,
          0.923369809135934,
          0.6135331307117554,
          0.6002608400726229,
          0.8372932619654673,
          0.8846260304891964,
          0.8345510654769682,
          0.991646260235291,
          0.9568686832497773,
          0.5580295212335815,
          0.9588219022659228,
          0.2908374417840817,
          0.4293157913944786,
          0.5470764549982031,
          0.9947820497873048,
          0.4294150218639846,
          0.4504872695593011,
          0.9417945118392169,
          0.0320270969560221,
          0.7902317135363724,
          0.911493134501313,
          0.5300302925400301,
          0.031655687009528116,
          0.9160506780927289,
          0.7718233117897262,
          0.9494745032523619,
          0.6192977526989675,
          0.8982808873057659,
          0.9500792639583121,
          0.7337368882433227,
          0.1398073339466871,
          0.03747915930587218,
          0.15112456368021718,
          0.9875431902472148,
          0.9536283902143311,
          0.6044674127352844,
          0.8592571648810143,
          0.9942826826123653,
          0.669274036067869,
          0.7745336429236694,
          0.9672786336877945,
          0.9783299354280578,
          0.9629362022870143,
          0.9875177406534827,
          0.9124902708197484,
          0.3094037534853002,
          0.942749308056819,
          0.9249215188159092,
          0.9935369021637619,
          0.9803451318660893,
          0.9299883763162455,
          0.9441230731479925,
          0.333403983954027,
          0.8030410605581652,
          0.36479346217976527,
          0.9917846048212989,
          0.8785274814468637,
          0.917672993816999,
          0.9165743760550625,
          0.9872257083221053,
          0.5905944512150921,
          0.7649497651303743,
          0.9870070715334923,
          0.815566450026387,
          0.993372025516796,
          0.985603646682109,
          0.8387358117092577,
          0.9758168988114354,
          0.2903596759095143,
          0.7423877511909593,
          0.9713991139871344,
          0.685276487625599,
          0.6521477559503956,
          0.9741791255797314,
          0.005905499241566759,
          0.8488303945672043,
          0.9928412125240279,
          0.4969063125823713,
          0.9743375824681776,
          0.8876688106143603,
          0.8792502495537609,
          0.004145205431659613,
          0.916503960540921,
          0.8942325421962517,
          0.9675925086516673,
          0.6388866428112129,
          0.5430028373339253,
          0.1404267462506794,
          0.2289703507842986,
          0.7318749930364123,
          0.9274566586069389,
          0.5974825302909218,
          0.7051373092855202,
          0.670538084588559,
          0.9000787224519115,
          0.39711650615503996,
          0.9908235987603808,
          0.27815124066061536,
          0.9647299076195834,
          0.6633858037742467,
          0.7873140532475016,
          0.9529190262151984,
          0.44601889016797935,
          0.9932272477902299,
          0.9733909236675389,
          0.9823744056696199,
          0.5315240746252555,
          0.8955921077019585,
          0.6373744820111863,
          0.7329689327927461,
          0.6727392085956422,
          0.8984489815269355,
          0.9549477137751821,
          0.5872208322896812,
          0.20807373922467942,
          0.9333405088012016,
          0.9036934680513199,
          0.4203420342639158,
          0.7027891333738809,
          0.5494716014732935,
          0.30909383924454586,
          0.6609245231118307,
          0.8696219246860747,
          0.13992963353112467,
          0.9840978030178259,
          0.9601342856110724,
          0.9042277771810328,
          0.2707658047019342,
          0.9631118923062767,
          0.9726740014489277,
          0.9736636315609017,
          0.9142581336867031,
          0.8476155745569783,
          0.919641623867351,
          0.9524742324522847,
          0.9877118481765793,
          0.9447087853805926,
          0.9754285217896109,
          0.9938753947895491,
          0.8067012818538696,
          0.8770252479089852,
          0.7343568781925478,
          0.9365260296243856,
          0.9149890513824446,
          0.8364450895414713,
          0.9894544424506667,
          0.9553601314081636,
          0.35107711946045544,
          0.9822160691297023,
          0.45334149826490183,
          0.940501031707938,
          0.9791508219991527,
          0.9790012408823774,
          0.6801024908127019,
          0.7428450418789688,
          0.6416213652564774,
          0.36164747388981006,
          0.578873777465262,
          0.7232271020109335,
          0.8943019925392255,
          0.9201039490647029,
          0.9675825168098748,
          0.8036437469989756,
          0.9232282157068412,
          0.09928621722064886,
          0.7113164666358426,
          0.8762873271838674,
          0.5852232492283802,
          0.6546380637315727,
          0.8392526866394016,
          0.9072503544993461,
          0.9886547599242395,
          0.7564112586341271,
          0.2176969070692889,
          0.9589033507602567,
          0.391857189547765,
          0.764844553054289,
          0.5755344127133174,
          0.9456038866864905,
          0.7407027514724328,
          0.044828967386748415,
          0.9485811731789264,
          0.13020920396139163,
          0.8883969101353911,
          0.9864361944666362,
          0.27019099485096476,
          0.9391882267253323,
          0.6598372769982159,
          0.9901760385980466,
          0.11541114257444536,
          0.5767395940482999,
          0.9732568726313833,
          0.8655555094448317,
          0.6713318578920318,
          0.9918002830430961,
          0.9103376744470766,
          0.24737899401213193,
          0.9873635135689589,
          0.9826746985391772,
          0.6920488578756939,
          0.9783873364470362,
          0.2806811989634222,
          0.9757601382479322,
          0.9510728436247115,
          0.4941650738097773,
          0.6401039880314755,
          0.9122782122767944,
          0.95879494819204,
          0.7754824148629711,
          0.9756654047577714,
          0.9154036417291639,
          0.9097827258242611,
          0.28070410351813124,
          0.9628036730023201,
          0.32201419868058045,
          0.9238642493633397,
          0.9718984762420373,
          0.9242778482837074,
          0.994589246001313,
          0.5283080385974614,
          0.5167114083234449,
          0.47552193817439464,
          0.843415944642645,
          0.8702619313071207,
          0.7843780138162297,
          0.7762448461577113,
          0.9864760231221733,
          0.8089865954528659
         ]
        }
       ],
       "layout": {
        "annotations": [
         {
          "font": {
           "color": "gray",
           "size": 13
          },
          "showarrow": false,
          "text": "The 80% less paid tend<br>to have lower scores",
          "x": 0.2,
          "xanchor": "left",
          "xref": "paper",
          "y": 180,
          "yanchor": "bottom"
         },
         {
          "font": {
           "color": "mediumaquamarine",
           "size": 13
          },
          "showarrow": false,
          "text": "Top 20% tend to have<br>higher scores",
          "x": 0.75,
          "xanchor": "left",
          "xref": "paper",
          "y": 95,
          "yanchor": "bottom"
         }
        ],
        "barmode": "overlay",
        "height": 400,
        "margin": {
         "l": 150
        },
        "showlegend": false,
        "title": {
         "text": "<b>Distribution of Scores From the Top 20% and Bottom 80%</b><br><i>test data</i>"
        },
        "width": 800,
        "xaxis": {
         "color": "#AAAAAA",
         "showgrid": false,
         "title": {
          "font": {
           "color": "#AAAAAA"
          },
          "text": "Probability Score"
         }
        },
        "yaxis": {
         "color": "#AAAAAA",
         "showgrid": false,
         "title": {
          "font": {
           "color": "#AAAAAA"
          },
          "text": "Quantity of Respondents"
         }
        }
       }
      },
      "text/html": [
       "<div>\n",
       "        \n",
       "        \n",
       "            <div id=\"4c4b2aa7-48e2-46c4-b646-fb03d6f4f57d\" class=\"plotly-graph-div\" style=\"height:400px; width:800px;\"></div>\n",
       "            <script type=\"text/javascript\">\n",
       "                require([\"plotly\"], function(Plotly) {\n",
       "                    window.PLOTLYENV=window.PLOTLYENV || {};\n",
       "                    window.PLOTLYENV.BASE_URL='https://plot.ly';\n",
       "                    \n",
       "                if (document.getElementById(\"4c4b2aa7-48e2-46c4-b646-fb03d6f4f57d\")) {\n",
       "                    Plotly.newPlot(\n",
       "                        '4c4b2aa7-48e2-46c4-b646-fb03d6f4f57d',\n",
       "                        [{\"marker\": {\"color\": \"lightgray\"}, \"name\": \"Bottom 80%\", \"opacity\": 0.5, \"type\": \"histogram\", \"uid\": \"02201d3e-bb08-4191-b90f-9b53f82c284c\", \"x\": [0.5994872011876192, 0.11718456605658506, 0.1065691649169762, 0.12074423332486889, 0.004640464609057245, 0.005174349612034873, 0.016698699062066787, 0.1501685548040909, 0.007308083854619649, 0.5406988687468177, 0.8162852254815683, 0.13126066327027494, 0.052062084499605255, 0.011895880065277762, 0.8468539670549466, 0.8735191753092235, 0.01123396669992178, 0.07328879071625065, 0.5016893494139092, 0.025998458795668575, 0.13890909082382003, 0.639850480493799, 0.1421296867618669, 0.03334421222906891, 0.29397897889390273, 0.02690453609404978, 0.6100300065790287, 0.18468851385766216, 0.08087579849297186, 0.4693034586969928, 0.9837380388180115, 0.240913216361117, 0.12028002124196499, 0.2642059203171319, 0.027371157086460454, 0.15302164869678808, 0.561455132889543, 0.08111457287861494, 0.34954137789017337, 0.3612733935953358, 0.011389893010204108, 0.5595820854664646, 0.9655954911556227, 0.2678905877153243, 0.8516218058211341, 0.00724099708564478, 0.03712455297746883, 0.012742461623453941, 0.25886379850578844, 0.018775305526607288, 0.771132396303489, 0.15969035406086957, 0.0018166454572760055, 0.2288931656099544, 0.012810254627273776, 0.31806123589653973, 0.5640433150862209, 0.4687116124724311, 0.02958916081855208, 0.07847667288951367, 0.29532197989592934, 0.6883119237330341, 0.4580643767257735, 0.584998791185166, 0.2828130547341075, 0.5001832130947247, 0.5346777152648594, 0.2436421458906801, 0.4341404915030657, 0.19929701985453102, 0.34704118853117627, 0.3202430609899923, 0.06823679138936524, 0.746968465701391, 0.030713434055004332, 0.23568996810191287, 0.5122926956574826, 0.2611299868469585, 0.8780949587587772, 0.1215260731963131, 0.0558703813514833, 0.07305952555237802, 0.0014804963554228806, 0.17946608435586625, 0.3055749883364027, 0.2131370904398371, 0.08508989141446124, 0.07159381843164575, 0.05718995532257973, 0.01643279174762718, 0.11387079814970578, 0.09896287761012831, 0.40708885880830226, 0.007893228301614128, 0.0068034054916742215, 0.2380757105819021, 0.03023116958977625, 0.017139450923223224, 0.3193352393206852, 0.004673913187505887, 0.505165184215542, 0.31991849761726915, 0.010766904970892483, 0.383376743580507, 0.03446537858927004, 0.5343298471306802, 0.03429497831181051, 0.13888406951604504, 0.002967534815513874, 0.08766884962462874, 0.015162635266542424, 0.011363653807293234, 0.15504873594762206, 0.011625179611391976, 0.03598187640823369, 0.7395856724261981, 0.8009073030333356, 0.5728654014583668, 0.2196065082930241, 0.0068746709540877995, 0.8340717036633748, 0.22723390674994084, 0.07926768040552463, 0.6812749666560727, 0.2074810513036202, 0.04861110892604921, 0.34995660017732205, 0.6452184762477783, 0.2552770097583151, 0.12226135497019322, 0.003169373727470017, 0.15631160919978024, 0.014351578604703963, 0.2946344494356344, 0.08677513497836739, 0.03708298143831693, 0.1436513389464804, 0.008108032425032703, 0.29443090442502307, 0.0068194842527340505, 0.010095566237539296, 0.022343971031753354, 0.06425011761161024, 0.03542095261918635, 0.4468787074377476, 0.6073422256133506, 0.14668723352432228, 0.032953207631292544, 0.5910434779989869, 0.11576472756992962, 0.12733083974165327, 0.09661296254977329, 0.08447698596676559, 0.09952483705979016, 0.05906895171416064, 0.045807746794587, 0.06056948445005786, 0.02326884792394312, 0.69153995445732, 0.3501151378729143, 0.00263462470201493, 0.3099735075332467, 0.1798690256811147, 0.3003799298858484, 0.3227015659669455, 0.18955817912839001, 0.40720806975906476, 0.24862635410728576, 0.029455929267963633, 0.5243166391466383, 0.6446557720964982, 0.7401279597361926, 0.0031420836328797737, 0.3783192651019602, 0.9682654903830257, 0.044373597990934245, 0.37382177529127986, 0.16205170660170345, 0.44973855711413196, 0.022512668567543144, 0.12469719780450703, 0.015613621521390833, 0.05240059875018153, 0.09202992770183055, 0.5772815752539091, 0.030940432867616045, 0.7034411104378444, 0.18598293364203658, 0.8576964539042862, 0.08820245668828967, 0.8499560657345254, 0.004488846001134328, 0.07980910515352714, 0.07671367927324733, 0.004737474280270257, 0.5210424033823989, 0.7760360048755329, 0.06987028382222744, 0.04084401849278901, 0.013766581889225115, 0.08722146109157612, 0.4139447237469834, 0.4362814433721937, 0.03211472977811682, 0.10428784785402066, 0.11642277778324446, 0.4399020347431963, 0.032215962526564515, 0.8298534625460254, 0.05008062677029417, 0.006073696119062275, 0.1946528852317267, 0.026965494033693523, 0.025209998643262236, 0.7968961311475915, 0.05620499758886441, 0.016491463033722103, 0.15639416924260013, 0.05195478595910721, 0.323232697492117, 0.5054377604699329, 0.22806849862241876, 0.16048983262489666, 0.6236124393190404, 0.2745775630697733, 0.11271169470335626, 0.5416276218949803, 0.05717510076103733, 0.015446574691614005, 0.06898584087070864, 0.2630012848489588, 0.17059748257211182, 0.014300143201685881, 0.08141680418162166, 0.3229503271896182, 0.22650058494309575, 0.015582153966079699, 0.10708179284237745, 0.5391633738655481, 0.23427556573024325, 0.47704667428658976, 0.6657179281057645, 0.8222689186509748, 0.26555379716582256, 0.05727838503717144, 0.917657740165372, 0.5017228866191042, 0.7641282380893184, 0.014350449938743369, 0.14451297823456646, 0.02835983945292037, 0.12868505362345725, 0.21046191704825584, 0.015192913186501776, 0.10899883881126704, 0.36823258595641045, 0.9110469957180232, 0.5758150854287584, 0.03245456947683159, 0.24659118684186443, 0.026794811633517754, 0.40109733609060183, 0.06545157322549996, 0.7696795923721643, 0.4624957079053537, 0.9456442443249564, 0.175275356326866, 0.45063971191683433, 0.016502002354110777, 0.10384606576189974, 0.14648116628394958, 0.021028442442410342, 0.3573447420506528, 0.597322400464877, 0.057626914157194654, 0.22959734055309086, 0.8619872574620085, 0.07602210898568053, 0.23773720794897465, 0.13648813093351106, 0.43598166901856067, 0.07383510589708678, 0.896901124538922, 0.5300473574266822, 0.0059731503328086626, 0.1235135393457909, 0.7837530777232069, 0.06326638698790682, 0.006903591560564061, 0.3577460323068823, 0.10327069428442215, 0.09004001633262841, 0.28302538313228004, 0.21365591930276231, 0.1333739785907808, 0.0037554867673054216, 0.10934428536049615, 0.027382989118802843, 0.5054442163682893, 0.7185912243748374, 0.008768181379997514, 0.019600813004690514, 0.044114326107623565, 0.024281037154516304, 0.019255574854486136, 0.12254161884824989, 0.06603740381659186, 0.20320235009930374, 0.06353385844560808, 0.06841156299284418, 0.0072953629561965955, 0.08192944022143589, 0.6284414848089357, 0.07996473855925457, 0.0040762308009960405, 0.019084641394687817, 0.49163315666588214, 0.7125610773428918, 0.004964804291893923, 0.04629277231490663, 0.006164538494858037, 0.3365305832107424, 0.48609194882208984, 0.17764412811872662, 0.08302378589160019, 0.033090922359852976, 0.5246673363758089, 0.7773212293612425, 0.019304671767789647, 0.4557799083153596, 0.43229173772232604, 0.009556376828613298, 0.27075438423722187, 0.003807437075411783, 0.02790152625848138, 0.47456307771090767, 0.05816743767513954, 0.2642436791034726, 0.3865339910669325, 0.09699081741421935, 0.0066944569197301025, 0.12559313758351454, 0.018716854752260682, 0.4475045366238579, 0.15588110101265215, 0.5331606644788192, 0.4116981954078452, 0.3306456956363045, 0.245608956423761, 0.009015203752279795, 0.14707308705319638, 0.017655949386087957, 0.47579140561979555, 0.15517827973279552, 0.6049346167111492, 0.01592844187765845, 0.8168755113404503, 0.015195134376527539, 0.08500692193146979, 0.00752550764987266, 0.1968700549209014, 0.5592403968459433, 0.4246677154446915, 0.03187696049146731, 0.3018584631342485, 0.0004358505967690743, 0.28435466023149164, 0.18938081871396326, 0.10119237904765455, 0.05900460725014553, 0.016705964284978704, 0.33071177930204615, 0.3052606772155772, 0.32375083392117415, 0.390289004832681, 0.3675534656014111, 0.07860167715114419, 0.6096229645063962, 0.01629748880517976, 0.04661277792079615, 0.2329144395013958, 0.0175730757365474, 0.021648071301994986, 0.4833921124771455, 0.016434170644136572, 0.05248467226796584, 0.32970552328986724, 0.06549053758834632, 0.09431048978169923, 0.5120442953251448, 0.39846338122466585, 0.6575052474396931, 0.7363986345029361, 0.06183789995615733, 0.06095465000003412, 0.08231486166922655, 0.14412451644066523, 0.14497805678563566, 0.9291927946897234, 0.7726011683345306, 0.041220363554144455, 0.0310592721956912, 0.15226566704598582, 0.06199088284245037, 0.007566802933579714, 0.059510340403968916, 0.1689700822032978, 0.3611367187679277, 0.23422549212239727, 0.4300061971558933, 0.38846806570221193, 0.11276750362734635, 0.8706814870296886, 0.012032856611026885, 0.1812172829402335, 0.574397295377547, 0.2726735548649315, 0.29129918692517676, 0.25903399406447203, 0.0024633359057617443, 0.21367598012764408, 0.8100656892247804, 0.1054846938088796, 0.12317986774355516, 0.07937706254794508, 0.8213989693583026, 0.041744188376850275, 0.2057726836719019, 0.004519611716645042, 0.5187616825385343, 0.02412905232545129, 0.015019234600343847, 0.06424426986897452, 0.029955717432308786, 0.42796615751499273, 0.020388885585362466, 0.040682036760684416, 0.119772098250893, 0.018951858704410626, 0.3022512906839053, 0.09205227419166312, 0.09479187026409201, 0.2689312076496869, 0.01605996540946358, 0.12072487841084481, 0.6798033025407826, 0.18114298635263287, 0.07500653981425111, 0.3118510240802553, 0.14094231183406614, 0.0472577337910162, 0.5567187122644062, 0.10023707024669283, 0.08276007627741501, 0.3472852747407742, 0.008554528417694749, 0.30240727933697203, 0.4996013137633892, 0.33332725119627465, 0.5278327295063815, 0.09224222058703616, 0.5421079700223702, 0.1333850757245168, 0.773240020957655, 0.5843109700372398, 0.10278934657533428, 0.003203375676732213, 0.17140647307178258, 0.008004212863929947, 0.010802498985894247, 0.5400125869806864, 0.026425066286436028, 0.07148102224416934, 0.11204641917318826, 0.3113600669037113, 0.2696302312409118, 0.04031032211888015, 0.06892920853433028, 0.5079643608389648, 0.01984649821785809, 0.07159894951668015, 0.12923431125752846, 0.0669718280437873, 0.7926777194647789, 0.02178677175896176, 0.8365766193116064, 0.2999868043172005, 0.10555401890788103, 0.1697546516827689, 0.4692804844983233, 0.2983116738598371, 0.15632581004219548, 0.010191357350568411, 0.9697298324283554, 0.12692828598835826, 0.27667087684141217, 0.9476257745031558, 0.009707565309925715, 0.34436067735032594, 0.3234806169125431, 0.2335600601044341, 0.04826247447162165, 0.08549687399123669, 0.13008915870691118, 0.020826563847603237, 0.23559461359813694, 0.012574656024723917, 0.013088062513535106, 0.17940733908109757, 0.28470131516920616, 0.007838582877263791, 0.503107967140331, 0.006224797464193309, 0.1379173017446489, 0.13709729482597288, 0.34047819570708043, 0.2116985337477615, 0.1374211721354212, 0.296265388012106, 0.04564387709017064, 0.6611740833389823, 0.014077750138928445, 0.06871910070751537, 0.4395919970944874, 0.4578733127356702, 0.0014581401455771425, 0.01822724542809659, 0.958260227461446, 0.67082395970336, 0.1690309797725014, 0.006589645440702585, 0.008108032425032703, 0.12548641563367416, 0.07403627434001539, 0.8441877642353006, 0.18177929088543646, 0.4910489005795275, 0.14581481879560643, 0.012017241240486509, 0.0999705122370666, 0.10873529515509102, 0.45402666907464795, 0.08655739021728645, 0.2763076598278785, 0.25064785771571646, 0.04345991837011188, 0.1648648728434374, 0.0014193624517983496, 0.1143136731154665, 0.10747958365619141, 0.1306087770216656, 0.022419917951618767, 0.8471774847390271, 0.028114401493200637, 0.006442604794464588, 0.4011234979478727, 0.04319336138054069, 0.1939536206116229, 0.22370124422224896, 0.36327460823597335, 0.05330351332664035, 0.3299489109827258, 0.821371844027672, 0.27553782284006173, 0.15297434501962787, 0.14889037202642164, 0.14643723928254612, 0.04184666490609782, 0.01511829817039978, 0.07469633681191214, 0.566353325532546, 0.01942552199381857, 0.009540646946639662, 0.4403854892283475, 0.11243746870461874, 0.06474528136363344, 0.19547178470109183, 0.6142652257126623, 0.1050886395237291, 0.5942337151516524, 0.1392206904024237, 0.7694538023178181, 0.45063265397030733, 0.26284498881349533, 0.2363402914096234, 0.012920155489803357, 0.07407333709214337, 0.6867815555203928, 0.42737411150860627, 0.017133538250953546, 0.023944185976263965, 0.049734145982568215, 0.02945760010421357, 0.11523634586998945, 0.4188933447752548, 0.2684741632076056, 0.5684649664957021, 0.24584029451076866, 0.1755588922808723, 0.5892869797114454, 0.28353100985765234, 0.26706266730025846, 0.20155229073540643, 0.22200771029462515, 0.4107382310209677, 0.0055709277848624405, 0.05641397756166477, 0.007204783910885983, 0.650668871194736, 0.27366093015753384, 0.7792135554023332, 0.665954579008587, 0.2669135892838668, 0.5557308977735465, 0.24143291252566532, 0.06259071140578859, 0.00452682678313706, 0.006203340659813346, 0.44012356024819826, 0.012809345857786751, 0.4838080499921519, 0.041613501172758756, 0.10276153807789619, 0.9883626283280118, 0.2375185703247592, 0.5154295238011953, 0.004585523813381113, 0.006439164251915258, 0.19888531620268235, 0.4046034159477616, 0.7282966454568062, 0.00407753274744323, 0.15403920162116636, 0.007882181392925552, 0.9145606226059909, 0.14207512336119119, 0.06574161236054897, 0.6226028183591914, 0.4925503034358454, 0.05413586102192908, 0.2509571063526866, 0.36778690962389443, 0.4489372359733194, 0.08793405986354133, 0.758888618764604, 0.03573788453321098, 0.022988334505870917, 0.022303494559137438, 0.012973171357409163, 0.0017358616272483834, 0.011579529762678007, 0.08854547789260496, 0.45925133416549885, 0.2793228894123535, 0.9696598344890334, 0.13695086067282403, 0.25354104494065766, 0.0440857501849712, 0.35811096398950387, 0.0976215790729324, 0.20071347981254745, 0.9100546031233763, 0.7635520156227478, 0.0022411257027772622, 0.03910255672211962, 0.9326067548255195, 0.14553880848646453, 0.6588091654472008, 0.08907148353637097, 0.7040451610619881, 0.016909570175773086, 0.10687717130136318, 0.06472835573769636, 0.4131296269905141, 0.006330132427765808, 0.6562108429600972, 0.01666761013428606, 0.8599984980090164, 0.1919958985231691, 0.004857415265618014, 0.13615652728986222, 0.9234832748744993, 0.018021617868779427, 0.10418701368272172, 0.013277638154779342, 0.34722276714311323, 0.01161631222072148, 0.9276552816251742, 0.43902311880511147, 0.5086314465175399, 0.19347631028194645, 0.44884415503570974, 0.9583030748917678, 0.5436956201076812, 0.8255050523865615, 0.11970885107291139, 0.32305653974723203, 0.053548986748644015, 0.02511510530691888, 0.1931396313073573, 0.4726505394880529, 0.02465668406119549, 0.15224258569539142, 0.9135167317160842, 0.016136507326512152, 0.43282554670364237, 0.12766186178972094, 0.08578819647960192, 0.05896333709819181, 0.20440889739306764, 0.032732096071468694, 0.10634820221796591, 0.2734116493405618, 0.0246851901577598, 0.016572969439918393, 0.9356099108411737, 0.15018171778640188, 0.04638912960339752, 0.35201902040599703, 0.9316068399710685, 0.8543859022235424, 0.0013810456009370213, 0.623354270975191, 0.15209693646274589, 0.6014176222477545, 0.015359081003394713, 0.013387751137602977, 0.06163391156435108, 0.1371514791356602, 0.695107363577983, 0.011682718677960051, 0.45661176334664444, 0.0023049904933753595, 0.10554055771163785, 0.10694483835529024, 0.07274365999768378, 0.039960483509332595, 0.38736162086467835, 0.020114287445422565, 0.09142169131311888, 0.060144597089100915, 0.14668723352432228, 0.1535007057350012, 0.017134479643049816, 0.2608608957457119, 0.21803045687355693, 0.017952155381066075, 0.9137745743611435, 0.3460848929804414, 0.2401217700205437, 0.018286811654629576, 0.7913590286712328, 0.010028631107942875, 0.3044659809987625, 0.10682342520840049, 0.0018827567814103847, 0.1607956682612679, 0.021174133739484572, 0.04346618144408398, 0.6207810040777405, 0.029145510258616333, 0.07931201057866503, 0.009957064977112118, 0.4023378215704434, 0.09094912232603408, 0.05783040344077924, 0.2803906052296826, 0.351918021042142, 0.40302701070940866, 0.48466090553576996, 0.06044430678607301, 0.7868767739695401, 0.01974061213515912, 0.05731468638403744, 0.03123839721296276, 0.028624653485493076, 0.15308894967255504, 0.3687012675515487, 0.08498809475535898, 0.022530254969766506, 0.07605683845045938, 0.7081682401881829, 0.11347918670464013, 0.024677685924481094, 0.07283583589112098, 0.24621310482159794, 0.04134496775909974, 0.09709055290969051, 0.049770774275774136, 0.2408331583353539, 0.19545363266294455, 0.009609533083726153, 0.4792984950579321, 0.36127549080424115, 0.01032113192458251, 0.12157172902923812, 0.7202182084437351, 0.016943781424764433, 0.0575579977929753, 0.04809517327826401, 0.22870335916422957, 0.01279332747185098, 0.1798108215694336, 0.18689019720659072, 0.3656038866456736, 0.0036939610250162507, 0.5574855168507866, 0.08037070061522984, 0.06787451355846534, 0.01716382832473484, 0.1287221680458284, 0.40041192444022444, 0.23972737287946178, 0.703213259046984, 0.12793514231247344, 0.5565575967199281, 0.8207460078167338, 0.08820136503516732, 0.9278098216702142, 0.5905811039848073, 0.0015110176118684755, 0.06704814994221885, 0.13501908630690349, 0.7853301471099486, 0.022614213973250585, 0.01157221325493851, 0.9498298500426924, 0.001688706348185798, 0.17221686294687624, 0.020491964808816487, 0.0325548215931868, 0.913700587200116, 0.003559947887448758, 0.7897805416087617, 0.27781848174717033, 0.000727412202743016, 0.231003017119702, 0.08930203299764236, 0.058575515025426364, 0.08060916989644891, 0.030868565175779357, 0.08373994891123611, 0.33915997709081996, 0.7774047260895592, 0.6016833164531868, 0.047236536207943464, 0.10232831135889128, 0.08447714968784961, 0.32607595350653723, 0.012202093827237626, 0.3504805383128468, 0.43815063602162746, 0.9191123285019878, 0.24531144560930837, 0.11350358292874288, 0.01903865782544354, 0.29062842915363424, 0.3082822319297709, 0.287625942010542, 0.6354983695571493, 0.08283915472910974, 0.010828362486628506, 0.005138385247316738, 0.03357063143859572, 0.08202824253656259, 0.11172942827349414, 0.05798982903119618, 0.00821152337632847, 0.02493146336199635, 0.633498185037639, 0.01233435177677865, 0.6359776136652465, 0.6073325656696428, 0.3738934632646392, 0.0500445781194985, 0.0030057030820825987, 0.4042860559946515, 0.16036858450026525, 0.32230713746627965, 0.19219219589720113, 0.192947792034564, 0.07683587392346175, 0.2092637378180053, 0.039881464829183914, 0.021133464838052982, 0.2806913314113608, 0.06603769616769466, 0.11127812600234836, 0.20088634904690653, 0.10817527162876624, 0.011612164613021236, 0.06291260055464451, 0.009038859960885317, 0.6602882386740813, 0.5063834554825142, 0.014701571644247178, 0.14641086003626277, 0.47907122577224903, 0.39120969722768323, 0.03902715104450225, 0.11017529781722502, 0.024594620488032615, 0.15957649272449595, 0.9150781558428994, 0.01780665237006439, 0.37262532048926844, 0.03896587735596518, 0.31519820357266465, 0.33115433990487886, 0.12069383859685373, 0.2877851409497504, 0.5563284379211983, 0.12915250308320833, 0.19380582759630738, 0.12520158868635917, 0.13103079345469712, 0.18216626596520283, 0.032688663655191755, 0.0009956881388195954, 0.005385286448633952, 0.09479182297418301, 0.12884499919345055, 0.06824595371616561, 0.029281768952204013, 0.12062457191812916, 0.01573367772556842, 0.6899807124649406, 0.4315371877955422, 0.004187638271546339, 0.021732389031677655, 0.5723850000926475, 0.005672885013110131, 0.005968162737871582, 0.23691712224196854, 0.020523605209668446, 0.1297221812618155, 0.06487852646718138, 0.03838270950262062, 0.6862399703771633, 0.004242417624679263, 0.007421973444107938, 0.011154825130127539, 0.8319235212525941, 0.19765577702516413, 0.043184941838020505, 0.07288181080038098, 0.005338998642078489, 0.005494359402809162, 0.10642601201695664, 0.8886947590821316, 0.007011038617971405, 0.02155592865790517, 0.018745335088217716, 0.09395134203200242, 0.2754869278577847, 0.9560016544635882, 0.8053547592720659, 0.47895644375516044, 0.1191713278785974, 0.2751306690633108, 0.049833420383529364, 0.41014735307011674, 0.09379506958250208, 0.4086687788775116, 0.0029749877995527588, 0.1890411664320042, 0.04153036285162726, 0.015213762551293331, 0.060234518366582265, 0.017017483796212075, 0.003342751568228749, 0.12359098156104496, 0.046955959826579116, 0.29276964549631523, 0.013852366221791139, 0.0032437954006206936, 0.5178864037512609, 0.04639953517529872, 0.12499905331208097, 0.6829113130086515, 0.00303222347796336, 0.10147438527547988, 0.21637322881656265, 0.01140743533645795, 0.4447788615917108, 0.030357046395245234, 0.7117352944088711, 0.4158973497601163, 0.0027550638102702505, 0.9876841427935009, 0.6292505412088388, 0.2962396793976613, 0.044779306696301244, 0.18611253454148158, 0.027183701789697434, 0.5199238668103912, 0.9666380101155833, 0.007980969933012335, 0.1409373497959353, 0.024616727288459025, 0.105897005789368, 0.049128921075434186, 0.16827537411564797, 0.024604826181999728, 0.02979023659885356, 0.010318090184900897, 0.556140265021515, 0.9143733499257354, 0.14765920952862518, 0.17040768553272523, 0.6951946780660018, 0.00868926271863495, 0.08736720616127765, 0.0314657791270541, 0.40840337640498275, 0.3318513327001539, 0.961449068454644, 0.20481935224306175, 0.899982298437836, 0.005458367823093433, 0.0022009807705106062, 0.08387735603754808, 0.2616792188161026, 0.44279638117767267, 0.6492747247516221, 0.2844726908239141, 0.025078979615467126, 0.5983367950386611, 0.01118643845725403, 0.6339586629291248, 0.04352179680378243, 0.1035048440236093, 0.046944999480090566, 0.027227222332778137, 0.009663778419767066, 0.16728261997789057, 0.003681493842689607, 0.0017578526930169848, 0.6614327484571889, 0.006615688398774427, 0.18125925590656244, 0.015179406875073735, 0.20929182864401022, 0.6258182332782983, 0.0023947414949793914, 0.08633690046213444, 0.602590731671053, 0.007697464365758573, 0.19952737144505714, 0.05133511815994919, 0.4839123264425813, 0.47964181782924664, 0.10711531773830157, 0.007143906737724734, 0.09701523865053296, 0.015536925423492422, 0.40124960113668645, 0.626106598994321, 0.32297403991766516, 0.0036226888456418723, 0.03228755470577803, 0.6800517318091558, 0.29830917126702783, 0.22987089514967873, 0.012610629778129647, 0.48624187918136735, 0.07034547354205525, 0.00802850615620313, 0.07456554802453305, 0.09948894850631985, 0.4709101176824627, 0.02580417427699337, 0.2697056920085051, 0.03461321431196519, 0.21861863509955426, 0.28678778484063594, 0.5998319255304786, 0.00793815469974978, 0.006466086097283072, 0.010713672849485904, 0.1514289812081053, 0.26626975657412527, 0.04755955471829557, 0.035866682170124696, 0.009910850814768103, 0.020958604533827665, 0.20191873667936516, 0.3158874615634489, 0.25191474272620284, 0.12960523737835744, 0.6285793219288127, 0.28158628502759736, 0.06806485226549343, 0.25336363163548803, 0.017182318283448232, 0.19044164941181066, 0.06137570079602521, 0.2113841882836133, 0.45400739000568446, 0.07020854679437892, 0.2770012907239273, 0.5386404499033167, 0.15856464241929583, 0.5251723401114184, 0.017871823520771067, 0.07202427898908825, 0.039142030760113404, 0.7602414244727379, 0.15302783526150662, 0.2243201244412963, 0.7231352443172836, 0.05347294909500947, 0.2209208846690678, 0.02263892307528493, 0.5012409920820322, 0.3527130345681525, 0.027940230055378344, 0.26594020518252115, 0.6765850180637146, 0.07338484898423649, 0.29631006246690605, 0.04752399703502907, 0.7344215843926608, 0.07519607981686387, 0.032025386031193974, 0.048672140950736076, 0.014827061129928699, 0.0018671407951699986, 0.5614236261856644, 0.2083185964073462, 0.37909277498880933, 0.32452901862364425, 0.052478304471281344, 0.013174120946800639, 0.05385974964541495, 0.23809511265240552, 0.012640780730016647, 0.33030505615050165, 0.6476177777873633, 0.037687654581818844, 0.30713271130591957, 0.31985413029101595, 0.05929943354669535, 0.0077662159915486886, 0.10479147429636672, 0.944232032690393, 0.1919787607332755, 0.013341883388419518, 0.8459823381173444, 0.03542195570931356, 0.49922424691254275, 0.0427245538493166, 0.40910410019837834, 0.07379772169303651, 0.6481320487105485, 0.42890570646687365, 0.08787249975908457, 0.5018850872798477, 0.012389590073228663, 0.14972224079916593, 0.010794044104447835, 0.12031204213074395, 0.1103109580802874, 0.7500828748839692, 0.061273015799796764, 0.05016077410764466, 0.6575847910558154, 0.15066514991752042, 0.1070369871593572, 0.1305929076811097, 0.28708859437926887, 0.3240231561509903, 0.35263983017879885, 0.13137804808578155, 0.6385798070557703, 0.026863312079565854, 0.03540824467130655, 0.813214474940879, 0.16103392214508125, 0.02599099079033943, 0.4669495570900471, 0.07190708031436385, 0.1125323337080738, 0.7263964412981305, 0.21539331193179317, 0.08130848106772139, 0.46571984940649164, 0.4854039557725664, 0.2556004233621815, 0.2270831277736121, 0.09843916431039221, 0.3217256700067765, 0.4742868405886985, 0.4675130611596975, 0.6985267840301633, 0.03623847473138963, 0.029307915669870475, 0.8710548220122131, 0.12999453751855677, 0.0075161400277739985, 0.459004539792845, 0.024024764976216327, 0.5366137004121836, 0.41108613785541886, 0.27417866531152496, 0.3221145021140586, 0.019128032966846297, 0.17616241564517074, 0.029030507424733298, 0.041087648882611905, 0.1482938146443971, 0.0025418133900394157, 0.017717672351697522, 0.02207611829454952, 0.028482653111072887, 0.968323910124479, 0.38437412722388026, 0.5135314633069352, 0.021477078683267897, 0.09885716584988853, 0.028425330383747748, 0.16974277856823042, 0.6415100047780672, 0.31553361457899165, 0.6360032339887626, 0.0021400083921121133, 0.3873483204390962, 0.5074201163872372, 0.010938534605446639, 0.14827189466099075, 0.00605325729128084, 0.3098485335997836, 0.06094967391634468, 0.13866343594479016, 0.23626563966552475, 0.027543599842848956, 0.7322003262353532, 0.014243927890383045, 0.8328490173881058, 0.011692554804269829, 0.7339710761822532, 0.043752451606793405, 0.4297446023259088, 0.4914745603278469, 0.6679793586072154, 0.021166820774889544, 0.03491256071260507, 0.035289362750337575, 0.29315206130084864, 0.3371631940837373, 0.9376361508803124, 0.47150681523195503, 0.004424592666632056, 0.01841016352154123, 0.3845679620520743, 0.015435459626122673, 0.24608800548374501, 0.042477929671149474, 0.7400620959653786, 0.014864723067153057, 0.10354809541537616, 0.029238449187313265, 0.08499058385468299, 0.013358586518255711, 0.0028348030031963836, 0.002046420200480782, 0.8505116951772083, 0.1372970065215334, 0.015741143595849088, 0.00151382287428066, 0.019402446482887307, 0.4359017901621973, 0.3094228330502959, 0.8466722100344463, 0.8479392037009936, 0.2185531780578439, 0.8620307191122449, 0.4235501148532757, 0.0955163730241471, 0.23964668833008512, 0.04950395130720272, 0.26511112420298505, 0.06405437950918023, 0.17092947569873365, 0.008798367981272773, 0.14875531857677338, 0.5426545124619835, 0.012682218938734792, 0.036216086764088766, 0.9517500595146399, 0.4477248890447242, 0.09845242421078923, 0.2272703094437173, 0.0014884760373602697, 0.46219754012922054, 0.04010374034099742, 0.07345970972971783, 0.12459957717700898, 0.05638435459335976, 0.08313644536189525, 0.5791739513505006, 0.4700272479036792, 0.06800081688193267, 0.026875895519624052, 0.019996624754349705, 0.8231495744315421, 0.010687008342988519, 0.013641230012619382, 0.33399866578029125, 0.2441079763833251, 0.2630408533999611, 0.202838530541387, 0.03507500670587955, 0.47663461107626803, 0.4218492298380955, 0.6113721241518917, 0.05625083806194162, 0.9051065105085346, 0.3662279305058747, 0.11825466557627992, 0.1411314487213644, 0.7982238898372311, 0.5103343712743442, 0.30620146483865407, 0.005377960376451295, 0.0021309537459449825, 0.04290351915510413, 0.7798607275920206, 0.24267433820319542, 0.7087575411741354, 0.02054814923488848, 0.03014627729762875, 0.36942421984056895, 0.5142848225485752, 0.16652663811255256, 0.2592324415321224, 0.5829856466715292, 0.11713033788719375, 0.1339658307722424, 0.6266824464048792, 0.4099803882698179, 0.010274609175851237, 0.0034374575596010305, 0.17139273935093235, 0.3030654125116287, 0.27640611775285845, 0.3121310395248263, 0.07249040321801134, 0.9517568254601528, 0.13179032865110943, 0.02156168380000351, 0.2934483986748598, 0.855411679673507, 0.038453557393675036, 0.297659419137928, 0.44037703856654653, 0.03929127083879127, 0.6308083773632019, 0.49534066450811354, 0.010906331638555013, 0.008169462431529245, 0.05986246745418202, 0.0022272587404329005, 0.03274295063776822, 0.17574529702212574, 0.02217466795300929, 0.0033482579070746622, 0.7472453610236769, 0.041073722904441216, 0.028560134992736765, 0.4410953812746019, 0.1369043630767278, 0.02392480233150623, 0.08454250081959648, 0.09433157677916806, 0.006296432462943305, 0.6319582622246425, 0.03088948477963354, 0.0866581338784291, 0.11540621978680925, 0.08186621812835403, 0.978618458283432, 0.47873246351810395, 0.9032828457220432, 0.13367859691319914, 0.027340576412310694, 0.26280289971304965, 0.8720099781870323, 0.3776121593591022, 0.012493753222839967, 0.0014590690611033252, 0.05416377861533815, 0.07013452209555926, 0.35102236425878464, 0.020273642355613138, 0.6742648716116293, 0.17411611879420655, 0.09600265180423209, 0.5168778681630708, 0.5544221203613459, 0.3456851819072261, 0.01747447936405796, 0.41591526702597226, 0.9366866522289228, 0.09839210633256336, 0.06352688882476892, 0.6288517268059194, 0.2744435631143013, 0.004336933242915608, 0.45377525153219656, 0.07653435081123758, 0.0403105547513689, 0.39528302346640815, 0.03387443703197936, 0.0950192163112656, 0.2370354556532365, 0.18361653557410815, 0.05561410488005918, 0.059490218355063434, 0.013929775450703003, 0.06500220745883224, 0.3569878076520949, 0.01633958291879753, 0.0220992389689184, 0.18922225524639297, 0.25973139457630545, 0.16694117244278048, 0.033459353241975874, 0.06177808699766122, 0.6760560632970819, 0.1406007539063597, 0.052676861274753045, 0.22635800787235663, 0.14551617567435926, 0.7168161096716754, 0.09298570977663738, 0.3381996056679037, 0.00874479046744841, 0.4195870672024121, 0.03361979262900223, 0.24496694243481512, 0.454042772773037, 0.6776543604676868, 0.9286244398437754, 0.16706431437160163, 0.03910126482060112, 0.039753821514913, 0.0028647913678097187, 0.0026064386936483605, 0.38864003122183916, 0.11602619611861173, 0.11211762834485393, 0.8885233927678611, 0.06775732171213211, 0.5159374180187688, 0.020694812134024805, 0.28031149830708607, 0.02689654352682996, 0.028711690128371627, 0.37782647688033766, 0.01850537361441757, 0.06777693812251374, 0.36628917439592906, 0.03135064938746425, 0.04247263174328162, 0.07130646939433752, 0.8810762699850172, 0.22742845809133855, 0.13011064108980538, 0.7092309953874599, 0.22445633807522727, 0.06549711540334219, 0.01802900268022519, 0.7559845199886575, 0.023701620768733507, 0.11422043312421357, 0.06044450213150353, 0.6427493468269762, 0.46419705162625996, 0.19376340591111066, 0.5008422596076236, 0.05125467845969973, 0.024711905573573407, 0.15953719243420006, 0.15292081023065882, 0.008018010074652185, 0.17266818546233745, 0.10636128122173615, 0.2629855219956299, 0.012197534187978207, 0.4210991519139683, 0.2523493659558751, 0.5567701587902391, 0.5702406612626274, 0.24469180563970466, 0.0012183993711838252, 0.0033250918311267287, 0.06877406512693136, 0.58513677443051, 0.37425120390868366, 0.024638294378632037, 0.20999689702321617, 0.0502757004328998, 0.007332471619677705, 0.04367631851796948, 0.006845252616108404, 0.19155655303308616, 0.7076344601086134, 0.005779997883518764, 0.8864095306591498, 0.16159285059506026, 0.036051624788255736, 0.10254681443339299, 0.3167750882483623, 0.055145248837387494, 0.20200745562102673, 0.5919008749231429, 0.038808579658526056, 0.19080296576259265, 0.01951655765427565, 0.6054073954726775, 0.03813688627359, 0.05325255549724551, 0.0035248804204175317, 0.970130852606236, 0.006656185747993164, 0.07313667246273312, 0.0017716661922602805, 0.942963284884971, 0.07624713020415386, 0.3139774396409918, 0.256155585135216, 0.028404332426080554, 0.1901905277794342, 0.002676724561984702, 0.056252981273552154, 0.11913191436155778, 0.4069521733609651, 0.23481888699289288, 0.06661091375846867, 0.026714032115713392, 0.6906728751656128, 0.728748304217819, 0.035098661595721274, 0.6138464688181049, 0.17944239378728227, 0.14254893622260495, 0.4463098564722251, 0.08238251245103019, 0.08243696011119411, 0.03297321192956372, 0.3708245990752142, 0.13646293376574795, 0.14443563394542122, 0.01268186997513266, 0.8971931459947267, 0.022421049830764966, 0.47949617644527465, 0.004196303676361085, 0.6628081732190712, 0.4688204196587266, 0.572824574625438, 0.5781250325189876, 0.4270691325146872, 0.1375298232028852, 0.03248731552154353, 0.1618273779313409, 0.17694544403270884, 0.30042910588947624, 0.3214975963117096, 0.012381100947571727, 0.7314327591257651, 0.08048231637289499, 0.1746362260510112, 0.6662763908332112, 0.11628609641937133, 0.18983829955142556, 0.4597804756109934, 0.8806162668332095, 0.05595971392219399, 0.021447361809882923, 0.01127860495461411, 0.6328984070435562, 0.2517993249966831, 0.010534624637698022, 0.0764982963697751, 0.7770338084954069, 0.046657712086409904, 0.8228204130271424, 0.04916359098774566, 0.07991873953973067, 0.7813715116461767, 0.14161489277911474, 0.9176902208209474, 0.08994272274109802, 0.1811431558004924, 0.004660751190370229, 0.059267795288762117, 0.011161150570689027, 0.22272609532996274, 0.012826716740030756, 0.3487103386681772, 0.030648113899001874, 0.057266798205984376, 0.19511066210996644, 0.10329802430977499, 0.00708293027061574, 0.050399550895965296, 0.7507428394008705, 0.41069051800734035, 0.0196929828393371, 0.12814709969452828, 0.17489365812988866, 0.015238135102622969, 0.8330595595966016, 0.10568401346351458, 0.9369546020848707, 0.8496311138926197, 0.22441749083724144, 0.01798487871320911, 0.4993846445694063, 0.04555085846842883, 0.30275524530883413, 0.5179653138403212, 0.724438685772526, 0.48577429065887884, 0.21317938175533765, 0.07099940729812769, 0.25263134877219806, 0.051204444323700256, 0.0066139135724694025, 0.6263548734443116, 0.34384051653334596, 0.006455148965613528, 0.16141204163095182, 0.41438663486364846, 0.01363994932184588, 0.5042885469896834, 0.07354737770885016, 0.2718346443909, 0.08098131204811874, 0.07771133962973685, 0.5818529788964264, 0.007268153464542294, 0.35599704445138614, 0.09235213014470041, 0.023238273311354307, 0.14678789290579758, 0.03685118759221788, 0.002674018631234186, 0.008067834059167665, 0.01234560106996153, 0.06990208423775059, 0.3525520569986383, 0.3999429286539809, 0.017826300052141506, 0.23408919657934765, 0.7190105134877753, 0.19344956111423445, 0.013702428833578906, 0.034223128462214654, 0.03322983156628735, 0.2585570157709161, 0.4524652062798471, 0.5654252376993942, 0.18920034226938612, 0.0037099798880997343, 0.32208034199123753, 0.1570451385156995, 0.009172288307547462, 0.24337494507235316, 0.27172076044585064, 0.004735677783838744, 0.03267059781586122, 0.10548949529536925, 0.008716865989105007, 0.09447322076672525, 0.014632002874418983, 0.07614144880369446, 0.059485821095148134, 0.24834199535484125, 0.010905461138239448, 0.06893269303582004, 0.6235441212109719, 0.6383565517667706, 0.09329811847380656, 0.6780152279140502, 0.27991473940089695, 0.7720978298795731, 0.5736463039854567, 0.0872393125105394, 0.7789215183705667, 0.06559968876820473, 0.26924999524397353, 0.33661059283586553, 0.016025496559814306, 0.11927004187123925, 0.18325800111332366, 0.297541801462416, 0.06956892183155844, 0.03550449833508067, 0.29834609816864965, 0.08645783129305505, 0.8520007043853631, 0.009924686908698313, 0.009386421241085144, 0.03708419697455471, 0.7522268150496642, 0.6402533887099382, 0.08667092586499736, 0.06903535329230717, 0.9154238252142275, 0.03628915110086514, 0.8065593758931455, 0.2955671135509328, 0.6271363578629158, 0.21026931455697115, 0.062362169092129764, 0.7871847152064682, 0.009394551204930377, 0.06874737031917176, 0.1084322889348805, 0.07558271306256568, 0.0027237658614978994, 0.3319780826607416, 0.20694910953774406, 0.6707367776468959, 0.0029958097635745737, 0.6560652723716371, 0.5618429920109385, 0.20292330712860543, 0.27665181479889733, 0.10038977451287005, 0.1686361050587853, 0.005542285888382927, 0.3558895590619842, 0.21544833670057037, 0.45906397615735933, 0.015215786869725297, 0.18530226826901475, 0.018403235558875086, 0.6318863647746368, 0.05897442918730515, 0.05972755035951874, 0.057820775704032414, 0.4117032633498372, 0.0902363267766582, 0.5371650097823666, 0.06764832312912833, 0.23539487797642145, 0.05125052362127816, 0.2566896462241441, 0.17923976662897592, 0.32553044757592414, 0.4662379772760752, 0.1405645919558028, 0.4106543488101925, 0.49433095440723723, 0.11883648061937116, 0.6959351023984296, 0.05418053722858422, 0.17138254299880956, 0.7153246145619804, 0.002279794066153639, 0.32317777243445267, 0.1652334648662792, 0.09712973496041283, 0.8049153839483815, 0.008011101923497028, 0.021229207549692618, 0.004179409148569809, 0.010648226407155032, 0.05016246366979881, 0.25635048320669374, 0.6037279386123559, 0.004223227388419315, 0.11237666862078634, 0.8299755629595172, 0.44136875227628664, 0.6390182168467589, 0.3766403947078807, 0.33816601114372824, 0.2660515752985294, 0.037794176110118885, 0.03641776266546482, 0.20957367463842969, 0.04952027291293663, 0.14793659767780826, 0.006118148338353099, 0.9577773269337043, 0.2913677144276161, 0.7059274590497121, 0.26806055806970003, 0.3612090824437734, 0.11029454124957146, 0.08040262495778802, 0.15497894578145832, 0.14197444676822818, 0.9073521006280969, 0.29221919613647374, 0.004656869613104301, 0.36096737225285136, 0.4726347849465694, 0.19008407284161044, 0.010803433524052329, 0.6815757047142924, 0.009652370915370141, 0.23904499724636935, 0.7130305375432914, 0.5811315975140885, 0.04460350151459208, 0.038813593281378345, 0.9106963191054249, 0.05518823888051489, 0.5272179610731327, 0.04926844281928186, 0.9226362976865515, 0.7491773370075737, 0.08089187076208466, 0.033106829495738975, 0.43562853633597337, 0.6968684209244382, 0.02259943879079949, 0.03945561604259477, 0.014697501352086783, 0.008190902418850876, 0.6813048883536739, 0.020164838039595376, 0.1770500888389889, 0.23246683211060853, 0.4552275846974857, 0.4139617230601591, 0.058950504040659345, 0.10200270337159854, 0.057211177905127135, 0.2744127328574901, 0.5959974431092494, 0.04414079124309972, 0.012344152003107978, 0.16749802747868542, 0.21983460896039292, 0.2775979814764555, 0.40746802029404744, 0.017740522623185657, 0.06560938051965219, 0.7614824752162653, 0.052589644928711154, 0.00801699237584268, 0.6590269522929599, 0.49931396577615267, 0.06221344744619338, 0.00774482256456601, 0.016667576656890722, 0.28872324747022443, 0.21068166591420612, 0.9021478779974799, 0.162418815662956, 0.2608357726383233, 0.021732403368058248, 0.07690124345739195, 0.002850756580276319, 0.9534068431170827, 0.996546237056336, 0.3165748352406234, 0.07121141185834225, 0.672670562490436, 0.01863871328074507, 0.2088892564668704, 0.5930629633433062, 0.058546702651526, 0.6671251866331794, 0.15965309801776417, 0.47715551378220467, 0.20864598715055696, 0.4815112948464261, 0.0620017179495614, 0.430729929865467, 0.017362500011886838, 0.44533604780084896, 0.01733426966468262, 0.6870000974385976, 0.40182156351775605, 0.18496843397833632, 0.45364616907777866, 0.00274267528135459, 0.26129558022750254, 0.13518771447760458, 0.34023208566564245, 0.34464982205961675, 0.6049674247250357, 0.07426588837271984, 0.005361646950375664, 0.011102858014722257, 0.06267823529872187, 0.9312290588366933, 0.014894654708099083, 0.10079944983955637, 0.33814213167275836, 0.3715182106471579, 0.003360043198384163, 0.7182803568284878, 0.4981537071723278, 0.4459911951603199, 0.03598792061372885, 0.10191682445911006, 0.007429929363844392, 0.9699860723656417, 0.08270342700548824, 0.11594888509033392, 0.020003758377686975, 0.0584270502526129, 0.4942249442465901, 0.01907546926740637, 0.1035870422041004, 0.01057806949045824, 0.24117050480524585, 0.4808750909686238, 0.9240649386681226, 0.7109472158402443, 0.2620944526533023, 0.7448290179362531, 0.5434728092686996, 0.7181789301487124, 0.6461750171162541, 0.0062222490368174285, 0.3433959322610349, 0.012219299651517617, 0.01397032415797952, 0.1931320269034748, 0.012050004630064502, 0.28412033692867733, 0.06446415728993148, 0.03232437621063407, 0.8881717646270249, 0.01222927492592194, 0.34059374912208445, 0.0031498712728593612, 0.3670923486519668, 0.06009842406904319, 0.44858181798874464, 0.07539964242691359, 0.9408186185769086, 0.8535073062138923, 0.48736242244608363, 0.4374937249123317, 0.08015466139953736, 0.002697006176770335, 0.4902480233430414, 0.04905713678267186, 0.11049627111330902, 0.20898063019078533, 0.06617678029969096, 0.12350060127490453, 0.15556271108074826, 0.05857044660054298, 0.6313445424702278, 0.057578085739403165, 0.048224821367578045, 0.01994154166066262, 0.2042670724174251, 0.6981167281545735, 0.17152591700367056, 0.0299125869593341, 0.022196389156635937, 0.02078036408271384, 0.6476166272050928, 0.5962459404132536, 0.0013604334479792937, 0.042209459953675914, 0.46427752483810386, 0.49825796167563957, 0.6047613036943666, 0.10291163595631588, 0.6144118531065631, 0.12471570166078724, 0.05930669750205389, 0.09466607240288086, 0.4242715489411947, 0.32918632164504774, 0.10388796508502847, 0.02643012373173738, 0.01813157058360692, 0.15810374185720302, 0.46416895497929217, 0.2030761930345195, 0.9485291930020565, 0.08176424358668874, 0.1694324502320827, 0.6796971602089547, 0.5252896495792174, 0.4189425027260142, 0.01133745184052221, 0.021809755163060357, 0.20644623331673034, 0.017927521687195472, 0.4519406886939943, 0.05302218368627168, 0.1575607164872403, 0.45637299897286404, 0.03969880248229207, 0.11471762425383245, 0.19278105709496798, 0.03498822441852149, 0.3341403924744623, 0.9453744714087848, 0.02719094286123147, 0.6663328443039536, 0.004943768018275014, 0.6720119370157063, 0.014498510479668186, 0.9858687161746661, 0.3335836045982201, 0.8797228759335587, 0.910459487747214, 0.2613419711191324, 0.3751032282264693, 0.07534997371439725, 0.2788331128901783, 0.24863675649803052, 0.19565649034938748, 0.32150532598238074, 0.10376287872658642, 0.63075252524838, 0.06484699954469252, 0.8947782928934557, 0.06668871694050274, 0.06974047781044533, 0.21893215857479162, 0.18491307088802714, 0.0011014259196446667, 0.07177584648455669, 0.023739964541312553, 0.040449521668774864, 0.026103860576019773, 0.2109636733522709, 0.13760525584236938, 0.07661064956996569, 0.06668391418991503, 0.36851727866724154, 0.5438256329471304, 0.0064105793263829645, 0.07472846387167283, 0.23261894361931984, 0.6293239862538123, 0.5773127359825548, 0.23293337228763852, 0.19397144170888056, 0.033430704010288095, 0.2225226438293523, 0.2606520092643919, 0.012010662213571494, 0.04194961682754592, 0.1104565968188493, 0.26420727661437576, 0.7745684913369595, 0.11479724616939548, 0.333120851935032, 0.3248533179578018, 0.11952905205658632, 0.4597443056736757, 0.5065454923643806, 0.024466866216715243, 0.017836545188652044, 0.1192589871220498, 0.04495131377643627, 0.02903063182654002, 0.7170311954518638, 0.0026638581544437766, 0.008824138272914799, 0.0057823444274244335, 0.2404967993674225, 0.0020770464151289793, 0.10394666005941511, 0.11630626305161373, 0.27079231418626765, 0.9481625292223732, 0.32722411545653285, 0.28299123150283945, 0.15415464446121743, 0.36964087644984706, 0.4527010020371066, 0.7304992975497383, 0.3575151900196363, 0.10099481440651875, 0.057290570004357715, 0.03928655629299783, 0.012207981267276433, 0.5816479030505707, 0.968491849701766, 0.04147135017581831, 0.10082870710380036, 0.9503583081774216, 0.38274701016553825, 0.1598930422704975, 0.10205438176339394, 0.4087674698581114, 0.01875298510158706, 0.7092391764227621, 0.13070883798464006, 0.9357855852780246, 0.043978088441827934, 0.2598565772997112, 0.13623043924328646, 0.028131707426260217, 0.16736545298772923, 0.591553495731055, 0.8666606965505204, 0.15359602948899767, 0.43040577810129077, 0.8768716820152972, 0.00226914383955692, 0.09153772537208803, 0.14592324342652052, 0.34912101765757636, 0.041036558089294926, 0.613613026746933, 0.1602254927130002, 0.003935824873253969, 0.024608499427907674, 0.46568818132049083, 0.6870461425256708, 0.4418208280700893, 0.007890389686707135, 0.07717984114821164, 0.13068816923663892, 0.3707833852939307, 0.024255928032504523, 0.4843374130279628, 0.726482024328207, 0.03947412952783697, 0.2070085023911272, 0.06537634587142954, 0.34490441559613666, 0.00924700649301697, 0.260913924112142, 0.4998113010228942, 0.008135757192945021, 0.217701019230125, 0.8400167853645867, 0.034320042425811464, 0.028387954113167094, 0.7513904445798885, 0.5918409016926639, 0.39479056696569764, 0.15301719339784603, 0.4434337327841446, 0.03999004158080998, 0.3890963167399931, 0.04578439861198967, 0.03302129866101906, 0.8901764486962084, 0.19636961594095179, 0.012276553990800862, 0.035673912839911746, 0.8882537518031443, 0.00404719211449928, 0.07629753384211263, 0.03813567350789346, 0.587596370027226, 0.009208663223143322, 0.7172393076530508, 0.04598318561212101, 0.458198848976542, 0.0033857153611824473, 0.006152319196353227, 0.26189966706208745, 0.09553363317887087, 0.18382393933572655, 0.21404946928387078, 0.0222257927926574, 0.023989701046572613, 0.011353041232985799, 0.2599577724285809, 0.6148670580683273, 0.006094158193460214, 0.7429286308948903, 0.3718371071078469, 0.5722582278462105, 0.04517073168372247, 0.46001034459764734, 0.010721330398627011, 0.3125828981491571, 0.21115123420691928, 0.3738980739501728, 0.008722932349856046, 0.07503024136264827, 0.14504188250495367, 0.9168311983305858, 0.6993240897853077, 0.005947641720682366, 0.38555587844902434, 0.22159351336024677, 0.07876293892156341, 0.0026371279457436036, 0.4937367403997946, 0.42492994646497567, 0.502840015581153, 0.07270114398702109, 0.023080297548316305, 0.7056133420690134, 0.6768994162319918, 0.9601447291754566, 0.7135872571279289, 0.5923093667254732, 0.10554578860513787, 0.09427466579365464, 0.36322629311509, 0.02935517848334381, 0.08064791553761116, 0.25883712474634935, 0.18955382504400478, 0.02132748448691053, 0.05293457916836283, 0.017871823520771067, 0.10210869978765097, 0.5760903030394516, 0.22435113203668158, 0.015526440290758923, 0.7015447776401227, 0.1880656232382766, 0.02274847157146599, 0.10300962154825036, 0.5623975007505272, 0.3472920431220736, 0.9397989945048857, 0.46709263721036176, 0.05538673356630702, 0.04297946784541331]}, {\"marker\": {\"color\": \"mediumaquamarine\"}, \"name\": \"Top 20%\", \"opacity\": 0.5, \"type\": \"histogram\", \"uid\": \"0d37f26f-67f9-44ba-ba0f-95d3f30e067a\", \"x\": [0.9824598386555046, 0.2316737569534865, 0.7650120189502233, 0.9380946652902103, 0.7397868172416858, 0.7022320935592116, 0.8817562076016248, 0.577339506042596, 0.5286009164435689, 0.8690309309679752, 0.9790049182632927, 0.6994163462810062, 0.7900243299914183, 0.26393957944927754, 0.10110018896860057, 0.9032332897661929, 0.7817115897702043, 0.7194326581684739, 0.8930144770632619, 0.9141816918580048, 0.9285271745450788, 0.918003881356022, 0.9596473402691256, 0.8918082371510799, 0.9808986148814055, 0.9054639512863657, 0.9815425744451388, 0.07340807123756876, 0.8931274489723913, 0.7450774532055771, 0.6000016965950201, 0.8363602277129987, 0.94033928424385, 0.7831402083585848, 0.5918774967857848, 0.9297563958041174, 0.9932218626340454, 0.9567309666257082, 0.9863799512201039, 0.9891513023034161, 0.9737759263073185, 0.9890367959100467, 0.6362274921431916, 0.9961751605078399, 0.9483876910948437, 0.9824401670085234, 0.9746243690400633, 0.6984251024104369, 0.9662442437292607, 0.8486119443570573, 0.9520568206324381, 0.8942297880725584, 0.3768639615501978, 0.7635106205910351, 0.9451459308476997, 0.6931733155081409, 0.9527794323001143, 0.9087164219780774, 0.9631797007785063, 0.9868596389674185, 0.8240632440150651, 0.9835704612532468, 0.9616515017140395, 0.9736786585420456, 0.5633903524169112, 0.9137551529289215, 0.8624053958417507, 0.9928160007403878, 0.9806522033080295, 0.9877287743569452, 0.9317397494129064, 0.6604759028456962, 0.9878322985796495, 0.8801460841606378, 0.9698818219890976, 0.9092919646669632, 0.9961906200208972, 0.21293149628834399, 0.6827446252469805, 0.5344795615530478, 0.8160997688662079, 0.9548467652882092, 0.18271547342071195, 0.9830372650229424, 0.8988813237475483, 0.8239721596845866, 0.05163998515613768, 0.04199940378324282, 0.8701445631581585, 0.9803681874751151, 0.942216368267948, 0.8933950665766114, 0.27487771187664406, 0.5578884363497385, 0.8434404644323074, 0.974465760312493, 0.8733485514664885, 0.9357926534273932, 0.5404429332333669, 0.5199247556677695, 0.04768018565363327, 0.6980530899370168, 0.28506555901641567, 0.7533449810961476, 0.9765882141510303, 0.5835278535059462, 0.6724686691152332, 0.5259105714637484, 0.3721531215780204, 0.9816806609458761, 0.9751548190785742, 0.9906980740120892, 0.7758118421223358, 0.7330275030507072, 0.3728432185319839, 0.9079235884558594, 0.9585653496048823, 0.7370750889642953, 0.7289917982737345, 0.7382623409232327, 0.631459379140217, 0.9662127530304907, 0.9987921378220358, 0.4447769002439766, 0.8481200457368735, 0.5201875929070989, 0.7594171996311722, 0.9894203180963491, 0.9126124075256117, 0.9186975837967862, 0.36112933281923393, 0.8782352317870435, 0.5697674525534661, 0.26202204827621245, 0.7970664846019673, 0.8857632077229618, 0.9649734464957684, 0.923369809135934, 0.6135331307117554, 0.6002608400726229, 0.8372932619654673, 0.8846260304891964, 0.8345510654769682, 0.991646260235291, 0.9568686832497773, 0.5580295212335815, 0.9588219022659228, 0.2908374417840817, 0.4293157913944786, 0.5470764549982031, 0.9947820497873048, 0.4294150218639846, 0.4504872695593011, 0.9417945118392169, 0.0320270969560221, 0.7902317135363724, 0.911493134501313, 0.5300302925400301, 0.031655687009528116, 0.9160506780927289, 0.7718233117897262, 0.9494745032523619, 0.6192977526989675, 0.8982808873057659, 0.9500792639583121, 0.7337368882433227, 0.1398073339466871, 0.03747915930587218, 0.15112456368021718, 0.9875431902472148, 0.9536283902143311, 0.6044674127352844, 0.8592571648810143, 0.9942826826123653, 0.669274036067869, 0.7745336429236694, 0.9672786336877945, 0.9783299354280578, 0.9629362022870143, 0.9875177406534827, 0.9124902708197484, 0.3094037534853002, 0.942749308056819, 0.9249215188159092, 0.9935369021637619, 0.9803451318660893, 0.9299883763162455, 0.9441230731479925, 0.333403983954027, 0.8030410605581652, 0.36479346217976527, 0.9917846048212989, 0.8785274814468637, 0.917672993816999, 0.9165743760550625, 0.9872257083221053, 0.5905944512150921, 0.7649497651303743, 0.9870070715334923, 0.815566450026387, 0.993372025516796, 0.985603646682109, 0.8387358117092577, 0.9758168988114354, 0.2903596759095143, 0.7423877511909593, 0.9713991139871344, 0.685276487625599, 0.6521477559503956, 0.9741791255797314, 0.005905499241566759, 0.8488303945672043, 0.9928412125240279, 0.4969063125823713, 0.9743375824681776, 0.8876688106143603, 0.8792502495537609, 0.004145205431659613, 0.916503960540921, 0.8942325421962517, 0.9675925086516673, 0.6388866428112129, 0.5430028373339253, 0.1404267462506794, 0.2289703507842986, 0.7318749930364123, 0.9274566586069389, 0.5974825302909218, 0.7051373092855202, 0.670538084588559, 0.9000787224519115, 0.39711650615503996, 0.9908235987603808, 0.27815124066061536, 0.9647299076195834, 0.6633858037742467, 0.7873140532475016, 0.9529190262151984, 0.44601889016797935, 0.9932272477902299, 0.9733909236675389, 0.9823744056696199, 0.5315240746252555, 0.8955921077019585, 0.6373744820111863, 0.7329689327927461, 0.6727392085956422, 0.8984489815269355, 0.9549477137751821, 0.5872208322896812, 0.20807373922467942, 0.9333405088012016, 0.9036934680513199, 0.4203420342639158, 0.7027891333738809, 0.5494716014732935, 0.30909383924454586, 0.6609245231118307, 0.8696219246860747, 0.13992963353112467, 0.9840978030178259, 0.9601342856110724, 0.9042277771810328, 0.2707658047019342, 0.9631118923062767, 0.9726740014489277, 0.9736636315609017, 0.9142581336867031, 0.8476155745569783, 0.919641623867351, 0.9524742324522847, 0.9877118481765793, 0.9447087853805926, 0.9754285217896109, 0.9938753947895491, 0.8067012818538696, 0.8770252479089852, 0.7343568781925478, 0.9365260296243856, 0.9149890513824446, 0.8364450895414713, 0.9894544424506667, 0.9553601314081636, 0.35107711946045544, 0.9822160691297023, 0.45334149826490183, 0.940501031707938, 0.9791508219991527, 0.9790012408823774, 0.6801024908127019, 0.7428450418789688, 0.6416213652564774, 0.36164747388981006, 0.578873777465262, 0.7232271020109335, 0.8943019925392255, 0.9201039490647029, 0.9675825168098748, 0.8036437469989756, 0.9232282157068412, 0.09928621722064886, 0.7113164666358426, 0.8762873271838674, 0.5852232492283802, 0.6546380637315727, 0.8392526866394016, 0.9072503544993461, 0.9886547599242395, 0.7564112586341271, 0.2176969070692889, 0.9589033507602567, 0.391857189547765, 0.764844553054289, 0.5755344127133174, 0.9456038866864905, 0.7407027514724328, 0.044828967386748415, 0.9485811731789264, 0.13020920396139163, 0.8883969101353911, 0.9864361944666362, 0.27019099485096476, 0.9391882267253323, 0.6598372769982159, 0.9901760385980466, 0.11541114257444536, 0.5767395940482999, 0.9732568726313833, 0.8655555094448317, 0.6713318578920318, 0.9918002830430961, 0.9103376744470766, 0.24737899401213193, 0.9873635135689589, 0.9826746985391772, 0.6920488578756939, 0.9783873364470362, 0.2806811989634222, 0.9757601382479322, 0.9510728436247115, 0.4941650738097773, 0.6401039880314755, 0.9122782122767944, 0.95879494819204, 0.7754824148629711, 0.9756654047577714, 0.9154036417291639, 0.9097827258242611, 0.28070410351813124, 0.9628036730023201, 0.32201419868058045, 0.9238642493633397, 0.9718984762420373, 0.9242778482837074, 0.994589246001313, 0.5283080385974614, 0.5167114083234449, 0.47552193817439464, 0.843415944642645, 0.8702619313071207, 0.7843780138162297, 0.7762448461577113, 0.9864760231221733, 0.8089865954528659]}],\n",
       "                        {\"annotations\": [{\"font\": {\"color\": \"gray\", \"size\": 13}, \"showarrow\": false, \"text\": \"The 80% less paid tend<br>to have lower scores\", \"x\": 0.2, \"xanchor\": \"left\", \"xref\": \"paper\", \"y\": 180, \"yanchor\": \"bottom\"}, {\"font\": {\"color\": \"mediumaquamarine\", \"size\": 13}, \"showarrow\": false, \"text\": \"Top 20% tend to have<br>higher scores\", \"x\": 0.75, \"xanchor\": \"left\", \"xref\": \"paper\", \"y\": 95, \"yanchor\": \"bottom\"}], \"barmode\": \"overlay\", \"height\": 400, \"margin\": {\"l\": 150}, \"showlegend\": false, \"title\": {\"text\": \"<b>Distribution of Scores From the Top 20% and Bottom 80%</b><br><i>test data</i>\"}, \"width\": 800, \"xaxis\": {\"color\": \"#AAAAAA\", \"showgrid\": false, \"title\": {\"font\": {\"color\": \"#AAAAAA\"}, \"text\": \"Probability Score\"}}, \"yaxis\": {\"color\": \"#AAAAAA\", \"showgrid\": false, \"title\": {\"font\": {\"color\": \"#AAAAAA\"}, \"text\": \"Quantity of Respondents\"}}},\n",
       "                        {\"showLink\": false, \"linkText\": \"Export to plot.ly\", \"plotlyServerURL\": \"https://plot.ly\", \"responsive\": true}\n",
       "                    ).then(function(){\n",
       "                            \n",
       "var gd = document.getElementById('4c4b2aa7-48e2-46c4-b646-fb03d6f4f57d');\n",
       "var x = new MutationObserver(function (mutations, observer) {{\n",
       "        var display = window.getComputedStyle(gd).display;\n",
       "        if (!display || display === 'none') {{\n",
       "            console.log([gd, 'removed!']);\n",
       "            Plotly.purge(gd);\n",
       "            observer.disconnect();\n",
       "        }}\n",
       "}});\n",
       "\n",
       "// Listen for the removal of the full notebook cells\n",
       "var notebookContainer = gd.closest('#notebook-container');\n",
       "if (notebookContainer) {{\n",
       "    x.observe(notebookContainer, {childList: true});\n",
       "}}\n",
       "\n",
       "// Listen for the clearing of the current output cell\n",
       "var outputEl = gd.closest('.output');\n",
       "if (outputEl) {{\n",
       "    x.observe(outputEl, {childList: true});\n",
       "}}\n",
       "\n",
       "                        })\n",
       "                };\n",
       "                });\n",
       "            </script>\n",
       "        </div>"
      ]
     },
     "metadata": {},
     "output_type": "display_data"
    }
   ],
   "source": [
    "# calculating scores\n",
    "scores = pd.DataFrame(lreg.predict_proba(Xtest)).iloc[:,1]\n",
    "scores = pd.DataFrame([scores.values, ytest.values]).transpose()\n",
    "scores.columns = ['score', 'top20']\n",
    "\n",
    "# Add histogram data\n",
    "x0 = scores[scores['top20'] == 0]['score']\n",
    "x1 = scores[scores['top20'] == 1]['score']\n",
    "\n",
    "bottom80 = go.Histogram(\n",
    "    x=x0,\n",
    "    opacity=0.5,\n",
    "    marker={'color': 'lightgray'},\n",
    "    name='Bottom 80%'\n",
    "\n",
    ")\n",
    "top20 = go.Histogram(\n",
    "    x=x1,\n",
    "    opacity=0.5,\n",
    "    marker={'color': 'mediumaquamarine'},\n",
    "    name='Top 20%'   \n",
    ")\n",
    "\n",
    "annot_dict = [{'x': 0.2, 'y': 180, 'text': 'The 80% less paid tend<br>to have lower scores','color': 'gray'},\n",
    "              {'x': 0.75, 'y': 95, 'text': 'Top 20% tend to have<br>higher scores','color': 'mediumaquamarine'}]\n",
    "\n",
    "layout = gen_layout('<b>Distribution of Scores From the Top 20% and Bottom 80%</b><br><i>test data</i>', \n",
    "                    'Probability Score',\n",
    "                    'Quantity of Respondents',\n",
    "                    annotations=gen_annotations(annot_dict),\n",
    "                    lmarg=150, h=400\n",
    "                    )\n",
    "layout['barmode'] = 'overlay'\n",
    "\n",
    "data = [bottom80, top20]\n",
    "layout = go.Layout(layout)\n",
    "fig = go.Figure(data=data, layout=layout)\n",
    "\n",
    "iplot(fig)"
   ]
  },
  {
   "cell_type": "markdown",
   "metadata": {
    "_uuid": "d35bb0b1d54b9fb6d2d54b870ade8a8045d5fd79"
   },
   "source": [
    "We see on the above chart that the two classes are very well defined, and distinct from each other. This is confirmed when we plot the ROC curve.\n",
    "\n",
    "> In a Receiver Operating Characteristic (ROC) curve the true positive rate (Sensitivity) is plotted in function of the false positive rate (100-Specificity) for different cut-off points. Each point on the ROC curve represents a sensitivity/specificity pair corresponding to a particular decision threshold. A test with perfect discrimination (no overlap in the two distributions) has a ROC curve that passes through the upper left corner (100% sensitivity, 100% specificity). Therefore the closer the ROC curve is to the upper left corner, the higher the overall accuracy of the test (Zweig & Campbell, 1993)."
   ]
  },
  {
   "cell_type": "code",
   "execution_count": 41,
   "metadata": {
    "_kg_hide-input": true,
    "_uuid": "627d017fb48a687d8cbdc978727c97beb01ae5a5"
   },
   "outputs": [
    {
     "data": {
      "application/vnd.plotly.v1+json": {
       "config": {
        "linkText": "Export to plot.ly",
        "plotlyServerURL": "https://plot.ly",
        "responsive": true,
        "showLink": false
       },
       "data": [
        {
         "line": {
          "color": "mediumaquamarine",
          "width": 3
         },
         "mode": "lines",
         "name": "ROC curve",
         "type": "scatter",
         "uid": "ea51821d-509e-4df6-a09b-11f5d14681fb",
         "x": [
          0,
          0,
          0.0004488330341113106,
          0.0004488330341113106,
          0.0008976660682226212,
          0.0008976660682226212,
          0.0013464991023339318,
          0.0013464991023339318,
          0.0017953321364452424,
          0.0017953321364452424,
          0.002244165170556553,
          0.002244165170556553,
          0.0026929982046678637,
          0.0026929982046678637,
          0.003590664272890485,
          0.003590664272890485,
          0.0058348294434470375,
          0.0058348294434470375,
          0.0062836624775583485,
          0.0062836624775583485,
          0.006732495511669659,
          0.006732495511669659,
          0.00763016157989228,
          0.00763016157989228,
          0.008976660682226212,
          0.008976660682226212,
          0.009425493716337522,
          0.009425493716337522,
          0.009874326750448833,
          0.009874326750448833,
          0.010771992818671455,
          0.010771992818671455,
          0.011220825852782765,
          0.011220825852782765,
          0.011669658886894075,
          0.011669658886894075,
          0.012118491921005385,
          0.012118491921005385,
          0.013464991023339317,
          0.013464991023339317,
          0.013913824057450628,
          0.013913824057450628,
          0.01436265709156194,
          0.01436265709156194,
          0.01481149012567325,
          0.01481149012567325,
          0.01526032315978456,
          0.01526032315978456,
          0.01570915619389587,
          0.01570915619389587,
          0.017055655296229804,
          0.017055655296229804,
          0.017953321364452424,
          0.017953321364452424,
          0.018402154398563735,
          0.018402154398563735,
          0.019299820466786355,
          0.019299820466786355,
          0.020197486535008975,
          0.020197486535008975,
          0.0210951526032316,
          0.0210951526032316,
          0.02154398563734291,
          0.02154398563734291,
          0.02199281867145422,
          0.02199281867145422,
          0.02244165170556553,
          0.02244165170556553,
          0.02289048473967684,
          0.02289048473967684,
          0.02333931777378815,
          0.02333931777378815,
          0.02423698384201077,
          0.02423698384201077,
          0.024685816876122084,
          0.024685816876122084,
          0.025134649910233394,
          0.025134649910233394,
          0.026032315978456014,
          0.026032315978456014,
          0.026481149012567325,
          0.026481149012567325,
          0.027378815080789945,
          0.027378815080789945,
          0.02872531418312388,
          0.02872531418312388,
          0.02917414721723519,
          0.02917414721723519,
          0.0296229802513465,
          0.0296229802513465,
          0.03007181328545781,
          0.03007181328545781,
          0.03052064631956912,
          0.03052064631956912,
          0.03096947935368043,
          0.03096947935368043,
          0.03141831238779174,
          0.03141831238779174,
          0.03231597845601436,
          0.03231597845601436,
          0.032764811490125674,
          0.032764811490125674,
          0.03411131059245961,
          0.03411131059245961,
          0.03500897666068223,
          0.03500897666068223,
          0.035457809694793535,
          0.035457809694793535,
          0.036355475763016155,
          0.036355475763016155,
          0.03680430879712747,
          0.03680430879712747,
          0.037253141831238776,
          0.037253141831238776,
          0.03770197486535009,
          0.03770197486535009,
          0.0381508078994614,
          0.0381508078994614,
          0.03949730700179533,
          0.03949730700179533,
          0.039946140035906644,
          0.039946140035906644,
          0.04129263913824058,
          0.04129263913824058,
          0.04533213644524237,
          0.04533213644524237,
          0.04578096947935368,
          0.04578096947935368,
          0.048025134649910234,
          0.048025134649910234,
          0.04847396768402154,
          0.04847396768402154,
          0.048922800718132854,
          0.048922800718132854,
          0.05206463195691203,
          0.05206463195691203,
          0.05565529622980251,
          0.05565529622980251,
          0.05655296229802514,
          0.05655296229802514,
          0.057899461400359065,
          0.057899461400359065,
          0.058797127468581685,
          0.058797127468581685,
          0.06014362657091562,
          0.06014362657091562,
          0.06059245960502693,
          0.06059245960502693,
          0.06193895870736086,
          0.06193895870736086,
          0.06238779174147217,
          0.06238779174147217,
          0.06552962298025135,
          0.06552962298025135,
          0.06597845601436265,
          0.06597845601436265,
          0.06642728904847396,
          0.06642728904847396,
          0.0677737881508079,
          0.0677737881508079,
          0.06912028725314183,
          0.06912028725314183,
          0.07001795332136446,
          0.07001795332136446,
          0.07091561938958707,
          0.07091561938958707,
          0.07136445242369839,
          0.07136445242369839,
          0.0718132854578097,
          0.0718132854578097,
          0.07495511669658887,
          0.07495511669658887,
          0.07585278276481149,
          0.07585278276481149,
          0.07675044883303411,
          0.07675044883303411,
          0.07719928186714542,
          0.07719928186714542,
          0.07809694793536805,
          0.07809694793536805,
          0.07854578096947935,
          0.07854578096947935,
          0.07899461400359066,
          0.07899461400359066,
          0.07989228007181329,
          0.07989228007181329,
          0.08213644524236983,
          0.08213644524236983,
          0.08303411131059246,
          0.08303411131059246,
          0.08842010771992818,
          0.08842010771992818,
          0.09201077199281867,
          0.09201077199281867,
          0.0933572710951526,
          0.0933572710951526,
          0.09380610412926392,
          0.09380610412926392,
          0.09470377019748653,
          0.09470377019748653,
          0.09515260323159784,
          0.09515260323159784,
          0.09694793536804308,
          0.09694793536804308,
          0.10053859964093358,
          0.10053859964093358,
          0.10098743267504488,
          0.10098743267504488,
          0.10233393177737882,
          0.10233393177737882,
          0.1063734290843806,
          0.1063734290843806,
          0.10682226211849193,
          0.10682226211849193,
          0.10727109515260323,
          0.10727109515260323,
          0.10816876122082585,
          0.10816876122082585,
          0.11086175942549371,
          0.11086175942549371,
          0.11220825852782765,
          0.11220825852782765,
          0.11265709156193895,
          0.11265709156193895,
          0.11535008976660682,
          0.11535008976660682,
          0.11938958707360861,
          0.11938958707360861,
          0.12028725314183124,
          0.12028725314183124,
          0.12118491921005387,
          0.12118491921005387,
          0.12208258527827648,
          0.12208258527827648,
          0.12567324955116696,
          0.12567324955116696,
          0.13375224416517056,
          0.13375224416517056,
          0.1359964093357271,
          0.1359964093357271,
          0.1400359066427289,
          0.1400359066427289,
          0.14183123877917414,
          0.14183123877917414,
          0.1431777378815081,
          0.1431777378815081,
          0.14631956912028726,
          0.14631956912028726,
          0.14766606822262118,
          0.14766606822262118,
          0.1490125673249551,
          0.1490125673249551,
          0.15035906642728905,
          0.15035906642728905,
          0.1526032315978456,
          0.1526032315978456,
          0.15305206463195692,
          0.15305206463195692,
          0.15394973070017953,
          0.15394973070017953,
          0.15484739676840215,
          0.15484739676840215,
          0.15798922800718132,
          0.15798922800718132,
          0.15978456014362658,
          0.15978456014362658,
          0.16247755834829444,
          0.16247755834829444,
          0.16606822262118492,
          0.16606822262118492,
          0.16741472172351884,
          0.16741472172351884,
          0.1692100538599641,
          0.1692100538599641,
          0.17190305206463197,
          0.17190305206463197,
          0.17280071813285458,
          0.17280071813285458,
          0.1732495511669659,
          0.1732495511669659,
          0.1741472172351885,
          0.1741472172351885,
          0.17639138240574506,
          0.17639138240574506,
          0.17863554757630162,
          0.17863554757630162,
          0.19254937163375224,
          0.19254937163375224,
          0.19389587073608616,
          0.19389587073608616,
          0.20646319569120286,
          0.20646319569120286,
          0.2244165170556553,
          0.2244165170556553,
          0.22666068222621186,
          0.22666068222621186,
          0.23025134649910234,
          0.23025134649910234,
          0.23159784560143626,
          0.23159784560143626,
          0.24281867145421904,
          0.24281867145421904,
          0.24730700179533213,
          0.24730700179533213,
          0.2634649910233393,
          0.2634649910233393,
          0.2643626570915619,
          0.2643626570915619,
          0.2719928186714542,
          0.2719928186714542,
          0.2746858168761221,
          0.2746858168761221,
          0.2751346499102334,
          0.2751346499102334,
          0.28186714542190305,
          0.28186714542190305,
          0.28276481149012567,
          0.28276481149012567,
          0.2845601436265709,
          0.2845601436265709,
          0.29039497307001794,
          0.29039497307001794,
          0.30430879712746856,
          0.30430879712746856,
          0.31687612208258525,
          0.31687612208258525,
          0.3263016157989228,
          0.3263016157989228,
          0.34111310592459604,
          0.34111310592459604,
          0.34156193895870735,
          0.34156193895870735,
          0.34380610412926393,
          0.34380610412926393,
          0.3478456014362657,
          0.3478456014362657,
          0.348294434470377,
          0.348294434470377,
          0.3505385996409336,
          0.3505385996409336,
          0.35502692998204666,
          0.35502692998204666,
          0.3595152603231598,
          0.3595152603231598,
          0.3599640933572711,
          0.3599640933572711,
          0.36759425493716336,
          0.36759425493716336,
          0.37028725314183125,
          0.37028725314183125,
          0.3850987432675045,
          0.3850987432675045,
          0.4035008976660682,
          0.4035008976660682,
          0.40484739676840215,
          0.40484739676840215,
          0.41651705565529623,
          0.41651705565529623,
          0.42010771992818674,
          0.42010771992818674,
          0.4268402154398564,
          0.4268402154398564,
          0.45556552962298025,
          0.45556552962298025,
          0.49461400359066426,
          0.49461400359066426,
          0.5,
          0.5008976660682226,
          0.5112208258527827,
          0.5112208258527827,
          0.5251346499102334,
          0.5251346499102334,
          0.5489228007181328,
          0.5489228007181328,
          0.5807899461400359,
          0.5807899461400359,
          0.5843806104129264,
          0.5843806104129264,
          0.6409335727109515,
          0.6409335727109515,
          0.7069120287253142,
          0.7069120287253142,
          0.7176840215439856,
          0.7176840215439856,
          0.7257630161579892,
          0.7257630161579892,
          0.7347396768402155,
          0.7347396768402155,
          0.7522441651705566,
          0.7522441651705566,
          0.7751346499102334,
          0.7751346499102334,
          0.776032315978456,
          0.776032315978456,
          0.8469479353680431,
          0.8478456014362658,
          0.9245960502692998,
          0.9254937163375224,
          0.9515260323159784,
          0.9515260323159784,
          0.9663375224416517,
          0.9663375224416517,
          1
         ],
         "y": [
          0,
          0.0027472527472527475,
          0.0027472527472527475,
          0.06593406593406594,
          0.06593406593406594,
          0.07417582417582418,
          0.07417582417582418,
          0.0989010989010989,
          0.0989010989010989,
          0.1043956043956044,
          0.1043956043956044,
          0.14835164835164835,
          0.14835164835164835,
          0.2032967032967033,
          0.2032967032967033,
          0.20604395604395603,
          0.20604395604395603,
          0.21428571428571427,
          0.21428571428571427,
          0.21978021978021978,
          0.21978021978021978,
          0.23901098901098902,
          0.23901098901098902,
          0.2554945054945055,
          0.2554945054945055,
          0.260989010989011,
          0.260989010989011,
          0.27197802197802196,
          0.27197802197802196,
          0.28296703296703296,
          0.28296703296703296,
          0.2857142857142857,
          0.2857142857142857,
          0.28846153846153844,
          0.28846153846153844,
          0.29395604395604397,
          0.29395604395604397,
          0.2967032967032967,
          0.2967032967032967,
          0.29945054945054944,
          0.29945054945054944,
          0.30494505494505497,
          0.30494505494505497,
          0.3076923076923077,
          0.3076923076923077,
          0.3159340659340659,
          0.3159340659340659,
          0.32142857142857145,
          0.32142857142857145,
          0.3269230769230769,
          0.3269230769230769,
          0.3324175824175824,
          0.3324175824175824,
          0.33516483516483514,
          0.33516483516483514,
          0.33791208791208793,
          0.33791208791208793,
          0.3434065934065934,
          0.3434065934065934,
          0.34615384615384615,
          0.34615384615384615,
          0.3543956043956044,
          0.3543956043956044,
          0.35714285714285715,
          0.35714285714285715,
          0.3626373626373626,
          0.3626373626373626,
          0.36813186813186816,
          0.36813186813186816,
          0.37362637362637363,
          0.37362637362637363,
          0.37637362637362637,
          0.37637362637362637,
          0.38461538461538464,
          0.38461538461538464,
          0.3873626373626374,
          0.3873626373626374,
          0.3901098901098901,
          0.3901098901098901,
          0.3956043956043956,
          0.3956043956043956,
          0.3983516483516483,
          0.3983516483516483,
          0.40934065934065933,
          0.40934065934065933,
          0.41208791208791207,
          0.41208791208791207,
          0.4230769230769231,
          0.4230769230769231,
          0.42857142857142855,
          0.42857142857142855,
          0.4340659340659341,
          0.4340659340659341,
          0.4368131868131868,
          0.4368131868131868,
          0.43956043956043955,
          0.43956043956043955,
          0.4478021978021978,
          0.4478021978021978,
          0.45054945054945056,
          0.45054945054945056,
          0.4697802197802198,
          0.4697802197802198,
          0.4725274725274725,
          0.4725274725274725,
          0.47527472527472525,
          0.47527472527472525,
          0.4835164835164835,
          0.4835164835164835,
          0.48626373626373626,
          0.48626373626373626,
          0.4945054945054945,
          0.4945054945054945,
          0.49725274725274726,
          0.49725274725274726,
          0.5,
          0.5,
          0.5027472527472527,
          0.5027472527472527,
          0.5137362637362637,
          0.5137362637362637,
          0.5192307692307693,
          0.5192307692307693,
          0.521978021978022,
          0.521978021978022,
          0.5302197802197802,
          0.5302197802197802,
          0.532967032967033,
          0.532967032967033,
          0.5384615384615384,
          0.5384615384615384,
          0.5467032967032966,
          0.5467032967032966,
          0.554945054945055,
          0.554945054945055,
          0.5604395604395604,
          0.5604395604395604,
          0.5659340659340659,
          0.5659340659340659,
          0.5714285714285714,
          0.5714285714285714,
          0.5769230769230769,
          0.5769230769230769,
          0.5796703296703297,
          0.5796703296703297,
          0.5851648351648352,
          0.5851648351648352,
          0.5879120879120879,
          0.5879120879120879,
          0.5906593406593407,
          0.5906593406593407,
          0.5961538461538461,
          0.5961538461538461,
          0.5989010989010989,
          0.5989010989010989,
          0.6043956043956044,
          0.6043956043956044,
          0.6071428571428571,
          0.6071428571428571,
          0.6098901098901099,
          0.6098901098901099,
          0.6181318681318682,
          0.6181318681318682,
          0.6208791208791209,
          0.6208791208791209,
          0.6236263736263736,
          0.6236263736263736,
          0.6263736263736264,
          0.6263736263736264,
          0.6291208791208791,
          0.6291208791208791,
          0.6318681318681318,
          0.6318681318681318,
          0.6401098901098901,
          0.6401098901098901,
          0.6428571428571429,
          0.6428571428571429,
          0.6483516483516484,
          0.6483516483516484,
          0.6510989010989011,
          0.6510989010989011,
          0.6593406593406593,
          0.6593406593406593,
          0.6620879120879121,
          0.6620879120879121,
          0.6648351648351648,
          0.6648351648351648,
          0.6675824175824175,
          0.6675824175824175,
          0.6703296703296703,
          0.6703296703296703,
          0.6730769230769231,
          0.6730769230769231,
          0.6758241758241759,
          0.6758241758241759,
          0.6813186813186813,
          0.6813186813186813,
          0.6840659340659341,
          0.6840659340659341,
          0.6868131868131868,
          0.6868131868131868,
          0.6895604395604396,
          0.6895604395604396,
          0.695054945054945,
          0.695054945054945,
          0.6978021978021978,
          0.6978021978021978,
          0.7005494505494505,
          0.7005494505494505,
          0.7032967032967034,
          0.7032967032967034,
          0.7060439560439561,
          0.7060439560439561,
          0.7087912087912088,
          0.7087912087912088,
          0.7115384615384616,
          0.7115384615384616,
          0.717032967032967,
          0.717032967032967,
          0.7197802197802198,
          0.7197802197802198,
          0.7252747252747253,
          0.7252747252747253,
          0.728021978021978,
          0.728021978021978,
          0.7335164835164835,
          0.7335164835164835,
          0.7362637362637363,
          0.7362637362637363,
          0.739010989010989,
          0.739010989010989,
          0.7417582417582418,
          0.7417582417582418,
          0.7472527472527473,
          0.7472527472527473,
          0.75,
          0.75,
          0.7527472527472527,
          0.7527472527472527,
          0.7554945054945055,
          0.7554945054945055,
          0.7582417582417582,
          0.7582417582417582,
          0.7637362637362637,
          0.7637362637362637,
          0.7664835164835165,
          0.7664835164835165,
          0.7692307692307693,
          0.7692307692307693,
          0.771978021978022,
          0.771978021978022,
          0.7774725274725275,
          0.7774725274725275,
          0.7802197802197802,
          0.7802197802197802,
          0.782967032967033,
          0.782967032967033,
          0.7857142857142857,
          0.7857142857142857,
          0.7884615384615384,
          0.7884615384615384,
          0.7912087912087912,
          0.7912087912087912,
          0.7939560439560439,
          0.7939560439560439,
          0.7967032967032966,
          0.7967032967032966,
          0.8021978021978022,
          0.8021978021978022,
          0.8076923076923077,
          0.8076923076923077,
          0.8104395604395604,
          0.8104395604395604,
          0.8131868131868132,
          0.8131868131868132,
          0.8159340659340659,
          0.8159340659340659,
          0.8186813186813187,
          0.8186813186813187,
          0.8269230769230769,
          0.8269230769230769,
          0.8296703296703297,
          0.8296703296703297,
          0.8351648351648352,
          0.8351648351648352,
          0.8379120879120879,
          0.8379120879120879,
          0.8406593406593407,
          0.8406593406593407,
          0.8434065934065934,
          0.8434065934065934,
          0.8461538461538461,
          0.8461538461538461,
          0.8489010989010989,
          0.8489010989010989,
          0.8516483516483516,
          0.8516483516483516,
          0.8543956043956044,
          0.8543956043956044,
          0.8571428571428571,
          0.8571428571428571,
          0.8626373626373627,
          0.8626373626373627,
          0.8653846153846154,
          0.8653846153846154,
          0.8681318681318682,
          0.8681318681318682,
          0.8708791208791209,
          0.8708791208791209,
          0.8736263736263736,
          0.8736263736263736,
          0.8763736263736264,
          0.8763736263736264,
          0.8791208791208791,
          0.8791208791208791,
          0.8818681318681318,
          0.8818681318681318,
          0.8846153846153846,
          0.8846153846153846,
          0.8873626373626373,
          0.8873626373626373,
          0.8901098901098901,
          0.8901098901098901,
          0.8928571428571429,
          0.8928571428571429,
          0.8956043956043956,
          0.8956043956043956,
          0.9010989010989011,
          0.9010989010989011,
          0.9038461538461539,
          0.9038461538461539,
          0.9065934065934066,
          0.9065934065934066,
          0.9093406593406593,
          0.9093406593406593,
          0.9120879120879121,
          0.9120879120879121,
          0.9148351648351648,
          0.9148351648351648,
          0.9175824175824175,
          0.9175824175824175,
          0.9203296703296703,
          0.9203296703296703,
          0.9230769230769231,
          0.9230769230769231,
          0.9258241758241759,
          0.9258241758241759,
          0.9285714285714286,
          0.9285714285714286,
          0.9313186813186813,
          0.9313186813186813,
          0.9340659340659341,
          0.9340659340659341,
          0.9368131868131868,
          0.9368131868131868,
          0.9395604395604396,
          0.9395604395604396,
          0.9423076923076923,
          0.9423076923076923,
          0.945054945054945,
          0.945054945054945,
          0.9478021978021978,
          0.9478021978021978,
          0.9505494505494505,
          0.9505494505494505,
          0.9532967032967034,
          0.9532967032967034,
          0.9532967032967034,
          0.9532967032967034,
          0.9615384615384616,
          0.9615384615384616,
          0.9642857142857143,
          0.9642857142857143,
          0.967032967032967,
          0.967032967032967,
          0.9697802197802198,
          0.9697802197802198,
          0.9725274725274725,
          0.9725274725274725,
          0.9752747252747253,
          0.9752747252747253,
          0.978021978021978,
          0.978021978021978,
          0.9807692307692307,
          0.9807692307692307,
          0.9835164835164835,
          0.9835164835164835,
          0.9862637362637363,
          0.9862637362637363,
          0.989010989010989,
          0.989010989010989,
          0.9917582417582418,
          0.9917582417582418,
          0.9945054945054945,
          0.9945054945054945,
          0.9945054945054945,
          0.9945054945054945,
          0.9945054945054945,
          0.9945054945054945,
          0.9972527472527473,
          0.9972527472527473,
          1,
          1
         ]
        },
        {
         "line": {
          "color": "lightgray",
          "dash": "dash",
          "width": 1
         },
         "mode": "lines",
         "showlegend": false,
         "type": "scatter",
         "uid": "876d7434-4837-4f2d-820e-32cfa0a93e04",
         "x": [
          0,
          1
         ],
         "y": [
          0,
          1
         ]
        }
       ],
       "layout": {
        "height": 600,
        "margin": {
         "l": 50
        },
        "showlegend": false,
        "title": {
         "text": "<b>Receiver Operating Characteristic Curve</b><br><i>test data</i>"
        },
        "width": 800,
        "xaxis": {
         "color": "#AAAAAA",
         "showgrid": false,
         "title": {
          "font": {
           "color": "#AAAAAA"
          },
          "text": "False Positive Rate"
         }
        },
        "yaxis": {
         "color": "#AAAAAA",
         "showgrid": false,
         "title": {
          "font": {
           "color": "#AAAAAA"
          },
          "text": "True Positive Rate"
         }
        }
       }
      },
      "text/html": [
       "<div>\n",
       "        \n",
       "        \n",
       "            <div id=\"e5cb37cc-535f-4a49-a2df-ee1d6b3e1ecd\" class=\"plotly-graph-div\" style=\"height:600px; width:800px;\"></div>\n",
       "            <script type=\"text/javascript\">\n",
       "                require([\"plotly\"], function(Plotly) {\n",
       "                    window.PLOTLYENV=window.PLOTLYENV || {};\n",
       "                    window.PLOTLYENV.BASE_URL='https://plot.ly';\n",
       "                    \n",
       "                if (document.getElementById(\"e5cb37cc-535f-4a49-a2df-ee1d6b3e1ecd\")) {\n",
       "                    Plotly.newPlot(\n",
       "                        'e5cb37cc-535f-4a49-a2df-ee1d6b3e1ecd',\n",
       "                        [{\"line\": {\"color\": \"mediumaquamarine\", \"width\": 3}, \"mode\": \"lines\", \"name\": \"ROC curve\", \"type\": \"scatter\", \"uid\": \"d8b2e642-9755-433d-82a3-66f5e4a64226\", \"x\": [0.0, 0.0, 0.0004488330341113106, 0.0004488330341113106, 0.0008976660682226212, 0.0008976660682226212, 0.0013464991023339318, 0.0013464991023339318, 0.0017953321364452424, 0.0017953321364452424, 0.002244165170556553, 0.002244165170556553, 0.0026929982046678637, 0.0026929982046678637, 0.003590664272890485, 0.003590664272890485, 0.0058348294434470375, 0.0058348294434470375, 0.0062836624775583485, 0.0062836624775583485, 0.006732495511669659, 0.006732495511669659, 0.00763016157989228, 0.00763016157989228, 0.008976660682226212, 0.008976660682226212, 0.009425493716337522, 0.009425493716337522, 0.009874326750448833, 0.009874326750448833, 0.010771992818671455, 0.010771992818671455, 0.011220825852782765, 0.011220825852782765, 0.011669658886894075, 0.011669658886894075, 0.012118491921005385, 0.012118491921005385, 0.013464991023339317, 0.013464991023339317, 0.013913824057450628, 0.013913824057450628, 0.01436265709156194, 0.01436265709156194, 0.01481149012567325, 0.01481149012567325, 0.01526032315978456, 0.01526032315978456, 0.01570915619389587, 0.01570915619389587, 0.017055655296229804, 0.017055655296229804, 0.017953321364452424, 0.017953321364452424, 0.018402154398563735, 0.018402154398563735, 0.019299820466786355, 0.019299820466786355, 0.020197486535008975, 0.020197486535008975, 0.0210951526032316, 0.0210951526032316, 0.02154398563734291, 0.02154398563734291, 0.02199281867145422, 0.02199281867145422, 0.02244165170556553, 0.02244165170556553, 0.02289048473967684, 0.02289048473967684, 0.02333931777378815, 0.02333931777378815, 0.02423698384201077, 0.02423698384201077, 0.024685816876122084, 0.024685816876122084, 0.025134649910233394, 0.025134649910233394, 0.026032315978456014, 0.026032315978456014, 0.026481149012567325, 0.026481149012567325, 0.027378815080789945, 0.027378815080789945, 0.02872531418312388, 0.02872531418312388, 0.02917414721723519, 0.02917414721723519, 0.0296229802513465, 0.0296229802513465, 0.03007181328545781, 0.03007181328545781, 0.03052064631956912, 0.03052064631956912, 0.03096947935368043, 0.03096947935368043, 0.03141831238779174, 0.03141831238779174, 0.03231597845601436, 0.03231597845601436, 0.032764811490125674, 0.032764811490125674, 0.03411131059245961, 0.03411131059245961, 0.03500897666068223, 0.03500897666068223, 0.035457809694793535, 0.035457809694793535, 0.036355475763016155, 0.036355475763016155, 0.03680430879712747, 0.03680430879712747, 0.037253141831238776, 0.037253141831238776, 0.03770197486535009, 0.03770197486535009, 0.0381508078994614, 0.0381508078994614, 0.03949730700179533, 0.03949730700179533, 0.039946140035906644, 0.039946140035906644, 0.04129263913824058, 0.04129263913824058, 0.04533213644524237, 0.04533213644524237, 0.04578096947935368, 0.04578096947935368, 0.048025134649910234, 0.048025134649910234, 0.04847396768402154, 0.04847396768402154, 0.048922800718132854, 0.048922800718132854, 0.05206463195691203, 0.05206463195691203, 0.05565529622980251, 0.05565529622980251, 0.05655296229802514, 0.05655296229802514, 0.057899461400359065, 0.057899461400359065, 0.058797127468581685, 0.058797127468581685, 0.06014362657091562, 0.06014362657091562, 0.06059245960502693, 0.06059245960502693, 0.06193895870736086, 0.06193895870736086, 0.06238779174147217, 0.06238779174147217, 0.06552962298025135, 0.06552962298025135, 0.06597845601436265, 0.06597845601436265, 0.06642728904847396, 0.06642728904847396, 0.0677737881508079, 0.0677737881508079, 0.06912028725314183, 0.06912028725314183, 0.07001795332136446, 0.07001795332136446, 0.07091561938958707, 0.07091561938958707, 0.07136445242369839, 0.07136445242369839, 0.0718132854578097, 0.0718132854578097, 0.07495511669658887, 0.07495511669658887, 0.07585278276481149, 0.07585278276481149, 0.07675044883303411, 0.07675044883303411, 0.07719928186714542, 0.07719928186714542, 0.07809694793536805, 0.07809694793536805, 0.07854578096947935, 0.07854578096947935, 0.07899461400359066, 0.07899461400359066, 0.07989228007181329, 0.07989228007181329, 0.08213644524236983, 0.08213644524236983, 0.08303411131059246, 0.08303411131059246, 0.08842010771992818, 0.08842010771992818, 0.09201077199281867, 0.09201077199281867, 0.0933572710951526, 0.0933572710951526, 0.09380610412926392, 0.09380610412926392, 0.09470377019748653, 0.09470377019748653, 0.09515260323159784, 0.09515260323159784, 0.09694793536804308, 0.09694793536804308, 0.10053859964093358, 0.10053859964093358, 0.10098743267504488, 0.10098743267504488, 0.10233393177737882, 0.10233393177737882, 0.1063734290843806, 0.1063734290843806, 0.10682226211849193, 0.10682226211849193, 0.10727109515260323, 0.10727109515260323, 0.10816876122082585, 0.10816876122082585, 0.11086175942549371, 0.11086175942549371, 0.11220825852782765, 0.11220825852782765, 0.11265709156193895, 0.11265709156193895, 0.11535008976660682, 0.11535008976660682, 0.11938958707360861, 0.11938958707360861, 0.12028725314183124, 0.12028725314183124, 0.12118491921005387, 0.12118491921005387, 0.12208258527827648, 0.12208258527827648, 0.12567324955116696, 0.12567324955116696, 0.13375224416517056, 0.13375224416517056, 0.1359964093357271, 0.1359964093357271, 0.1400359066427289, 0.1400359066427289, 0.14183123877917414, 0.14183123877917414, 0.1431777378815081, 0.1431777378815081, 0.14631956912028726, 0.14631956912028726, 0.14766606822262118, 0.14766606822262118, 0.1490125673249551, 0.1490125673249551, 0.15035906642728905, 0.15035906642728905, 0.1526032315978456, 0.1526032315978456, 0.15305206463195692, 0.15305206463195692, 0.15394973070017953, 0.15394973070017953, 0.15484739676840215, 0.15484739676840215, 0.15798922800718132, 0.15798922800718132, 0.15978456014362658, 0.15978456014362658, 0.16247755834829444, 0.16247755834829444, 0.16606822262118492, 0.16606822262118492, 0.16741472172351884, 0.16741472172351884, 0.1692100538599641, 0.1692100538599641, 0.17190305206463197, 0.17190305206463197, 0.17280071813285458, 0.17280071813285458, 0.1732495511669659, 0.1732495511669659, 0.1741472172351885, 0.1741472172351885, 0.17639138240574506, 0.17639138240574506, 0.17863554757630162, 0.17863554757630162, 0.19254937163375224, 0.19254937163375224, 0.19389587073608616, 0.19389587073608616, 0.20646319569120286, 0.20646319569120286, 0.2244165170556553, 0.2244165170556553, 0.22666068222621186, 0.22666068222621186, 0.23025134649910234, 0.23025134649910234, 0.23159784560143626, 0.23159784560143626, 0.24281867145421904, 0.24281867145421904, 0.24730700179533213, 0.24730700179533213, 0.2634649910233393, 0.2634649910233393, 0.2643626570915619, 0.2643626570915619, 0.2719928186714542, 0.2719928186714542, 0.2746858168761221, 0.2746858168761221, 0.2751346499102334, 0.2751346499102334, 0.28186714542190305, 0.28186714542190305, 0.28276481149012567, 0.28276481149012567, 0.2845601436265709, 0.2845601436265709, 0.29039497307001794, 0.29039497307001794, 0.30430879712746856, 0.30430879712746856, 0.31687612208258525, 0.31687612208258525, 0.3263016157989228, 0.3263016157989228, 0.34111310592459604, 0.34111310592459604, 0.34156193895870735, 0.34156193895870735, 0.34380610412926393, 0.34380610412926393, 0.3478456014362657, 0.3478456014362657, 0.348294434470377, 0.348294434470377, 0.3505385996409336, 0.3505385996409336, 0.35502692998204666, 0.35502692998204666, 0.3595152603231598, 0.3595152603231598, 0.3599640933572711, 0.3599640933572711, 0.36759425493716336, 0.36759425493716336, 0.37028725314183125, 0.37028725314183125, 0.3850987432675045, 0.3850987432675045, 0.4035008976660682, 0.4035008976660682, 0.40484739676840215, 0.40484739676840215, 0.41651705565529623, 0.41651705565529623, 0.42010771992818674, 0.42010771992818674, 0.4268402154398564, 0.4268402154398564, 0.45556552962298025, 0.45556552962298025, 0.49461400359066426, 0.49461400359066426, 0.5, 0.5008976660682226, 0.5112208258527827, 0.5112208258527827, 0.5251346499102334, 0.5251346499102334, 0.5489228007181328, 0.5489228007181328, 0.5807899461400359, 0.5807899461400359, 0.5843806104129264, 0.5843806104129264, 0.6409335727109515, 0.6409335727109515, 0.7069120287253142, 0.7069120287253142, 0.7176840215439856, 0.7176840215439856, 0.7257630161579892, 0.7257630161579892, 0.7347396768402155, 0.7347396768402155, 0.7522441651705566, 0.7522441651705566, 0.7751346499102334, 0.7751346499102334, 0.776032315978456, 0.776032315978456, 0.8469479353680431, 0.8478456014362658, 0.9245960502692998, 0.9254937163375224, 0.9515260323159784, 0.9515260323159784, 0.9663375224416517, 0.9663375224416517, 1.0], \"y\": [0.0, 0.0027472527472527475, 0.0027472527472527475, 0.06593406593406594, 0.06593406593406594, 0.07417582417582418, 0.07417582417582418, 0.0989010989010989, 0.0989010989010989, 0.1043956043956044, 0.1043956043956044, 0.14835164835164835, 0.14835164835164835, 0.2032967032967033, 0.2032967032967033, 0.20604395604395603, 0.20604395604395603, 0.21428571428571427, 0.21428571428571427, 0.21978021978021978, 0.21978021978021978, 0.23901098901098902, 0.23901098901098902, 0.2554945054945055, 0.2554945054945055, 0.260989010989011, 0.260989010989011, 0.27197802197802196, 0.27197802197802196, 0.28296703296703296, 0.28296703296703296, 0.2857142857142857, 0.2857142857142857, 0.28846153846153844, 0.28846153846153844, 0.29395604395604397, 0.29395604395604397, 0.2967032967032967, 0.2967032967032967, 0.29945054945054944, 0.29945054945054944, 0.30494505494505497, 0.30494505494505497, 0.3076923076923077, 0.3076923076923077, 0.3159340659340659, 0.3159340659340659, 0.32142857142857145, 0.32142857142857145, 0.3269230769230769, 0.3269230769230769, 0.3324175824175824, 0.3324175824175824, 0.33516483516483514, 0.33516483516483514, 0.33791208791208793, 0.33791208791208793, 0.3434065934065934, 0.3434065934065934, 0.34615384615384615, 0.34615384615384615, 0.3543956043956044, 0.3543956043956044, 0.35714285714285715, 0.35714285714285715, 0.3626373626373626, 0.3626373626373626, 0.36813186813186816, 0.36813186813186816, 0.37362637362637363, 0.37362637362637363, 0.37637362637362637, 0.37637362637362637, 0.38461538461538464, 0.38461538461538464, 0.3873626373626374, 0.3873626373626374, 0.3901098901098901, 0.3901098901098901, 0.3956043956043956, 0.3956043956043956, 0.3983516483516483, 0.3983516483516483, 0.40934065934065933, 0.40934065934065933, 0.41208791208791207, 0.41208791208791207, 0.4230769230769231, 0.4230769230769231, 0.42857142857142855, 0.42857142857142855, 0.4340659340659341, 0.4340659340659341, 0.4368131868131868, 0.4368131868131868, 0.43956043956043955, 0.43956043956043955, 0.4478021978021978, 0.4478021978021978, 0.45054945054945056, 0.45054945054945056, 0.4697802197802198, 0.4697802197802198, 0.4725274725274725, 0.4725274725274725, 0.47527472527472525, 0.47527472527472525, 0.4835164835164835, 0.4835164835164835, 0.48626373626373626, 0.48626373626373626, 0.4945054945054945, 0.4945054945054945, 0.49725274725274726, 0.49725274725274726, 0.5, 0.5, 0.5027472527472527, 0.5027472527472527, 0.5137362637362637, 0.5137362637362637, 0.5192307692307693, 0.5192307692307693, 0.521978021978022, 0.521978021978022, 0.5302197802197802, 0.5302197802197802, 0.532967032967033, 0.532967032967033, 0.5384615384615384, 0.5384615384615384, 0.5467032967032966, 0.5467032967032966, 0.554945054945055, 0.554945054945055, 0.5604395604395604, 0.5604395604395604, 0.5659340659340659, 0.5659340659340659, 0.5714285714285714, 0.5714285714285714, 0.5769230769230769, 0.5769230769230769, 0.5796703296703297, 0.5796703296703297, 0.5851648351648352, 0.5851648351648352, 0.5879120879120879, 0.5879120879120879, 0.5906593406593407, 0.5906593406593407, 0.5961538461538461, 0.5961538461538461, 0.5989010989010989, 0.5989010989010989, 0.6043956043956044, 0.6043956043956044, 0.6071428571428571, 0.6071428571428571, 0.6098901098901099, 0.6098901098901099, 0.6181318681318682, 0.6181318681318682, 0.6208791208791209, 0.6208791208791209, 0.6236263736263736, 0.6236263736263736, 0.6263736263736264, 0.6263736263736264, 0.6291208791208791, 0.6291208791208791, 0.6318681318681318, 0.6318681318681318, 0.6401098901098901, 0.6401098901098901, 0.6428571428571429, 0.6428571428571429, 0.6483516483516484, 0.6483516483516484, 0.6510989010989011, 0.6510989010989011, 0.6593406593406593, 0.6593406593406593, 0.6620879120879121, 0.6620879120879121, 0.6648351648351648, 0.6648351648351648, 0.6675824175824175, 0.6675824175824175, 0.6703296703296703, 0.6703296703296703, 0.6730769230769231, 0.6730769230769231, 0.6758241758241759, 0.6758241758241759, 0.6813186813186813, 0.6813186813186813, 0.6840659340659341, 0.6840659340659341, 0.6868131868131868, 0.6868131868131868, 0.6895604395604396, 0.6895604395604396, 0.695054945054945, 0.695054945054945, 0.6978021978021978, 0.6978021978021978, 0.7005494505494505, 0.7005494505494505, 0.7032967032967034, 0.7032967032967034, 0.7060439560439561, 0.7060439560439561, 0.7087912087912088, 0.7087912087912088, 0.7115384615384616, 0.7115384615384616, 0.717032967032967, 0.717032967032967, 0.7197802197802198, 0.7197802197802198, 0.7252747252747253, 0.7252747252747253, 0.728021978021978, 0.728021978021978, 0.7335164835164835, 0.7335164835164835, 0.7362637362637363, 0.7362637362637363, 0.739010989010989, 0.739010989010989, 0.7417582417582418, 0.7417582417582418, 0.7472527472527473, 0.7472527472527473, 0.75, 0.75, 0.7527472527472527, 0.7527472527472527, 0.7554945054945055, 0.7554945054945055, 0.7582417582417582, 0.7582417582417582, 0.7637362637362637, 0.7637362637362637, 0.7664835164835165, 0.7664835164835165, 0.7692307692307693, 0.7692307692307693, 0.771978021978022, 0.771978021978022, 0.7774725274725275, 0.7774725274725275, 0.7802197802197802, 0.7802197802197802, 0.782967032967033, 0.782967032967033, 0.7857142857142857, 0.7857142857142857, 0.7884615384615384, 0.7884615384615384, 0.7912087912087912, 0.7912087912087912, 0.7939560439560439, 0.7939560439560439, 0.7967032967032966, 0.7967032967032966, 0.8021978021978022, 0.8021978021978022, 0.8076923076923077, 0.8076923076923077, 0.8104395604395604, 0.8104395604395604, 0.8131868131868132, 0.8131868131868132, 0.8159340659340659, 0.8159340659340659, 0.8186813186813187, 0.8186813186813187, 0.8269230769230769, 0.8269230769230769, 0.8296703296703297, 0.8296703296703297, 0.8351648351648352, 0.8351648351648352, 0.8379120879120879, 0.8379120879120879, 0.8406593406593407, 0.8406593406593407, 0.8434065934065934, 0.8434065934065934, 0.8461538461538461, 0.8461538461538461, 0.8489010989010989, 0.8489010989010989, 0.8516483516483516, 0.8516483516483516, 0.8543956043956044, 0.8543956043956044, 0.8571428571428571, 0.8571428571428571, 0.8626373626373627, 0.8626373626373627, 0.8653846153846154, 0.8653846153846154, 0.8681318681318682, 0.8681318681318682, 0.8708791208791209, 0.8708791208791209, 0.8736263736263736, 0.8736263736263736, 0.8763736263736264, 0.8763736263736264, 0.8791208791208791, 0.8791208791208791, 0.8818681318681318, 0.8818681318681318, 0.8846153846153846, 0.8846153846153846, 0.8873626373626373, 0.8873626373626373, 0.8901098901098901, 0.8901098901098901, 0.8928571428571429, 0.8928571428571429, 0.8956043956043956, 0.8956043956043956, 0.9010989010989011, 0.9010989010989011, 0.9038461538461539, 0.9038461538461539, 0.9065934065934066, 0.9065934065934066, 0.9093406593406593, 0.9093406593406593, 0.9120879120879121, 0.9120879120879121, 0.9148351648351648, 0.9148351648351648, 0.9175824175824175, 0.9175824175824175, 0.9203296703296703, 0.9203296703296703, 0.9230769230769231, 0.9230769230769231, 0.9258241758241759, 0.9258241758241759, 0.9285714285714286, 0.9285714285714286, 0.9313186813186813, 0.9313186813186813, 0.9340659340659341, 0.9340659340659341, 0.9368131868131868, 0.9368131868131868, 0.9395604395604396, 0.9395604395604396, 0.9423076923076923, 0.9423076923076923, 0.945054945054945, 0.945054945054945, 0.9478021978021978, 0.9478021978021978, 0.9505494505494505, 0.9505494505494505, 0.9532967032967034, 0.9532967032967034, 0.9532967032967034, 0.9532967032967034, 0.9615384615384616, 0.9615384615384616, 0.9642857142857143, 0.9642857142857143, 0.967032967032967, 0.967032967032967, 0.9697802197802198, 0.9697802197802198, 0.9725274725274725, 0.9725274725274725, 0.9752747252747253, 0.9752747252747253, 0.978021978021978, 0.978021978021978, 0.9807692307692307, 0.9807692307692307, 0.9835164835164835, 0.9835164835164835, 0.9862637362637363, 0.9862637362637363, 0.989010989010989, 0.989010989010989, 0.9917582417582418, 0.9917582417582418, 0.9945054945054945, 0.9945054945054945, 0.9945054945054945, 0.9945054945054945, 0.9945054945054945, 0.9945054945054945, 0.9972527472527473, 0.9972527472527473, 1.0, 1.0]}, {\"line\": {\"color\": \"lightgray\", \"dash\": \"dash\", \"width\": 1}, \"mode\": \"lines\", \"showlegend\": false, \"type\": \"scatter\", \"uid\": \"ae5f9fa9-8c59-442f-aef2-a03f7d5887f5\", \"x\": [0, 1], \"y\": [0, 1]}],\n",
       "                        {\"height\": 600, \"margin\": {\"l\": 50}, \"showlegend\": false, \"title\": {\"text\": \"<b>Receiver Operating Characteristic Curve</b><br><i>test data</i>\"}, \"width\": 800, \"xaxis\": {\"color\": \"#AAAAAA\", \"showgrid\": false, \"title\": {\"font\": {\"color\": \"#AAAAAA\"}, \"text\": \"False Positive Rate\"}}, \"yaxis\": {\"color\": \"#AAAAAA\", \"showgrid\": false, \"title\": {\"font\": {\"color\": \"#AAAAAA\"}, \"text\": \"True Positive Rate\"}}},\n",
       "                        {\"showLink\": false, \"linkText\": \"Export to plot.ly\", \"plotlyServerURL\": \"https://plot.ly\", \"responsive\": true}\n",
       "                    ).then(function(){\n",
       "                            \n",
       "var gd = document.getElementById('e5cb37cc-535f-4a49-a2df-ee1d6b3e1ecd');\n",
       "var x = new MutationObserver(function (mutations, observer) {{\n",
       "        var display = window.getComputedStyle(gd).display;\n",
       "        if (!display || display === 'none') {{\n",
       "            console.log([gd, 'removed!']);\n",
       "            Plotly.purge(gd);\n",
       "            observer.disconnect();\n",
       "        }}\n",
       "}});\n",
       "\n",
       "// Listen for the removal of the full notebook cells\n",
       "var notebookContainer = gd.closest('#notebook-container');\n",
       "if (notebookContainer) {{\n",
       "    x.observe(notebookContainer, {childList: true});\n",
       "}}\n",
       "\n",
       "// Listen for the clearing of the current output cell\n",
       "var outputEl = gd.closest('.output');\n",
       "if (outputEl) {{\n",
       "    x.observe(outputEl, {childList: true});\n",
       "}}\n",
       "\n",
       "                        })\n",
       "                };\n",
       "                });\n",
       "            </script>\n",
       "        </div>"
      ]
     },
     "metadata": {},
     "output_type": "display_data"
    }
   ],
   "source": [
    "from sklearn.metrics import roc_curve\n",
    "\n",
    "yscore = pd.DataFrame(lreg.predict_proba(Xtest)).iloc[:,1]\n",
    "fpr, tpr, _ = roc_curve(ytest, yscore)\n",
    "\n",
    "trace1 = go.Scatter(x=fpr, y=tpr, \n",
    "                    mode='lines', \n",
    "                    line=dict(color='mediumaquamarine', width=3),\n",
    "                    name='ROC curve'\n",
    "                   )\n",
    "\n",
    "trace2 = go.Scatter(x=[0, 1], y=[0, 1], \n",
    "                    mode='lines', \n",
    "                    line=dict(color='lightgray', width=1, dash='dash'),\n",
    "                    showlegend=False)\n",
    "\n",
    "layout = gen_layout('<b>Receiver Operating Characteristic Curve</b><br><i>test data</i>', \n",
    "                    'False Positive Rate',\n",
    "                    'True Positive Rate',\n",
    "                    lmarg=50, h=600\n",
    "                    )\n",
    "\n",
    "\n",
    "fig = go.Figure(data=[trace1, trace2], layout=layout)\n",
    "\n",
    "iplot(fig)"
   ]
  },
  {
   "cell_type": "markdown",
   "metadata": {
    "_uuid": "91c1c07f9e71470a82dce9d41a1979f3c28e8516"
   },
   "source": [
    "## Probability of Being in the Top 20% per Score\n",
    "Now let's calculate the probability of belonging to the Top 20% given a certain score. To do that we will create score ranges. We calculate the probability based on how the model performed on test data. Below we show the probability for each bin."
   ]
  },
  {
   "cell_type": "code",
   "execution_count": 42,
   "metadata": {
    "_kg_hide-input": true,
    "_uuid": "571e5ff36fe35bf8f6337762a0e5fc9211b99a10"
   },
   "outputs": [
    {
     "data": {
      "text/html": [
       "<div>\n",
       "<style scoped>\n",
       "    .dataframe tbody tr th:only-of-type {\n",
       "        vertical-align: middle;\n",
       "    }\n",
       "\n",
       "    .dataframe tbody tr th {\n",
       "        vertical-align: top;\n",
       "    }\n",
       "\n",
       "    .dataframe thead th {\n",
       "        text-align: right;\n",
       "    }\n",
       "</style>\n",
       "<table border=\"1\" class=\"dataframe\">\n",
       "  <thead>\n",
       "    <tr style=\"text-align: right;\">\n",
       "      <th></th>\n",
       "      <th>probability</th>\n",
       "    </tr>\n",
       "    <tr>\n",
       "      <th>bin</th>\n",
       "      <th></th>\n",
       "    </tr>\n",
       "  </thead>\n",
       "  <tbody>\n",
       "    <tr>\n",
       "      <th>(-0.01, 0.05]</th>\n",
       "      <td>0.012289</td>\n",
       "    </tr>\n",
       "    <tr>\n",
       "      <th>(0.05, 0.1]</th>\n",
       "      <td>0.010381</td>\n",
       "    </tr>\n",
       "    <tr>\n",
       "      <th>(0.1, 0.2]</th>\n",
       "      <td>0.023599</td>\n",
       "    </tr>\n",
       "    <tr>\n",
       "      <th>(0.2, 0.4]</th>\n",
       "      <td>0.072639</td>\n",
       "    </tr>\n",
       "    <tr>\n",
       "      <th>(0.4, 0.5]</th>\n",
       "      <td>0.057803</td>\n",
       "    </tr>\n",
       "    <tr>\n",
       "      <th>(0.5, 0.6]</th>\n",
       "      <td>0.203008</td>\n",
       "    </tr>\n",
       "    <tr>\n",
       "      <th>(0.6, 0.7]</th>\n",
       "      <td>0.218978</td>\n",
       "    </tr>\n",
       "    <tr>\n",
       "      <th>(0.7, 0.8]</th>\n",
       "      <td>0.324786</td>\n",
       "    </tr>\n",
       "    <tr>\n",
       "      <th>(0.8, 0.9]</th>\n",
       "      <td>0.450450</td>\n",
       "    </tr>\n",
       "    <tr>\n",
       "      <th>(0.9, 0.95]</th>\n",
       "      <td>0.555556</td>\n",
       "    </tr>\n",
       "    <tr>\n",
       "      <th>(0.95, 0.975]</th>\n",
       "      <td>0.693548</td>\n",
       "    </tr>\n",
       "    <tr>\n",
       "      <th>(0.975, 1.0]</th>\n",
       "      <td>0.911765</td>\n",
       "    </tr>\n",
       "  </tbody>\n",
       "</table>\n",
       "</div>"
      ],
      "text/plain": [
       "               probability\n",
       "bin                       \n",
       "(-0.01, 0.05]     0.012289\n",
       "(0.05, 0.1]       0.010381\n",
       "(0.1, 0.2]        0.023599\n",
       "(0.2, 0.4]        0.072639\n",
       "(0.4, 0.5]        0.057803\n",
       "(0.5, 0.6]        0.203008\n",
       "(0.6, 0.7]        0.218978\n",
       "(0.7, 0.8]        0.324786\n",
       "(0.8, 0.9]        0.450450\n",
       "(0.9, 0.95]       0.555556\n",
       "(0.95, 0.975]     0.693548\n",
       "(0.975, 1.0]      0.911765"
      ]
     },
     "execution_count": 42,
     "metadata": {},
     "output_type": "execute_result"
    }
   ],
   "source": [
    "def calc_proba(model):\n",
    "    # calculating scores for the test data\n",
    "    scores = pd.DataFrame(model.predict_proba(Xtest)).iloc[:,1]\n",
    "    scores = pd.DataFrame([scores.values, ytest.values]).transpose()\n",
    "    scores.columns = ['score', 'top20']\n",
    "\n",
    "    # create 10 evenly spaced bins\n",
    "    scores['bin'] = pd.cut(scores.score, [-0.01, 0.05, 0.1, 0.2, 0.4, 0.5, 0.6, 0.7, 0.8, 0.9, 0.95, 0.975, 1])\n",
    "\n",
    "    # count number of individuals in Top20% and Bottom80% per bin\n",
    "    prob = scores.groupby(['bin', 'top20'], as_index=False)['score'].count()\n",
    "    prob = pd.pivot_table(prob, values='score', index=['bin'], columns=['top20'])\n",
    "\n",
    "    # calculates the probability\n",
    "    prob['probability'] = prob[1.0] / (prob[0.0] + prob[1.0])\n",
    "    return prob['probability']\n",
    "\n",
    "# Calculates the probabilities of belonging to Top20% per range of score based on test data\n",
    "calc_proba(lreg).to_frame()"
   ]
  },
  {
   "cell_type": "markdown",
   "metadata": {
    "_uuid": "1f972b87b07504804cb9658af79e906880498772"
   },
   "source": [
    "# 124 Ways to Increase Your Earnings\n",
    "Our model had a total of 124 features. From their coefficients we may draw some ideas that might help you find your pile of money. Let's first look where the intercept is:"
   ]
  },
  {
   "cell_type": "code",
   "execution_count": 43,
   "metadata": {
    "_kg_hide-input": true,
    "_uuid": "b670fa3f8760f2ff66d8239eb2b0ca3341c4fdbe"
   },
   "outputs": [
    {
     "name": "stdout",
     "output_type": "stream",
     "text": [
      "Our model's intercept is: 0.9131246981435048\n"
     ]
    }
   ],
   "source": [
    "print('Our model\\'s intercept is:', lreg.intercept_[0])"
   ]
  },
  {
   "cell_type": "markdown",
   "metadata": {
    "_uuid": "8a92f5533e2b33b9c0454bf84e301685148e9eeb"
   },
   "source": [
    "This means that everyone starts with 0.913. Then you may add or subtract points from your it, depending of the answers you give to each question.\n",
    "\n",
    "* **Positive Coefficients:** If the coefficient is positive, means that a positive answer increases the chances of belonging to the Top 20%. \n",
    "* **Negative Coefficients:**  If the coefficient is negative, then a positive answer decreases the probability of belonging to the Top 20%.\n",
    "\n",
    "**Takeaway:** Have an attitude towards positiveness. Don't do negative stuff. =D"
   ]
  },
  {
   "cell_type": "code",
   "execution_count": 44,
   "metadata": {
    "_kg_hide-input": true,
    "_kg_hide-output": true,
    "_uuid": "b2ad784d6e33fa2a28f3b76a8d8b816d466b78fe"
   },
   "outputs": [],
   "source": [
    "# treating the questions just to display better names\n",
    "features = pd.DataFrame([Xtrain.columns, lreg.coef_[0]]).transpose()\n",
    "features.columns = ['feature', 'coefficient']\n",
    "features['abs_coefficient'] = features['coefficient'].abs()\n",
    "features['question_number'] = features.feature.str.split('-').str[0]\n",
    "features['answer'] = features.feature.str[3:]\n",
    "features['answer'] = features.answer.apply(lambda x: x[1:] if x[0] == '-' else x)\n",
    "\n",
    "features['question'] = features['question_number'].map(questions)\n",
    "\n",
    "\n",
    "answers_dict = {'age': 'continuous feature',\n",
    "                'top10_country': 'live at one of the top 10 countries',\n",
    "                'top7_job_title': 'has one of the top 7 job titles',\n",
    "               }\n",
    "\n",
    "features['question'] = features['question_number'].map(questions)\n",
    "features = features[['question_number', 'question', 'answer', 'coefficient', 'abs_coefficient']]"
   ]
  },
  {
   "cell_type": "code",
   "execution_count": 45,
   "metadata": {
    "_kg_hide-input": true,
    "_kg_hide-output": true,
    "_uuid": "502de9d9e4dacac8ee29aae6f6d7e1fc84e95dee"
   },
   "outputs": [],
   "source": [
    "# Helper functions for building clean plots\n",
    "def gen_yaxis(title):\n",
    "    \"\"\"\n",
    "    Create y axis\n",
    "    \"\"\"\n",
    "    yaxis=dict(\n",
    "            title=title,\n",
    "            titlefont=dict(\n",
    "                color='#AAAAAA'\n",
    "            ),\n",
    "            showgrid=False,\n",
    "            color='#AAAAAA',\n",
    "            tickfont=dict(\n",
    "            size=12,\n",
    "            color='#444444'\n",
    "        ),\n",
    "            )\n",
    "    return yaxis\n",
    "\n",
    "\n",
    "def gen_layout(charttitle, xtitle, ytitle, annotations=None, lmarg=120, h=400):  \n",
    "    \"\"\"\n",
    "    Create layout\n",
    "    \"\"\"\n",
    "    return go.Layout(title=charttitle, \n",
    "                     height=h, \n",
    "                     width=800,\n",
    "                     showlegend=False,\n",
    "                     xaxis=gen_xaxis(xtitle), \n",
    "                     yaxis=gen_yaxis(ytitle),\n",
    "                     annotations = annotations,\n",
    "                     margin=dict(l=lmarg),\n",
    "                    )\n",
    "\n",
    "def split_string(string, lenght):\n",
    "    \"\"\"\n",
    "    Split a string adding a line break at each \"lenght\" words\n",
    "    \"\"\"\n",
    "    result = ''\n",
    "    idx = 1\n",
    "    for word in string.split(' '):\n",
    "        if idx % lenght == 0:\n",
    "            result = result + '<br>' + ''.join(word)\n",
    "        else:    \n",
    "            result = result + ' ' + ''.join(word)\n",
    "        idx += 1\n",
    "    return result\n",
    "\n",
    "def gen_bars_result(data, color, orient):\n",
    "    \"\"\"\n",
    "    Create bars\n",
    "    \"\"\"\n",
    "    bars = []\n",
    "    for label, label_df in data.groupby(color):\n",
    "        if orient == 'h':\n",
    "            label_df = label_df.sort_values(by='x', ascending=True)\n",
    "        if label == 'a':\n",
    "            label = 'lightgray'\n",
    "        bars.append(go.Bar(x=label_df.x,\n",
    "                           y=label_df.y,\n",
    "                           name=label,\n",
    "                           marker={'color': label},\n",
    "                           orientation = orient,\n",
    "                           text=label_df.x.astype(float).round(3),\n",
    "                           hoverinfo='none',\n",
    "                           textposition='auto',\n",
    "                           textfont=dict(size=12, color= '#444444')\n",
    "                          )\n",
    "                   )\n",
    "    return bars\n",
    "\n",
    "def plot_result (qnumber):\n",
    "    \"\"\"\n",
    "    Plot coefficients for a given question number\n",
    "    \"\"\"\n",
    "    data = features[features.question_number == qnumber]\n",
    "    title = qnumber + '. ' + data.question.values[0]\n",
    "    title = split_string(title, 8)\n",
    "    barplot = data[['answer', 'coefficient']].copy()\n",
    "    barplot.answer = barplot.answer.apply(lambda x: split_string(x, 5))\n",
    "    barplot.columns = ['y', 'x']\n",
    "    bartplot = barplot.sort_values(by='x', ascending=False)\n",
    "    barplot['model_highlight'] = barplot.x > 0\n",
    "    barplot['color'] = barplot.model_highlight.apply(lambda x: 'cornflowerblue' if x else 'a')\n",
    "\n",
    "    layout = gen_layout('<b>{}</b>'.format(title), \n",
    "                        'Model Coefficient', \n",
    "                        '',\n",
    "                        lmarg=300,\n",
    "                        h= 600)\n",
    "\n",
    "    fig = go.Figure(data=gen_bars_result(barplot, 'color', orient='h'), \n",
    "                    layout=layout)\n",
    "    iplot(fig, filename='color-bar')"
   ]
  },
  {
   "cell_type": "code",
   "execution_count": 46,
   "metadata": {
    "_kg_hide-input": true,
    "_uuid": "de555a6bad9769a61fece7c46b2352893aecc1ca"
   },
   "outputs": [
    {
     "data": {
      "application/vnd.plotly.v1+json": {
       "config": {
        "linkText": "Export to plot.ly",
        "plotlyServerURL": "https://plot.ly",
        "responsive": true,
        "showLink": false
       },
       "data": [
        {
         "hoverinfo": "none",
         "marker": {
          "color": "lightgray"
         },
         "name": "lightgray",
         "orientation": "h",
         "text": [
          -0.248
         ],
         "textfont": {
          "color": "#444444",
          "size": 12
         },
         "textposition": "auto",
         "type": "bar",
         "uid": "79be77d4-a0d6-439a-b58d-2f8fb836d7d2",
         "x": [
          -0.24808933616804868
         ],
         "y": [
          " Female"
         ]
        }
       ],
       "layout": {
        "height": 600,
        "margin": {
         "l": 300
        },
        "showlegend": false,
        "title": {
         "text": "<b> Q1. What is your gender?</b>"
        },
        "width": 800,
        "xaxis": {
         "color": "#AAAAAA",
         "showgrid": false,
         "title": {
          "font": {
           "color": "#AAAAAA"
          },
          "text": "Model Coefficient"
         }
        },
        "yaxis": {
         "color": "#AAAAAA",
         "showgrid": false,
         "tickfont": {
          "color": "#444444",
          "size": 12
         },
         "title": {
          "font": {
           "color": "#AAAAAA"
          },
          "text": ""
         }
        }
       }
      },
      "text/html": [
       "<div>\n",
       "        \n",
       "        \n",
       "            <div id=\"eeb82c9c-e5cb-4f62-8648-053de44633d7\" class=\"plotly-graph-div\" style=\"height:600px; width:800px;\"></div>\n",
       "            <script type=\"text/javascript\">\n",
       "                require([\"plotly\"], function(Plotly) {\n",
       "                    window.PLOTLYENV=window.PLOTLYENV || {};\n",
       "                    window.PLOTLYENV.BASE_URL='https://plot.ly';\n",
       "                    \n",
       "                if (document.getElementById(\"eeb82c9c-e5cb-4f62-8648-053de44633d7\")) {\n",
       "                    Plotly.newPlot(\n",
       "                        'eeb82c9c-e5cb-4f62-8648-053de44633d7',\n",
       "                        [{\"hoverinfo\": \"none\", \"marker\": {\"color\": \"lightgray\"}, \"name\": \"lightgray\", \"orientation\": \"h\", \"text\": [-0.248], \"textfont\": {\"color\": \"#444444\", \"size\": 12}, \"textposition\": \"auto\", \"type\": \"bar\", \"uid\": \"664106fe-8fb5-4792-941c-4616d5cb3cb6\", \"x\": [-0.24808933616804868], \"y\": [\" Female\"]}],\n",
       "                        {\"height\": 600, \"margin\": {\"l\": 300}, \"showlegend\": false, \"title\": {\"text\": \"<b> Q1. What is your gender?</b>\"}, \"width\": 800, \"xaxis\": {\"color\": \"#AAAAAA\", \"showgrid\": false, \"title\": {\"font\": {\"color\": \"#AAAAAA\"}, \"text\": \"Model Coefficient\"}}, \"yaxis\": {\"color\": \"#AAAAAA\", \"showgrid\": false, \"tickfont\": {\"color\": \"#444444\", \"size\": 12}, \"title\": {\"font\": {\"color\": \"#AAAAAA\"}, \"text\": \"\"}}},\n",
       "                        {\"showLink\": false, \"linkText\": \"Export to plot.ly\", \"plotlyServerURL\": \"https://plot.ly\", \"responsive\": true}\n",
       "                    ).then(function(){\n",
       "                            \n",
       "var gd = document.getElementById('eeb82c9c-e5cb-4f62-8648-053de44633d7');\n",
       "var x = new MutationObserver(function (mutations, observer) {{\n",
       "        var display = window.getComputedStyle(gd).display;\n",
       "        if (!display || display === 'none') {{\n",
       "            console.log([gd, 'removed!']);\n",
       "            Plotly.purge(gd);\n",
       "            observer.disconnect();\n",
       "        }}\n",
       "}});\n",
       "\n",
       "// Listen for the removal of the full notebook cells\n",
       "var notebookContainer = gd.closest('#notebook-container');\n",
       "if (notebookContainer) {{\n",
       "    x.observe(notebookContainer, {childList: true});\n",
       "}}\n",
       "\n",
       "// Listen for the clearing of the current output cell\n",
       "var outputEl = gd.closest('.output');\n",
       "if (outputEl) {{\n",
       "    x.observe(outputEl, {childList: true});\n",
       "}}\n",
       "\n",
       "                        })\n",
       "                };\n",
       "                });\n",
       "            </script>\n",
       "        </div>"
      ]
     },
     "metadata": {},
     "output_type": "display_data"
    }
   ],
   "source": [
    "plot_result('Q1')"
   ]
  },
  {
   "cell_type": "markdown",
   "metadata": {
    "_uuid": "f5fe6b8493f015c7a2cfa37d160bb693fc26cf30"
   },
   "source": [
    "When it comes to gender, being female decreases your chances of earning more. We have already seen that in the EDA, and it'as confirmed by the model we built.\n",
    "\n",
    "---"
   ]
  },
  {
   "cell_type": "code",
   "execution_count": 47,
   "metadata": {
    "_kg_hide-input": true,
    "_uuid": "904d569fef9fa13fd0f14bec934abed6d4062362"
   },
   "outputs": [
    {
     "data": {
      "application/vnd.plotly.v1+json": {
       "config": {
        "linkText": "Export to plot.ly",
        "plotlyServerURL": "https://plot.ly",
        "responsive": true,
        "showLink": false
       },
       "data": [
        {
         "hoverinfo": "none",
         "marker": {
          "color": "lightgray"
         },
         "name": "lightgray",
         "orientation": "h",
         "text": [
          -2.291,
          -2.05,
          -1.723,
          -1.088,
          -0.715,
          -0.3
         ],
         "textfont": {
          "color": "#444444",
          "size": 12
         },
         "textposition": "auto",
         "type": "bar",
         "uid": "fd32f7db-2a6e-426d-bbfc-23610cb8e3da",
         "x": [
          -2.2914054522659453,
          -2.0495700632102207,
          -1.7226917093523366,
          -1.0881916558395006,
          -0.7150832491017753,
          -0.30039092242431475
         ],
         "y": [
          " 22-24",
          " 18-21",
          " 25-29",
          " 30-34",
          " 35-39",
          " 40-44"
         ]
        }
       ],
       "layout": {
        "height": 600,
        "margin": {
         "l": 300
        },
        "showlegend": false,
        "title": {
         "text": "<b> Q2. What is your age (# years)?</b>"
        },
        "width": 800,
        "xaxis": {
         "color": "#AAAAAA",
         "showgrid": false,
         "title": {
          "font": {
           "color": "#AAAAAA"
          },
          "text": "Model Coefficient"
         }
        },
        "yaxis": {
         "color": "#AAAAAA",
         "showgrid": false,
         "tickfont": {
          "color": "#444444",
          "size": 12
         },
         "title": {
          "font": {
           "color": "#AAAAAA"
          },
          "text": ""
         }
        }
       }
      },
      "text/html": [
       "<div>\n",
       "        \n",
       "        \n",
       "            <div id=\"31826cce-89f1-47dd-a78f-2cd42b583824\" class=\"plotly-graph-div\" style=\"height:600px; width:800px;\"></div>\n",
       "            <script type=\"text/javascript\">\n",
       "                require([\"plotly\"], function(Plotly) {\n",
       "                    window.PLOTLYENV=window.PLOTLYENV || {};\n",
       "                    window.PLOTLYENV.BASE_URL='https://plot.ly';\n",
       "                    \n",
       "                if (document.getElementById(\"31826cce-89f1-47dd-a78f-2cd42b583824\")) {\n",
       "                    Plotly.newPlot(\n",
       "                        '31826cce-89f1-47dd-a78f-2cd42b583824',\n",
       "                        [{\"hoverinfo\": \"none\", \"marker\": {\"color\": \"lightgray\"}, \"name\": \"lightgray\", \"orientation\": \"h\", \"text\": [-2.291, -2.05, -1.723, -1.088, -0.715, -0.3], \"textfont\": {\"color\": \"#444444\", \"size\": 12}, \"textposition\": \"auto\", \"type\": \"bar\", \"uid\": \"d560a3d3-5b28-4d8e-9cb2-f77a7c0932d6\", \"x\": [-2.2914054522659453, -2.0495700632102207, -1.7226917093523366, -1.0881916558395006, -0.7150832491017753, -0.30039092242431475], \"y\": [\" 22-24\", \" 18-21\", \" 25-29\", \" 30-34\", \" 35-39\", \" 40-44\"]}],\n",
       "                        {\"height\": 600, \"margin\": {\"l\": 300}, \"showlegend\": false, \"title\": {\"text\": \"<b> Q2. What is your age (# years)?</b>\"}, \"width\": 800, \"xaxis\": {\"color\": \"#AAAAAA\", \"showgrid\": false, \"title\": {\"font\": {\"color\": \"#AAAAAA\"}, \"text\": \"Model Coefficient\"}}, \"yaxis\": {\"color\": \"#AAAAAA\", \"showgrid\": false, \"tickfont\": {\"color\": \"#444444\", \"size\": 12}, \"title\": {\"font\": {\"color\": \"#AAAAAA\"}, \"text\": \"\"}}},\n",
       "                        {\"showLink\": false, \"linkText\": \"Export to plot.ly\", \"plotlyServerURL\": \"https://plot.ly\", \"responsive\": true}\n",
       "                    ).then(function(){\n",
       "                            \n",
       "var gd = document.getElementById('31826cce-89f1-47dd-a78f-2cd42b583824');\n",
       "var x = new MutationObserver(function (mutations, observer) {{\n",
       "        var display = window.getComputedStyle(gd).display;\n",
       "        if (!display || display === 'none') {{\n",
       "            console.log([gd, 'removed!']);\n",
       "            Plotly.purge(gd);\n",
       "            observer.disconnect();\n",
       "        }}\n",
       "}});\n",
       "\n",
       "// Listen for the removal of the full notebook cells\n",
       "var notebookContainer = gd.closest('#notebook-container');\n",
       "if (notebookContainer) {{\n",
       "    x.observe(notebookContainer, {childList: true});\n",
       "}}\n",
       "\n",
       "// Listen for the clearing of the current output cell\n",
       "var outputEl = gd.closest('.output');\n",
       "if (outputEl) {{\n",
       "    x.observe(outputEl, {childList: true});\n",
       "}}\n",
       "\n",
       "                        })\n",
       "                };\n",
       "                });\n",
       "            </script>\n",
       "        </div>"
      ]
     },
     "metadata": {},
     "output_type": "display_data"
    }
   ],
   "source": [
    "plot_result('Q2')"
   ]
  },
  {
   "cell_type": "markdown",
   "metadata": {
    "_uuid": "475c80258d6b404aa73ae90129b8d89c1aec5f8e"
   },
   "source": [
    "Be patient. Give time to time. Your chances of belonging to the Top 20% most well paid will increase as you get older. Makes sense, no?\n",
    "\n",
    "*Probably there are more people in the 22-24 years range that are just starting their careers in Data Science, that is why we seee an inversion in age.*\n",
    "\n",
    "---"
   ]
  },
  {
   "cell_type": "code",
   "execution_count": 48,
   "metadata": {
    "_kg_hide-input": true,
    "_uuid": "8501ef4434328fb7114cec8bcd076ae711d0e950"
   },
   "outputs": [
    {
     "data": {
      "application/vnd.plotly.v1+json": {
       "config": {
        "linkText": "Export to plot.ly",
        "plotlyServerURL": "https://plot.ly",
        "responsive": true,
        "showLink": false
       },
       "data": [
        {
         "hoverinfo": "none",
         "marker": {
          "color": "lightgray"
         },
         "name": "lightgray",
         "orientation": "h",
         "text": [
          -0.618,
          -0.076
         ],
         "textfont": {
          "color": "#444444",
          "size": 12
         },
         "textposition": "auto",
         "type": "bar",
         "uid": "c90cc4ca-0ff3-449e-8c79-f4c4887a74f0",
         "x": [
          -0.617762551582153,
          -0.07605259046369721
         ],
         "y": [
          " China",
          " India"
         ]
        },
        {
         "hoverinfo": "none",
         "marker": {
          "color": "cornflowerblue"
         },
         "name": "cornflowerblue",
         "orientation": "h",
         "text": [
          2.495
         ],
         "textfont": {
          "color": "#444444",
          "size": 12
         },
         "textposition": "auto",
         "type": "bar",
         "uid": "96bad732-d350-414f-997b-e51ad3a55ba5",
         "x": [
          2.494729485946185
         ],
         "y": [
          " United States of America"
         ]
        }
       ],
       "layout": {
        "height": 600,
        "margin": {
         "l": 300
        },
        "showlegend": false,
        "title": {
         "text": "<b> Q3. In which country do you currently<br>reside?</b>"
        },
        "width": 800,
        "xaxis": {
         "color": "#AAAAAA",
         "showgrid": false,
         "title": {
          "font": {
           "color": "#AAAAAA"
          },
          "text": "Model Coefficient"
         }
        },
        "yaxis": {
         "color": "#AAAAAA",
         "showgrid": false,
         "tickfont": {
          "color": "#444444",
          "size": 12
         },
         "title": {
          "font": {
           "color": "#AAAAAA"
          },
          "text": ""
         }
        }
       }
      },
      "text/html": [
       "<div>\n",
       "        \n",
       "        \n",
       "            <div id=\"a274fc37-701a-48a2-baac-881032097d69\" class=\"plotly-graph-div\" style=\"height:600px; width:800px;\"></div>\n",
       "            <script type=\"text/javascript\">\n",
       "                require([\"plotly\"], function(Plotly) {\n",
       "                    window.PLOTLYENV=window.PLOTLYENV || {};\n",
       "                    window.PLOTLYENV.BASE_URL='https://plot.ly';\n",
       "                    \n",
       "                if (document.getElementById(\"a274fc37-701a-48a2-baac-881032097d69\")) {\n",
       "                    Plotly.newPlot(\n",
       "                        'a274fc37-701a-48a2-baac-881032097d69',\n",
       "                        [{\"hoverinfo\": \"none\", \"marker\": {\"color\": \"lightgray\"}, \"name\": \"lightgray\", \"orientation\": \"h\", \"text\": [-0.618, -0.076], \"textfont\": {\"color\": \"#444444\", \"size\": 12}, \"textposition\": \"auto\", \"type\": \"bar\", \"uid\": \"e1a64d5c-40d9-40e0-ad94-2cc1023f8603\", \"x\": [-0.617762551582153, -0.07605259046369721], \"y\": [\" China\", \" India\"]}, {\"hoverinfo\": \"none\", \"marker\": {\"color\": \"cornflowerblue\"}, \"name\": \"cornflowerblue\", \"orientation\": \"h\", \"text\": [2.495], \"textfont\": {\"color\": \"#444444\", \"size\": 12}, \"textposition\": \"auto\", \"type\": \"bar\", \"uid\": \"5b80c80f-7191-4166-99a4-1bcab77ba794\", \"x\": [2.494729485946185], \"y\": [\" United States of America\"]}],\n",
       "                        {\"height\": 600, \"margin\": {\"l\": 300}, \"showlegend\": false, \"title\": {\"text\": \"<b> Q3. In which country do you currently<br>reside?</b>\"}, \"width\": 800, \"xaxis\": {\"color\": \"#AAAAAA\", \"showgrid\": false, \"title\": {\"font\": {\"color\": \"#AAAAAA\"}, \"text\": \"Model Coefficient\"}}, \"yaxis\": {\"color\": \"#AAAAAA\", \"showgrid\": false, \"tickfont\": {\"color\": \"#444444\", \"size\": 12}, \"title\": {\"font\": {\"color\": \"#AAAAAA\"}, \"text\": \"\"}}},\n",
       "                        {\"showLink\": false, \"linkText\": \"Export to plot.ly\", \"plotlyServerURL\": \"https://plot.ly\", \"responsive\": true}\n",
       "                    ).then(function(){\n",
       "                            \n",
       "var gd = document.getElementById('a274fc37-701a-48a2-baac-881032097d69');\n",
       "var x = new MutationObserver(function (mutations, observer) {{\n",
       "        var display = window.getComputedStyle(gd).display;\n",
       "        if (!display || display === 'none') {{\n",
       "            console.log([gd, 'removed!']);\n",
       "            Plotly.purge(gd);\n",
       "            observer.disconnect();\n",
       "        }}\n",
       "}});\n",
       "\n",
       "// Listen for the removal of the full notebook cells\n",
       "var notebookContainer = gd.closest('#notebook-container');\n",
       "if (notebookContainer) {{\n",
       "    x.observe(notebookContainer, {childList: true});\n",
       "}}\n",
       "\n",
       "// Listen for the clearing of the current output cell\n",
       "var outputEl = gd.closest('.output');\n",
       "if (outputEl) {{\n",
       "    x.observe(outputEl, {childList: true});\n",
       "}}\n",
       "\n",
       "                        })\n",
       "                };\n",
       "                });\n",
       "            </script>\n",
       "        </div>"
      ]
     },
     "metadata": {},
     "output_type": "display_data"
    }
   ],
   "source": [
    "plot_result('Q3')"
   ]
  },
  {
   "cell_type": "markdown",
   "metadata": {
    "_uuid": "829ad6c558651024aa7f4a19fa843adc528c47a0"
   },
   "source": [
    "If you reside in the United States, your chance of earning more is increased. By living in China or India, you are probably earning less.\n",
    "\n",
    "---"
   ]
  },
  {
   "cell_type": "code",
   "execution_count": 49,
   "metadata": {
    "_kg_hide-input": true,
    "_uuid": "59fba22ab4263315d78981c1f8c472b295adf027"
   },
   "outputs": [
    {
     "data": {
      "application/vnd.plotly.v1+json": {
       "config": {
        "linkText": "Export to plot.ly",
        "plotlyServerURL": "https://plot.ly",
        "responsive": true,
        "showLink": false
       },
       "data": [
        {
         "hoverinfo": "none",
         "marker": {
          "color": "lightgray"
         },
         "name": "lightgray",
         "orientation": "h",
         "text": [
          -0.06
         ],
         "textfont": {
          "color": "#444444",
          "size": 12
         },
         "textposition": "auto",
         "type": "bar",
         "uid": "8f53c9bc-a704-4d5f-a2b7-dc3b774f74ed",
         "x": [
          -0.05999932597344376
         ],
         "y": [
          " Bachelor’s degree"
         ]
        },
        {
         "hoverinfo": "none",
         "marker": {
          "color": "cornflowerblue"
         },
         "name": "cornflowerblue",
         "orientation": "h",
         "text": [
          0.035
         ],
         "textfont": {
          "color": "#444444",
          "size": 12
         },
         "textposition": "auto",
         "type": "bar",
         "uid": "52091a4e-0ddd-4a6a-a5f9-e6ad8fafbbf9",
         "x": [
          0.03508494784650526
         ],
         "y": [
          " Doctoral degree"
         ]
        }
       ],
       "layout": {
        "height": 600,
        "margin": {
         "l": 300
        },
        "showlegend": false,
        "title": {
         "text": "<b> Q4. What is the highest level of<br>formal education that you have attained or plan<br>to attain within the next 2 years?</b>"
        },
        "width": 800,
        "xaxis": {
         "color": "#AAAAAA",
         "showgrid": false,
         "title": {
          "font": {
           "color": "#AAAAAA"
          },
          "text": "Model Coefficient"
         }
        },
        "yaxis": {
         "color": "#AAAAAA",
         "showgrid": false,
         "tickfont": {
          "color": "#444444",
          "size": 12
         },
         "title": {
          "font": {
           "color": "#AAAAAA"
          },
          "text": ""
         }
        }
       }
      },
      "text/html": [
       "<div>\n",
       "        \n",
       "        \n",
       "            <div id=\"4a843c00-6dd8-4e55-873e-a207d19312f8\" class=\"plotly-graph-div\" style=\"height:600px; width:800px;\"></div>\n",
       "            <script type=\"text/javascript\">\n",
       "                require([\"plotly\"], function(Plotly) {\n",
       "                    window.PLOTLYENV=window.PLOTLYENV || {};\n",
       "                    window.PLOTLYENV.BASE_URL='https://plot.ly';\n",
       "                    \n",
       "                if (document.getElementById(\"4a843c00-6dd8-4e55-873e-a207d19312f8\")) {\n",
       "                    Plotly.newPlot(\n",
       "                        '4a843c00-6dd8-4e55-873e-a207d19312f8',\n",
       "                        [{\"hoverinfo\": \"none\", \"marker\": {\"color\": \"lightgray\"}, \"name\": \"lightgray\", \"orientation\": \"h\", \"text\": [-0.06], \"textfont\": {\"color\": \"#444444\", \"size\": 12}, \"textposition\": \"auto\", \"type\": \"bar\", \"uid\": \"f58c6e6c-9a16-4267-9536-5f21aec56e26\", \"x\": [-0.05999932597344376], \"y\": [\" Bachelor\\u2019s degree\"]}, {\"hoverinfo\": \"none\", \"marker\": {\"color\": \"cornflowerblue\"}, \"name\": \"cornflowerblue\", \"orientation\": \"h\", \"text\": [0.035], \"textfont\": {\"color\": \"#444444\", \"size\": 12}, \"textposition\": \"auto\", \"type\": \"bar\", \"uid\": \"89664605-5ac3-4cb9-8acf-816d04408377\", \"x\": [0.03508494784650526], \"y\": [\" Doctoral degree\"]}],\n",
       "                        {\"height\": 600, \"margin\": {\"l\": 300}, \"showlegend\": false, \"title\": {\"text\": \"<b> Q4. What is the highest level of<br>formal education that you have attained or plan<br>to attain within the next 2 years?</b>\"}, \"width\": 800, \"xaxis\": {\"color\": \"#AAAAAA\", \"showgrid\": false, \"title\": {\"font\": {\"color\": \"#AAAAAA\"}, \"text\": \"Model Coefficient\"}}, \"yaxis\": {\"color\": \"#AAAAAA\", \"showgrid\": false, \"tickfont\": {\"color\": \"#444444\", \"size\": 12}, \"title\": {\"font\": {\"color\": \"#AAAAAA\"}, \"text\": \"\"}}},\n",
       "                        {\"showLink\": false, \"linkText\": \"Export to plot.ly\", \"plotlyServerURL\": \"https://plot.ly\", \"responsive\": true}\n",
       "                    ).then(function(){\n",
       "                            \n",
       "var gd = document.getElementById('4a843c00-6dd8-4e55-873e-a207d19312f8');\n",
       "var x = new MutationObserver(function (mutations, observer) {{\n",
       "        var display = window.getComputedStyle(gd).display;\n",
       "        if (!display || display === 'none') {{\n",
       "            console.log([gd, 'removed!']);\n",
       "            Plotly.purge(gd);\n",
       "            observer.disconnect();\n",
       "        }}\n",
       "}});\n",
       "\n",
       "// Listen for the removal of the full notebook cells\n",
       "var notebookContainer = gd.closest('#notebook-container');\n",
       "if (notebookContainer) {{\n",
       "    x.observe(notebookContainer, {childList: true});\n",
       "}}\n",
       "\n",
       "// Listen for the clearing of the current output cell\n",
       "var outputEl = gd.closest('.output');\n",
       "if (outputEl) {{\n",
       "    x.observe(outputEl, {childList: true});\n",
       "}}\n",
       "\n",
       "                        })\n",
       "                };\n",
       "                });\n",
       "            </script>\n",
       "        </div>"
      ]
     },
     "metadata": {},
     "output_type": "display_data"
    }
   ],
   "source": [
    "plot_result('Q4')"
   ]
  },
  {
   "cell_type": "markdown",
   "metadata": {
    "_uuid": "3b570316909dc935d90d2341db1ca5dfbea11122"
   },
   "source": [
    "If you want to earn more, a good idea is to do a Doctoral Degree. But don't be to strict on this rule, remember from EDA that *\"no college at all\"* also pays well?\n",
    "\n",
    "---"
   ]
  },
  {
   "cell_type": "code",
   "execution_count": 50,
   "metadata": {
    "_kg_hide-input": true,
    "_uuid": "69c1595427873e5ba6b27fab5e715262cf0dcaee"
   },
   "outputs": [
    {
     "data": {
      "application/vnd.plotly.v1+json": {
       "config": {
        "linkText": "Export to plot.ly",
        "plotlyServerURL": "https://plot.ly",
        "responsive": true,
        "showLink": false
       },
       "data": [
        {
         "hoverinfo": "none",
         "marker": {
          "color": "lightgray"
         },
         "name": "lightgray",
         "orientation": "h",
         "text": [
          -1.288,
          -0.732,
          -0.158,
          -0.122
         ],
         "textfont": {
          "color": "#444444",
          "size": 12
         },
         "textposition": "auto",
         "type": "bar",
         "uid": "dc030076-d80c-4746-8a16-812f78a422d9",
         "x": [
          -1.2882547012824175,
          -0.731830509589024,
          -0.15808428898326565,
          -0.122385924270666
         ],
         "y": [
          " Student",
          " Data Analyst",
          " Research Scientist",
          " Data Scientist"
         ]
        },
        {
         "hoverinfo": "none",
         "marker": {
          "color": "cornflowerblue"
         },
         "name": "cornflowerblue",
         "orientation": "h",
         "text": [
          0.047,
          0.166
         ],
         "textfont": {
          "color": "#444444",
          "size": 12
         },
         "textposition": "auto",
         "type": "bar",
         "uid": "19673915-c338-4cb4-8327-3e03cffc9d94",
         "x": [
          0.047065263349301806,
          0.1663934069740616
         ],
         "y": [
          " Other",
          " Software Engineer"
         ]
        }
       ],
       "layout": {
        "height": 600,
        "margin": {
         "l": 300
        },
        "showlegend": false,
        "title": {
         "text": "<b> Q6. Select the title most similar to<br>your current role (or most recent title if<br>retired)</b>"
        },
        "width": 800,
        "xaxis": {
         "color": "#AAAAAA",
         "showgrid": false,
         "title": {
          "font": {
           "color": "#AAAAAA"
          },
          "text": "Model Coefficient"
         }
        },
        "yaxis": {
         "color": "#AAAAAA",
         "showgrid": false,
         "tickfont": {
          "color": "#444444",
          "size": 12
         },
         "title": {
          "font": {
           "color": "#AAAAAA"
          },
          "text": ""
         }
        }
       }
      },
      "text/html": [
       "<div>\n",
       "        \n",
       "        \n",
       "            <div id=\"41b1c5bc-1f5a-486a-87b1-dfd17f31e05f\" class=\"plotly-graph-div\" style=\"height:600px; width:800px;\"></div>\n",
       "            <script type=\"text/javascript\">\n",
       "                require([\"plotly\"], function(Plotly) {\n",
       "                    window.PLOTLYENV=window.PLOTLYENV || {};\n",
       "                    window.PLOTLYENV.BASE_URL='https://plot.ly';\n",
       "                    \n",
       "                if (document.getElementById(\"41b1c5bc-1f5a-486a-87b1-dfd17f31e05f\")) {\n",
       "                    Plotly.newPlot(\n",
       "                        '41b1c5bc-1f5a-486a-87b1-dfd17f31e05f',\n",
       "                        [{\"hoverinfo\": \"none\", \"marker\": {\"color\": \"lightgray\"}, \"name\": \"lightgray\", \"orientation\": \"h\", \"text\": [-1.288, -0.732, -0.158, -0.122], \"textfont\": {\"color\": \"#444444\", \"size\": 12}, \"textposition\": \"auto\", \"type\": \"bar\", \"uid\": \"29d2fd8e-fedd-4f5d-92f1-b46f4b4cabad\", \"x\": [-1.2882547012824175, -0.731830509589024, -0.15808428898326565, -0.122385924270666], \"y\": [\" Student\", \" Data Analyst\", \" Research Scientist\", \" Data Scientist\"]}, {\"hoverinfo\": \"none\", \"marker\": {\"color\": \"cornflowerblue\"}, \"name\": \"cornflowerblue\", \"orientation\": \"h\", \"text\": [0.047, 0.166], \"textfont\": {\"color\": \"#444444\", \"size\": 12}, \"textposition\": \"auto\", \"type\": \"bar\", \"uid\": \"a2e2f8cd-dc44-402f-b464-bf4e587ba981\", \"x\": [0.047065263349301806, 0.1663934069740616], \"y\": [\" Other\", \" Software Engineer\"]}],\n",
       "                        {\"height\": 600, \"margin\": {\"l\": 300}, \"showlegend\": false, \"title\": {\"text\": \"<b> Q6. Select the title most similar to<br>your current role (or most recent title if<br>retired)</b>\"}, \"width\": 800, \"xaxis\": {\"color\": \"#AAAAAA\", \"showgrid\": false, \"title\": {\"font\": {\"color\": \"#AAAAAA\"}, \"text\": \"Model Coefficient\"}}, \"yaxis\": {\"color\": \"#AAAAAA\", \"showgrid\": false, \"tickfont\": {\"color\": \"#444444\", \"size\": 12}, \"title\": {\"font\": {\"color\": \"#AAAAAA\"}, \"text\": \"\"}}},\n",
       "                        {\"showLink\": false, \"linkText\": \"Export to plot.ly\", \"plotlyServerURL\": \"https://plot.ly\", \"responsive\": true}\n",
       "                    ).then(function(){\n",
       "                            \n",
       "var gd = document.getElementById('41b1c5bc-1f5a-486a-87b1-dfd17f31e05f');\n",
       "var x = new MutationObserver(function (mutations, observer) {{\n",
       "        var display = window.getComputedStyle(gd).display;\n",
       "        if (!display || display === 'none') {{\n",
       "            console.log([gd, 'removed!']);\n",
       "            Plotly.purge(gd);\n",
       "            observer.disconnect();\n",
       "        }}\n",
       "}});\n",
       "\n",
       "// Listen for the removal of the full notebook cells\n",
       "var notebookContainer = gd.closest('#notebook-container');\n",
       "if (notebookContainer) {{\n",
       "    x.observe(notebookContainer, {childList: true});\n",
       "}}\n",
       "\n",
       "// Listen for the clearing of the current output cell\n",
       "var outputEl = gd.closest('.output');\n",
       "if (outputEl) {{\n",
       "    x.observe(outputEl, {childList: true});\n",
       "}}\n",
       "\n",
       "                        })\n",
       "                };\n",
       "                });\n",
       "            </script>\n",
       "        </div>"
      ]
     },
     "metadata": {},
     "output_type": "display_data"
    }
   ],
   "source": [
    "plot_result('Q6')"
   ]
  },
  {
   "cell_type": "markdown",
   "metadata": {
    "_uuid": "917ef555e5fcbe4910906e1e0657136d1e64bf5b"
   },
   "source": [
    " Being a student might be a source of frustration and lower salaries. Get out and get a job! Start as a data analyst, then focus on becoming a Data Scientist. But you see that software engineers earn more. \n",
    " \n",
    " Why not be a [Type B data scientist](https://medium.com/@jamesdensmore/there-are-two-types-of-data-scientists-and-two-types-of-problems-to-solve-a149a0148e64) and deploy models into production? To achieve that you have to develop your software engineering skills as well.\n",
    "\n",
    "---"
   ]
  },
  {
   "cell_type": "code",
   "execution_count": 51,
   "metadata": {
    "_kg_hide-input": true,
    "_uuid": "b12b91b9e13549797636c67fa69ea0c61f4bd0ac"
   },
   "outputs": [
    {
     "data": {
      "application/vnd.plotly.v1+json": {
       "config": {
        "linkText": "Export to plot.ly",
        "plotlyServerURL": "https://plot.ly",
        "responsive": true,
        "showLink": false
       },
       "data": [
        {
         "hoverinfo": "none",
         "marker": {
          "color": "lightgray"
         },
         "name": "lightgray",
         "orientation": "h",
         "text": [
          -1.023
         ],
         "textfont": {
          "color": "#444444",
          "size": 12
         },
         "textposition": "auto",
         "type": "bar",
         "uid": "28ca9fff-1e17-432f-a14d-743b2d8166ab",
         "x": [
          -1.0227336505485272
         ],
         "y": [
          " Academics/Education"
         ]
        },
        {
         "hoverinfo": "none",
         "marker": {
          "color": "cornflowerblue"
         },
         "name": "cornflowerblue",
         "orientation": "h",
         "text": [
          0.227,
          0.452,
          0.477
         ],
         "textfont": {
          "color": "#444444",
          "size": 12
         },
         "textposition": "auto",
         "type": "bar",
         "uid": "53e6e6d6-44a6-49db-bab7-5244f091614e",
         "x": [
          0.2271253473190581,
          0.45162675996491486,
          0.4768609840323088
         ],
         "y": [
          " Computers/Technology",
          " Accounting/Finance",
          " Other"
         ]
        }
       ],
       "layout": {
        "height": 600,
        "margin": {
         "l": 300
        },
        "showlegend": false,
        "title": {
         "text": "<b> Q7. In what industry is your current<br>employer/contract (or your most recent employer if retired)?</b>"
        },
        "width": 800,
        "xaxis": {
         "color": "#AAAAAA",
         "showgrid": false,
         "title": {
          "font": {
           "color": "#AAAAAA"
          },
          "text": "Model Coefficient"
         }
        },
        "yaxis": {
         "color": "#AAAAAA",
         "showgrid": false,
         "tickfont": {
          "color": "#444444",
          "size": 12
         },
         "title": {
          "font": {
           "color": "#AAAAAA"
          },
          "text": ""
         }
        }
       }
      },
      "text/html": [
       "<div>\n",
       "        \n",
       "        \n",
       "            <div id=\"2cc98631-222f-4904-8e0d-cf13d075ff7d\" class=\"plotly-graph-div\" style=\"height:600px; width:800px;\"></div>\n",
       "            <script type=\"text/javascript\">\n",
       "                require([\"plotly\"], function(Plotly) {\n",
       "                    window.PLOTLYENV=window.PLOTLYENV || {};\n",
       "                    window.PLOTLYENV.BASE_URL='https://plot.ly';\n",
       "                    \n",
       "                if (document.getElementById(\"2cc98631-222f-4904-8e0d-cf13d075ff7d\")) {\n",
       "                    Plotly.newPlot(\n",
       "                        '2cc98631-222f-4904-8e0d-cf13d075ff7d',\n",
       "                        [{\"hoverinfo\": \"none\", \"marker\": {\"color\": \"lightgray\"}, \"name\": \"lightgray\", \"orientation\": \"h\", \"text\": [-1.023], \"textfont\": {\"color\": \"#444444\", \"size\": 12}, \"textposition\": \"auto\", \"type\": \"bar\", \"uid\": \"5fe45ac6-cfc2-46ca-80f9-f6b26051e127\", \"x\": [-1.0227336505485272], \"y\": [\" Academics/Education\"]}, {\"hoverinfo\": \"none\", \"marker\": {\"color\": \"cornflowerblue\"}, \"name\": \"cornflowerblue\", \"orientation\": \"h\", \"text\": [0.227, 0.452, 0.477], \"textfont\": {\"color\": \"#444444\", \"size\": 12}, \"textposition\": \"auto\", \"type\": \"bar\", \"uid\": \"d7a7e816-9ea3-44e6-8074-5cd895f194c6\", \"x\": [0.2271253473190581, 0.45162675996491486, 0.4768609840323088], \"y\": [\" Computers/Technology\", \" Accounting/Finance\", \" Other\"]}],\n",
       "                        {\"height\": 600, \"margin\": {\"l\": 300}, \"showlegend\": false, \"title\": {\"text\": \"<b> Q7. In what industry is your current<br>employer/contract (or your most recent employer if retired)?</b>\"}, \"width\": 800, \"xaxis\": {\"color\": \"#AAAAAA\", \"showgrid\": false, \"title\": {\"font\": {\"color\": \"#AAAAAA\"}, \"text\": \"Model Coefficient\"}}, \"yaxis\": {\"color\": \"#AAAAAA\", \"showgrid\": false, \"tickfont\": {\"color\": \"#444444\", \"size\": 12}, \"title\": {\"font\": {\"color\": \"#AAAAAA\"}, \"text\": \"\"}}},\n",
       "                        {\"showLink\": false, \"linkText\": \"Export to plot.ly\", \"plotlyServerURL\": \"https://plot.ly\", \"responsive\": true}\n",
       "                    ).then(function(){\n",
       "                            \n",
       "var gd = document.getElementById('2cc98631-222f-4904-8e0d-cf13d075ff7d');\n",
       "var x = new MutationObserver(function (mutations, observer) {{\n",
       "        var display = window.getComputedStyle(gd).display;\n",
       "        if (!display || display === 'none') {{\n",
       "            console.log([gd, 'removed!']);\n",
       "            Plotly.purge(gd);\n",
       "            observer.disconnect();\n",
       "        }}\n",
       "}});\n",
       "\n",
       "// Listen for the removal of the full notebook cells\n",
       "var notebookContainer = gd.closest('#notebook-container');\n",
       "if (notebookContainer) {{\n",
       "    x.observe(notebookContainer, {childList: true});\n",
       "}}\n",
       "\n",
       "// Listen for the clearing of the current output cell\n",
       "var outputEl = gd.closest('.output');\n",
       "if (outputEl) {{\n",
       "    x.observe(outputEl, {childList: true});\n",
       "}}\n",
       "\n",
       "                        })\n",
       "                };\n",
       "                });\n",
       "            </script>\n",
       "        </div>"
      ]
     },
     "metadata": {},
     "output_type": "display_data"
    }
   ],
   "source": [
    "plot_result('Q7')"
   ]
  },
  {
   "cell_type": "markdown",
   "metadata": {
    "_uuid": "3639ff362a78b630296347b630f0f7075ebb7671"
   },
   "source": [
    "If you want to get rich, run from Academics/Education. In the complete study EDA you'll see that Academics/Education has the lowest average compensation compared to other industries, and this is confirmed by the model's coefficient. I feel bad that one of the most important areas for the future of data science is the one that has the lowest salaries. If you want to earn more, then working at the computers/technology, accounting/finance or other industries might increase your likelihood of belonging to the Top 20% most well paid.\n",
    "\n",
    "---"
   ]
  },
  {
   "cell_type": "code",
   "execution_count": 52,
   "metadata": {
    "_kg_hide-input": true,
    "_uuid": "170974a8b9134f03d1c5683cc59758a76bb1de9f"
   },
   "outputs": [
    {
     "data": {
      "application/vnd.plotly.v1+json": {
       "config": {
        "linkText": "Export to plot.ly",
        "plotlyServerURL": "https://plot.ly",
        "responsive": true,
        "showLink": false
       },
       "data": [
        {
         "hoverinfo": "none",
         "marker": {
          "color": "lightgray"
         },
         "name": "lightgray",
         "orientation": "h",
         "text": [
          -1.117,
          -1.052,
          -0.9,
          -0.816,
          -0.598,
          -0.596,
          -0.356
         ],
         "textfont": {
          "color": "#444444",
          "size": 12
         },
         "textposition": "auto",
         "type": "bar",
         "uid": "3cc0aa24-d22f-448c-bd1c-dd3094f23dc9",
         "x": [
          -1.1174898640243418,
          -1.0520016963856553,
          -0.8999098035526008,
          -0.8164213654390134,
          -0.5976694604078463,
          -0.5961554153235138,
          -0.3562387020228464
         ],
         "y": [
          " 0-1",
          " 1-2",
          " 3-4",
          " 2-3",
          " 5-10",
          " 4-5",
          " 10-15"
         ]
        }
       ],
       "layout": {
        "height": 600,
        "margin": {
         "l": 300
        },
        "showlegend": false,
        "title": {
         "text": "<b> Q8. How many years of experience do<br>you have in your current role?</b>"
        },
        "width": 800,
        "xaxis": {
         "color": "#AAAAAA",
         "showgrid": false,
         "title": {
          "font": {
           "color": "#AAAAAA"
          },
          "text": "Model Coefficient"
         }
        },
        "yaxis": {
         "color": "#AAAAAA",
         "showgrid": false,
         "tickfont": {
          "color": "#444444",
          "size": 12
         },
         "title": {
          "font": {
           "color": "#AAAAAA"
          },
          "text": ""
         }
        }
       }
      },
      "text/html": [
       "<div>\n",
       "        \n",
       "        \n",
       "            <div id=\"b1374f5e-f459-49e8-b669-fe75e5cf2b05\" class=\"plotly-graph-div\" style=\"height:600px; width:800px;\"></div>\n",
       "            <script type=\"text/javascript\">\n",
       "                require([\"plotly\"], function(Plotly) {\n",
       "                    window.PLOTLYENV=window.PLOTLYENV || {};\n",
       "                    window.PLOTLYENV.BASE_URL='https://plot.ly';\n",
       "                    \n",
       "                if (document.getElementById(\"b1374f5e-f459-49e8-b669-fe75e5cf2b05\")) {\n",
       "                    Plotly.newPlot(\n",
       "                        'b1374f5e-f459-49e8-b669-fe75e5cf2b05',\n",
       "                        [{\"hoverinfo\": \"none\", \"marker\": {\"color\": \"lightgray\"}, \"name\": \"lightgray\", \"orientation\": \"h\", \"text\": [-1.117, -1.052, -0.9, -0.816, -0.598, -0.596, -0.356], \"textfont\": {\"color\": \"#444444\", \"size\": 12}, \"textposition\": \"auto\", \"type\": \"bar\", \"uid\": \"2751334b-6c5a-4569-b26c-b415d836e254\", \"x\": [-1.1174898640243418, -1.0520016963856553, -0.8999098035526008, -0.8164213654390134, -0.5976694604078463, -0.5961554153235138, -0.3562387020228464], \"y\": [\" 0-1\", \" 1-2\", \" 3-4\", \" 2-3\", \" 5-10\", \" 4-5\", \" 10-15\"]}],\n",
       "                        {\"height\": 600, \"margin\": {\"l\": 300}, \"showlegend\": false, \"title\": {\"text\": \"<b> Q8. How many years of experience do<br>you have in your current role?</b>\"}, \"width\": 800, \"xaxis\": {\"color\": \"#AAAAAA\", \"showgrid\": false, \"title\": {\"font\": {\"color\": \"#AAAAAA\"}, \"text\": \"Model Coefficient\"}}, \"yaxis\": {\"color\": \"#AAAAAA\", \"showgrid\": false, \"tickfont\": {\"color\": \"#444444\", \"size\": 12}, \"title\": {\"font\": {\"color\": \"#AAAAAA\"}, \"text\": \"\"}}},\n",
       "                        {\"showLink\": false, \"linkText\": \"Export to plot.ly\", \"plotlyServerURL\": \"https://plot.ly\", \"responsive\": true}\n",
       "                    ).then(function(){\n",
       "                            \n",
       "var gd = document.getElementById('b1374f5e-f459-49e8-b669-fe75e5cf2b05');\n",
       "var x = new MutationObserver(function (mutations, observer) {{\n",
       "        var display = window.getComputedStyle(gd).display;\n",
       "        if (!display || display === 'none') {{\n",
       "            console.log([gd, 'removed!']);\n",
       "            Plotly.purge(gd);\n",
       "            observer.disconnect();\n",
       "        }}\n",
       "}});\n",
       "\n",
       "// Listen for the removal of the full notebook cells\n",
       "var notebookContainer = gd.closest('#notebook-container');\n",
       "if (notebookContainer) {{\n",
       "    x.observe(notebookContainer, {childList: true});\n",
       "}}\n",
       "\n",
       "// Listen for the clearing of the current output cell\n",
       "var outputEl = gd.closest('.output');\n",
       "if (outputEl) {{\n",
       "    x.observe(outputEl, {childList: true});\n",
       "}}\n",
       "\n",
       "                        })\n",
       "                };\n",
       "                });\n",
       "            </script>\n",
       "        </div>"
      ]
     },
     "metadata": {},
     "output_type": "display_data"
    }
   ],
   "source": [
    "plot_result('Q8')"
   ]
  },
  {
   "cell_type": "markdown",
   "metadata": {
    "_uuid": "3a41987078c44f0782c0e57b9315a008390620e0"
   },
   "source": [
    "Be realistic, you won't be in the Top 20% with just 1 or 2 years of experience.\n",
    "\n",
    "---"
   ]
  },
  {
   "cell_type": "code",
   "execution_count": 53,
   "metadata": {
    "_kg_hide-input": true,
    "_uuid": "e529bc74aaa47720472f0e62cd57ae2d9851c29e"
   },
   "outputs": [
    {
     "data": {
      "application/vnd.plotly.v1+json": {
       "config": {
        "linkText": "Export to plot.ly",
        "plotlyServerURL": "https://plot.ly",
        "responsive": true,
        "showLink": false
       },
       "data": [
        {
         "hoverinfo": "none",
         "marker": {
          "color": "lightgray"
         },
         "name": "lightgray",
         "orientation": "h",
         "text": [
          -0.3,
          -0.293
         ],
         "textfont": {
          "color": "#444444",
          "size": 12
         },
         "textposition": "auto",
         "type": "bar",
         "uid": "aeca904d-a2fc-4803-87fb-45fc71a75120",
         "x": [
          -0.2998501279253487,
          -0.2927735364393495
         ],
         "y": [
          " I do not know",
          " No (we do not<br>use ML methods)"
         ]
        },
        {
         "hoverinfo": "none",
         "marker": {
          "color": "cornflowerblue"
         },
         "name": "cornflowerblue",
         "orientation": "h",
         "text": [
          0.273,
          0.291,
          0.412,
          0.807
         ],
         "textfont": {
          "color": "#444444",
          "size": 12
         },
         "textposition": "auto",
         "type": "bar",
         "uid": "630d2fca-1023-4fe1-8e67-418e739e70e2",
         "x": [
          0.27262437175415805,
          0.29074978270139074,
          0.4124798648505614,
          0.8072375861652782
         ],
         "y": [
          " We are exploring ML<br>methods (and may one day<br>put a model into production)",
          " We use ML methods<br>for generating insights (but do<br>not put working models into<br>production)",
          " We recently started using<br>ML methods (i.e., models in<br>production for less than 2<br>years)",
          " We have well established<br>ML methods (i.e., models in<br>production for more than 2<br>years)"
         ]
        }
       ],
       "layout": {
        "height": 600,
        "margin": {
         "l": 300
        },
        "showlegend": false,
        "title": {
         "text": "<b> Q10. Does your current employer incorporate machine<br>learning methods into their business?</b>"
        },
        "width": 800,
        "xaxis": {
         "color": "#AAAAAA",
         "showgrid": false,
         "title": {
          "font": {
           "color": "#AAAAAA"
          },
          "text": "Model Coefficient"
         }
        },
        "yaxis": {
         "color": "#AAAAAA",
         "showgrid": false,
         "tickfont": {
          "color": "#444444",
          "size": 12
         },
         "title": {
          "font": {
           "color": "#AAAAAA"
          },
          "text": ""
         }
        }
       }
      },
      "text/html": [
       "<div>\n",
       "        \n",
       "        \n",
       "            <div id=\"7a9f3191-fd6c-4812-a078-e1ef60c90169\" class=\"plotly-graph-div\" style=\"height:600px; width:800px;\"></div>\n",
       "            <script type=\"text/javascript\">\n",
       "                require([\"plotly\"], function(Plotly) {\n",
       "                    window.PLOTLYENV=window.PLOTLYENV || {};\n",
       "                    window.PLOTLYENV.BASE_URL='https://plot.ly';\n",
       "                    \n",
       "                if (document.getElementById(\"7a9f3191-fd6c-4812-a078-e1ef60c90169\")) {\n",
       "                    Plotly.newPlot(\n",
       "                        '7a9f3191-fd6c-4812-a078-e1ef60c90169',\n",
       "                        [{\"hoverinfo\": \"none\", \"marker\": {\"color\": \"lightgray\"}, \"name\": \"lightgray\", \"orientation\": \"h\", \"text\": [-0.3, -0.293], \"textfont\": {\"color\": \"#444444\", \"size\": 12}, \"textposition\": \"auto\", \"type\": \"bar\", \"uid\": \"1f45e1bf-d9a9-4ac1-9063-c303d44c7284\", \"x\": [-0.2998501279253487, -0.2927735364393495], \"y\": [\" I do not know\", \" No (we do not<br>use ML methods)\"]}, {\"hoverinfo\": \"none\", \"marker\": {\"color\": \"cornflowerblue\"}, \"name\": \"cornflowerblue\", \"orientation\": \"h\", \"text\": [0.273, 0.291, 0.412, 0.807], \"textfont\": {\"color\": \"#444444\", \"size\": 12}, \"textposition\": \"auto\", \"type\": \"bar\", \"uid\": \"429f33e7-9cb1-40c3-b604-b9bf277e3761\", \"x\": [0.27262437175415805, 0.29074978270139074, 0.4124798648505614, 0.8072375861652782], \"y\": [\" We are exploring ML<br>methods (and may one day<br>put a model into production)\", \" We use ML methods<br>for generating insights (but do<br>not put working models into<br>production)\", \" We recently started using<br>ML methods (i.e., models in<br>production for less than 2<br>years)\", \" We have well established<br>ML methods (i.e., models in<br>production for more than 2<br>years)\"]}],\n",
       "                        {\"height\": 600, \"margin\": {\"l\": 300}, \"showlegend\": false, \"title\": {\"text\": \"<b> Q10. Does your current employer incorporate machine<br>learning methods into their business?</b>\"}, \"width\": 800, \"xaxis\": {\"color\": \"#AAAAAA\", \"showgrid\": false, \"title\": {\"font\": {\"color\": \"#AAAAAA\"}, \"text\": \"Model Coefficient\"}}, \"yaxis\": {\"color\": \"#AAAAAA\", \"showgrid\": false, \"tickfont\": {\"color\": \"#444444\", \"size\": 12}, \"title\": {\"font\": {\"color\": \"#AAAAAA\"}, \"text\": \"\"}}},\n",
       "                        {\"showLink\": false, \"linkText\": \"Export to plot.ly\", \"plotlyServerURL\": \"https://plot.ly\", \"responsive\": true}\n",
       "                    ).then(function(){\n",
       "                            \n",
       "var gd = document.getElementById('7a9f3191-fd6c-4812-a078-e1ef60c90169');\n",
       "var x = new MutationObserver(function (mutations, observer) {{\n",
       "        var display = window.getComputedStyle(gd).display;\n",
       "        if (!display || display === 'none') {{\n",
       "            console.log([gd, 'removed!']);\n",
       "            Plotly.purge(gd);\n",
       "            observer.disconnect();\n",
       "        }}\n",
       "}});\n",
       "\n",
       "// Listen for the removal of the full notebook cells\n",
       "var notebookContainer = gd.closest('#notebook-container');\n",
       "if (notebookContainer) {{\n",
       "    x.observe(notebookContainer, {childList: true});\n",
       "}}\n",
       "\n",
       "// Listen for the clearing of the current output cell\n",
       "var outputEl = gd.closest('.output');\n",
       "if (outputEl) {{\n",
       "    x.observe(outputEl, {childList: true});\n",
       "}}\n",
       "\n",
       "                        })\n",
       "                };\n",
       "                });\n",
       "            </script>\n",
       "        </div>"
      ]
     },
     "metadata": {},
     "output_type": "display_data"
    }
   ],
   "source": [
    "plot_result('Q10')"
   ]
  },
  {
   "cell_type": "markdown",
   "metadata": {
    "_uuid": "b0943480b786dcd99d24d9039131f05b70916f8a"
   },
   "source": [
    "Working for a company that has well stablished ML models in production for more than 2 years is the dream for those who want to increase their earnings. Notice that there is a natural order to the levels of ML adoption, those who work for companies that are more experienced in ML tend to have higher compensation.  If your company does not use ML methods at all, then you are in the wrong place. Consider finding a new job.\n",
    "\n",
    "---"
   ]
  },
  {
   "cell_type": "code",
   "execution_count": 54,
   "metadata": {
    "_kg_hide-input": true,
    "_uuid": "72912ab26214bbd0d90583ea553bf07bfbc4b866"
   },
   "outputs": [
    {
     "data": {
      "application/vnd.plotly.v1+json": {
       "config": {
        "linkText": "Export to plot.ly",
        "plotlyServerURL": "https://plot.ly",
        "responsive": true,
        "showLink": false
       },
       "data": [
        {
         "hoverinfo": "none",
         "marker": {
          "color": "lightgray"
         },
         "name": "lightgray",
         "orientation": "h",
         "text": [
          -0.148,
          -0.127,
          -0.028
         ],
         "textfont": {
          "color": "#444444",
          "size": 12
         },
         "textposition": "auto",
         "type": "bar",
         "uid": "74fc0b91-99f4-4890-954a-c40d529f0332",
         "x": [
          -0.1480457408556851,
          -0.12731976738030182,
          -0.02840448339003737
         ],
         "y": [
          " Build and/or run the<br>data infrastructure that my business<br>uses for storing, analyzing, and<br>operationalizing data",
          " Do research that advances<br>the state of the art<br>of machine learning",
          " None of these activities<br>are an important part of<br>my role at work"
         ]
        },
        {
         "hoverinfo": "none",
         "marker": {
          "color": "cornflowerblue"
         },
         "name": "cornflowerblue",
         "orientation": "h",
         "text": [
          0.026,
          0.157,
          0.295
         ],
         "textfont": {
          "color": "#444444",
          "size": 12
         },
         "textposition": "auto",
         "type": "bar",
         "uid": "0cabcd08-1c00-4df7-b5b6-8337a767211c",
         "x": [
          0.026377013803415627,
          0.15716838704835082,
          0.2953093620414085
         ],
         "y": [
          " Analyze and understand data<br>to influence product or business<br>decisions",
          " Build and/or run a<br>machine learning service that operationally<br>improves my product or workflows",
          " Build prototypes to explore<br>applying machine learning to new<br>areas"
         ]
        }
       ],
       "layout": {
        "height": 600,
        "margin": {
         "l": 300
        },
        "showlegend": false,
        "title": {
         "text": "<b> Q11. Select any activities that make up<br>an important part of your role at work</b>"
        },
        "width": 800,
        "xaxis": {
         "color": "#AAAAAA",
         "showgrid": false,
         "title": {
          "font": {
           "color": "#AAAAAA"
          },
          "text": "Model Coefficient"
         }
        },
        "yaxis": {
         "color": "#AAAAAA",
         "showgrid": false,
         "tickfont": {
          "color": "#444444",
          "size": 12
         },
         "title": {
          "font": {
           "color": "#AAAAAA"
          },
          "text": ""
         }
        }
       }
      },
      "text/html": [
       "<div>\n",
       "        \n",
       "        \n",
       "            <div id=\"2cb7ca21-7cb1-431e-8f40-cef3889c4077\" class=\"plotly-graph-div\" style=\"height:600px; width:800px;\"></div>\n",
       "            <script type=\"text/javascript\">\n",
       "                require([\"plotly\"], function(Plotly) {\n",
       "                    window.PLOTLYENV=window.PLOTLYENV || {};\n",
       "                    window.PLOTLYENV.BASE_URL='https://plot.ly';\n",
       "                    \n",
       "                if (document.getElementById(\"2cb7ca21-7cb1-431e-8f40-cef3889c4077\")) {\n",
       "                    Plotly.newPlot(\n",
       "                        '2cb7ca21-7cb1-431e-8f40-cef3889c4077',\n",
       "                        [{\"hoverinfo\": \"none\", \"marker\": {\"color\": \"lightgray\"}, \"name\": \"lightgray\", \"orientation\": \"h\", \"text\": [-0.148, -0.127, -0.028], \"textfont\": {\"color\": \"#444444\", \"size\": 12}, \"textposition\": \"auto\", \"type\": \"bar\", \"uid\": \"2ac24e4b-4aa5-45ff-9ec2-fb325a2d6144\", \"x\": [-0.1480457408556851, -0.12731976738030182, -0.02840448339003737], \"y\": [\" Build and/or run the<br>data infrastructure that my business<br>uses for storing, analyzing, and<br>operationalizing data\", \" Do research that advances<br>the state of the art<br>of machine learning\", \" None of these activities<br>are an important part of<br>my role at work\"]}, {\"hoverinfo\": \"none\", \"marker\": {\"color\": \"cornflowerblue\"}, \"name\": \"cornflowerblue\", \"orientation\": \"h\", \"text\": [0.026, 0.157, 0.295], \"textfont\": {\"color\": \"#444444\", \"size\": 12}, \"textposition\": \"auto\", \"type\": \"bar\", \"uid\": \"a3a0627a-b9ce-48b7-8f8f-baa332021374\", \"x\": [0.026377013803415627, 0.15716838704835082, 0.2953093620414085], \"y\": [\" Analyze and understand data<br>to influence product or business<br>decisions\", \" Build and/or run a<br>machine learning service that operationally<br>improves my product or workflows\", \" Build prototypes to explore<br>applying machine learning to new<br>areas\"]}],\n",
       "                        {\"height\": 600, \"margin\": {\"l\": 300}, \"showlegend\": false, \"title\": {\"text\": \"<b> Q11. Select any activities that make up<br>an important part of your role at work</b>\"}, \"width\": 800, \"xaxis\": {\"color\": \"#AAAAAA\", \"showgrid\": false, \"title\": {\"font\": {\"color\": \"#AAAAAA\"}, \"text\": \"Model Coefficient\"}}, \"yaxis\": {\"color\": \"#AAAAAA\", \"showgrid\": false, \"tickfont\": {\"color\": \"#444444\", \"size\": 12}, \"title\": {\"font\": {\"color\": \"#AAAAAA\"}, \"text\": \"\"}}},\n",
       "                        {\"showLink\": false, \"linkText\": \"Export to plot.ly\", \"plotlyServerURL\": \"https://plot.ly\", \"responsive\": true}\n",
       "                    ).then(function(){\n",
       "                            \n",
       "var gd = document.getElementById('2cb7ca21-7cb1-431e-8f40-cef3889c4077');\n",
       "var x = new MutationObserver(function (mutations, observer) {{\n",
       "        var display = window.getComputedStyle(gd).display;\n",
       "        if (!display || display === 'none') {{\n",
       "            console.log([gd, 'removed!']);\n",
       "            Plotly.purge(gd);\n",
       "            observer.disconnect();\n",
       "        }}\n",
       "}});\n",
       "\n",
       "// Listen for the removal of the full notebook cells\n",
       "var notebookContainer = gd.closest('#notebook-container');\n",
       "if (notebookContainer) {{\n",
       "    x.observe(notebookContainer, {childList: true});\n",
       "}}\n",
       "\n",
       "// Listen for the clearing of the current output cell\n",
       "var outputEl = gd.closest('.output');\n",
       "if (outputEl) {{\n",
       "    x.observe(outputEl, {childList: true});\n",
       "}}\n",
       "\n",
       "                        })\n",
       "                };\n",
       "                });\n",
       "            </script>\n",
       "        </div>"
      ]
     },
     "metadata": {},
     "output_type": "display_data"
    }
   ],
   "source": [
    "plot_result('Q11')"
   ]
  },
  {
   "cell_type": "markdown",
   "metadata": {
    "_uuid": "ca8fe816b49b797cd1ad83819a3dafd8e0b6f7c8"
   },
   "source": [
    "When it comes to activities, try to build prototypes or Machine Learning services. Exploring the application of ML to new areas and using it to improve your products or workflows is the way to get closer to earning more than USD 100k per year. On the other side, if an important part of your role is to do Business Intelligence to analyze and understand data to influence product or business decisions, then you should expect to earn less. Same thing if you run the data infrastructure.\n",
    "\n",
    "---"
   ]
  },
  {
   "cell_type": "code",
   "execution_count": 55,
   "metadata": {
    "_kg_hide-input": true,
    "_uuid": "260844c6ce9bb6a153a2fede54d3cdc680c43d33"
   },
   "outputs": [
    {
     "data": {
      "application/vnd.plotly.v1+json": {
       "config": {
        "linkText": "Export to plot.ly",
        "plotlyServerURL": "https://plot.ly",
        "responsive": true,
        "showLink": false
       },
       "data": [
        {
         "hoverinfo": "none",
         "marker": {
          "color": "lightgray"
         },
         "name": "lightgray",
         "orientation": "h",
         "text": [
          -0.289,
          -0.018
         ],
         "textfont": {
          "color": "#444444",
          "size": 12
         },
         "textposition": "auto",
         "type": "bar",
         "uid": "e260ef37-ea35-43aa-a558-1b9cf0abe2da",
         "x": [
          -0.2888297865295064,
          -0.017567643368731355
         ],
         "y": [
          " IBM Cloud",
          " Google Cloud Platform (GCP)"
         ]
        },
        {
         "hoverinfo": "none",
         "marker": {
          "color": "cornflowerblue"
         },
         "name": "cornflowerblue",
         "orientation": "h",
         "text": [
          0.097,
          0.313
         ],
         "textfont": {
          "color": "#444444",
          "size": 12
         },
         "textposition": "auto",
         "type": "bar",
         "uid": "367b81f6-44ad-4382-aa63-f3ae6726aeb3",
         "x": [
          0.09691615602740485,
          0.31267018512007355
         ],
         "y": [
          " Microsoft Azure",
          " Amazon Web Services (AWS)"
         ]
        }
       ],
       "layout": {
        "height": 600,
        "margin": {
         "l": 300
        },
        "showlegend": false,
        "title": {
         "text": "<b> Q15. Which of the following cloud computing<br>services have you used at work or school<br>in the last 5 years?</b>"
        },
        "width": 800,
        "xaxis": {
         "color": "#AAAAAA",
         "showgrid": false,
         "title": {
          "font": {
           "color": "#AAAAAA"
          },
          "text": "Model Coefficient"
         }
        },
        "yaxis": {
         "color": "#AAAAAA",
         "showgrid": false,
         "tickfont": {
          "color": "#444444",
          "size": 12
         },
         "title": {
          "font": {
           "color": "#AAAAAA"
          },
          "text": ""
         }
        }
       }
      },
      "text/html": [
       "<div>\n",
       "        \n",
       "        \n",
       "            <div id=\"04c9a5da-23f1-4160-84d4-1c07e01b43e9\" class=\"plotly-graph-div\" style=\"height:600px; width:800px;\"></div>\n",
       "            <script type=\"text/javascript\">\n",
       "                require([\"plotly\"], function(Plotly) {\n",
       "                    window.PLOTLYENV=window.PLOTLYENV || {};\n",
       "                    window.PLOTLYENV.BASE_URL='https://plot.ly';\n",
       "                    \n",
       "                if (document.getElementById(\"04c9a5da-23f1-4160-84d4-1c07e01b43e9\")) {\n",
       "                    Plotly.newPlot(\n",
       "                        '04c9a5da-23f1-4160-84d4-1c07e01b43e9',\n",
       "                        [{\"hoverinfo\": \"none\", \"marker\": {\"color\": \"lightgray\"}, \"name\": \"lightgray\", \"orientation\": \"h\", \"text\": [-0.289, -0.018], \"textfont\": {\"color\": \"#444444\", \"size\": 12}, \"textposition\": \"auto\", \"type\": \"bar\", \"uid\": \"8c863b56-d711-4f30-b8d4-f9fc5362f8db\", \"x\": [-0.2888297865295064, -0.017567643368731355], \"y\": [\" IBM Cloud\", \" Google Cloud Platform (GCP)\"]}, {\"hoverinfo\": \"none\", \"marker\": {\"color\": \"cornflowerblue\"}, \"name\": \"cornflowerblue\", \"orientation\": \"h\", \"text\": [0.097, 0.313], \"textfont\": {\"color\": \"#444444\", \"size\": 12}, \"textposition\": \"auto\", \"type\": \"bar\", \"uid\": \"cbdfbb74-a889-4ef3-939e-cd7f8d036fb9\", \"x\": [0.09691615602740485, 0.31267018512007355], \"y\": [\" Microsoft Azure\", \" Amazon Web Services (AWS)\"]}],\n",
       "                        {\"height\": 600, \"margin\": {\"l\": 300}, \"showlegend\": false, \"title\": {\"text\": \"<b> Q15. Which of the following cloud computing<br>services have you used at work or school<br>in the last 5 years?</b>\"}, \"width\": 800, \"xaxis\": {\"color\": \"#AAAAAA\", \"showgrid\": false, \"title\": {\"font\": {\"color\": \"#AAAAAA\"}, \"text\": \"Model Coefficient\"}}, \"yaxis\": {\"color\": \"#AAAAAA\", \"showgrid\": false, \"tickfont\": {\"color\": \"#444444\", \"size\": 12}, \"title\": {\"font\": {\"color\": \"#AAAAAA\"}, \"text\": \"\"}}},\n",
       "                        {\"showLink\": false, \"linkText\": \"Export to plot.ly\", \"plotlyServerURL\": \"https://plot.ly\", \"responsive\": true}\n",
       "                    ).then(function(){\n",
       "                            \n",
       "var gd = document.getElementById('04c9a5da-23f1-4160-84d4-1c07e01b43e9');\n",
       "var x = new MutationObserver(function (mutations, observer) {{\n",
       "        var display = window.getComputedStyle(gd).display;\n",
       "        if (!display || display === 'none') {{\n",
       "            console.log([gd, 'removed!']);\n",
       "            Plotly.purge(gd);\n",
       "            observer.disconnect();\n",
       "        }}\n",
       "}});\n",
       "\n",
       "// Listen for the removal of the full notebook cells\n",
       "var notebookContainer = gd.closest('#notebook-container');\n",
       "if (notebookContainer) {{\n",
       "    x.observe(notebookContainer, {childList: true});\n",
       "}}\n",
       "\n",
       "// Listen for the clearing of the current output cell\n",
       "var outputEl = gd.closest('.output');\n",
       "if (outputEl) {{\n",
       "    x.observe(outputEl, {childList: true});\n",
       "}}\n",
       "\n",
       "                        })\n",
       "                };\n",
       "                });\n",
       "            </script>\n",
       "        </div>"
      ]
     },
     "metadata": {},
     "output_type": "display_data"
    }
   ],
   "source": [
    "plot_result('Q15')"
   ]
  },
  {
   "cell_type": "markdown",
   "metadata": {
    "_uuid": "3716d6ead6024089f252891f3af0b23a6fb59011"
   },
   "source": [
    "Use cloud computing services! Get used to AWS, or other leading cloud providers. Using IBM Cloud might reduce your chances of earning more, but can't see any reasons for that right now.\n",
    "\n",
    "---"
   ]
  },
  {
   "cell_type": "code",
   "execution_count": 56,
   "metadata": {
    "_kg_hide-input": true,
    "_uuid": "2fc434f09b58c33d8c21bc182fd591f69c5f6fae"
   },
   "outputs": [
    {
     "data": {
      "application/vnd.plotly.v1+json": {
       "config": {
        "linkText": "Export to plot.ly",
        "plotlyServerURL": "https://plot.ly",
        "responsive": true,
        "showLink": false
       },
       "data": [
        {
         "hoverinfo": "none",
         "marker": {
          "color": "lightgray"
         },
         "name": "lightgray",
         "orientation": "h",
         "text": [
          -0.283,
          -0.174,
          -0.139,
          -0.068,
          -0.056,
          -0.056,
          -0.041
         ],
         "textfont": {
          "color": "#444444",
          "size": 12
         },
         "textposition": "auto",
         "type": "bar",
         "uid": "052b6bcb-1b5c-4ddd-8f34-ab4f462cb7d7",
         "x": [
          -0.2830154017560901,
          -0.17439563191587643,
          -0.13917786154397033,
          -0.06779866005501134,
          -0.055885271092674965,
          -0.055787262748160156,
          -0.04097788966456414
         ],
         "y": [
          " SAS/STATA",
          " Visual Basic/VBA",
          " C/C++",
          " Python",
          " SQL",
          " MATLAB",
          " C#/.NET"
         ]
        },
        {
         "hoverinfo": "none",
         "marker": {
          "color": "cornflowerblue"
         },
         "name": "cornflowerblue",
         "orientation": "h",
         "text": [
          0.026,
          0.099,
          0.1,
          0.109,
          0.129
         ],
         "textfont": {
          "color": "#444444",
          "size": 12
         },
         "textposition": "auto",
         "type": "bar",
         "uid": "da257e88-4a99-48dc-bf94-0dbf480c79ec",
         "x": [
          0.026481584013613065,
          0.09924735431582311,
          0.09990501045279955,
          0.10861911529762144,
          0.12946997325860166
         ],
         "y": [
          " Javascript/Typescript",
          " Bash",
          " Java",
          " PHP",
          " R"
         ]
        }
       ],
       "layout": {
        "height": 600,
        "margin": {
         "l": 300
        },
        "showlegend": false,
        "title": {
         "text": "<b> Q16. What programming languages do you use<br>on a regular basis?</b>"
        },
        "width": 800,
        "xaxis": {
         "color": "#AAAAAA",
         "showgrid": false,
         "title": {
          "font": {
           "color": "#AAAAAA"
          },
          "text": "Model Coefficient"
         }
        },
        "yaxis": {
         "color": "#AAAAAA",
         "showgrid": false,
         "tickfont": {
          "color": "#444444",
          "size": 12
         },
         "title": {
          "font": {
           "color": "#AAAAAA"
          },
          "text": ""
         }
        }
       }
      },
      "text/html": [
       "<div>\n",
       "        \n",
       "        \n",
       "            <div id=\"ada1755e-0ace-47d2-86fb-2af61c1a2471\" class=\"plotly-graph-div\" style=\"height:600px; width:800px;\"></div>\n",
       "            <script type=\"text/javascript\">\n",
       "                require([\"plotly\"], function(Plotly) {\n",
       "                    window.PLOTLYENV=window.PLOTLYENV || {};\n",
       "                    window.PLOTLYENV.BASE_URL='https://plot.ly';\n",
       "                    \n",
       "                if (document.getElementById(\"ada1755e-0ace-47d2-86fb-2af61c1a2471\")) {\n",
       "                    Plotly.newPlot(\n",
       "                        'ada1755e-0ace-47d2-86fb-2af61c1a2471',\n",
       "                        [{\"hoverinfo\": \"none\", \"marker\": {\"color\": \"lightgray\"}, \"name\": \"lightgray\", \"orientation\": \"h\", \"text\": [-0.283, -0.174, -0.139, -0.068, -0.056, -0.056, -0.041], \"textfont\": {\"color\": \"#444444\", \"size\": 12}, \"textposition\": \"auto\", \"type\": \"bar\", \"uid\": \"cc51fd19-6a8a-48af-8cb7-4e2afe9678b3\", \"x\": [-0.2830154017560901, -0.17439563191587643, -0.13917786154397033, -0.06779866005501134, -0.055885271092674965, -0.055787262748160156, -0.04097788966456414], \"y\": [\" SAS/STATA\", \" Visual Basic/VBA\", \" C/C++\", \" Python\", \" SQL\", \" MATLAB\", \" C#/.NET\"]}, {\"hoverinfo\": \"none\", \"marker\": {\"color\": \"cornflowerblue\"}, \"name\": \"cornflowerblue\", \"orientation\": \"h\", \"text\": [0.026, 0.099, 0.1, 0.109, 0.129], \"textfont\": {\"color\": \"#444444\", \"size\": 12}, \"textposition\": \"auto\", \"type\": \"bar\", \"uid\": \"05a441e8-8331-4d4d-82cf-3c72e643e8e9\", \"x\": [0.026481584013613065, 0.09924735431582311, 0.09990501045279955, 0.10861911529762144, 0.12946997325860166], \"y\": [\" Javascript/Typescript\", \" Bash\", \" Java\", \" PHP\", \" R\"]}],\n",
       "                        {\"height\": 600, \"margin\": {\"l\": 300}, \"showlegend\": false, \"title\": {\"text\": \"<b> Q16. What programming languages do you use<br>on a regular basis?</b>\"}, \"width\": 800, \"xaxis\": {\"color\": \"#AAAAAA\", \"showgrid\": false, \"title\": {\"font\": {\"color\": \"#AAAAAA\"}, \"text\": \"Model Coefficient\"}}, \"yaxis\": {\"color\": \"#AAAAAA\", \"showgrid\": false, \"tickfont\": {\"color\": \"#444444\", \"size\": 12}, \"title\": {\"font\": {\"color\": \"#AAAAAA\"}, \"text\": \"\"}}},\n",
       "                        {\"showLink\": false, \"linkText\": \"Export to plot.ly\", \"plotlyServerURL\": \"https://plot.ly\", \"responsive\": true}\n",
       "                    ).then(function(){\n",
       "                            \n",
       "var gd = document.getElementById('ada1755e-0ace-47d2-86fb-2af61c1a2471');\n",
       "var x = new MutationObserver(function (mutations, observer) {{\n",
       "        var display = window.getComputedStyle(gd).display;\n",
       "        if (!display || display === 'none') {{\n",
       "            console.log([gd, 'removed!']);\n",
       "            Plotly.purge(gd);\n",
       "            observer.disconnect();\n",
       "        }}\n",
       "}});\n",
       "\n",
       "// Listen for the removal of the full notebook cells\n",
       "var notebookContainer = gd.closest('#notebook-container');\n",
       "if (notebookContainer) {{\n",
       "    x.observe(notebookContainer, {childList: true});\n",
       "}}\n",
       "\n",
       "// Listen for the clearing of the current output cell\n",
       "var outputEl = gd.closest('.output');\n",
       "if (outputEl) {{\n",
       "    x.observe(outputEl, {childList: true});\n",
       "}}\n",
       "\n",
       "                        })\n",
       "                };\n",
       "                });\n",
       "            </script>\n",
       "        </div>"
      ]
     },
     "metadata": {},
     "output_type": "display_data"
    }
   ],
   "source": [
    "plot_result('Q16')"
   ]
  },
  {
   "cell_type": "markdown",
   "metadata": {
    "_uuid": "464b1bafa9e7c2479a0bee5c124207d678ba2cfb"
   },
   "source": [
    "Using R, PHP, Java or Bash on a regular basis contribute to earning more. \n",
    "\n",
    "Java is one of the languages that most contributes to the probability of belonging to the Top 20% probably because some Big Data tools, such as Hadoop, are written in Java. Bash, the Unix shell and command language, is also valuable. You see that some of them will increase your salary, while others may decrease it. Choose wisely what to learn next!\n",
    "\n",
    "---"
   ]
  },
  {
   "cell_type": "code",
   "execution_count": 57,
   "metadata": {
    "_kg_hide-input": true,
    "_uuid": "8b0ebec6b87b3ebebbcd9c7fc9be8a5358a3d702"
   },
   "outputs": [
    {
     "data": {
      "application/vnd.plotly.v1+json": {
       "config": {
        "linkText": "Export to plot.ly",
        "plotlyServerURL": "https://plot.ly",
        "responsive": true,
        "showLink": false
       },
       "data": [
        {
         "hoverinfo": "none",
         "marker": {
          "color": "lightgray"
         },
         "name": "lightgray",
         "orientation": "h",
         "text": [
          -0.456,
          -0.226,
          -0.186
         ],
         "textfont": {
          "color": "#444444",
          "size": 12
         },
         "textposition": "auto",
         "type": "bar",
         "uid": "8105262e-ca28-442c-b957-e80592cd9309",
         "x": [
          -0.45645117156900933,
          -0.2260061850709158,
          -0.18570713619470847
         ],
         "y": [
          " R",
          " SQL",
          " Python"
         ]
        }
       ],
       "layout": {
        "height": 600,
        "margin": {
         "l": 300
        },
        "showlegend": false,
        "title": {
         "text": "<b> Q17. What specific programming language do you<br>use most often?</b>"
        },
        "width": 800,
        "xaxis": {
         "color": "#AAAAAA",
         "showgrid": false,
         "title": {
          "font": {
           "color": "#AAAAAA"
          },
          "text": "Model Coefficient"
         }
        },
        "yaxis": {
         "color": "#AAAAAA",
         "showgrid": false,
         "tickfont": {
          "color": "#444444",
          "size": 12
         },
         "title": {
          "font": {
           "color": "#AAAAAA"
          },
          "text": ""
         }
        }
       }
      },
      "text/html": [
       "<div>\n",
       "        \n",
       "        \n",
       "            <div id=\"88d29fa5-f444-414f-b6a6-395e02c0d373\" class=\"plotly-graph-div\" style=\"height:600px; width:800px;\"></div>\n",
       "            <script type=\"text/javascript\">\n",
       "                require([\"plotly\"], function(Plotly) {\n",
       "                    window.PLOTLYENV=window.PLOTLYENV || {};\n",
       "                    window.PLOTLYENV.BASE_URL='https://plot.ly';\n",
       "                    \n",
       "                if (document.getElementById(\"88d29fa5-f444-414f-b6a6-395e02c0d373\")) {\n",
       "                    Plotly.newPlot(\n",
       "                        '88d29fa5-f444-414f-b6a6-395e02c0d373',\n",
       "                        [{\"hoverinfo\": \"none\", \"marker\": {\"color\": \"lightgray\"}, \"name\": \"lightgray\", \"orientation\": \"h\", \"text\": [-0.456, -0.226, -0.186], \"textfont\": {\"color\": \"#444444\", \"size\": 12}, \"textposition\": \"auto\", \"type\": \"bar\", \"uid\": \"2f2d7026-aa2d-4df8-8890-efb3ef5c00ed\", \"x\": [-0.45645117156900933, -0.2260061850709158, -0.18570713619470847], \"y\": [\" R\", \" SQL\", \" Python\"]}],\n",
       "                        {\"height\": 600, \"margin\": {\"l\": 300}, \"showlegend\": false, \"title\": {\"text\": \"<b> Q17. What specific programming language do you<br>use most often?</b>\"}, \"width\": 800, \"xaxis\": {\"color\": \"#AAAAAA\", \"showgrid\": false, \"title\": {\"font\": {\"color\": \"#AAAAAA\"}, \"text\": \"Model Coefficient\"}}, \"yaxis\": {\"color\": \"#AAAAAA\", \"showgrid\": false, \"tickfont\": {\"color\": \"#444444\", \"size\": 12}, \"title\": {\"font\": {\"color\": \"#AAAAAA\"}, \"text\": \"\"}}},\n",
       "                        {\"showLink\": false, \"linkText\": \"Export to plot.ly\", \"plotlyServerURL\": \"https://plot.ly\", \"responsive\": true}\n",
       "                    ).then(function(){\n",
       "                            \n",
       "var gd = document.getElementById('88d29fa5-f444-414f-b6a6-395e02c0d373');\n",
       "var x = new MutationObserver(function (mutations, observer) {{\n",
       "        var display = window.getComputedStyle(gd).display;\n",
       "        if (!display || display === 'none') {{\n",
       "            console.log([gd, 'removed!']);\n",
       "            Plotly.purge(gd);\n",
       "            observer.disconnect();\n",
       "        }}\n",
       "}});\n",
       "\n",
       "// Listen for the removal of the full notebook cells\n",
       "var notebookContainer = gd.closest('#notebook-container');\n",
       "if (notebookContainer) {{\n",
       "    x.observe(notebookContainer, {childList: true});\n",
       "}}\n",
       "\n",
       "// Listen for the clearing of the current output cell\n",
       "var outputEl = gd.closest('.output');\n",
       "if (outputEl) {{\n",
       "    x.observe(outputEl, {childList: true});\n",
       "}}\n",
       "\n",
       "                        })\n",
       "                };\n",
       "                });\n",
       "            </script>\n",
       "        </div>"
      ]
     },
     "metadata": {},
     "output_type": "display_data"
    }
   ],
   "source": [
    "plot_result('Q17')"
   ]
  },
  {
   "cell_type": "markdown",
   "metadata": {
    "_uuid": "e177a39afd775955810b7ca072135c127e416210"
   },
   "source": [
    "Primary usage of a language other than Python and R will get you closer to Top 20%. But if you have to chose one between them, then choose Python. Knowing R is a plus, but using it most often than other languages will decrease your compensation. Python wins this one probably because it's more versatile than R when it comes to putting models in production.\n",
    "\n",
    "---"
   ]
  },
  {
   "cell_type": "code",
   "execution_count": 58,
   "metadata": {
    "_kg_hide-input": true,
    "_uuid": "a2c329416843db9a90d1fcb8cb5225d65cf38cb8"
   },
   "outputs": [
    {
     "data": {
      "application/vnd.plotly.v1+json": {
       "config": {
        "linkText": "Export to plot.ly",
        "plotlyServerURL": "https://plot.ly",
        "responsive": true,
        "showLink": false
       },
       "data": [
        {
         "hoverinfo": "none",
         "marker": {
          "color": "cornflowerblue"
         },
         "name": "cornflowerblue",
         "orientation": "h",
         "text": [
          0.022
         ],
         "textfont": {
          "color": "#444444",
          "size": 12
         },
         "textposition": "auto",
         "type": "bar",
         "uid": "173ebd19-7cb6-4114-ad02-9a017f4c9f6d",
         "x": [
          0.022423331023257997
         ],
         "y": [
          " Python"
         ]
        }
       ],
       "layout": {
        "height": 600,
        "margin": {
         "l": 300
        },
        "showlegend": false,
        "title": {
         "text": "<b> Q18. What programming language would you recommend<br>an aspiring data scientist to learn first?</b>"
        },
        "width": 800,
        "xaxis": {
         "color": "#AAAAAA",
         "showgrid": false,
         "title": {
          "font": {
           "color": "#AAAAAA"
          },
          "text": "Model Coefficient"
         }
        },
        "yaxis": {
         "color": "#AAAAAA",
         "showgrid": false,
         "tickfont": {
          "color": "#444444",
          "size": 12
         },
         "title": {
          "font": {
           "color": "#AAAAAA"
          },
          "text": ""
         }
        }
       }
      },
      "text/html": [
       "<div>\n",
       "        \n",
       "        \n",
       "            <div id=\"ce00d988-568b-4cff-9071-562c58fa8572\" class=\"plotly-graph-div\" style=\"height:600px; width:800px;\"></div>\n",
       "            <script type=\"text/javascript\">\n",
       "                require([\"plotly\"], function(Plotly) {\n",
       "                    window.PLOTLYENV=window.PLOTLYENV || {};\n",
       "                    window.PLOTLYENV.BASE_URL='https://plot.ly';\n",
       "                    \n",
       "                if (document.getElementById(\"ce00d988-568b-4cff-9071-562c58fa8572\")) {\n",
       "                    Plotly.newPlot(\n",
       "                        'ce00d988-568b-4cff-9071-562c58fa8572',\n",
       "                        [{\"hoverinfo\": \"none\", \"marker\": {\"color\": \"cornflowerblue\"}, \"name\": \"cornflowerblue\", \"orientation\": \"h\", \"text\": [0.022], \"textfont\": {\"color\": \"#444444\", \"size\": 12}, \"textposition\": \"auto\", \"type\": \"bar\", \"uid\": \"9cd74d74-e78b-459b-82de-6ba8f7064350\", \"x\": [0.022423331023257997], \"y\": [\" Python\"]}],\n",
       "                        {\"height\": 600, \"margin\": {\"l\": 300}, \"showlegend\": false, \"title\": {\"text\": \"<b> Q18. What programming language would you recommend<br>an aspiring data scientist to learn first?</b>\"}, \"width\": 800, \"xaxis\": {\"color\": \"#AAAAAA\", \"showgrid\": false, \"title\": {\"font\": {\"color\": \"#AAAAAA\"}, \"text\": \"Model Coefficient\"}}, \"yaxis\": {\"color\": \"#AAAAAA\", \"showgrid\": false, \"tickfont\": {\"color\": \"#444444\", \"size\": 12}, \"title\": {\"font\": {\"color\": \"#AAAAAA\"}, \"text\": \"\"}}},\n",
       "                        {\"showLink\": false, \"linkText\": \"Export to plot.ly\", \"plotlyServerURL\": \"https://plot.ly\", \"responsive\": true}\n",
       "                    ).then(function(){\n",
       "                            \n",
       "var gd = document.getElementById('ce00d988-568b-4cff-9071-562c58fa8572');\n",
       "var x = new MutationObserver(function (mutations, observer) {{\n",
       "        var display = window.getComputedStyle(gd).display;\n",
       "        if (!display || display === 'none') {{\n",
       "            console.log([gd, 'removed!']);\n",
       "            Plotly.purge(gd);\n",
       "            observer.disconnect();\n",
       "        }}\n",
       "}});\n",
       "\n",
       "// Listen for the removal of the full notebook cells\n",
       "var notebookContainer = gd.closest('#notebook-container');\n",
       "if (notebookContainer) {{\n",
       "    x.observe(notebookContainer, {childList: true});\n",
       "}}\n",
       "\n",
       "// Listen for the clearing of the current output cell\n",
       "var outputEl = gd.closest('.output');\n",
       "if (outputEl) {{\n",
       "    x.observe(outputEl, {childList: true});\n",
       "}}\n",
       "\n",
       "                        })\n",
       "                };\n",
       "                });\n",
       "            </script>\n",
       "        </div>"
      ]
     },
     "metadata": {},
     "output_type": "display_data"
    }
   ],
   "source": [
    "plot_result('Q18')"
   ]
  },
  {
   "cell_type": "markdown",
   "metadata": {
    "_uuid": "ba4cb51224614c9cfa545c9cf08593c846282df2"
   },
   "source": [
    "Listen to the money's voice. People who earn more recommend learning Python as the first language.\n",
    "\n",
    "---"
   ]
  },
  {
   "cell_type": "code",
   "execution_count": 59,
   "metadata": {
    "_kg_hide-input": true,
    "_uuid": "eb3b63f69222de42bd97a7afd7f5331485a3fa25"
   },
   "outputs": [
    {
     "data": {
      "application/vnd.plotly.v1+json": {
       "config": {
        "linkText": "Export to plot.ly",
        "plotlyServerURL": "https://plot.ly",
        "responsive": true,
        "showLink": false
       },
       "data": [
        {
         "hoverinfo": "none",
         "marker": {
          "color": "lightgray"
         },
         "name": "lightgray",
         "orientation": "h",
         "text": [
          -0.163,
          -0.095,
          -0.086,
          -0.023,
          0
         ],
         "textfont": {
          "color": "#444444",
          "size": 12
         },
         "textposition": "auto",
         "type": "bar",
         "uid": "b0504554-a4ec-4ddf-8b48-3c048828cb61",
         "x": [
          -0.16294271591653192,
          -0.09471916604632315,
          -0.08639731314292608,
          -0.02314855962853779,
          -0.00034038773857925054
         ],
         "y": [
          " catboost",
          " Caret",
          " PyTorch",
          " randomForest",
          " TensorFlow"
         ]
        },
        {
         "hoverinfo": "none",
         "marker": {
          "color": "cornflowerblue"
         },
         "name": "cornflowerblue",
         "orientation": "h",
         "text": [
          0.047,
          0.053,
          0.078,
          0.251,
          0.29,
          0.366
         ],
         "textfont": {
          "color": "#444444",
          "size": 12
         },
         "textposition": "auto",
         "type": "bar",
         "uid": "259fb33f-675f-4e71-a592-a96751faa41d",
         "x": [
          0.04713585564919382,
          0.052691978543306636,
          0.0782060905359688,
          0.25085038595206455,
          0.29007665638596875,
          0.36559353685347673
         ],
         "y": [
          " H20",
          " Xgboost",
          " lightgbm",
          " Spark MLlib",
          " Fastai",
          " Caffe"
         ]
        }
       ],
       "layout": {
        "height": 600,
        "margin": {
         "l": 300
        },
        "showlegend": false,
        "title": {
         "text": "<b> Q19. What machine learning frameworks have you<br>used in the past 5 years?</b>"
        },
        "width": 800,
        "xaxis": {
         "color": "#AAAAAA",
         "showgrid": false,
         "title": {
          "font": {
           "color": "#AAAAAA"
          },
          "text": "Model Coefficient"
         }
        },
        "yaxis": {
         "color": "#AAAAAA",
         "showgrid": false,
         "tickfont": {
          "color": "#444444",
          "size": 12
         },
         "title": {
          "font": {
           "color": "#AAAAAA"
          },
          "text": ""
         }
        }
       }
      },
      "text/html": [
       "<div>\n",
       "        \n",
       "        \n",
       "            <div id=\"43cb7fe9-7724-4ceb-a882-a8b97cd63978\" class=\"plotly-graph-div\" style=\"height:600px; width:800px;\"></div>\n",
       "            <script type=\"text/javascript\">\n",
       "                require([\"plotly\"], function(Plotly) {\n",
       "                    window.PLOTLYENV=window.PLOTLYENV || {};\n",
       "                    window.PLOTLYENV.BASE_URL='https://plot.ly';\n",
       "                    \n",
       "                if (document.getElementById(\"43cb7fe9-7724-4ceb-a882-a8b97cd63978\")) {\n",
       "                    Plotly.newPlot(\n",
       "                        '43cb7fe9-7724-4ceb-a882-a8b97cd63978',\n",
       "                        [{\"hoverinfo\": \"none\", \"marker\": {\"color\": \"lightgray\"}, \"name\": \"lightgray\", \"orientation\": \"h\", \"text\": [-0.163, -0.095, -0.086, -0.023, -0.0], \"textfont\": {\"color\": \"#444444\", \"size\": 12}, \"textposition\": \"auto\", \"type\": \"bar\", \"uid\": \"3ffc4370-9ca1-41de-b957-2245b0869c46\", \"x\": [-0.16294271591653192, -0.09471916604632315, -0.08639731314292608, -0.02314855962853779, -0.00034038773857925054], \"y\": [\" catboost\", \" Caret\", \" PyTorch\", \" randomForest\", \" TensorFlow\"]}, {\"hoverinfo\": \"none\", \"marker\": {\"color\": \"cornflowerblue\"}, \"name\": \"cornflowerblue\", \"orientation\": \"h\", \"text\": [0.047, 0.053, 0.078, 0.251, 0.29, 0.366], \"textfont\": {\"color\": \"#444444\", \"size\": 12}, \"textposition\": \"auto\", \"type\": \"bar\", \"uid\": \"56537642-525f-4ea3-ab76-3760964e181a\", \"x\": [0.04713585564919382, 0.052691978543306636, 0.0782060905359688, 0.25085038595206455, 0.29007665638596875, 0.36559353685347673], \"y\": [\" H20\", \" Xgboost\", \" lightgbm\", \" Spark MLlib\", \" Fastai\", \" Caffe\"]}],\n",
       "                        {\"height\": 600, \"margin\": {\"l\": 300}, \"showlegend\": false, \"title\": {\"text\": \"<b> Q19. What machine learning frameworks have you<br>used in the past 5 years?</b>\"}, \"width\": 800, \"xaxis\": {\"color\": \"#AAAAAA\", \"showgrid\": false, \"title\": {\"font\": {\"color\": \"#AAAAAA\"}, \"text\": \"Model Coefficient\"}}, \"yaxis\": {\"color\": \"#AAAAAA\", \"showgrid\": false, \"tickfont\": {\"color\": \"#444444\", \"size\": 12}, \"title\": {\"font\": {\"color\": \"#AAAAAA\"}, \"text\": \"\"}}},\n",
       "                        {\"showLink\": false, \"linkText\": \"Export to plot.ly\", \"plotlyServerURL\": \"https://plot.ly\", \"responsive\": true}\n",
       "                    ).then(function(){\n",
       "                            \n",
       "var gd = document.getElementById('43cb7fe9-7724-4ceb-a882-a8b97cd63978');\n",
       "var x = new MutationObserver(function (mutations, observer) {{\n",
       "        var display = window.getComputedStyle(gd).display;\n",
       "        if (!display || display === 'none') {{\n",
       "            console.log([gd, 'removed!']);\n",
       "            Plotly.purge(gd);\n",
       "            observer.disconnect();\n",
       "        }}\n",
       "}});\n",
       "\n",
       "// Listen for the removal of the full notebook cells\n",
       "var notebookContainer = gd.closest('#notebook-container');\n",
       "if (notebookContainer) {{\n",
       "    x.observe(notebookContainer, {childList: true});\n",
       "}}\n",
       "\n",
       "// Listen for the clearing of the current output cell\n",
       "var outputEl = gd.closest('.output');\n",
       "if (outputEl) {{\n",
       "    x.observe(outputEl, {childList: true});\n",
       "}}\n",
       "\n",
       "                        })\n",
       "                };\n",
       "                });\n",
       "            </script>\n",
       "        </div>"
      ]
     },
     "metadata": {},
     "output_type": "display_data"
    }
   ],
   "source": [
    "plot_result('Q19')"
   ]
  },
  {
   "cell_type": "markdown",
   "metadata": {
    "_uuid": "ece1d71724c2b6625e52e0b393f3c69fbb9c7d38"
   },
   "source": [
    "Learning and using Caffe, Fastai, SparkMLlib, Lightgbm and Xgboost and will add value to your resume.\n",
    "\n",
    "---"
   ]
  },
  {
   "cell_type": "code",
   "execution_count": 60,
   "metadata": {
    "_kg_hide-input": true,
    "_uuid": "e25b523e656d74f1143acf7a46c6e42ea4834988"
   },
   "outputs": [
    {
     "data": {
      "application/vnd.plotly.v1+json": {
       "config": {
        "linkText": "Export to plot.ly",
        "plotlyServerURL": "https://plot.ly",
        "responsive": true,
        "showLink": false
       },
       "data": [
        {
         "hoverinfo": "none",
         "marker": {
          "color": "lightgray"
         },
         "name": "lightgray",
         "orientation": "h",
         "text": [
          -0.284,
          -0.097,
          -0.094
         ],
         "textfont": {
          "color": "#444444",
          "size": 12
         },
         "textposition": "auto",
         "type": "bar",
         "uid": "2d8d26c8-b62e-44f3-8a8a-423a8cc88d07",
         "x": [
          -0.2841357815726995,
          -0.09722066999987604,
          -0.09355520368584631
         ],
         "y": [
          " Plotly",
          " None",
          " Leaflet"
         ]
        },
        {
         "hoverinfo": "none",
         "marker": {
          "color": "cornflowerblue"
         },
         "name": "cornflowerblue",
         "orientation": "h",
         "text": [
          0.009,
          0.106,
          0.115,
          0.435
         ],
         "textfont": {
          "color": "#444444",
          "size": 12
         },
         "textposition": "auto",
         "type": "bar",
         "uid": "7ddfaf11-39e4-45de-b6f2-c92a958240d8",
         "x": [
          0.009484575881139178,
          0.10608923894210022,
          0.115448543027314,
          0.4345646317119634
         ],
         "y": [
          " Shiny",
          " Seaborn",
          " Bokeh",
          " D3"
         ]
        }
       ],
       "layout": {
        "height": 600,
        "margin": {
         "l": 300
        },
        "showlegend": false,
        "title": {
         "text": "<b> Q21. What data visualization libraries or tools<br>have you used in the past 5 years?</b>"
        },
        "width": 800,
        "xaxis": {
         "color": "#AAAAAA",
         "showgrid": false,
         "title": {
          "font": {
           "color": "#AAAAAA"
          },
          "text": "Model Coefficient"
         }
        },
        "yaxis": {
         "color": "#AAAAAA",
         "showgrid": false,
         "tickfont": {
          "color": "#444444",
          "size": 12
         },
         "title": {
          "font": {
           "color": "#AAAAAA"
          },
          "text": ""
         }
        }
       }
      },
      "text/html": [
       "<div>\n",
       "        \n",
       "        \n",
       "            <div id=\"12badbb0-bf91-420a-a3f6-8231ecadd2c2\" class=\"plotly-graph-div\" style=\"height:600px; width:800px;\"></div>\n",
       "            <script type=\"text/javascript\">\n",
       "                require([\"plotly\"], function(Plotly) {\n",
       "                    window.PLOTLYENV=window.PLOTLYENV || {};\n",
       "                    window.PLOTLYENV.BASE_URL='https://plot.ly';\n",
       "                    \n",
       "                if (document.getElementById(\"12badbb0-bf91-420a-a3f6-8231ecadd2c2\")) {\n",
       "                    Plotly.newPlot(\n",
       "                        '12badbb0-bf91-420a-a3f6-8231ecadd2c2',\n",
       "                        [{\"hoverinfo\": \"none\", \"marker\": {\"color\": \"lightgray\"}, \"name\": \"lightgray\", \"orientation\": \"h\", \"text\": [-0.284, -0.097, -0.094], \"textfont\": {\"color\": \"#444444\", \"size\": 12}, \"textposition\": \"auto\", \"type\": \"bar\", \"uid\": \"10b00395-bea7-49ee-8633-e7d7fdc35c5d\", \"x\": [-0.2841357815726995, -0.09722066999987604, -0.09355520368584631], \"y\": [\" Plotly\", \" None\", \" Leaflet\"]}, {\"hoverinfo\": \"none\", \"marker\": {\"color\": \"cornflowerblue\"}, \"name\": \"cornflowerblue\", \"orientation\": \"h\", \"text\": [0.009, 0.106, 0.115, 0.435], \"textfont\": {\"color\": \"#444444\", \"size\": 12}, \"textposition\": \"auto\", \"type\": \"bar\", \"uid\": \"308177ba-4b33-4317-8b45-cf522e2dd8d1\", \"x\": [0.009484575881139178, 0.10608923894210022, 0.115448543027314, 0.4345646317119634], \"y\": [\" Shiny\", \" Seaborn\", \" Bokeh\", \" D3\"]}],\n",
       "                        {\"height\": 600, \"margin\": {\"l\": 300}, \"showlegend\": false, \"title\": {\"text\": \"<b> Q21. What data visualization libraries or tools<br>have you used in the past 5 years?</b>\"}, \"width\": 800, \"xaxis\": {\"color\": \"#AAAAAA\", \"showgrid\": false, \"title\": {\"font\": {\"color\": \"#AAAAAA\"}, \"text\": \"Model Coefficient\"}}, \"yaxis\": {\"color\": \"#AAAAAA\", \"showgrid\": false, \"tickfont\": {\"color\": \"#444444\", \"size\": 12}, \"title\": {\"font\": {\"color\": \"#AAAAAA\"}, \"text\": \"\"}}},\n",
       "                        {\"showLink\": false, \"linkText\": \"Export to plot.ly\", \"plotlyServerURL\": \"https://plot.ly\", \"responsive\": true}\n",
       "                    ).then(function(){\n",
       "                            \n",
       "var gd = document.getElementById('12badbb0-bf91-420a-a3f6-8231ecadd2c2');\n",
       "var x = new MutationObserver(function (mutations, observer) {{\n",
       "        var display = window.getComputedStyle(gd).display;\n",
       "        if (!display || display === 'none') {{\n",
       "            console.log([gd, 'removed!']);\n",
       "            Plotly.purge(gd);\n",
       "            observer.disconnect();\n",
       "        }}\n",
       "}});\n",
       "\n",
       "// Listen for the removal of the full notebook cells\n",
       "var notebookContainer = gd.closest('#notebook-container');\n",
       "if (notebookContainer) {{\n",
       "    x.observe(notebookContainer, {childList: true});\n",
       "}}\n",
       "\n",
       "// Listen for the clearing of the current output cell\n",
       "var outputEl = gd.closest('.output');\n",
       "if (outputEl) {{\n",
       "    x.observe(outputEl, {childList: true});\n",
       "}}\n",
       "\n",
       "                        })\n",
       "                };\n",
       "                });\n",
       "            </script>\n",
       "        </div>"
      ]
     },
     "metadata": {},
     "output_type": "display_data"
    }
   ],
   "source": [
    "plot_result('Q21')"
   ]
  },
  {
   "cell_type": "markdown",
   "metadata": {
    "_uuid": "2aba88d8ffc366ffee098c971ec6609b7afc792f"
   },
   "source": [
    "I personally like and use Plotly, so I'm losing some points here. One reconforting thought is that Plotly is built on top of D3.\n",
    "\n",
    "---"
   ]
  },
  {
   "cell_type": "code",
   "execution_count": 61,
   "metadata": {
    "_kg_hide-input": true,
    "_uuid": "66676fdb1d6d6d2cd848109e49732ec47afd3f22"
   },
   "outputs": [
    {
     "data": {
      "application/vnd.plotly.v1+json": {
       "config": {
        "linkText": "Export to plot.ly",
        "plotlyServerURL": "https://plot.ly",
        "responsive": true,
        "showLink": false
       },
       "data": [
        {
         "hoverinfo": "none",
         "marker": {
          "color": "lightgray"
         },
         "name": "lightgray",
         "orientation": "h",
         "text": [
          -0.399,
          -0.367,
          -0.262,
          -0.204
         ],
         "textfont": {
          "color": "#444444",
          "size": 12
         },
         "textposition": "auto",
         "type": "bar",
         "uid": "ff87bc28-75be-4039-9186-776a57aba2a8",
         "x": [
          -0.398846738381178,
          -0.3666857905581208,
          -0.2620522116821427,
          -0.20436008476551687
         ],
         "y": [
          " 75% to 99% of<br>my time",
          " 50% to 74% of<br>my time",
          " 25% to 49% of<br>my time",
          " 1% to 25% of<br>my time"
         ]
        }
       ],
       "layout": {
        "height": 600,
        "margin": {
         "l": 300
        },
        "showlegend": false,
        "title": {
         "text": "<b> Q23. Approximately what percent of your time<br>at work or school is spent actively coding?</b>"
        },
        "width": 800,
        "xaxis": {
         "color": "#AAAAAA",
         "showgrid": false,
         "title": {
          "font": {
           "color": "#AAAAAA"
          },
          "text": "Model Coefficient"
         }
        },
        "yaxis": {
         "color": "#AAAAAA",
         "showgrid": false,
         "tickfont": {
          "color": "#444444",
          "size": 12
         },
         "title": {
          "font": {
           "color": "#AAAAAA"
          },
          "text": ""
         }
        }
       }
      },
      "text/html": [
       "<div>\n",
       "        \n",
       "        \n",
       "            <div id=\"920f30ce-5c97-4b1a-a112-d720d532e4a9\" class=\"plotly-graph-div\" style=\"height:600px; width:800px;\"></div>\n",
       "            <script type=\"text/javascript\">\n",
       "                require([\"plotly\"], function(Plotly) {\n",
       "                    window.PLOTLYENV=window.PLOTLYENV || {};\n",
       "                    window.PLOTLYENV.BASE_URL='https://plot.ly';\n",
       "                    \n",
       "                if (document.getElementById(\"920f30ce-5c97-4b1a-a112-d720d532e4a9\")) {\n",
       "                    Plotly.newPlot(\n",
       "                        '920f30ce-5c97-4b1a-a112-d720d532e4a9',\n",
       "                        [{\"hoverinfo\": \"none\", \"marker\": {\"color\": \"lightgray\"}, \"name\": \"lightgray\", \"orientation\": \"h\", \"text\": [-0.399, -0.367, -0.262, -0.204], \"textfont\": {\"color\": \"#444444\", \"size\": 12}, \"textposition\": \"auto\", \"type\": \"bar\", \"uid\": \"fca37be9-5046-492e-abe2-15c6f8f9d74a\", \"x\": [-0.398846738381178, -0.3666857905581208, -0.2620522116821427, -0.20436008476551687], \"y\": [\" 75% to 99% of<br>my time\", \" 50% to 74% of<br>my time\", \" 25% to 49% of<br>my time\", \" 1% to 25% of<br>my time\"]}],\n",
       "                        {\"height\": 600, \"margin\": {\"l\": 300}, \"showlegend\": false, \"title\": {\"text\": \"<b> Q23. Approximately what percent of your time<br>at work or school is spent actively coding?</b>\"}, \"width\": 800, \"xaxis\": {\"color\": \"#AAAAAA\", \"showgrid\": false, \"title\": {\"font\": {\"color\": \"#AAAAAA\"}, \"text\": \"Model Coefficient\"}}, \"yaxis\": {\"color\": \"#AAAAAA\", \"showgrid\": false, \"tickfont\": {\"color\": \"#444444\", \"size\": 12}, \"title\": {\"font\": {\"color\": \"#AAAAAA\"}, \"text\": \"\"}}},\n",
       "                        {\"showLink\": false, \"linkText\": \"Export to plot.ly\", \"plotlyServerURL\": \"https://plot.ly\", \"responsive\": true}\n",
       "                    ).then(function(){\n",
       "                            \n",
       "var gd = document.getElementById('920f30ce-5c97-4b1a-a112-d720d532e4a9');\n",
       "var x = new MutationObserver(function (mutations, observer) {{\n",
       "        var display = window.getComputedStyle(gd).display;\n",
       "        if (!display || display === 'none') {{\n",
       "            console.log([gd, 'removed!']);\n",
       "            Plotly.purge(gd);\n",
       "            observer.disconnect();\n",
       "        }}\n",
       "}});\n",
       "\n",
       "// Listen for the removal of the full notebook cells\n",
       "var notebookContainer = gd.closest('#notebook-container');\n",
       "if (notebookContainer) {{\n",
       "    x.observe(notebookContainer, {childList: true});\n",
       "}}\n",
       "\n",
       "// Listen for the clearing of the current output cell\n",
       "var outputEl = gd.closest('.output');\n",
       "if (outputEl) {{\n",
       "    x.observe(outputEl, {childList: true});\n",
       "}}\n",
       "\n",
       "                        })\n",
       "                };\n",
       "                });\n",
       "            </script>\n",
       "        </div>"
      ]
     },
     "metadata": {},
     "output_type": "display_data"
    }
   ],
   "source": [
    "plot_result('Q23')"
   ]
  },
  {
   "cell_type": "markdown",
   "metadata": {
    "_uuid": "ad2bd71649cc9e1c48c1c6e16af5767930c4bfe3"
   },
   "source": [
    "Top 20ies won't spend to much time coding. They are probably involved with strategic decisions, rather than coding.\n",
    "\n",
    "---"
   ]
  },
  {
   "cell_type": "code",
   "execution_count": 62,
   "metadata": {
    "_kg_hide-input": true,
    "_uuid": "779dc8519d7d1735603037244c02dfcf268cbccb"
   },
   "outputs": [
    {
     "data": {
      "application/vnd.plotly.v1+json": {
       "config": {
        "linkText": "Export to plot.ly",
        "plotlyServerURL": "https://plot.ly",
        "responsive": true,
        "showLink": false
       },
       "data": [
        {
         "hoverinfo": "none",
         "marker": {
          "color": "lightgray"
         },
         "name": "lightgray",
         "orientation": "h",
         "text": [
          -0.778,
          -0.28,
          -0.093
         ],
         "textfont": {
          "color": "#444444",
          "size": 12
         },
         "textposition": "auto",
         "type": "bar",
         "uid": "fd710e73-f7a6-411f-aedb-d3051c2cd346",
         "x": [
          -0.7782829914843343,
          -0.2796855960989936,
          -0.0933449719455804
         ],
         "y": [
          " < 1 year",
          " 1-2 years",
          " 3-5 years"
         ]
        },
        {
         "hoverinfo": "none",
         "marker": {
          "color": "cornflowerblue"
         },
         "name": "cornflowerblue",
         "orientation": "h",
         "text": [
          0.064,
          0.48
         ],
         "textfont": {
          "color": "#444444",
          "size": 12
         },
         "textposition": "auto",
         "type": "bar",
         "uid": "6e473d91-c8c3-4265-8bb0-3dc77a005260",
         "x": [
          0.06448848205546406,
          0.4804106288349248
         ],
         "y": [
          " 5-10 years",
          " 10-20 years"
         ]
        }
       ],
       "layout": {
        "height": 600,
        "margin": {
         "l": 300
        },
        "showlegend": false,
        "title": {
         "text": "<b> Q24. How long have you been writing<br>code to analyze data?</b>"
        },
        "width": 800,
        "xaxis": {
         "color": "#AAAAAA",
         "showgrid": false,
         "title": {
          "font": {
           "color": "#AAAAAA"
          },
          "text": "Model Coefficient"
         }
        },
        "yaxis": {
         "color": "#AAAAAA",
         "showgrid": false,
         "tickfont": {
          "color": "#444444",
          "size": 12
         },
         "title": {
          "font": {
           "color": "#AAAAAA"
          },
          "text": ""
         }
        }
       }
      },
      "text/html": [
       "<div>\n",
       "        \n",
       "        \n",
       "            <div id=\"f48785d3-266f-478b-b2ea-5fb3374ba7c9\" class=\"plotly-graph-div\" style=\"height:600px; width:800px;\"></div>\n",
       "            <script type=\"text/javascript\">\n",
       "                require([\"plotly\"], function(Plotly) {\n",
       "                    window.PLOTLYENV=window.PLOTLYENV || {};\n",
       "                    window.PLOTLYENV.BASE_URL='https://plot.ly';\n",
       "                    \n",
       "                if (document.getElementById(\"f48785d3-266f-478b-b2ea-5fb3374ba7c9\")) {\n",
       "                    Plotly.newPlot(\n",
       "                        'f48785d3-266f-478b-b2ea-5fb3374ba7c9',\n",
       "                        [{\"hoverinfo\": \"none\", \"marker\": {\"color\": \"lightgray\"}, \"name\": \"lightgray\", \"orientation\": \"h\", \"text\": [-0.778, -0.28, -0.093], \"textfont\": {\"color\": \"#444444\", \"size\": 12}, \"textposition\": \"auto\", \"type\": \"bar\", \"uid\": \"6cb3667a-1f96-41d3-a5cd-788837ad237f\", \"x\": [-0.7782829914843343, -0.2796855960989936, -0.0933449719455804], \"y\": [\" < 1 year\", \" 1-2 years\", \" 3-5 years\"]}, {\"hoverinfo\": \"none\", \"marker\": {\"color\": \"cornflowerblue\"}, \"name\": \"cornflowerblue\", \"orientation\": \"h\", \"text\": [0.064, 0.48], \"textfont\": {\"color\": \"#444444\", \"size\": 12}, \"textposition\": \"auto\", \"type\": \"bar\", \"uid\": \"e58f5ca0-fb09-413c-be70-f8d9fc901374\", \"x\": [0.06448848205546406, 0.4804106288349248], \"y\": [\" 5-10 years\", \" 10-20 years\"]}],\n",
       "                        {\"height\": 600, \"margin\": {\"l\": 300}, \"showlegend\": false, \"title\": {\"text\": \"<b> Q24. How long have you been writing<br>code to analyze data?</b>\"}, \"width\": 800, \"xaxis\": {\"color\": \"#AAAAAA\", \"showgrid\": false, \"title\": {\"font\": {\"color\": \"#AAAAAA\"}, \"text\": \"Model Coefficient\"}}, \"yaxis\": {\"color\": \"#AAAAAA\", \"showgrid\": false, \"tickfont\": {\"color\": \"#444444\", \"size\": 12}, \"title\": {\"font\": {\"color\": \"#AAAAAA\"}, \"text\": \"\"}}},\n",
       "                        {\"showLink\": false, \"linkText\": \"Export to plot.ly\", \"plotlyServerURL\": \"https://plot.ly\", \"responsive\": true}\n",
       "                    ).then(function(){\n",
       "                            \n",
       "var gd = document.getElementById('f48785d3-266f-478b-b2ea-5fb3374ba7c9');\n",
       "var x = new MutationObserver(function (mutations, observer) {{\n",
       "        var display = window.getComputedStyle(gd).display;\n",
       "        if (!display || display === 'none') {{\n",
       "            console.log([gd, 'removed!']);\n",
       "            Plotly.purge(gd);\n",
       "            observer.disconnect();\n",
       "        }}\n",
       "}});\n",
       "\n",
       "// Listen for the removal of the full notebook cells\n",
       "var notebookContainer = gd.closest('#notebook-container');\n",
       "if (notebookContainer) {{\n",
       "    x.observe(notebookContainer, {childList: true});\n",
       "}}\n",
       "\n",
       "// Listen for the clearing of the current output cell\n",
       "var outputEl = gd.closest('.output');\n",
       "if (outputEl) {{\n",
       "    x.observe(outputEl, {childList: true});\n",
       "}}\n",
       "\n",
       "                        })\n",
       "                };\n",
       "                });\n",
       "            </script>\n",
       "        </div>"
      ]
     },
     "metadata": {},
     "output_type": "display_data"
    }
   ],
   "source": [
    "plot_result('Q24')"
   ]
  },
  {
   "cell_type": "markdown",
   "metadata": {
    "_uuid": "3823fb0e8fa087d44907e035b15b43ea4040de75"
   },
   "source": [
    "Again, get experienced before asking for a raise.\n",
    "\n",
    "---"
   ]
  },
  {
   "cell_type": "code",
   "execution_count": 63,
   "metadata": {
    "_kg_hide-input": true,
    "_uuid": "ad1bf6c56e9516361a55622cfd27a982b65ba06f"
   },
   "outputs": [
    {
     "data": {
      "application/vnd.plotly.v1+json": {
       "config": {
        "linkText": "Export to plot.ly",
        "plotlyServerURL": "https://plot.ly",
        "responsive": true,
        "showLink": false
       },
       "data": [
        {
         "hoverinfo": "none",
         "marker": {
          "color": "lightgray"
         },
         "name": "lightgray",
         "orientation": "h",
         "text": [
          -0.23,
          -0.028
         ],
         "textfont": {
          "color": "#444444",
          "size": 12
         },
         "textposition": "auto",
         "type": "bar",
         "uid": "72b43098-74ff-4a6c-a2f7-ce8c72dcd666",
         "x": [
          -0.2296117000013393,
          -0.02757248428906923
         ],
         "y": [
          " Maybe",
          " Probably not"
         ]
        },
        {
         "hoverinfo": "none",
         "marker": {
          "color": "cornflowerblue"
         },
         "name": "cornflowerblue",
         "orientation": "h",
         "text": [
          0.086,
          0.35,
          0.374
         ],
         "textfont": {
          "color": "#444444",
          "size": 12
         },
         "textposition": "auto",
         "type": "bar",
         "uid": "7ec8e893-49b3-4bc0-9906-c517e3766f3a",
         "x": [
          0.0862186128605603,
          0.3501411459882933,
          0.3736178907448434
         ],
         "y": [
          " Probably yes",
          " Definitely not",
          " Definitely yes"
         ]
        }
       ],
       "layout": {
        "height": 600,
        "margin": {
         "l": 300
        },
        "showlegend": false,
        "title": {
         "text": "<b> Q26. Do you consider yourself to be<br>a data scientist?</b>"
        },
        "width": 800,
        "xaxis": {
         "color": "#AAAAAA",
         "showgrid": false,
         "title": {
          "font": {
           "color": "#AAAAAA"
          },
          "text": "Model Coefficient"
         }
        },
        "yaxis": {
         "color": "#AAAAAA",
         "showgrid": false,
         "tickfont": {
          "color": "#444444",
          "size": 12
         },
         "title": {
          "font": {
           "color": "#AAAAAA"
          },
          "text": ""
         }
        }
       }
      },
      "text/html": [
       "<div>\n",
       "        \n",
       "        \n",
       "            <div id=\"8e107828-9532-4a64-9f0d-b2633faa8666\" class=\"plotly-graph-div\" style=\"height:600px; width:800px;\"></div>\n",
       "            <script type=\"text/javascript\">\n",
       "                require([\"plotly\"], function(Plotly) {\n",
       "                    window.PLOTLYENV=window.PLOTLYENV || {};\n",
       "                    window.PLOTLYENV.BASE_URL='https://plot.ly';\n",
       "                    \n",
       "                if (document.getElementById(\"8e107828-9532-4a64-9f0d-b2633faa8666\")) {\n",
       "                    Plotly.newPlot(\n",
       "                        '8e107828-9532-4a64-9f0d-b2633faa8666',\n",
       "                        [{\"hoverinfo\": \"none\", \"marker\": {\"color\": \"lightgray\"}, \"name\": \"lightgray\", \"orientation\": \"h\", \"text\": [-0.23, -0.028], \"textfont\": {\"color\": \"#444444\", \"size\": 12}, \"textposition\": \"auto\", \"type\": \"bar\", \"uid\": \"6620ba58-86aa-4d65-963b-4e0c147cec3a\", \"x\": [-0.2296117000013393, -0.02757248428906923], \"y\": [\" Maybe\", \" Probably not\"]}, {\"hoverinfo\": \"none\", \"marker\": {\"color\": \"cornflowerblue\"}, \"name\": \"cornflowerblue\", \"orientation\": \"h\", \"text\": [0.086, 0.35, 0.374], \"textfont\": {\"color\": \"#444444\", \"size\": 12}, \"textposition\": \"auto\", \"type\": \"bar\", \"uid\": \"b8557f5e-314b-4fdd-9b84-ff94f9d458b0\", \"x\": [0.0862186128605603, 0.3501411459882933, 0.3736178907448434], \"y\": [\" Probably yes\", \" Definitely not\", \" Definitely yes\"]}],\n",
       "                        {\"height\": 600, \"margin\": {\"l\": 300}, \"showlegend\": false, \"title\": {\"text\": \"<b> Q26. Do you consider yourself to be<br>a data scientist?</b>\"}, \"width\": 800, \"xaxis\": {\"color\": \"#AAAAAA\", \"showgrid\": false, \"title\": {\"font\": {\"color\": \"#AAAAAA\"}, \"text\": \"Model Coefficient\"}}, \"yaxis\": {\"color\": \"#AAAAAA\", \"showgrid\": false, \"tickfont\": {\"color\": \"#444444\", \"size\": 12}, \"title\": {\"font\": {\"color\": \"#AAAAAA\"}, \"text\": \"\"}}},\n",
       "                        {\"showLink\": false, \"linkText\": \"Export to plot.ly\", \"plotlyServerURL\": \"https://plot.ly\", \"responsive\": true}\n",
       "                    ).then(function(){\n",
       "                            \n",
       "var gd = document.getElementById('8e107828-9532-4a64-9f0d-b2633faa8666');\n",
       "var x = new MutationObserver(function (mutations, observer) {{\n",
       "        var display = window.getComputedStyle(gd).display;\n",
       "        if (!display || display === 'none') {{\n",
       "            console.log([gd, 'removed!']);\n",
       "            Plotly.purge(gd);\n",
       "            observer.disconnect();\n",
       "        }}\n",
       "}});\n",
       "\n",
       "// Listen for the removal of the full notebook cells\n",
       "var notebookContainer = gd.closest('#notebook-container');\n",
       "if (notebookContainer) {{\n",
       "    x.observe(notebookContainer, {childList: true});\n",
       "}}\n",
       "\n",
       "// Listen for the clearing of the current output cell\n",
       "var outputEl = gd.closest('.output');\n",
       "if (outputEl) {{\n",
       "    x.observe(outputEl, {childList: true});\n",
       "}}\n",
       "\n",
       "                        })\n",
       "                };\n",
       "                });\n",
       "            </script>\n",
       "        </div>"
      ]
     },
     "metadata": {},
     "output_type": "display_data"
    }
   ],
   "source": [
    "plot_result('Q26')"
   ]
  },
  {
   "cell_type": "markdown",
   "metadata": {
    "_uuid": "4fd28583a4523886a0c7f96b808ab750f03daa58"
   },
   "source": [
    "It' water or wine. If you earn tons of dollars have to be pretty sure of what you are. Probably those who do not consider themselves to be Data Scientists are in managerial or C-level positions. Being in doubt is probably associated with junior professionals, who are starting their careers.\n",
    "\n",
    "---"
   ]
  },
  {
   "cell_type": "code",
   "execution_count": 64,
   "metadata": {
    "_kg_hide-input": true,
    "_uuid": "6f52ed01ea589b251d6c65bcc8eaf7855251b5fc"
   },
   "outputs": [
    {
     "data": {
      "application/vnd.plotly.v1+json": {
       "config": {
        "linkText": "Export to plot.ly",
        "plotlyServerURL": "https://plot.ly",
        "responsive": true,
        "showLink": false
       },
       "data": [
        {
         "hoverinfo": "none",
         "marker": {
          "color": "lightgray"
         },
         "name": "lightgray",
         "orientation": "h",
         "text": [
          -0.194,
          -0.167,
          -0.08,
          -0.054
         ],
         "textfont": {
          "color": "#444444",
          "size": 12
         },
         "textposition": "auto",
         "type": "bar",
         "uid": "c3560509-9290-4a59-98ef-be6e13a642c3",
         "x": [
          -0.19384493488482823,
          -0.16693792431651946,
          -0.08049521789396114,
          -0.05404803521633797
         ],
         "y": [
          " Microsoft Access",
          " None",
          " Oracle Database",
          " PostgresSQL"
         ]
        },
        {
         "hoverinfo": "none",
         "marker": {
          "color": "cornflowerblue"
         },
         "name": "cornflowerblue",
         "orientation": "h",
         "text": [
          0.038,
          0.105,
          0.412
         ],
         "textfont": {
          "color": "#444444",
          "size": 12
         },
         "textposition": "auto",
         "type": "bar",
         "uid": "3489575f-da90-4110-91bd-e2df1374f938",
         "x": [
          0.0383032905542989,
          0.10489197807404234,
          0.4122016303539697
         ],
         "y": [
          " SQLite",
          " Microsoft SQL Server",
          " AWS Relational Database Service"
         ]
        }
       ],
       "layout": {
        "height": 600,
        "margin": {
         "l": 300
        },
        "showlegend": false,
        "title": {
         "text": "<b> Q29. Which of the following relational database<br>products have you used at work or school<br>in the last 5 years?</b>"
        },
        "width": 800,
        "xaxis": {
         "color": "#AAAAAA",
         "showgrid": false,
         "title": {
          "font": {
           "color": "#AAAAAA"
          },
          "text": "Model Coefficient"
         }
        },
        "yaxis": {
         "color": "#AAAAAA",
         "showgrid": false,
         "tickfont": {
          "color": "#444444",
          "size": 12
         },
         "title": {
          "font": {
           "color": "#AAAAAA"
          },
          "text": ""
         }
        }
       }
      },
      "text/html": [
       "<div>\n",
       "        \n",
       "        \n",
       "            <div id=\"1f99c3ca-8869-47fe-9b5b-a0038fc9d3f9\" class=\"plotly-graph-div\" style=\"height:600px; width:800px;\"></div>\n",
       "            <script type=\"text/javascript\">\n",
       "                require([\"plotly\"], function(Plotly) {\n",
       "                    window.PLOTLYENV=window.PLOTLYENV || {};\n",
       "                    window.PLOTLYENV.BASE_URL='https://plot.ly';\n",
       "                    \n",
       "                if (document.getElementById(\"1f99c3ca-8869-47fe-9b5b-a0038fc9d3f9\")) {\n",
       "                    Plotly.newPlot(\n",
       "                        '1f99c3ca-8869-47fe-9b5b-a0038fc9d3f9',\n",
       "                        [{\"hoverinfo\": \"none\", \"marker\": {\"color\": \"lightgray\"}, \"name\": \"lightgray\", \"orientation\": \"h\", \"text\": [-0.194, -0.167, -0.08, -0.054], \"textfont\": {\"color\": \"#444444\", \"size\": 12}, \"textposition\": \"auto\", \"type\": \"bar\", \"uid\": \"6eee7c9d-5e3a-48f4-81dd-f5f64e6bd0ec\", \"x\": [-0.19384493488482823, -0.16693792431651946, -0.08049521789396114, -0.05404803521633797], \"y\": [\" Microsoft Access\", \" None\", \" Oracle Database\", \" PostgresSQL\"]}, {\"hoverinfo\": \"none\", \"marker\": {\"color\": \"cornflowerblue\"}, \"name\": \"cornflowerblue\", \"orientation\": \"h\", \"text\": [0.038, 0.105, 0.412], \"textfont\": {\"color\": \"#444444\", \"size\": 12}, \"textposition\": \"auto\", \"type\": \"bar\", \"uid\": \"f11bbab3-cf96-4dc5-8b01-4c012a9ea0d9\", \"x\": [0.0383032905542989, 0.10489197807404234, 0.4122016303539697], \"y\": [\" SQLite\", \" Microsoft SQL Server\", \" AWS Relational Database Service\"]}],\n",
       "                        {\"height\": 600, \"margin\": {\"l\": 300}, \"showlegend\": false, \"title\": {\"text\": \"<b> Q29. Which of the following relational database<br>products have you used at work or school<br>in the last 5 years?</b>\"}, \"width\": 800, \"xaxis\": {\"color\": \"#AAAAAA\", \"showgrid\": false, \"title\": {\"font\": {\"color\": \"#AAAAAA\"}, \"text\": \"Model Coefficient\"}}, \"yaxis\": {\"color\": \"#AAAAAA\", \"showgrid\": false, \"tickfont\": {\"color\": \"#444444\", \"size\": 12}, \"title\": {\"font\": {\"color\": \"#AAAAAA\"}, \"text\": \"\"}}},\n",
       "                        {\"showLink\": false, \"linkText\": \"Export to plot.ly\", \"plotlyServerURL\": \"https://plot.ly\", \"responsive\": true}\n",
       "                    ).then(function(){\n",
       "                            \n",
       "var gd = document.getElementById('1f99c3ca-8869-47fe-9b5b-a0038fc9d3f9');\n",
       "var x = new MutationObserver(function (mutations, observer) {{\n",
       "        var display = window.getComputedStyle(gd).display;\n",
       "        if (!display || display === 'none') {{\n",
       "            console.log([gd, 'removed!']);\n",
       "            Plotly.purge(gd);\n",
       "            observer.disconnect();\n",
       "        }}\n",
       "}});\n",
       "\n",
       "// Listen for the removal of the full notebook cells\n",
       "var notebookContainer = gd.closest('#notebook-container');\n",
       "if (notebookContainer) {{\n",
       "    x.observe(notebookContainer, {childList: true});\n",
       "}}\n",
       "\n",
       "// Listen for the clearing of the current output cell\n",
       "var outputEl = gd.closest('.output');\n",
       "if (outputEl) {{\n",
       "    x.observe(outputEl, {childList: true});\n",
       "}}\n",
       "\n",
       "                        })\n",
       "                };\n",
       "                });\n",
       "            </script>\n",
       "        </div>"
      ]
     },
     "metadata": {},
     "output_type": "display_data"
    }
   ],
   "source": [
    "plot_result('Q29')"
   ]
  },
  {
   "cell_type": "markdown",
   "metadata": {
    "_uuid": "b6d1e9483fc57cd3810a7813d987ae2d0e779666"
   },
   "source": [
    "Using AWS RDS will greatly increase your skills. Using Microsoft Access or not using any relational database decreasees your probability of earning more. The takeaway is: learn and use relational databases, and if you can choose, go with RDS.\n",
    "\n",
    "---"
   ]
  },
  {
   "cell_type": "code",
   "execution_count": 65,
   "metadata": {
    "_kg_hide-input": true,
    "_uuid": "055e9431583e629eed97d0f4ba7f7265eaf864eb"
   },
   "outputs": [
    {
     "data": {
      "application/vnd.plotly.v1+json": {
       "config": {
        "linkText": "Export to plot.ly",
        "plotlyServerURL": "https://plot.ly",
        "responsive": true,
        "showLink": false
       },
       "data": [
        {
         "hoverinfo": "none",
         "marker": {
          "color": "lightgray"
         },
         "name": "lightgray",
         "orientation": "h",
         "text": [
          -0.128,
          -0.075,
          -0.063,
          -0.057
         ],
         "textfont": {
          "color": "#444444",
          "size": 12
         },
         "textposition": "auto",
         "type": "bar",
         "uid": "58368b48-8a10-477e-9d4e-8ac8a5a99003",
         "x": [
          -0.12775128944124167,
          -0.07452982138737338,
          -0.06275901544744482,
          -0.05713347382998219
         ],
         "y": [
          " Numerical Data",
          " Sensor Data",
          " Text Data",
          " Image Data"
         ]
        },
        {
         "hoverinfo": "none",
         "marker": {
          "color": "cornflowerblue"
         },
         "name": "cornflowerblue",
         "orientation": "h",
         "text": [
          0.022,
          0.039,
          0.137,
          0.182,
          0.403,
          0.486
         ],
         "textfont": {
          "color": "#444444",
          "size": 12
         },
         "textposition": "auto",
         "type": "bar",
         "uid": "03c7992d-f13f-46c4-a3b5-167c7d388c81",
         "x": [
          0.021759973044592217,
          0.03867352095427844,
          0.1365342866481393,
          0.18228881816221207,
          0.4028034710750599,
          0.4855142212267704
         ],
         "y": [
          " Categorical Data",
          " Tabular Data",
          " Time Series Data",
          " Geospatial Data",
          " Video Data",
          " Genetic Data"
         ]
        }
       ],
       "layout": {
        "height": 600,
        "margin": {
         "l": 300
        },
        "showlegend": false,
        "title": {
         "text": "<b> Q31. Which types of data do you<br>currently interact with most often at work or<br>school?</b>"
        },
        "width": 800,
        "xaxis": {
         "color": "#AAAAAA",
         "showgrid": false,
         "title": {
          "font": {
           "color": "#AAAAAA"
          },
          "text": "Model Coefficient"
         }
        },
        "yaxis": {
         "color": "#AAAAAA",
         "showgrid": false,
         "tickfont": {
          "color": "#444444",
          "size": 12
         },
         "title": {
          "font": {
           "color": "#AAAAAA"
          },
          "text": ""
         }
        }
       }
      },
      "text/html": [
       "<div>\n",
       "        \n",
       "        \n",
       "            <div id=\"b2d2e702-227d-4ac4-a10c-b8bc8044611d\" class=\"plotly-graph-div\" style=\"height:600px; width:800px;\"></div>\n",
       "            <script type=\"text/javascript\">\n",
       "                require([\"plotly\"], function(Plotly) {\n",
       "                    window.PLOTLYENV=window.PLOTLYENV || {};\n",
       "                    window.PLOTLYENV.BASE_URL='https://plot.ly';\n",
       "                    \n",
       "                if (document.getElementById(\"b2d2e702-227d-4ac4-a10c-b8bc8044611d\")) {\n",
       "                    Plotly.newPlot(\n",
       "                        'b2d2e702-227d-4ac4-a10c-b8bc8044611d',\n",
       "                        [{\"hoverinfo\": \"none\", \"marker\": {\"color\": \"lightgray\"}, \"name\": \"lightgray\", \"orientation\": \"h\", \"text\": [-0.128, -0.075, -0.063, -0.057], \"textfont\": {\"color\": \"#444444\", \"size\": 12}, \"textposition\": \"auto\", \"type\": \"bar\", \"uid\": \"0a832b83-d8a9-4dc8-815a-0a2c34dc97c0\", \"x\": [-0.12775128944124167, -0.07452982138737338, -0.06275901544744482, -0.05713347382998219], \"y\": [\" Numerical Data\", \" Sensor Data\", \" Text Data\", \" Image Data\"]}, {\"hoverinfo\": \"none\", \"marker\": {\"color\": \"cornflowerblue\"}, \"name\": \"cornflowerblue\", \"orientation\": \"h\", \"text\": [0.022, 0.039, 0.137, 0.182, 0.403, 0.486], \"textfont\": {\"color\": \"#444444\", \"size\": 12}, \"textposition\": \"auto\", \"type\": \"bar\", \"uid\": \"516ad44f-9525-42e7-bba4-852894112979\", \"x\": [0.021759973044592217, 0.03867352095427844, 0.1365342866481393, 0.18228881816221207, 0.4028034710750599, 0.4855142212267704], \"y\": [\" Categorical Data\", \" Tabular Data\", \" Time Series Data\", \" Geospatial Data\", \" Video Data\", \" Genetic Data\"]}],\n",
       "                        {\"height\": 600, \"margin\": {\"l\": 300}, \"showlegend\": false, \"title\": {\"text\": \"<b> Q31. Which types of data do you<br>currently interact with most often at work or<br>school?</b>\"}, \"width\": 800, \"xaxis\": {\"color\": \"#AAAAAA\", \"showgrid\": false, \"title\": {\"font\": {\"color\": \"#AAAAAA\"}, \"text\": \"Model Coefficient\"}}, \"yaxis\": {\"color\": \"#AAAAAA\", \"showgrid\": false, \"tickfont\": {\"color\": \"#444444\", \"size\": 12}, \"title\": {\"font\": {\"color\": \"#AAAAAA\"}, \"text\": \"\"}}},\n",
       "                        {\"showLink\": false, \"linkText\": \"Export to plot.ly\", \"plotlyServerURL\": \"https://plot.ly\", \"responsive\": true}\n",
       "                    ).then(function(){\n",
       "                            \n",
       "var gd = document.getElementById('b2d2e702-227d-4ac4-a10c-b8bc8044611d');\n",
       "var x = new MutationObserver(function (mutations, observer) {{\n",
       "        var display = window.getComputedStyle(gd).display;\n",
       "        if (!display || display === 'none') {{\n",
       "            console.log([gd, 'removed!']);\n",
       "            Plotly.purge(gd);\n",
       "            observer.disconnect();\n",
       "        }}\n",
       "}});\n",
       "\n",
       "// Listen for the removal of the full notebook cells\n",
       "var notebookContainer = gd.closest('#notebook-container');\n",
       "if (notebookContainer) {{\n",
       "    x.observe(notebookContainer, {childList: true});\n",
       "}}\n",
       "\n",
       "// Listen for the clearing of the current output cell\n",
       "var outputEl = gd.closest('.output');\n",
       "if (outputEl) {{\n",
       "    x.observe(outputEl, {childList: true});\n",
       "}}\n",
       "\n",
       "                        })\n",
       "                };\n",
       "                });\n",
       "            </script>\n",
       "        </div>"
      ]
     },
     "metadata": {},
     "output_type": "display_data"
    }
   ],
   "source": [
    "plot_result('Q31')"
   ]
  },
  {
   "cell_type": "markdown",
   "metadata": {
    "_uuid": "3c71f3e87e8aad6947b511f0c4b1395fb6d5b220"
   },
   "source": [
    "Working with Genetic and Video Data will add more value to your resume. If aren't that exotic, then it's good to know that Geospatial and Time Series Data will also boost your carrer! Everyone works with Numerical Data, so learn the basics, then go to more advanced data types if you want to have good news on your pay check.\n",
    "\n",
    "---"
   ]
  },
  {
   "cell_type": "code",
   "execution_count": 66,
   "metadata": {
    "_kg_hide-input": true,
    "_uuid": "181787669ccedd08ec5e696a1de14f53f227308d"
   },
   "outputs": [
    {
     "data": {
      "application/vnd.plotly.v1+json": {
       "config": {
        "linkText": "Export to plot.ly",
        "plotlyServerURL": "https://plot.ly",
        "responsive": true,
        "showLink": false
       },
       "data": [
        {
         "hoverinfo": "none",
         "marker": {
          "color": "lightgray"
         },
         "name": "lightgray",
         "orientation": "h",
         "text": [
          -0.414,
          -0.315,
          -0.157,
          -0.081,
          -0.07,
          -0.065
         ],
         "textfont": {
          "color": "#444444",
          "size": 12
         },
         "textposition": "auto",
         "type": "bar",
         "uid": "a22e66af-4c26-4ec5-a0fd-2cebeb0f10b8",
         "x": [
          -0.4138181091053761,
          -0.314951933527632,
          -0.15667730355309278,
          -0.08088326095149118,
          -0.06982524253311898,
          -0.0653390774810085
         ],
         "y": [
          " DataCamp",
          " Kaggle Learn",
          " Udacity",
          " Coursera",
          " Udemy",
          " edX"
         ]
        },
        {
         "hoverinfo": "none",
         "marker": {
          "color": "cornflowerblue"
         },
         "name": "cornflowerblue",
         "orientation": "h",
         "text": [
          0.119,
          0.368,
          0.422,
          0.671
         ],
         "textfont": {
          "color": "#444444",
          "size": 12
         },
         "textposition": "auto",
         "type": "bar",
         "uid": "5658350b-979f-494c-961f-70b8a2aa3171",
         "x": [
          0.11854051613969249,
          0.3677800587667601,
          0.4223823136525792,
          0.6712245774597476
         ],
         "y": [
          " None",
          " Online University Courses",
          " Other",
          " developers.google.com"
         ]
        }
       ],
       "layout": {
        "height": 600,
        "margin": {
         "l": 300
        },
        "showlegend": false,
        "title": {
         "text": "<b> Q36. On which online platforms have you<br>begun or completed data science courses?</b>"
        },
        "width": 800,
        "xaxis": {
         "color": "#AAAAAA",
         "showgrid": false,
         "title": {
          "font": {
           "color": "#AAAAAA"
          },
          "text": "Model Coefficient"
         }
        },
        "yaxis": {
         "color": "#AAAAAA",
         "showgrid": false,
         "tickfont": {
          "color": "#444444",
          "size": 12
         },
         "title": {
          "font": {
           "color": "#AAAAAA"
          },
          "text": ""
         }
        }
       }
      },
      "text/html": [
       "<div>\n",
       "        \n",
       "        \n",
       "            <div id=\"c6067948-7c37-442f-a6cc-b61e51f0f74e\" class=\"plotly-graph-div\" style=\"height:600px; width:800px;\"></div>\n",
       "            <script type=\"text/javascript\">\n",
       "                require([\"plotly\"], function(Plotly) {\n",
       "                    window.PLOTLYENV=window.PLOTLYENV || {};\n",
       "                    window.PLOTLYENV.BASE_URL='https://plot.ly';\n",
       "                    \n",
       "                if (document.getElementById(\"c6067948-7c37-442f-a6cc-b61e51f0f74e\")) {\n",
       "                    Plotly.newPlot(\n",
       "                        'c6067948-7c37-442f-a6cc-b61e51f0f74e',\n",
       "                        [{\"hoverinfo\": \"none\", \"marker\": {\"color\": \"lightgray\"}, \"name\": \"lightgray\", \"orientation\": \"h\", \"text\": [-0.414, -0.315, -0.157, -0.081, -0.07, -0.065], \"textfont\": {\"color\": \"#444444\", \"size\": 12}, \"textposition\": \"auto\", \"type\": \"bar\", \"uid\": \"a848232c-5ac2-4a63-96bd-7466023d4942\", \"x\": [-0.4138181091053761, -0.314951933527632, -0.15667730355309278, -0.08088326095149118, -0.06982524253311898, -0.0653390774810085], \"y\": [\" DataCamp\", \" Kaggle Learn\", \" Udacity\", \" Coursera\", \" Udemy\", \" edX\"]}, {\"hoverinfo\": \"none\", \"marker\": {\"color\": \"cornflowerblue\"}, \"name\": \"cornflowerblue\", \"orientation\": \"h\", \"text\": [0.119, 0.368, 0.422, 0.671], \"textfont\": {\"color\": \"#444444\", \"size\": 12}, \"textposition\": \"auto\", \"type\": \"bar\", \"uid\": \"61ca3f9f-45ba-4853-b915-db09b6b395b4\", \"x\": [0.11854051613969249, 0.3677800587667601, 0.4223823136525792, 0.6712245774597476], \"y\": [\" None\", \" Online University Courses\", \" Other\", \" developers.google.com\"]}],\n",
       "                        {\"height\": 600, \"margin\": {\"l\": 300}, \"showlegend\": false, \"title\": {\"text\": \"<b> Q36. On which online platforms have you<br>begun or completed data science courses?</b>\"}, \"width\": 800, \"xaxis\": {\"color\": \"#AAAAAA\", \"showgrid\": false, \"title\": {\"font\": {\"color\": \"#AAAAAA\"}, \"text\": \"Model Coefficient\"}}, \"yaxis\": {\"color\": \"#AAAAAA\", \"showgrid\": false, \"tickfont\": {\"color\": \"#444444\", \"size\": 12}, \"title\": {\"font\": {\"color\": \"#AAAAAA\"}, \"text\": \"\"}}},\n",
       "                        {\"showLink\": false, \"linkText\": \"Export to plot.ly\", \"plotlyServerURL\": \"https://plot.ly\", \"responsive\": true}\n",
       "                    ).then(function(){\n",
       "                            \n",
       "var gd = document.getElementById('c6067948-7c37-442f-a6cc-b61e51f0f74e');\n",
       "var x = new MutationObserver(function (mutations, observer) {{\n",
       "        var display = window.getComputedStyle(gd).display;\n",
       "        if (!display || display === 'none') {{\n",
       "            console.log([gd, 'removed!']);\n",
       "            Plotly.purge(gd);\n",
       "            observer.disconnect();\n",
       "        }}\n",
       "}});\n",
       "\n",
       "// Listen for the removal of the full notebook cells\n",
       "var notebookContainer = gd.closest('#notebook-container');\n",
       "if (notebookContainer) {{\n",
       "    x.observe(notebookContainer, {childList: true});\n",
       "}}\n",
       "\n",
       "// Listen for the clearing of the current output cell\n",
       "var outputEl = gd.closest('.output');\n",
       "if (outputEl) {{\n",
       "    x.observe(outputEl, {childList: true});\n",
       "}}\n",
       "\n",
       "                        })\n",
       "                };\n",
       "                });\n",
       "            </script>\n",
       "        </div>"
      ]
     },
     "metadata": {},
     "output_type": "display_data"
    }
   ],
   "source": [
    "plot_result('Q36')"
   ]
  },
  {
   "cell_type": "markdown",
   "metadata": {
    "_kg_hide-input": false,
    "_uuid": "5b6fceab219845f18e4bebf5caa4977e094b4d9c"
   },
   "source": [
    "When the subject is belonging to the Top 20%, then doing certified couses at developers.google.com or Online University Courses are probably the most profitable investments. Online courses are probably negatively associated with compensation because most people who are starting in the field are learning at those platforms, we might see a shift here over the next years.\n",
    "\n",
    "---"
   ]
  },
  {
   "cell_type": "code",
   "execution_count": 67,
   "metadata": {
    "_kg_hide-input": true,
    "_uuid": "a38224b925cd574facaa251346e00b87b14ca909"
   },
   "outputs": [
    {
     "data": {
      "application/vnd.plotly.v1+json": {
       "config": {
        "linkText": "Export to plot.ly",
        "plotlyServerURL": "https://plot.ly",
        "responsive": true,
        "showLink": false
       },
       "data": [
        {
         "hoverinfo": "none",
         "marker": {
          "color": "lightgray"
         },
         "name": "lightgray",
         "orientation": "h",
         "text": [
          -0.434,
          -0.208,
          -0.169,
          -0.112,
          -0.095,
          -0.008
         ],
         "textfont": {
          "color": "#444444",
          "size": 12
         },
         "textposition": "auto",
         "type": "bar",
         "uid": "63b65c72-c442-422e-950c-295b36da1f1d",
         "x": [
          -0.4342769834932661,
          -0.2082580763924712,
          -0.16855223177347653,
          -0.1121622582309743,
          -0.09476046739297589,
          -0.008036500507055663
         ],
         "y": [
          " Kaggle forums",
          " Other",
          " Journal Publications",
          " Medium Blog Posts",
          " None/I do not know",
          " Siraj Raval YouTube Channel"
         ]
        },
        {
         "hoverinfo": "none",
         "marker": {
          "color": "cornflowerblue"
         },
         "name": "cornflowerblue",
         "orientation": "h",
         "text": [
          0.006,
          0.009,
          0.098,
          0.144,
          0.209,
          0.216,
          0.217
         ],
         "textfont": {
          "color": "#444444",
          "size": 12
         },
         "textposition": "auto",
         "type": "bar",
         "uid": "e58f635d-2423-43bc-bf40-0ac700c14578",
         "x": [
          0.006138365536974637,
          0.009244192729360091,
          0.09820003005916708,
          0.14393853639820395,
          0.20861643467914262,
          0.21627186843573312,
          0.2174725242703486
         ],
         "y": [
          " Hacker News",
          " Twitter",
          " KDnuggets Blog",
          " ArXiv & Preprints",
          " O'Reilly Data Newsletter",
          " FiveThirtyEight.com",
          " r/machinelearning"
         ]
        }
       ],
       "layout": {
        "height": 600,
        "margin": {
         "l": 300
        },
        "showlegend": false,
        "title": {
         "text": "<b> Q38. Who/what are your favorite media sources<br>that report on data science topics?</b>"
        },
        "width": 800,
        "xaxis": {
         "color": "#AAAAAA",
         "showgrid": false,
         "title": {
          "font": {
           "color": "#AAAAAA"
          },
          "text": "Model Coefficient"
         }
        },
        "yaxis": {
         "color": "#AAAAAA",
         "showgrid": false,
         "tickfont": {
          "color": "#444444",
          "size": 12
         },
         "title": {
          "font": {
           "color": "#AAAAAA"
          },
          "text": ""
         }
        }
       }
      },
      "text/html": [
       "<div>\n",
       "        \n",
       "        \n",
       "            <div id=\"31fd6183-9d70-4369-86a8-838c9a596ba8\" class=\"plotly-graph-div\" style=\"height:600px; width:800px;\"></div>\n",
       "            <script type=\"text/javascript\">\n",
       "                require([\"plotly\"], function(Plotly) {\n",
       "                    window.PLOTLYENV=window.PLOTLYENV || {};\n",
       "                    window.PLOTLYENV.BASE_URL='https://plot.ly';\n",
       "                    \n",
       "                if (document.getElementById(\"31fd6183-9d70-4369-86a8-838c9a596ba8\")) {\n",
       "                    Plotly.newPlot(\n",
       "                        '31fd6183-9d70-4369-86a8-838c9a596ba8',\n",
       "                        [{\"hoverinfo\": \"none\", \"marker\": {\"color\": \"lightgray\"}, \"name\": \"lightgray\", \"orientation\": \"h\", \"text\": [-0.434, -0.208, -0.169, -0.112, -0.095, -0.008], \"textfont\": {\"color\": \"#444444\", \"size\": 12}, \"textposition\": \"auto\", \"type\": \"bar\", \"uid\": \"cc545a02-6ed6-49d0-9684-dd03a2d31419\", \"x\": [-0.4342769834932661, -0.2082580763924712, -0.16855223177347653, -0.1121622582309743, -0.09476046739297589, -0.008036500507055663], \"y\": [\" Kaggle forums\", \" Other\", \" Journal Publications\", \" Medium Blog Posts\", \" None/I do not know\", \" Siraj Raval YouTube Channel\"]}, {\"hoverinfo\": \"none\", \"marker\": {\"color\": \"cornflowerblue\"}, \"name\": \"cornflowerblue\", \"orientation\": \"h\", \"text\": [0.006, 0.009, 0.098, 0.144, 0.209, 0.216, 0.217], \"textfont\": {\"color\": \"#444444\", \"size\": 12}, \"textposition\": \"auto\", \"type\": \"bar\", \"uid\": \"8bfdd26f-e69c-4a53-89b5-51ff7b8cd34b\", \"x\": [0.006138365536974637, 0.009244192729360091, 0.09820003005916708, 0.14393853639820395, 0.20861643467914262, 0.21627186843573312, 0.2174725242703486], \"y\": [\" Hacker News\", \" Twitter\", \" KDnuggets Blog\", \" ArXiv & Preprints\", \" O'Reilly Data Newsletter\", \" FiveThirtyEight.com\", \" r/machinelearning\"]}],\n",
       "                        {\"height\": 600, \"margin\": {\"l\": 300}, \"showlegend\": false, \"title\": {\"text\": \"<b> Q38. Who/what are your favorite media sources<br>that report on data science topics?</b>\"}, \"width\": 800, \"xaxis\": {\"color\": \"#AAAAAA\", \"showgrid\": false, \"title\": {\"font\": {\"color\": \"#AAAAAA\"}, \"text\": \"Model Coefficient\"}}, \"yaxis\": {\"color\": \"#AAAAAA\", \"showgrid\": false, \"tickfont\": {\"color\": \"#444444\", \"size\": 12}, \"title\": {\"font\": {\"color\": \"#AAAAAA\"}, \"text\": \"\"}}},\n",
       "                        {\"showLink\": false, \"linkText\": \"Export to plot.ly\", \"plotlyServerURL\": \"https://plot.ly\", \"responsive\": true}\n",
       "                    ).then(function(){\n",
       "                            \n",
       "var gd = document.getElementById('31fd6183-9d70-4369-86a8-838c9a596ba8');\n",
       "var x = new MutationObserver(function (mutations, observer) {{\n",
       "        var display = window.getComputedStyle(gd).display;\n",
       "        if (!display || display === 'none') {{\n",
       "            console.log([gd, 'removed!']);\n",
       "            Plotly.purge(gd);\n",
       "            observer.disconnect();\n",
       "        }}\n",
       "}});\n",
       "\n",
       "// Listen for the removal of the full notebook cells\n",
       "var notebookContainer = gd.closest('#notebook-container');\n",
       "if (notebookContainer) {{\n",
       "    x.observe(notebookContainer, {childList: true});\n",
       "}}\n",
       "\n",
       "// Listen for the clearing of the current output cell\n",
       "var outputEl = gd.closest('.output');\n",
       "if (outputEl) {{\n",
       "    x.observe(outputEl, {childList: true});\n",
       "}}\n",
       "\n",
       "                        })\n",
       "                };\n",
       "                });\n",
       "            </script>\n",
       "        </div>"
      ]
     },
     "metadata": {},
     "output_type": "display_data"
    }
   ],
   "source": [
    "plot_result('Q38')"
   ]
  },
  {
   "cell_type": "markdown",
   "metadata": {
    "_uuid": "fd9b1a5c680a36fd944616b6788f8d2307a1ee98"
   },
   "source": [
    "Get informed on Reddit,  FiveThirtyEight.com or O'Reilly Data Newsletter.  Read machine learning scientific papers on ArXiv.\n",
    "\n",
    "---"
   ]
  },
  {
   "cell_type": "code",
   "execution_count": 68,
   "metadata": {
    "_kg_hide-input": true,
    "_uuid": "84c98670b02a958098d6c174e2b65d8d52b6554b"
   },
   "outputs": [
    {
     "data": {
      "application/vnd.plotly.v1+json": {
       "config": {
        "linkText": "Export to plot.ly",
        "plotlyServerURL": "https://plot.ly",
        "responsive": true,
        "showLink": false
       },
       "data": [
        {
         "hoverinfo": "none",
         "marker": {
          "color": "lightgray"
         },
         "name": "lightgray",
         "orientation": "h",
         "text": [
          -0.134,
          -0.027
         ],
         "textfont": {
          "color": "#444444",
          "size": 12
         },
         "textposition": "auto",
         "type": "bar",
         "uid": "63838474-5b63-449e-b2d1-545f4b3c7ed9",
         "x": [
          -0.1343108860292219,
          -0.02746855052649359
         ],
         "y": [
          " Independent projects are equally<br>important as academic achievements",
          " Independent projects are much<br>more important than academic achievements"
         ]
        },
        {
         "hoverinfo": "none",
         "marker": {
          "color": "cornflowerblue"
         },
         "name": "cornflowerblue",
         "orientation": "h",
         "text": [
          0.001
         ],
         "textfont": {
          "color": "#444444",
          "size": 12
         },
         "textposition": "auto",
         "type": "bar",
         "uid": "8b9b0c9e-9d0d-448f-95bc-f659a7dea6ef",
         "x": [
          0.001040900991090826
         ],
         "y": [
          " Independent projects are slightly<br>more important than academic achievements"
         ]
        }
       ],
       "layout": {
        "height": 600,
        "margin": {
         "l": 300
        },
        "showlegend": false,
        "title": {
         "text": "<b> Q40. Which better demonstrates expertise in data<br>science: academic achievements or independent projects? </b>"
        },
        "width": 800,
        "xaxis": {
         "color": "#AAAAAA",
         "showgrid": false,
         "title": {
          "font": {
           "color": "#AAAAAA"
          },
          "text": "Model Coefficient"
         }
        },
        "yaxis": {
         "color": "#AAAAAA",
         "showgrid": false,
         "tickfont": {
          "color": "#444444",
          "size": 12
         },
         "title": {
          "font": {
           "color": "#AAAAAA"
          },
          "text": ""
         }
        }
       }
      },
      "text/html": [
       "<div>\n",
       "        \n",
       "        \n",
       "            <div id=\"72a5296e-9757-4c36-9391-4511f4324895\" class=\"plotly-graph-div\" style=\"height:600px; width:800px;\"></div>\n",
       "            <script type=\"text/javascript\">\n",
       "                require([\"plotly\"], function(Plotly) {\n",
       "                    window.PLOTLYENV=window.PLOTLYENV || {};\n",
       "                    window.PLOTLYENV.BASE_URL='https://plot.ly';\n",
       "                    \n",
       "                if (document.getElementById(\"72a5296e-9757-4c36-9391-4511f4324895\")) {\n",
       "                    Plotly.newPlot(\n",
       "                        '72a5296e-9757-4c36-9391-4511f4324895',\n",
       "                        [{\"hoverinfo\": \"none\", \"marker\": {\"color\": \"lightgray\"}, \"name\": \"lightgray\", \"orientation\": \"h\", \"text\": [-0.134, -0.027], \"textfont\": {\"color\": \"#444444\", \"size\": 12}, \"textposition\": \"auto\", \"type\": \"bar\", \"uid\": \"ca7ebc7d-155b-40bf-857f-213802e576ef\", \"x\": [-0.1343108860292219, -0.02746855052649359], \"y\": [\" Independent projects are equally<br>important as academic achievements\", \" Independent projects are much<br>more important than academic achievements\"]}, {\"hoverinfo\": \"none\", \"marker\": {\"color\": \"cornflowerblue\"}, \"name\": \"cornflowerblue\", \"orientation\": \"h\", \"text\": [0.001], \"textfont\": {\"color\": \"#444444\", \"size\": 12}, \"textposition\": \"auto\", \"type\": \"bar\", \"uid\": \"60c12976-63be-4aa0-a2ba-aabc5301de12\", \"x\": [0.001040900991090826], \"y\": [\" Independent projects are slightly<br>more important than academic achievements\"]}],\n",
       "                        {\"height\": 600, \"margin\": {\"l\": 300}, \"showlegend\": false, \"title\": {\"text\": \"<b> Q40. Which better demonstrates expertise in data<br>science: academic achievements or independent projects? </b>\"}, \"width\": 800, \"xaxis\": {\"color\": \"#AAAAAA\", \"showgrid\": false, \"title\": {\"font\": {\"color\": \"#AAAAAA\"}, \"text\": \"Model Coefficient\"}}, \"yaxis\": {\"color\": \"#AAAAAA\", \"showgrid\": false, \"tickfont\": {\"color\": \"#444444\", \"size\": 12}, \"title\": {\"font\": {\"color\": \"#AAAAAA\"}, \"text\": \"\"}}},\n",
       "                        {\"showLink\": false, \"linkText\": \"Export to plot.ly\", \"plotlyServerURL\": \"https://plot.ly\", \"responsive\": true}\n",
       "                    ).then(function(){\n",
       "                            \n",
       "var gd = document.getElementById('72a5296e-9757-4c36-9391-4511f4324895');\n",
       "var x = new MutationObserver(function (mutations, observer) {{\n",
       "        var display = window.getComputedStyle(gd).display;\n",
       "        if (!display || display === 'none') {{\n",
       "            console.log([gd, 'removed!']);\n",
       "            Plotly.purge(gd);\n",
       "            observer.disconnect();\n",
       "        }}\n",
       "}});\n",
       "\n",
       "// Listen for the removal of the full notebook cells\n",
       "var notebookContainer = gd.closest('#notebook-container');\n",
       "if (notebookContainer) {{\n",
       "    x.observe(notebookContainer, {childList: true});\n",
       "}}\n",
       "\n",
       "// Listen for the clearing of the current output cell\n",
       "var outputEl = gd.closest('.output');\n",
       "if (outputEl) {{\n",
       "    x.observe(outputEl, {childList: true});\n",
       "}}\n",
       "\n",
       "                        })\n",
       "                };\n",
       "                });\n",
       "            </script>\n",
       "        </div>"
      ]
     },
     "metadata": {},
     "output_type": "display_data"
    }
   ],
   "source": [
    "plot_result('Q40')"
   ]
  },
  {
   "cell_type": "markdown",
   "metadata": {
    "_uuid": "deae751e59bab9feb44bd7e0b4243841f522676d"
   },
   "source": [
    "The top 20% don't think that independent projects are equally important as academic achievements.\n",
    "\n",
    "---"
   ]
  },
  {
   "cell_type": "code",
   "execution_count": 69,
   "metadata": {
    "_kg_hide-input": true,
    "_uuid": "f258811e4105c18c76002a159eba04feb1fd133a"
   },
   "outputs": [
    {
     "data": {
      "application/vnd.plotly.v1+json": {
       "config": {
        "linkText": "Export to plot.ly",
        "plotlyServerURL": "https://plot.ly",
        "responsive": true,
        "showLink": false
       },
       "data": [
        {
         "hoverinfo": "none",
         "marker": {
          "color": "lightgray"
         },
         "name": "lightgray",
         "orientation": "h",
         "text": [
          -0.144
         ],
         "textfont": {
          "color": "#444444",
          "size": 12
         },
         "textposition": "auto",
         "type": "bar",
         "uid": "625035b0-5535-4206-9a7a-8069ff5992bc",
         "x": [
          -0.14429317168655717
         ],
         "y": [
          " Metrics that consider accuracy"
         ]
        },
        {
         "hoverinfo": "none",
         "marker": {
          "color": "cornflowerblue"
         },
         "name": "cornflowerblue",
         "orientation": "h",
         "text": [
          0.101,
          0.423,
          0.475
         ],
         "textfont": {
          "color": "#444444",
          "size": 12
         },
         "textposition": "auto",
         "type": "bar",
         "uid": "3ec989eb-c44b-4cbc-9fca-73002acd8212",
         "x": [
          0.10147733790411924,
          0.4226106362237703,
          0.47543491547140626
         ],
         "y": [
          " Metrics that consider unfair<br>bias",
          " Revenue and/or business goals",
          " Not applicable (I am<br>not involved with an organization<br>that builds ML models)"
         ]
        }
       ],
       "layout": {
        "height": 600,
        "margin": {
         "l": 300
        },
        "showlegend": false,
        "title": {
         "text": "<b> Q42. What metrics do you or your<br>organization use to determine whether or not your<br>models were successful?</b>"
        },
        "width": 800,
        "xaxis": {
         "color": "#AAAAAA",
         "showgrid": false,
         "title": {
          "font": {
           "color": "#AAAAAA"
          },
          "text": "Model Coefficient"
         }
        },
        "yaxis": {
         "color": "#AAAAAA",
         "showgrid": false,
         "tickfont": {
          "color": "#444444",
          "size": 12
         },
         "title": {
          "font": {
           "color": "#AAAAAA"
          },
          "text": ""
         }
        }
       }
      },
      "text/html": [
       "<div>\n",
       "        \n",
       "        \n",
       "            <div id=\"0123c9dd-344e-4da6-aa23-f177d7e11b60\" class=\"plotly-graph-div\" style=\"height:600px; width:800px;\"></div>\n",
       "            <script type=\"text/javascript\">\n",
       "                require([\"plotly\"], function(Plotly) {\n",
       "                    window.PLOTLYENV=window.PLOTLYENV || {};\n",
       "                    window.PLOTLYENV.BASE_URL='https://plot.ly';\n",
       "                    \n",
       "                if (document.getElementById(\"0123c9dd-344e-4da6-aa23-f177d7e11b60\")) {\n",
       "                    Plotly.newPlot(\n",
       "                        '0123c9dd-344e-4da6-aa23-f177d7e11b60',\n",
       "                        [{\"hoverinfo\": \"none\", \"marker\": {\"color\": \"lightgray\"}, \"name\": \"lightgray\", \"orientation\": \"h\", \"text\": [-0.144], \"textfont\": {\"color\": \"#444444\", \"size\": 12}, \"textposition\": \"auto\", \"type\": \"bar\", \"uid\": \"8de3438b-c9bb-469d-b4de-4f95c3d69843\", \"x\": [-0.14429317168655717], \"y\": [\" Metrics that consider accuracy\"]}, {\"hoverinfo\": \"none\", \"marker\": {\"color\": \"cornflowerblue\"}, \"name\": \"cornflowerblue\", \"orientation\": \"h\", \"text\": [0.101, 0.423, 0.475], \"textfont\": {\"color\": \"#444444\", \"size\": 12}, \"textposition\": \"auto\", \"type\": \"bar\", \"uid\": \"c58eeaa0-a0bc-483f-a209-5d5634a22e6d\", \"x\": [0.10147733790411924, 0.4226106362237703, 0.47543491547140626], \"y\": [\" Metrics that consider unfair<br>bias\", \" Revenue and/or business goals\", \" Not applicable (I am<br>not involved with an organization<br>that builds ML models)\"]}],\n",
       "                        {\"height\": 600, \"margin\": {\"l\": 300}, \"showlegend\": false, \"title\": {\"text\": \"<b> Q42. What metrics do you or your<br>organization use to determine whether or not your<br>models were successful?</b>\"}, \"width\": 800, \"xaxis\": {\"color\": \"#AAAAAA\", \"showgrid\": false, \"title\": {\"font\": {\"color\": \"#AAAAAA\"}, \"text\": \"Model Coefficient\"}}, \"yaxis\": {\"color\": \"#AAAAAA\", \"showgrid\": false, \"tickfont\": {\"color\": \"#444444\", \"size\": 12}, \"title\": {\"font\": {\"color\": \"#AAAAAA\"}, \"text\": \"\"}}},\n",
       "                        {\"showLink\": false, \"linkText\": \"Export to plot.ly\", \"plotlyServerURL\": \"https://plot.ly\", \"responsive\": true}\n",
       "                    ).then(function(){\n",
       "                            \n",
       "var gd = document.getElementById('0123c9dd-344e-4da6-aa23-f177d7e11b60');\n",
       "var x = new MutationObserver(function (mutations, observer) {{\n",
       "        var display = window.getComputedStyle(gd).display;\n",
       "        if (!display || display === 'none') {{\n",
       "            console.log([gd, 'removed!']);\n",
       "            Plotly.purge(gd);\n",
       "            observer.disconnect();\n",
       "        }}\n",
       "}});\n",
       "\n",
       "// Listen for the removal of the full notebook cells\n",
       "var notebookContainer = gd.closest('#notebook-container');\n",
       "if (notebookContainer) {{\n",
       "    x.observe(notebookContainer, {childList: true});\n",
       "}}\n",
       "\n",
       "// Listen for the clearing of the current output cell\n",
       "var outputEl = gd.closest('.output');\n",
       "if (outputEl) {{\n",
       "    x.observe(outputEl, {childList: true});\n",
       "}}\n",
       "\n",
       "                        })\n",
       "                };\n",
       "                });\n",
       "            </script>\n",
       "        </div>"
      ]
     },
     "metadata": {},
     "output_type": "display_data"
    }
   ],
   "source": [
    "plot_result('Q42')"
   ]
  },
  {
   "cell_type": "markdown",
   "metadata": {
    "_uuid": "72b27835c926cb5462088554e833035672dcba0e"
   },
   "source": [
    "Some of the richiest Kagglers are not involved with an organization that builds ML models. But if you are, set the metrics on revenue and business goals.\n",
    "\n",
    "---"
   ]
  },
  {
   "cell_type": "code",
   "execution_count": 70,
   "metadata": {
    "_kg_hide-input": true,
    "_uuid": "c5b49953f7cdb4c64076cd5de4618118da19bdd5"
   },
   "outputs": [
    {
     "data": {
      "application/vnd.plotly.v1+json": {
       "config": {
        "linkText": "Export to plot.ly",
        "plotlyServerURL": "https://plot.ly",
        "responsive": true,
        "showLink": false
       },
       "data": [
        {
         "hoverinfo": "none",
         "marker": {
          "color": "lightgray"
         },
         "name": "lightgray",
         "orientation": "h",
         "text": [
          -0.311,
          -0.257,
          -0.209,
          -0.107,
          -0.037
         ],
         "textfont": {
          "color": "#444444",
          "size": 12
         },
         "textposition": "auto",
         "type": "bar",
         "uid": "2d07f86c-b0b1-4cd4-9dc5-20cbdc73f8bd",
         "x": [
          -0.31087689788721934,
          -0.25736768374980745,
          -0.20917768090227296,
          -0.10710616678525785,
          -0.03749332164023079
         ],
         "y": [
          " Plot predicted vs. actual<br>results",
          " None/I do not use<br>these model explanation techniques",
          " Plot decision boundaries",
          " Examine feature correlations",
          " Attention mapping/saliency mapping"
         ]
        },
        {
         "hoverinfo": "none",
         "marker": {
          "color": "cornflowerblue"
         },
         "name": "cornflowerblue",
         "orientation": "h",
         "text": [
          0.019,
          0.079,
          0.079,
          0.108,
          0.227,
          0.402
         ],
         "textfont": {
          "color": "#444444",
          "size": 12
         },
         "textposition": "auto",
         "type": "bar",
         "uid": "f71550f6-7db0-488c-ac94-707904bb485b",
         "x": [
          0.019099038882795162,
          0.07863228347997281,
          0.07894920006727185,
          0.10802306026812201,
          0.22686265459595487,
          0.402343758356383
         ],
         "y": [
          " Dimensionality reduction techniques",
          " Create partial dependence plots",
          " LIME functions",
          " Print out a decision<br>tree",
          " Examine individual model coefficients",
          " Sensitivity analysis/perturbation importance"
         ]
        }
       ],
       "layout": {
        "height": 600,
        "margin": {
         "l": 300
        },
        "showlegend": false,
        "title": {
         "text": "<b> Q47. What methods do you prefer for<br>explaining and/or interpreting decisions that are made by<br>ML models?</b>"
        },
        "width": 800,
        "xaxis": {
         "color": "#AAAAAA",
         "showgrid": false,
         "title": {
          "font": {
           "color": "#AAAAAA"
          },
          "text": "Model Coefficient"
         }
        },
        "yaxis": {
         "color": "#AAAAAA",
         "showgrid": false,
         "tickfont": {
          "color": "#444444",
          "size": 12
         },
         "title": {
          "font": {
           "color": "#AAAAAA"
          },
          "text": ""
         }
        }
       }
      },
      "text/html": [
       "<div>\n",
       "        \n",
       "        \n",
       "            <div id=\"fb10a631-d33a-4a27-9dbb-36259fec0f21\" class=\"plotly-graph-div\" style=\"height:600px; width:800px;\"></div>\n",
       "            <script type=\"text/javascript\">\n",
       "                require([\"plotly\"], function(Plotly) {\n",
       "                    window.PLOTLYENV=window.PLOTLYENV || {};\n",
       "                    window.PLOTLYENV.BASE_URL='https://plot.ly';\n",
       "                    \n",
       "                if (document.getElementById(\"fb10a631-d33a-4a27-9dbb-36259fec0f21\")) {\n",
       "                    Plotly.newPlot(\n",
       "                        'fb10a631-d33a-4a27-9dbb-36259fec0f21',\n",
       "                        [{\"hoverinfo\": \"none\", \"marker\": {\"color\": \"lightgray\"}, \"name\": \"lightgray\", \"orientation\": \"h\", \"text\": [-0.311, -0.257, -0.209, -0.107, -0.037], \"textfont\": {\"color\": \"#444444\", \"size\": 12}, \"textposition\": \"auto\", \"type\": \"bar\", \"uid\": \"c185fee0-def5-46df-bdf8-58be9f3f2209\", \"x\": [-0.31087689788721934, -0.25736768374980745, -0.20917768090227296, -0.10710616678525785, -0.03749332164023079], \"y\": [\" Plot predicted vs. actual<br>results\", \" None/I do not use<br>these model explanation techniques\", \" Plot decision boundaries\", \" Examine feature correlations\", \" Attention mapping/saliency mapping\"]}, {\"hoverinfo\": \"none\", \"marker\": {\"color\": \"cornflowerblue\"}, \"name\": \"cornflowerblue\", \"orientation\": \"h\", \"text\": [0.019, 0.079, 0.079, 0.108, 0.227, 0.402], \"textfont\": {\"color\": \"#444444\", \"size\": 12}, \"textposition\": \"auto\", \"type\": \"bar\", \"uid\": \"acab935d-d0ad-4121-a191-525859f82777\", \"x\": [0.019099038882795162, 0.07863228347997281, 0.07894920006727185, 0.10802306026812201, 0.22686265459595487, 0.402343758356383], \"y\": [\" Dimensionality reduction techniques\", \" Create partial dependence plots\", \" LIME functions\", \" Print out a decision<br>tree\", \" Examine individual model coefficients\", \" Sensitivity analysis/perturbation importance\"]}],\n",
       "                        {\"height\": 600, \"margin\": {\"l\": 300}, \"showlegend\": false, \"title\": {\"text\": \"<b> Q47. What methods do you prefer for<br>explaining and/or interpreting decisions that are made by<br>ML models?</b>\"}, \"width\": 800, \"xaxis\": {\"color\": \"#AAAAAA\", \"showgrid\": false, \"title\": {\"font\": {\"color\": \"#AAAAAA\"}, \"text\": \"Model Coefficient\"}}, \"yaxis\": {\"color\": \"#AAAAAA\", \"showgrid\": false, \"tickfont\": {\"color\": \"#444444\", \"size\": 12}, \"title\": {\"font\": {\"color\": \"#AAAAAA\"}, \"text\": \"\"}}},\n",
       "                        {\"showLink\": false, \"linkText\": \"Export to plot.ly\", \"plotlyServerURL\": \"https://plot.ly\", \"responsive\": true}\n",
       "                    ).then(function(){\n",
       "                            \n",
       "var gd = document.getElementById('fb10a631-d33a-4a27-9dbb-36259fec0f21');\n",
       "var x = new MutationObserver(function (mutations, observer) {{\n",
       "        var display = window.getComputedStyle(gd).display;\n",
       "        if (!display || display === 'none') {{\n",
       "            console.log([gd, 'removed!']);\n",
       "            Plotly.purge(gd);\n",
       "            observer.disconnect();\n",
       "        }}\n",
       "}});\n",
       "\n",
       "// Listen for the removal of the full notebook cells\n",
       "var notebookContainer = gd.closest('#notebook-container');\n",
       "if (notebookContainer) {{\n",
       "    x.observe(notebookContainer, {childList: true});\n",
       "}}\n",
       "\n",
       "// Listen for the clearing of the current output cell\n",
       "var outputEl = gd.closest('.output');\n",
       "if (outputEl) {{\n",
       "    x.observe(outputEl, {childList: true});\n",
       "}}\n",
       "\n",
       "                        })\n",
       "                };\n",
       "                });\n",
       "            </script>\n",
       "        </div>"
      ]
     },
     "metadata": {},
     "output_type": "display_data"
    }
   ],
   "source": [
    "plot_result('Q47')"
   ]
  },
  {
   "cell_type": "markdown",
   "metadata": {
    "_uuid": "ec1259fee63d61db4517359c45414e6d1bde1985"
   },
   "source": [
    "Do you know how to do perturbation importance or sensitivity analysis? If you don't, then it is time to learn. *I hope this article is giving you some hints on examination of model coeficients.*\n",
    "\n",
    "---"
   ]
  },
  {
   "cell_type": "code",
   "execution_count": 71,
   "metadata": {
    "_kg_hide-input": true,
    "_uuid": "359e7a2119f87832de7f4469ce9821c564a8071b"
   },
   "outputs": [
    {
     "data": {
      "application/vnd.plotly.v1+json": {
       "config": {
        "linkText": "Export to plot.ly",
        "plotlyServerURL": "https://plot.ly",
        "responsive": true,
        "showLink": false
       },
       "data": [
        {
         "hoverinfo": "none",
         "marker": {
          "color": "lightgray"
         },
         "name": "lightgray",
         "orientation": "h",
         "text": [
          -0.083
         ],
         "textfont": {
          "color": "#444444",
          "size": 12
         },
         "textposition": "auto",
         "type": "bar",
         "uid": "32c1279f-c9b0-454f-a536-40fa82a073b6",
         "x": [
          -0.08308612056434961
         ],
         "y": [
          " I am confident that<br>I can explain the outputs<br>of most if not all<br>ML models"
         ]
        },
        {
         "hoverinfo": "none",
         "marker": {
          "color": "cornflowerblue"
         },
         "name": "cornflowerblue",
         "orientation": "h",
         "text": [
          0.002,
          0.079,
          0.115,
          0.294
         ],
         "textfont": {
          "color": "#444444",
          "size": 12
         },
         "textposition": "auto",
         "type": "bar",
         "uid": "20a16e05-92c2-4a89-9c05-361275ee08d9",
         "x": [
          0.0018195885363476647,
          0.07876147389604185,
          0.1153767413489035,
          0.29367019450347986
         ],
         "y": [
          " I do not know;<br>I have no opinion on<br>the matter",
          " I view ML models<br>as \"black boxes\" but I<br>am confident that experts are<br>able to explain model outputs",
          " I am confident that<br>I can understand and explain<br>the outputs of many but<br>not all ML models",
          " Yes, most ML models<br>are \"black boxes\""
         ]
        }
       ],
       "layout": {
        "height": 600,
        "margin": {
         "l": 300
        },
        "showlegend": false,
        "title": {
         "text": "<b> Q48. Do you consider ML models to<br>be \"black boxes\" with outputs that are difficult<br>or impossible to explain?</b>"
        },
        "width": 800,
        "xaxis": {
         "color": "#AAAAAA",
         "showgrid": false,
         "title": {
          "font": {
           "color": "#AAAAAA"
          },
          "text": "Model Coefficient"
         }
        },
        "yaxis": {
         "color": "#AAAAAA",
         "showgrid": false,
         "tickfont": {
          "color": "#444444",
          "size": 12
         },
         "title": {
          "font": {
           "color": "#AAAAAA"
          },
          "text": ""
         }
        }
       }
      },
      "text/html": [
       "<div>\n",
       "        \n",
       "        \n",
       "            <div id=\"69152aa2-f42f-4cb1-9c33-f241a62f2aa3\" class=\"plotly-graph-div\" style=\"height:600px; width:800px;\"></div>\n",
       "            <script type=\"text/javascript\">\n",
       "                require([\"plotly\"], function(Plotly) {\n",
       "                    window.PLOTLYENV=window.PLOTLYENV || {};\n",
       "                    window.PLOTLYENV.BASE_URL='https://plot.ly';\n",
       "                    \n",
       "                if (document.getElementById(\"69152aa2-f42f-4cb1-9c33-f241a62f2aa3\")) {\n",
       "                    Plotly.newPlot(\n",
       "                        '69152aa2-f42f-4cb1-9c33-f241a62f2aa3',\n",
       "                        [{\"hoverinfo\": \"none\", \"marker\": {\"color\": \"lightgray\"}, \"name\": \"lightgray\", \"orientation\": \"h\", \"text\": [-0.083], \"textfont\": {\"color\": \"#444444\", \"size\": 12}, \"textposition\": \"auto\", \"type\": \"bar\", \"uid\": \"ab6eae70-dafc-4106-936e-69932aa67399\", \"x\": [-0.08308612056434961], \"y\": [\" I am confident that<br>I can explain the outputs<br>of most if not all<br>ML models\"]}, {\"hoverinfo\": \"none\", \"marker\": {\"color\": \"cornflowerblue\"}, \"name\": \"cornflowerblue\", \"orientation\": \"h\", \"text\": [0.002, 0.079, 0.115, 0.294], \"textfont\": {\"color\": \"#444444\", \"size\": 12}, \"textposition\": \"auto\", \"type\": \"bar\", \"uid\": \"92a11b89-29f9-4ef0-97ac-ddecedd1a45b\", \"x\": [0.0018195885363476647, 0.07876147389604185, 0.1153767413489035, 0.29367019450347986], \"y\": [\" I do not know;<br>I have no opinion on<br>the matter\", \" I view ML models<br>as \\\"black boxes\\\" but I<br>am confident that experts are<br>able to explain model outputs\", \" I am confident that<br>I can understand and explain<br>the outputs of many but<br>not all ML models\", \" Yes, most ML models<br>are \\\"black boxes\\\"\"]}],\n",
       "                        {\"height\": 600, \"margin\": {\"l\": 300}, \"showlegend\": false, \"title\": {\"text\": \"<b> Q48. Do you consider ML models to<br>be \\\"black boxes\\\" with outputs that are difficult<br>or impossible to explain?</b>\"}, \"width\": 800, \"xaxis\": {\"color\": \"#AAAAAA\", \"showgrid\": false, \"title\": {\"font\": {\"color\": \"#AAAAAA\"}, \"text\": \"Model Coefficient\"}}, \"yaxis\": {\"color\": \"#AAAAAA\", \"showgrid\": false, \"tickfont\": {\"color\": \"#444444\", \"size\": 12}, \"title\": {\"font\": {\"color\": \"#AAAAAA\"}, \"text\": \"\"}}},\n",
       "                        {\"showLink\": false, \"linkText\": \"Export to plot.ly\", \"plotlyServerURL\": \"https://plot.ly\", \"responsive\": true}\n",
       "                    ).then(function(){\n",
       "                            \n",
       "var gd = document.getElementById('69152aa2-f42f-4cb1-9c33-f241a62f2aa3');\n",
       "var x = new MutationObserver(function (mutations, observer) {{\n",
       "        var display = window.getComputedStyle(gd).display;\n",
       "        if (!display || display === 'none') {{\n",
       "            console.log([gd, 'removed!']);\n",
       "            Plotly.purge(gd);\n",
       "            observer.disconnect();\n",
       "        }}\n",
       "}});\n",
       "\n",
       "// Listen for the removal of the full notebook cells\n",
       "var notebookContainer = gd.closest('#notebook-container');\n",
       "if (notebookContainer) {{\n",
       "    x.observe(notebookContainer, {childList: true});\n",
       "}}\n",
       "\n",
       "// Listen for the clearing of the current output cell\n",
       "var outputEl = gd.closest('.output');\n",
       "if (outputEl) {{\n",
       "    x.observe(outputEl, {childList: true});\n",
       "}}\n",
       "\n",
       "                        })\n",
       "                };\n",
       "                });\n",
       "            </script>\n",
       "        </div>"
      ]
     },
     "metadata": {},
     "output_type": "display_data"
    }
   ],
   "source": [
    "plot_result('Q48')"
   ]
  },
  {
   "cell_type": "markdown",
   "metadata": {
    "_uuid": "ebb9fa8bcfd50d86be3df4b87a95e52e1ee78c09"
   },
   "source": [
    "It seems like the Top20iers are so involved with managerial decisions that they consider ML models as black boxes, and delegate the task of explaining outputs to experts.\n",
    "\n",
    "---"
   ]
  },
  {
   "cell_type": "code",
   "execution_count": 72,
   "metadata": {
    "_kg_hide-input": true,
    "_uuid": "d8081292692e48e045cab72e3b9e9f71d85aca42"
   },
   "outputs": [
    {
     "data": {
      "application/vnd.plotly.v1+json": {
       "config": {
        "linkText": "Export to plot.ly",
        "plotlyServerURL": "https://plot.ly",
        "responsive": true,
        "showLink": false
       },
       "data": [
        {
         "hoverinfo": "none",
         "marker": {
          "color": "lightgray"
         },
         "name": "lightgray",
         "orientation": "h",
         "text": [
          -0.133,
          -0.13,
          -0.05,
          -0.016
         ],
         "textfont": {
          "color": "#444444",
          "size": 12
         },
         "textposition": "auto",
         "type": "bar",
         "uid": "7e5d4a3f-7ffd-4b0a-810c-a1e77d60636a",
         "x": [
          -0.13334999742294434,
          -0.13036005437712705,
          -0.050105006906403855,
          -0.015816220468397053
         ],
         "y": [
          " Define relative rather than<br>absolute file paths",
          " Share both data and<br>code on Github or a<br>similar code-sharing repository",
          " Share data, code, and<br>environment using a hosted service<br>(Kaggle Kernels, Google Colaboratory, Amazon<br>SageMaker, etc.)",
          " Share code on Github<br>or a similar code-sharing repository"
         ]
        },
        {
         "hoverinfo": "none",
         "marker": {
          "color": "cornflowerblue"
         },
         "name": "cornflowerblue",
         "orientation": "h",
         "text": [
          0.024,
          0.051,
          0.069,
          0.069,
          0.069
         ],
         "textfont": {
          "color": "#444444",
          "size": 12
         },
         "textposition": "auto",
         "type": "bar",
         "uid": "bb8bade3-3595-403d-8147-51881f68224b",
         "x": [
          0.02352809210274342,
          0.050808132071833635,
          0.06886353375238576,
          0.0691675430088063,
          0.06921854772319683
         ],
         "y": [
          " Include a text file<br>describing all dependencies",
          " Make sure the code<br>is well documented",
          " Share data, code, and<br>environment using containers (Docker, etc.)",
          " Share code, data, and<br>environment using virtual machines (VirtualBox,<br>etc.)",
          " Define all random seeds"
         ]
        }
       ],
       "layout": {
        "height": 600,
        "margin": {
         "l": 300
        },
        "showlegend": false,
        "title": {
         "text": "<b> Q49. What tools and methods do you<br>use to make your work easy to reproduce?</b>"
        },
        "width": 800,
        "xaxis": {
         "color": "#AAAAAA",
         "showgrid": false,
         "title": {
          "font": {
           "color": "#AAAAAA"
          },
          "text": "Model Coefficient"
         }
        },
        "yaxis": {
         "color": "#AAAAAA",
         "showgrid": false,
         "tickfont": {
          "color": "#444444",
          "size": 12
         },
         "title": {
          "font": {
           "color": "#AAAAAA"
          },
          "text": ""
         }
        }
       }
      },
      "text/html": [
       "<div>\n",
       "        \n",
       "        \n",
       "            <div id=\"c1e18b77-f520-45df-bb1f-6a7b2a061455\" class=\"plotly-graph-div\" style=\"height:600px; width:800px;\"></div>\n",
       "            <script type=\"text/javascript\">\n",
       "                require([\"plotly\"], function(Plotly) {\n",
       "                    window.PLOTLYENV=window.PLOTLYENV || {};\n",
       "                    window.PLOTLYENV.BASE_URL='https://plot.ly';\n",
       "                    \n",
       "                if (document.getElementById(\"c1e18b77-f520-45df-bb1f-6a7b2a061455\")) {\n",
       "                    Plotly.newPlot(\n",
       "                        'c1e18b77-f520-45df-bb1f-6a7b2a061455',\n",
       "                        [{\"hoverinfo\": \"none\", \"marker\": {\"color\": \"lightgray\"}, \"name\": \"lightgray\", \"orientation\": \"h\", \"text\": [-0.133, -0.13, -0.05, -0.016], \"textfont\": {\"color\": \"#444444\", \"size\": 12}, \"textposition\": \"auto\", \"type\": \"bar\", \"uid\": \"15a9b6dc-876a-49d3-ad57-75e406b2d8ab\", \"x\": [-0.13334999742294434, -0.13036005437712705, -0.050105006906403855, -0.015816220468397053], \"y\": [\" Define relative rather than<br>absolute file paths\", \" Share both data and<br>code on Github or a<br>similar code-sharing repository\", \" Share data, code, and<br>environment using a hosted service<br>(Kaggle Kernels, Google Colaboratory, Amazon<br>SageMaker, etc.)\", \" Share code on Github<br>or a similar code-sharing repository\"]}, {\"hoverinfo\": \"none\", \"marker\": {\"color\": \"cornflowerblue\"}, \"name\": \"cornflowerblue\", \"orientation\": \"h\", \"text\": [0.024, 0.051, 0.069, 0.069, 0.069], \"textfont\": {\"color\": \"#444444\", \"size\": 12}, \"textposition\": \"auto\", \"type\": \"bar\", \"uid\": \"58f38bd7-787e-454b-a45e-f0d8346cc14a\", \"x\": [0.02352809210274342, 0.050808132071833635, 0.06886353375238576, 0.0691675430088063, 0.06921854772319683], \"y\": [\" Include a text file<br>describing all dependencies\", \" Make sure the code<br>is well documented\", \" Share data, code, and<br>environment using containers (Docker, etc.)\", \" Share code, data, and<br>environment using virtual machines (VirtualBox,<br>etc.)\", \" Define all random seeds\"]}],\n",
       "                        {\"height\": 600, \"margin\": {\"l\": 300}, \"showlegend\": false, \"title\": {\"text\": \"<b> Q49. What tools and methods do you<br>use to make your work easy to reproduce?</b>\"}, \"width\": 800, \"xaxis\": {\"color\": \"#AAAAAA\", \"showgrid\": false, \"title\": {\"font\": {\"color\": \"#AAAAAA\"}, \"text\": \"Model Coefficient\"}}, \"yaxis\": {\"color\": \"#AAAAAA\", \"showgrid\": false, \"tickfont\": {\"color\": \"#444444\", \"size\": 12}, \"title\": {\"font\": {\"color\": \"#AAAAAA\"}, \"text\": \"\"}}},\n",
       "                        {\"showLink\": false, \"linkText\": \"Export to plot.ly\", \"plotlyServerURL\": \"https://plot.ly\", \"responsive\": true}\n",
       "                    ).then(function(){\n",
       "                            \n",
       "var gd = document.getElementById('c1e18b77-f520-45df-bb1f-6a7b2a061455');\n",
       "var x = new MutationObserver(function (mutations, observer) {{\n",
       "        var display = window.getComputedStyle(gd).display;\n",
       "        if (!display || display === 'none') {{\n",
       "            console.log([gd, 'removed!']);\n",
       "            Plotly.purge(gd);\n",
       "            observer.disconnect();\n",
       "        }}\n",
       "}});\n",
       "\n",
       "// Listen for the removal of the full notebook cells\n",
       "var notebookContainer = gd.closest('#notebook-container');\n",
       "if (notebookContainer) {{\n",
       "    x.observe(notebookContainer, {childList: true});\n",
       "}}\n",
       "\n",
       "// Listen for the clearing of the current output cell\n",
       "var outputEl = gd.closest('.output');\n",
       "if (outputEl) {{\n",
       "    x.observe(outputEl, {childList: true});\n",
       "}}\n",
       "\n",
       "                        })\n",
       "                };\n",
       "                });\n",
       "            </script>\n",
       "        </div>"
      ]
     },
     "metadata": {},
     "output_type": "display_data"
    }
   ],
   "source": [
    "plot_result('Q49')"
   ]
  },
  {
   "cell_type": "markdown",
   "metadata": {
    "_uuid": "b259b9567388b9d3118116a2cb1ec884d27c0df4"
   },
   "source": [
    "Defining random seeds, usage of virtual machines and containers and making sure the code is well documented are all good practices that will probably increase your earnings.\n",
    "\n",
    "---"
   ]
  },
  {
   "cell_type": "markdown",
   "metadata": {
    "_uuid": "dfb3b8298238c76277c2b3e87e8afaa987ebc26a"
   },
   "source": [
    "### By following those ideas, maybe one day we might find ourselves laying down on a pile of money. But unlike Mr. Babineaux, it will be our money. And it will be legal.\n",
    "![](https://media.giphy.com/media/3oKIPm3BynUpUysTHW/giphy.gif)\n"
   ]
  },
  {
   "cell_type": "markdown",
   "metadata": {
    "_uuid": "179a61ecc99e28d17b6e9ac04dff849901f85a01"
   },
   "source": [
    "---\n",
    "# Creating an Online Model to Deploy as a Service at AWS Lambda\n",
    "\n",
    "Next we will create an API that can calculate your score (i.e. your chance of earning more than U$ 100k per year). To do that we are using AWS Lambda and API Gateway. Check out the development below:\n",
    "\n",
    "![Lambda](https://i.imgur.com/pkYNCkm.png)"
   ]
  },
  {
   "cell_type": "markdown",
   "metadata": {
    "_uuid": "9e161c118f84e4232a9651634447f57f73bda7e0"
   },
   "source": [
    "First we will train the model again with fewer questions. We don't want ask to much questions and consequently discourage people to answer the survey."
   ]
  },
  {
   "cell_type": "code",
   "execution_count": 73,
   "metadata": {
    "_kg_hide-input": true,
    "_uuid": "34cdb94cee4ea8e0396042a5d871d85b921e880a"
   },
   "outputs": [],
   "source": [
    "### Training the model again with fewer questions\n",
    "# Selecting just the questions we are putting in production\n",
    "selected_questions = [1, 2, 3, 4, 6, 7, 8, 10, 11, 15, 16, 23, 31, 42]\n",
    "treated_data = {}\n",
    "\n",
    "# Let's select answers that had more than 5% of answers\n",
    "for sq in selected_questions:\n",
    "    treated_data['Q{}'.format(sq)] = treat_data(answers['Q{}'.format(sq)], sq, 0.05)\n",
    "    \n",
    "# Done! Now we are able to rebuild a much cleaner dataset!\n",
    "\n",
    "# Define target variable\n",
    "compensation = mcA.Q9.str.replace(',', '').str.replace('500000\\+', '500-500000').str.split('-')\n",
    "mcA['yearly_compensation_numerical'] = compensation.apply(lambda x: (int(x[0]) * 1000 + int(x[1]))/ 2) / 1000 # it is calculated in thousand dollars\n",
    "clean_dataset = (mcA.yearly_compensation_numerical > 100).reset_index().astype(int)\n",
    "clean_dataset.columns = ['index', 'top20']\n",
    "\n",
    "# Join wit treated questions\n",
    "for key, value in treated_data.items():\n",
    "    value = value.reset_index(drop=True)\n",
    "    clean_dataset = clean_dataset.join(value, how='left')\n",
    "\n",
    "clean_dataset = clean_dataset.drop('index', axis=1)\n",
    "# saving back to csv so others may use it\n",
    "clean_dataset.to_csv('production_clean_dataset.csv')"
   ]
  },
  {
   "cell_type": "code",
   "execution_count": 74,
   "metadata": {
    "_kg_hide-input": true,
    "_uuid": "94cb289fe60d679c7addf1c7ad1d00d8b971708b"
   },
   "outputs": [],
   "source": [
    "# Create correlation matrix\n",
    "correl = clean_dataset.corr().abs()\n",
    "\n",
    "# Select upper triangle of correlation matrix\n",
    "upper = correl.where(np.triu(np.ones(correl.shape), k=1).astype(np.bool))\n",
    "\n",
    "# Find index of feature columns with correlation greater than 0.5\n",
    "to_drop = [column for column in upper.columns if any(upper[column] > 0.5)]\n",
    "\n",
    "# Drop features \n",
    "clean_dataset_dropped = clean_dataset.drop(to_drop, axis=1)"
   ]
  },
  {
   "cell_type": "code",
   "execution_count": 75,
   "metadata": {
    "_kg_hide-input": true,
    "_uuid": "9624946cfc0efb348a9be286e8efdeb86dd18ff3"
   },
   "outputs": [],
   "source": [
    "# splitting train and test data\n",
    "train, test = train_test_split(clean_dataset_dropped, test_size=0.2, random_state=42)\n",
    "ytrain = train['top20'].copy()\n",
    "Xtrain = train.drop(['top20'], axis=1).copy() # removing both target variables from features\n",
    "\n",
    "ytest = test['top20'].copy()\n",
    "Xtest = test.drop(['top20'], axis=1).copy() # removing both target variables from features\n",
    "\n",
    "# undersampling\n",
    "X_resampled, y_resampled = rus.fit_resample(Xtrain, ytrain)"
   ]
  },
  {
   "cell_type": "code",
   "execution_count": 76,
   "metadata": {
    "_kg_hide-input": true,
    "_kg_hide-output": true,
    "_uuid": "b14580ef93488367f4cc6021dafcbbb4fb31dedc"
   },
   "outputs": [
    {
     "name": "stdout",
     "output_type": "stream",
     "text": [
      "\n",
      "### -- ### -- LogisticRegression -- ### -- ###\n",
      "Confusion Matrix:  [[1820  408]\n",
      " [  64  300]]\n",
      "Accuracy:  0.8179012345679012\n",
      "AUC:  0.9017721506500681\n",
      "Type 1 error:  0.18312387791741472\n",
      "Type 2 error:  0.17582417582417584\n"
     ]
    }
   ],
   "source": [
    "# fitting the model\n",
    "lreg = LogisticRegression(solver='liblinear', random_state=42)\n",
    "lreg.fit(X_resampled, y_resampled)\n",
    "\n",
    "# validating on test data\n",
    "display_scores(lreg, Xtest, ytest)"
   ]
  },
  {
   "cell_type": "code",
   "execution_count": 77,
   "metadata": {
    "_kg_hide-input": false,
    "_kg_hide-output": false,
    "_uuid": "d828bb2ac77556ce44c54beb5514fcf83e60f9e2"
   },
   "outputs": [
    {
     "data": {
      "text/html": [
       "<div>\n",
       "<style scoped>\n",
       "    .dataframe tbody tr th:only-of-type {\n",
       "        vertical-align: middle;\n",
       "    }\n",
       "\n",
       "    .dataframe tbody tr th {\n",
       "        vertical-align: top;\n",
       "    }\n",
       "\n",
       "    .dataframe thead th {\n",
       "        text-align: right;\n",
       "    }\n",
       "</style>\n",
       "<table border=\"1\" class=\"dataframe\">\n",
       "  <thead>\n",
       "    <tr style=\"text-align: right;\">\n",
       "      <th></th>\n",
       "      <th>probability</th>\n",
       "    </tr>\n",
       "    <tr>\n",
       "      <th>bin</th>\n",
       "      <th></th>\n",
       "    </tr>\n",
       "  </thead>\n",
       "  <tbody>\n",
       "    <tr>\n",
       "      <th>(-0.01, 0.05]</th>\n",
       "      <td>0.003546</td>\n",
       "    </tr>\n",
       "    <tr>\n",
       "      <th>(0.05, 0.1]</th>\n",
       "      <td>0.007353</td>\n",
       "    </tr>\n",
       "    <tr>\n",
       "      <th>(0.1, 0.2]</th>\n",
       "      <td>0.025773</td>\n",
       "    </tr>\n",
       "    <tr>\n",
       "      <th>(0.2, 0.4]</th>\n",
       "      <td>0.060475</td>\n",
       "    </tr>\n",
       "    <tr>\n",
       "      <th>(0.4, 0.5]</th>\n",
       "      <td>0.111675</td>\n",
       "    </tr>\n",
       "    <tr>\n",
       "      <th>(0.5, 0.6]</th>\n",
       "      <td>0.143791</td>\n",
       "    </tr>\n",
       "    <tr>\n",
       "      <th>(0.6, 0.7]</th>\n",
       "      <td>0.209091</td>\n",
       "    </tr>\n",
       "    <tr>\n",
       "      <th>(0.7, 0.8]</th>\n",
       "      <td>0.401515</td>\n",
       "    </tr>\n",
       "    <tr>\n",
       "      <th>(0.8, 0.9]</th>\n",
       "      <td>0.477273</td>\n",
       "    </tr>\n",
       "    <tr>\n",
       "      <th>(0.9, 0.95]</th>\n",
       "      <td>0.674157</td>\n",
       "    </tr>\n",
       "    <tr>\n",
       "      <th>(0.95, 0.975]</th>\n",
       "      <td>0.788462</td>\n",
       "    </tr>\n",
       "    <tr>\n",
       "      <th>(0.975, 1.0]</th>\n",
       "      <td>0.950000</td>\n",
       "    </tr>\n",
       "  </tbody>\n",
       "</table>\n",
       "</div>"
      ],
      "text/plain": [
       "               probability\n",
       "bin                       \n",
       "(-0.01, 0.05]     0.003546\n",
       "(0.05, 0.1]       0.007353\n",
       "(0.1, 0.2]        0.025773\n",
       "(0.2, 0.4]        0.060475\n",
       "(0.4, 0.5]        0.111675\n",
       "(0.5, 0.6]        0.143791\n",
       "(0.6, 0.7]        0.209091\n",
       "(0.7, 0.8]        0.401515\n",
       "(0.8, 0.9]        0.477273\n",
       "(0.9, 0.95]       0.674157\n",
       "(0.95, 0.975]     0.788462\n",
       "(0.975, 1.0]      0.950000"
      ]
     },
     "execution_count": 77,
     "metadata": {},
     "output_type": "execute_result"
    }
   ],
   "source": [
    "# Calculates the probabilities of belonging to Top20% per range of score based on test data\n",
    "calc_proba(lreg).to_frame()"
   ]
  },
  {
   "cell_type": "markdown",
   "metadata": {
    "_uuid": "a3893667ffa86d1f93c843a69e3615f23edd3225"
   },
   "source": [
    "### How input data will look like\n",
    "We will deploy a web page to collect some answers and send it to our model. We expect it to send us the content by QueryString parameters, after decoding that on AWS API Gateway we have a simple json that looks like this:"
   ]
  },
  {
   "cell_type": "code",
   "execution_count": 78,
   "metadata": {
    "_uuid": "e9b290e968041af565e9047fdcb69f2870f38e81"
   },
   "outputs": [],
   "source": [
    "input_json = {\n",
    "    \"Q1\": \"q1_other\",\n",
    "    \"Q2\": \"q2_25_29\",\n",
    "    \"Q3\": \"q3_united_\",\n",
    "    \"Q4\": \"q4_other\",\n",
    "    \"Q6\": \"q6_student\",\n",
    "    \"Q7\": \"q7_other2\",\n",
    "    \"Q8\": \"q8_2_3\",\n",
    "    \"Q10\": \"q10_we_rec\",\n",
    "    \"q11_analyz\": \"on\",\n",
    "    \"q11_run_a_\": \"on\",\n",
    "    \"q11_build_\": \"on\",\n",
    "    \"q15_amazon\": \"on\",\n",
    "    \"other\": \"on\",\n",
    "    \"q16_python\": \"on\",\n",
    "    \"q16_sql\": \"on\",\n",
    "    \"Q23\": \"q23_25_to_\",\n",
    "    \"q31_catego\": \"on\",\n",
    "    \"q31_geospa\": \"on\",\n",
    "    \"q31_numeri\": \"on\",\n",
    "    \"q31_tabula\": \"on\",\n",
    "    \"q31_text_d\": \"on\",\n",
    "    \"q31_time_s\": \"on\",\n",
    "    \"q42_revenu\": \"on\"\n",
    "}"
   ]
  },
  {
   "cell_type": "markdown",
   "metadata": {
    "_uuid": "ccfe4f6de1116ff6ebea3af1afff7dd36cb66a03"
   },
   "source": [
    "To deploy this model we had basically two options:\n",
    "1. Export the model as as serialized object, load into AWS lambda and start making predictions.\n",
    "2. [Parametrize](https://en.wikipedia.org/wiki/Parametrization) the model and load all coefficients and intercept manually to Lambda.\n",
    "\n",
    "I'm choosing the second option because I want the model to be transparent to anyone. It should be clear what the coefficients are and how the score is calculated. A serialized model wouldn't let us see that in detail.\n",
    "\n",
    "#### Parametrization: What the hell is that?\n",
    "A Logistic Regression model can be written like this:\n",
    "\n",
    "```log-odds = b0 + b1x1 + b2x2 + ... + bnxn``` \n",
    "\n",
    "**Where:**\n",
    "* ```b0``` is the intercept\n",
    "* ```b1, b2, bn``` are the coefficients\n",
    "* ```x1, x2, xn``` are the variables\n",
    "\n",
    "We trained our model and got all coefficient's values. So it's just a matter of writing that equation manually. Then to get scores between 0 and 1 we do:\n",
    "\n",
    "```scores = 1 / (1 + exp(-(b0 + b1x1 + b2x2 + ... + bnxn)))```\n",
    "\n",
    "### Treating all model's coefficients to have a single naming convention"
   ]
  },
  {
   "cell_type": "code",
   "execution_count": 79,
   "metadata": {
    "_kg_hide-input": true,
    "_uuid": "33591be0a5bd458a9c038599ebce8fa888221eb4"
   },
   "outputs": [
    {
     "data": {
      "text/html": [
       "<div>\n",
       "<style scoped>\n",
       "    .dataframe tbody tr th:only-of-type {\n",
       "        vertical-align: middle;\n",
       "    }\n",
       "\n",
       "    .dataframe tbody tr th {\n",
       "        vertical-align: top;\n",
       "    }\n",
       "\n",
       "    .dataframe thead th {\n",
       "        text-align: right;\n",
       "    }\n",
       "</style>\n",
       "<table border=\"1\" class=\"dataframe\">\n",
       "  <thead>\n",
       "    <tr style=\"text-align: right;\">\n",
       "      <th></th>\n",
       "      <th>question_number</th>\n",
       "      <th>answer</th>\n",
       "      <th>coefficient</th>\n",
       "    </tr>\n",
       "  </thead>\n",
       "  <tbody>\n",
       "    <tr>\n",
       "      <th>0</th>\n",
       "      <td>q1</td>\n",
       "      <td>q1_female</td>\n",
       "      <td>-0.348736</td>\n",
       "    </tr>\n",
       "    <tr>\n",
       "      <th>1</th>\n",
       "      <td>q2</td>\n",
       "      <td>q2_18_21</td>\n",
       "      <td>-1.96234</td>\n",
       "    </tr>\n",
       "    <tr>\n",
       "      <th>2</th>\n",
       "      <td>q2</td>\n",
       "      <td>q2_22_24</td>\n",
       "      <td>-2.36051</td>\n",
       "    </tr>\n",
       "  </tbody>\n",
       "</table>\n",
       "</div>"
      ],
      "text/plain": [
       "  question_number     answer coefficient\n",
       "0              q1  q1_female   -0.348736\n",
       "1              q2   q2_18_21    -1.96234\n",
       "2              q2   q2_22_24    -2.36051"
      ]
     },
     "execution_count": 79,
     "metadata": {},
     "output_type": "execute_result"
    }
   ],
   "source": [
    "import re\n",
    "# treating the questions to match the input json\n",
    "features = pd.DataFrame([Xtrain.columns, lreg.coef_[0]]).transpose()\n",
    "features.columns = ['feature', 'coefficient']\n",
    "features['answer'] = features.feature\n",
    "features['answer'] = features['answer'].apply(lambda x: re.sub(r\"[^a-zA-Z0-9]+\", ' ', x))\n",
    "features['answer'] = features['answer'].str.replace(' ', '_')\n",
    "features['answer'] = features['answer'].str.lower()\n",
    "features['answer'] = features['answer'].str.replace('_build_and_or_', '_')\n",
    "features['answer'] = features['answer'].str.replace('_metrics_that_consider_', '_')\n",
    "features['answer'] = features['answer'].str[:10]\n",
    "\n",
    "features['question_number'] = features['answer'].str.split('_').str[0]\n",
    "features = features[['question_number', 'answer', 'coefficient']]\n",
    "features.head(3)"
   ]
  },
  {
   "cell_type": "markdown",
   "metadata": {
    "_kg_hide-input": true,
    "_uuid": "9253a595e5ce44864da4f8568850edd471723a37"
   },
   "source": [
    "Then we treat the input json to keep it at the same naming convention."
   ]
  },
  {
   "cell_type": "code",
   "execution_count": 80,
   "metadata": {
    "_kg_hide-input": true,
    "_uuid": "2608acf1d338e3d5c385e1fb789446952fa4252e"
   },
   "outputs": [
    {
     "name": "stdout",
     "output_type": "stream",
     "text": [
      "First 8 elements of the treated input: {'q1_other': 1, 'q2_25_29': 1, 'q3_united_': 1, 'q4_other': 1, 'q6_student': 1, 'q7_other2': 1, 'q8_2_3': 1, 'q10_we_rec': 1}\n"
     ]
    }
   ],
   "source": [
    "# treating the input json to keep it in the same format as the coeficcients\n",
    "def treat_input(input_json):\n",
    "    treated = dict()\n",
    "    for key, value in input_json.items():\n",
    "        if key[0] == 'Q':\n",
    "            treated[value] = 1\n",
    "        else:\n",
    "            treated[key] = 1\n",
    "    return treated\n",
    "\n",
    "treated_input_json = treat_input(input_json)\n",
    "print('First 8 elements of the treated input:', dict(list(treated_input_json.items())[0:8]))"
   ]
  },
  {
   "cell_type": "markdown",
   "metadata": {
    "_uuid": "521dabaf11940312b79142cf60db43d9eb6e32f9"
   },
   "source": [
    "### Mapping input to coefficients and calculating the score"
   ]
  },
  {
   "cell_type": "markdown",
   "metadata": {
    "_uuid": "0c4183c87d89b00af3e23a6ead008be18b185416"
   },
   "source": [
    "Now we can map the input json to the coefficients to calculate the points."
   ]
  },
  {
   "cell_type": "code",
   "execution_count": 81,
   "metadata": {
    "_kg_hide-input": true,
    "_uuid": "3f2b0d00884bbdb3995ec329112162e4a864d5a2"
   },
   "outputs": [
    {
     "data": {
      "text/html": [
       "<div>\n",
       "<style scoped>\n",
       "    .dataframe tbody tr th:only-of-type {\n",
       "        vertical-align: middle;\n",
       "    }\n",
       "\n",
       "    .dataframe tbody tr th {\n",
       "        vertical-align: top;\n",
       "    }\n",
       "\n",
       "    .dataframe thead th {\n",
       "        text-align: right;\n",
       "    }\n",
       "</style>\n",
       "<table border=\"1\" class=\"dataframe\">\n",
       "  <thead>\n",
       "    <tr style=\"text-align: right;\">\n",
       "      <th></th>\n",
       "      <th>question_number</th>\n",
       "      <th>answer</th>\n",
       "      <th>coefficient</th>\n",
       "      <th>positive</th>\n",
       "      <th>points</th>\n",
       "    </tr>\n",
       "  </thead>\n",
       "  <tbody>\n",
       "    <tr>\n",
       "      <th>0</th>\n",
       "      <td>q1</td>\n",
       "      <td>q1_female</td>\n",
       "      <td>-0.348736</td>\n",
       "      <td>0.0</td>\n",
       "      <td>-0.000000</td>\n",
       "    </tr>\n",
       "    <tr>\n",
       "      <th>1</th>\n",
       "      <td>q2</td>\n",
       "      <td>q2_18_21</td>\n",
       "      <td>-1.962340</td>\n",
       "      <td>0.0</td>\n",
       "      <td>-0.000000</td>\n",
       "    </tr>\n",
       "    <tr>\n",
       "      <th>2</th>\n",
       "      <td>q2</td>\n",
       "      <td>q2_22_24</td>\n",
       "      <td>-2.360513</td>\n",
       "      <td>0.0</td>\n",
       "      <td>-0.000000</td>\n",
       "    </tr>\n",
       "    <tr>\n",
       "      <th>3</th>\n",
       "      <td>q2</td>\n",
       "      <td>q2_25_29</td>\n",
       "      <td>-1.768127</td>\n",
       "      <td>1.0</td>\n",
       "      <td>-1.768127</td>\n",
       "    </tr>\n",
       "    <tr>\n",
       "      <th>4</th>\n",
       "      <td>q2</td>\n",
       "      <td>q2_30_34</td>\n",
       "      <td>-1.076526</td>\n",
       "      <td>0.0</td>\n",
       "      <td>-0.000000</td>\n",
       "    </tr>\n",
       "  </tbody>\n",
       "</table>\n",
       "</div>"
      ],
      "text/plain": [
       "  question_number     answer  coefficient  positive    points\n",
       "0              q1  q1_female    -0.348736       0.0 -0.000000\n",
       "1              q2   q2_18_21    -1.962340       0.0 -0.000000\n",
       "2              q2   q2_22_24    -2.360513       0.0 -0.000000\n",
       "3              q2   q2_25_29    -1.768127       1.0 -1.768127\n",
       "4              q2   q2_30_34    -1.076526       0.0 -0.000000"
      ]
     },
     "execution_count": 81,
     "metadata": {},
     "output_type": "execute_result"
    }
   ],
   "source": [
    "features['positive'] = features['answer'].map(treated_input_json)\n",
    "features.fillna(0, inplace=True)\n",
    "features['points'] = features.positive * features.coefficient\n",
    "features.head(5)"
   ]
  },
  {
   "cell_type": "markdown",
   "metadata": {
    "_uuid": "c553669af41514fcd901c8c992c95d13c24b0b2f"
   },
   "source": [
    "To get the final score we sum all points, them sum it with the intercept and them normalize to get values between 0 and 1000."
   ]
  },
  {
   "cell_type": "code",
   "execution_count": 82,
   "metadata": {
    "_kg_hide-input": true,
    "_uuid": "26ce5af9c5382b0974496c8b918f67ccb5470bca"
   },
   "outputs": [
    {
     "name": "stdout",
     "output_type": "stream",
     "text": [
      "Calculated score is: 704\n"
     ]
    }
   ],
   "source": [
    "from math import exp\n",
    "# Creating a function to normalize the scores between 0 and 1000\n",
    "\n",
    "def normalize(points):\n",
    "    \"\"\"\n",
    "    Normalize to get values between 0 and 1000\n",
    "    \"\"\"\n",
    "    return int(1 / (1 + exp(-points)) * 1000)\n",
    "\n",
    "# suming all points + intercept then normalizing between 0 and 1\n",
    "score = features['points'].sum() + lreg.intercept_[0]\n",
    "print('Calculated score is:', normalize(score))"
   ]
  },
  {
   "cell_type": "markdown",
   "metadata": {
    "_uuid": "150eded8ec6e1a74837a1db8e6dbe633fcf728a3"
   },
   "source": [
    "## Implementing the parametrized model as a AWS Lambda Function.\n",
    "To get this model into production, we are creating a Lambda function that receives the input json through an API Gateway Integration, calculates the score and then returns it to the API. You can access the API by doing a simple POST with the input json at the body.\n",
    "\n",
    "[**All code for Lambda are available at this git.**](https://github.com/andresionek91/kaggle-top20-predictor)\n",
    "\n",
    "Instructions on how to deploy a model to AWS lambda were found on this [Towards Data Science post, by Ben Weber](https://towardsdatascience.com/data-science-for-startups-model-services-2facf2dde81d).\n",
    "\n",
    "### Below we test the API using requests\n",
    "Notice that the usage is limited to 1 request/second at this moment.\n"
   ]
  },
  {
   "cell_type": "code",
   "execution_count": 83,
   "metadata": {
    "_uuid": "40f11d63c0b34e31589779b5661d8c6a5a5902c6"
   },
   "outputs": [
    {
     "data": {
      "text/plain": [
       "{'isBase64Encoded': False,\n",
       " 'headers': {'Content-Type': 'application/json'},\n",
       " 'statusCode': 200,\n",
       " 'body': '{\"score\": 704, \"proba\": \"40%\", \"message\": \"The probability of someone with this score earn more than USD 100.000 per year is 40%.\"}'}"
      ]
     },
     "execution_count": 83,
     "metadata": {},
     "output_type": "execute_result"
    }
   ],
   "source": [
    "import requests\n",
    "import json\n",
    "\n",
    "input_json = {\n",
    "    \"Q1\": \"q1_other\",\n",
    "    \"Q2\": \"q2_25_29\",\n",
    "    \"Q3\": \"q3_united_\",\n",
    "    \"Q4\": \"q4_other\",\n",
    "    \"Q6\": \"q6_student\",\n",
    "    \"Q7\": \"q7_other2\",\n",
    "    \"Q8\": \"q8_2_3\",\n",
    "    \"Q10\": \"q10_we_rec\",\n",
    "    \"q11_analyz\": \"on\",\n",
    "    \"q11_run_a_\": \"on\",\n",
    "    \"q11_build_\": \"on\",\n",
    "    \"q15_amazon\": \"on\",\n",
    "    \"other\": \"on\",\n",
    "    \"q16_python\": \"on\",\n",
    "    \"q16_sql\": \"on\",\n",
    "    \"Q23\": \"q23_25_to_\",\n",
    "    \"q31_catego\": \"on\",\n",
    "    \"q31_geospa\": \"on\",\n",
    "    \"q31_numeri\": \"on\",\n",
    "    \"q31_tabula\": \"on\",\n",
    "    \"q31_text_d\": \"on\",\n",
    "    \"q31_time_s\": \"on\",\n",
    "    \"q42_revenu\": \"on\"\n",
    "}\n",
    "\n",
    "treated_input_json = treat_input(input_json)\n",
    "header = {'Content-Type': 'application/x-www-form-urlencoded'}\n",
    "\n",
    "url = 'https://tk9k0fkvyj.execute-api.us-east-2.amazonaws.com/default/top20-predictor'\n",
    "\n",
    "requests.post(url, params=treated_input_json, headers=header).json()"
   ]
  },
  {
   "cell_type": "markdown",
   "metadata": {
    "_uuid": "4f76b1142d4e20e370d8f73081e9273fdfc4ce9c"
   },
   "source": [
    "## Getting the Number of Requests Made to the API\n",
    "Our Lambda function is also saving each input and the resulting score as a json object inside a S3 Bucket. We wrote another lambda function, and an API, to count the number of objects in a bucket."
   ]
  },
  {
   "cell_type": "code",
   "execution_count": 84,
   "metadata": {
    "_uuid": "a795bf574159618b004dcfeb0f05cf2f53f8fdc8"
   },
   "outputs": [
    {
     "data": {
      "text/plain": [
       "{'size': 1925}"
      ]
     },
     "execution_count": 84,
     "metadata": {},
     "output_type": "execute_result"
    }
   ],
   "source": [
    "# Making a get to our API. It triggers a lambda function that counts the number of objects inside our bucket.\n",
    "url = 'https://wucg3iz2r4.execute-api.us-east-2.amazonaws.com/default/count-kaggle-top20-objects'\n",
    "requests.get(url).json()"
   ]
  },
  {
   "cell_type": "markdown",
   "metadata": {
    "_uuid": "50e0c948f93274433bf75223f2c1b75ae61b3edd"
   },
   "source": [
    "## Creating a Flask App\n",
    "Next we created a Flask App to run our html and collect answers from a form, send it to lambda and show the result to the user. It was deployed using AWS Beanstalk.\n",
    "\n",
    "[More detailed instructions on app deployment are available here](https://medium.com/p/2ece8e66d98c/)\n",
    "\n",
    "[You can access the working app here.](http://www.data-scientist-value.com/)\n",
    "\n",
    "[Or see the git with code to create the Flask App here.](https://github.com/andresionek91/data-scientist-value)"
   ]
  },
  {
   "cell_type": "markdown",
   "metadata": {
    "_uuid": "a99c923ef66e0151fb572bb3d68ba74d53606f62"
   },
   "source": [
    "# Have any question or idea?\n",
    "Please feel free to ask anything and criticize the work. Hope that you find it useful to define your career path."
   ]
  }
 ],
 "metadata": {
  "kernelspec": {
   "display_name": "Python 3",
   "language": "python",
   "name": "python3"
  },
  "language_info": {
   "codemirror_mode": {
    "name": "ipython",
    "version": 3
   },
   "file_extension": ".py",
   "mimetype": "text/x-python",
   "name": "python",
   "nbconvert_exporter": "python",
   "pygments_lexer": "ipython3",
   "version": "3.7.3"
  }
 },
 "nbformat": 4,
 "nbformat_minor": 1
}
