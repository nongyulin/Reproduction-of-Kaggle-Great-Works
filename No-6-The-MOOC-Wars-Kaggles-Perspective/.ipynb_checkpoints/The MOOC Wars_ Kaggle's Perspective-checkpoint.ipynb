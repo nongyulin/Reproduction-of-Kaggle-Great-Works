{
 "cells": [
  {
   "cell_type": "markdown",
   "metadata": {
    "_cell_guid": "b1076dfc-b9ad-4769-8c92-a6c4dae69d19",
    "_uuid": "8f2839f25d086af736a60e9eeb907d3b93b6e0e5"
   },
   "source": [
    "# The MOOC Wars: Kaggle's Perspective\n",
    "\n",
    "Many of us come to Kaggle to learn. Weather it's through competitions, studying other's code, or reading the discussion threads to get inspired - all in a single, community-driven platform. Yet, this is not where our learning journey typically begins. We start in either college/university classes or online courses on data science and machine learning. It will be instructive to look at the latter style of study in the context of data science students and professinoals.\n",
    " \n",
    " <img src=\"https://i.imgur.com/yxazDyP.png\" align='right'>\n",
    "<span style=\"background-color: #EFFBEF; height: 50%;\">Massive Open Online Courses</span> (MOOC) have taken the world of learning by storm earlier this decade. No more does one have to be physically present at a brick and mortar institution to learn the subjects of statistics, computer science, and business. World class educators and leading researches are now delivered to your home through the magic of Internet. For free, a small fee, and sometimes heafty sums of $, some platforms even gave you a promise of gainful employment at the end of their certification program [1]. \n",
    "\n",
    "The first MOOC that went \"viral\", so to speak, was actually one on artificial intelligence [2]. Data Sciene/ML along with programming remain some of the most popular courses on these platforms. So, it should come as no surprise that on average <span style=\"background-color: #EFFBEF; height: 50%;\">Kagglers spend   25% of their learning time engaged with sites like</span> [Coursera](https://www.coursera.org/), [Udacity](https://www.udacity.com), [edX](https://www.edx.org/), and even Kaggle's very own [Kaggle Learn](https://www.kaggle.com/learn/overview). \n",
    "\n",
    "Averages, as we know, do not tell a rich story. What does the Kaggle community think about MOOC education? Which learning platforms excel at attracting and keeping DS/ML students? How do the platforms stack up against each other? To answer these question, this notebook will explore a subset of 2018 Kaggle Survey Respondents who participate in Massive Open Online Courses (MOOC)."
   ]
  },
  {
   "cell_type": "markdown",
   "metadata": {
    "_uuid": "d67f11af398cc018907ff180ca0cf30973eea5b8"
   },
   "source": [
    "\n"
   ]
  },
  {
   "cell_type": "markdown",
   "metadata": {
    "_uuid": "09ce122ad734c4d7a7c2c6703907cfc469d61a76"
   },
   "source": [
    "## What Kagglers think of MOOC?\n",
    "Kaggle ML & DS survey asked a very interesting question (#39): \n",
    "> _How do you perceive the quality of online learning platforms [MOOCs] as compared to the quality of the education provided by traditional brick and mortar institutions?_\n",
    "\n",
    "To answer this, a respondent did not have to have ever used a learning platform - only having an opinon was required, though an option of \"No opinion; I do not know\" was also available. In the end, a <span style=\"background-color: #EFFBEF; height: 50%;\">little over 60% of survey participants shared their attitude on the matter</span>. The distribution of answers tells a different story accross education and country of residence segments.\n",
    "\n",
    "_Note_: Before diving in, I preprocess the complete dataset in order to simplify analysis and make data visualization look better: convert range values to be ordinal, shorten some long category names, rename columns, and convert strings to numeric where appropriate."
   ]
  },
  {
   "cell_type": "code",
   "execution_count": null,
   "metadata": {
    "_kg_hide-input": true,
    "_kg_hide-output": true,
    "_uuid": "6f1ad6717c4145244063760bcc64a238cb35f2fa"
   },
   "outputs": [],
   "source": [
    "### IMPORT LIBRARIES AND DATA ###\n",
    "import pandas as pd\n",
    "import numpy as np\n",
    "import seaborn as sns\n",
    "import matplotlib.pyplot as plt\n",
    "import matplotlib.patches as patches\n",
    "\n",
    "# Special setting for matplotlib to play nice with Jupyter\n",
    "%matplotlib inline\n",
    "\n",
    "# Read in the data\n",
    "dat = pd.read_csv('../input/multipleChoiceResponses.csv', dtype='object')\n",
    "\n",
    "### START OF DATA PREP ###\n",
    "# Initial Data Preprocessing to make visualizations nicer\n",
    "# Drop first row with question text\n",
    "dat.drop(dat.index[0], inplace=True)\n",
    "\n",
    "# Collapse undergrad category\n",
    "dat['Q4'] = dat['Q4'].apply(lambda x: x if x != 'Some college/university study without earning a bachelor’s degree' else 'Bachelor’s degree')\n",
    "# Shorten some country names\n",
    "dat['Q3'] = dat['Q3'].apply(lambda x: x if x != 'United States of America' else 'USA')  \n",
    "dat['Q3'] = dat['Q3'].apply(lambda x: x if x != 'United Kingdom of Great Britain and Northern Ireland' else 'UK')  \n",
    "\n",
    "# Set categorical variables to be ordinal\n",
    "dat['Age'] = dat['Q2'].astype('category').cat.as_ordered()                  # Age range\n",
    "dat['Role_Experience'] = dat['Q8'].astype('category').cat.as_ordered()       # Experience in current role\n",
    "dat['Coding%'] = dat['Q23'].astype('category').cat.as_ordered()              # Percentage of time coding\n",
    "dat['Data_Experience'] = dat['Q24'].astype('category').cat.as_ordered()      # Years of experience with data analysis\n",
    "dat['ML_Experience'] = dat['Q25'].astype('category').cat.as_ordered()       # Years of experience with machine learning \n",
    "dat['Bias_Exploration'] = dat['Q43'].astype('category').cat.as_ordered()    # Percentage of projects where model bias is explored\n",
    "dat['Insight_Exploration'] = dat['Q46'].astype('category').cat.as_ordered()   # Percentage of projects where model insights are explored\n",
    "\n",
    "# Rename columns\n",
    "dat['Gender'] = dat['Q1']\n",
    "dat['Country'] = dat['Q3']\n",
    "\n",
    "# Convert numeric to float for easier manipulation and meaningful names\n",
    "dat['Gather Data'] = dat['Q34_Part_1'].astype(float)\n",
    "dat['Clean Data'] = dat['Q34_Part_2'].astype(float)\n",
    "dat['Visualize Data'] = dat['Q34_Part_3'].astype(float)\n",
    "dat['Model Build/Select'] = dat['Q34_Part_4'].astype(float)\n",
    "dat['Deploy to Prod'] = dat['Q34_Part_5'].astype(float)\n",
    "dat['Find Insights'] = dat['Q34_Part_6'].astype(float)\n",
    "dat['Other Time'] = dat['Q34_OTHER_TEXT'].astype(float)\n",
    "\n",
    "dat['MOOC_Time'] = dat['Q35_Part_2'].astype(float)\n",
    "\n",
    "\n",
    "#### END OF DATA PREP ####\n",
    "\n",
    "\n",
    "# Setup data for pie chart\n",
    "mooc_use = dat['MOOC_Time'].describe()[1]\n",
    "labels = ['Online Learning', 'Other Learning']\n",
    "colors = ['#1DD040', '#E6E6E6']\n",
    "explode = [0.1, 0]\n",
    "sizes = [mooc_use, 100 - mooc_use]\n",
    "\n",
    "# Plot pie chart\n",
    "fig1, ax1 = plt.subplots(figsize=(4,4))\n",
    "plt.pie(sizes, colors=colors, explode=explode, autopct='%1.0f%%',\\\n",
    "        textprops={'color': 'white', 'fontsize': 22});\n",
    "\n",
    "# Add text\n",
    "plt.text(1.1, 0.6, 'portion of learning\\nKagglers do in', fontsize=14, color='grey')\n",
    "plt.text(2.25, 0.59, 'MOOC', fontsize=14, color='#1DD040', fontweight='bold');"
   ]
  },
  {
   "cell_type": "markdown",
   "metadata": {
    "_uuid": "1011ad8b1e2682ad507c7ee0bd7d4c1825867952"
   },
   "source": [
    "### Kagglers generally favour online learning...\n",
    "Overall, Kagglers seem to have a favourable view of MOOCs such as those found on platforms like Courseara, Udemy, or DataCamp. From close to 16,000 responses to question 39, I've excluded 1,564 that do not have an opinion on the matter. <span style=\"background-color: #EFFBEF; height: 50%;\">Close to 60% of remaining respondendents believe MOOCs are better than traditional eduction</span>, while 16% think they are worse. The sample is of course biased. After all we are asking people who actively engage with an online community - Kaggle."
   ]
  },
  {
   "cell_type": "code",
   "execution_count": null,
   "metadata": {
    "_kg_hide-input": true,
    "_uuid": "dfa26633a548d2ddb5fea5903db0e495a7c4c120"
   },
   "outputs": [],
   "source": [
    "# Aggregate Kaggler's opinions on MOOC\n",
    "cnts = dat['Q39_Part_1'].value_counts()\n",
    "no_opinion = cnts['No opinion; I do not know']\n",
    "cnts = cnts.drop(labels = ['No opinion; I do not know'])\n",
    "cnts = cnts/cnts.sum()    # convert to percentage\n",
    "\n",
    "\n",
    "# Plot\n",
    "# Set order and colors\n",
    "sns.set()\n",
    "pref_order = ['Much worse', 'Slightly worse', 'Neither better nor worse', 'Slightly better', 'Much better']\n",
    "pref_color = ['#F7819F', '#F5A9BC', '#E6E6E6', '#CEF6D8', '#9FF781']\n",
    "\n",
    "# matplotlib general settings\n",
    "fig, ax = plt.subplots(figsize=(20,1))\n",
    "plt.title('Q39: How do you perceive the quality of MOOCs compared to traditional education?', fontsize=18, loc='left')\n",
    "ax.get_xaxis().set_visible(False)\n",
    "ax.tick_params(axis='y', labelsize=16, labelcolor='grey')  \n",
    "ax.set_facecolor('white')\n",
    "\n",
    "# Draw each bar and text separately with appropriate offset\n",
    "bar_start = 0\n",
    "for i in pref_order:\n",
    "    ax.barh(y=['All Respondents'], width=cnts[i], height=0.1, left=bar_start, color=pref_color[pref_order.index(i)])\n",
    "    plt.text(bar_start + cnts[i]/2 - 0.01, -0.01, \"{:.0%}\".format(cnts[i]), fontsize=16)\n",
    "    #plt.text(bar_start + (cnts[i])/2 - 0.015, 0.4, \"{:.0%}\".format(cnts[i]), fontsize=16, transform=ax.transAxes)\n",
    "    bar_start += cnts[i]\n",
    "\n",
    "# Draw legend and set color of its text\n",
    "leg = ax.legend(pref_order, loc=(0.18,-0.5), ncol=5, fontsize=14, frameon=True, facecolor='white');\n",
    "for txt in leg.get_texts():\n",
    "    plt.setp(txt, color='grey')\n"
   ]
  },
  {
   "cell_type": "markdown",
   "metadata": {
    "_uuid": "a7d4708ed4ba0aef212d1a9d43a239be48503e8c"
   },
   "source": [
    "### ... but higher education means higher expectations\n",
    "The sentiment around MOOCs is not uniform accross various levels of higher eduction. Respondents who have attained Bacherlor's degrees are much more enthusiastic (66% rank better, 12% rank worse) about MOOCs than those who put in more years of study to attain a Doctoral degree (48% rank better, 23% rank worse). This makes sense if we consider the advanced classes and rigorous research supervision that is seldom, if ever, found in online learning platforms. MOOC has other shortcommings as well, such as lack of student engagement in class discussion, low completion rates, and lack of feedback [3]. <span style=\"background-color: #EFFBEF; height: 50%;\">As it stands, online learning can be seen as augmenting education, not replacing it</span>. The milage varies, by country though."
   ]
  },
  {
   "cell_type": "code",
   "execution_count": null,
   "metadata": {
    "_kg_hide-input": true,
    "_uuid": "9963bdb86ec6930352e2fa29e5d9f6533eedd616"
   },
   "outputs": [],
   "source": [
    "# Categories are age brackets from lowest to highest\n",
    "categories = ['Doctoral degree', 'Master’s degree', 'Bachelor’s degree']\n",
    "\n",
    "# Empty df to be built out\n",
    "cnts = pd.DataFrame(columns = categories)\n",
    "\n",
    "# Loop over all age categories and get distribution of responses \n",
    "for cat in categories:\n",
    "    cnts[cat] = dat.loc[dat['Q4'] == cat, 'Q39_Part_1'].value_counts()\n",
    "\n",
    "# Drop those with no opinion\n",
    "cnts = cnts.drop('No opinion; I do not know')\n",
    "cnts = cnts/cnts.sum()    # convert to percentage\n",
    "\n",
    "\n",
    "# Plot\n",
    "\n",
    "# matplotlib settings\n",
    "fig, ax = plt.subplots(figsize=(20,3))\n",
    "plt.title('Q39: How do you perceive the quality of MOOCs compared to traditional education?', fontsize=18, loc='left')\n",
    "ax.get_xaxis().set_visible(False)\n",
    "ax.tick_params(axis='y', labelsize=16, labelcolor='grey')  \n",
    "ax.set_facecolor('white')\n",
    "\n",
    "# Draw each bar and text separately with appropriate offset\n",
    "for cat in categories:\n",
    "    bar_start = 0\n",
    "    for i in pref_order:\n",
    "        ax.barh(y=[cat], width=cnts.loc[i,cat], height=0.6, left=bar_start, color=pref_color[pref_order.index(i)])\n",
    "        plt.text(bar_start + cnts.loc[i,cat]/2 - 0.01, categories.index(cat) - 0.1, \"{:.0%}\".format(cnts.loc[i,cat]), fontsize=14)\n",
    "        bar_start += cnts.loc[i,cat]\n",
    "\n",
    "# Draw legend and set color of its text\n",
    "leg = ax.legend(pref_order, loc=(0.18,-0.2), ncol=5, fontsize=14, frameon=True, facecolor='white');\n",
    "for txt in leg.get_texts():\n",
    "    plt.setp(txt, color='grey')"
   ]
  },
  {
   "cell_type": "markdown",
   "metadata": {
    "_uuid": "d3230b935298c741d6dd6a1cef8ef5dbae496471"
   },
   "source": [
    "### USA disillusioned with MOOC, while India is in love\n",
    "Looking at the top three countries, based on number of responses, I noticed something surprising. One would imagine USA, where millionaires who dropped out of college are hailed as role models and where the cost of higher education (and student debt) is evergrowing, would see online courses very favourably. However, <span style=\"background-color: #EFFBEF; height: 50%;\">American respondents ranked MOOCs worst vs traditional education when compared to other countries</span>. \n",
    "\n",
    "Respondents from India and China, on the other hand, seem to embrace online learning with open arms. Almost 80% of Indian respondents, for example, see online learning as better than brick and mortal institutions. Since the MOOC content is largely the same between countries, it stands to reason that <span style=\"background-color: #EFFBEF; height: 50%;\">the difference in opinion is due to quality of traditional education or access to that education</span>. There is evidence to support this, and the MIT Technology Review [4] put it best, I think:\n",
    "> In a country [India] of rigid teaching styles and scarce university slots, students and professors are exploring what online learning can be."
   ]
  },
  {
   "cell_type": "code",
   "execution_count": null,
   "metadata": {
    "_kg_hide-input": true,
    "_uuid": "4530b3c6aa021b6960135fdaecbe37b88f863328"
   },
   "outputs": [],
   "source": [
    "# Categories are top 3 countries based on number of responses\n",
    "categories = ['USA', 'China', 'India']\n",
    "\n",
    "# Empty df to be built out\n",
    "cnts = pd.DataFrame(columns = categories)\n",
    "\n",
    "# Loop over all age categories and get distribution of responses \n",
    "for cat in categories:\n",
    "    cnts[cat] = dat.loc[dat['Country'] == cat, 'Q39_Part_1'].value_counts()\n",
    "\n",
    "# Drop those with no opinion\n",
    "cnts = cnts.drop('No opinion; I do not know')\n",
    "cnts = cnts/cnts.sum()    # convert to percentage\n",
    "\n",
    "\n",
    "# Plot\n",
    "\n",
    "# matplotlib settings\n",
    "fig, ax = plt.subplots(figsize=(20,3))\n",
    "plt.title('Q39: How do you perceive the quality of MOOCs compared to traditional education?', fontsize=18, loc='left')\n",
    "ax.get_xaxis().set_visible(False)\n",
    "ax.tick_params(axis='y', labelsize=16, labelcolor='grey')  \n",
    "ax.set_facecolor('white')\n",
    "\n",
    "# Draw each bar and text separately with appropriate offset\n",
    "for cat in categories:\n",
    "    bar_start = 0\n",
    "    for i in pref_order:\n",
    "        ax.barh(y=[cat], width=cnts.loc[i,cat], height=0.6, left=bar_start, color=pref_color[pref_order.index(i)])\n",
    "        if cnts.loc[i,cat] > 0.02:\n",
    "            plt.text(bar_start + cnts.loc[i,cat]/2 - 0.01, categories.index(cat) - 0.1, \"{:.0%}\".format(cnts.loc[i,cat]), fontsize=14)\n",
    "        bar_start += cnts.loc[i,cat]\n",
    "\n",
    "# Draw legend and set color of its text\n",
    "leg = ax.legend(pref_order, loc=(0.18,-0.2), ncol=5, fontsize=14, frameon=True, facecolor='white');\n",
    "for txt in leg.get_texts():\n",
    "    plt.setp(txt, color='grey')"
   ]
  },
  {
   "cell_type": "markdown",
   "metadata": {
    "_uuid": "72177af6777e9ab902f7c8468b76bf50934faecb"
   },
   "source": [
    "# Which MOOC platforms are winning?\n",
    "\n",
    "Here it is useful to define two groups of respondents: one that uses a single MOOC platform (n=5,992) and one that engage with multiple platforms (n=9,679). \n",
    "\n",
    "### Single-platform learners often choose Coursera as their sole study\n",
    "Among single-platform users, Coursera ranks number one, followed by Kaggle's very own learning resource. Koodos to Kaggle for holding their own in a fairly competitive MOOC environment. It's even more impressive given that Kaggle Learn is an ancillary to the core service offering of the data science competition platform. Of course, the sample in the survey is heavily biased toward Kaggle users. Udemy and DataCamp are not far behind Kaggle Learn when it comes to single-platform learners. The takeaway is <span style=\"background-color: #EFFBEF; height: 50%;\">these 4 MOOCs have enough appeal for Kagglers to stick with them exclusively</span> and to not go looking for greener pastures... at least for some time. \n",
    "\n",
    "> _Note_: the \"Other\" category in question 36 responses will be explored separately in the appendix of this Kernel, if you are interested to know what other learning platforms your peers use."
   ]
  },
  {
   "cell_type": "code",
   "execution_count": null,
   "metadata": {
    "_kg_hide-input": true,
    "_uuid": "ad5dfb16e9ac52b5b62bb7f031cffc930e6ba2ba"
   },
   "outputs": [],
   "source": [
    "# TECHNICAL NOTE: if a respondent only provided one answer in question 36 (which online learning platforms do you use), \n",
    "#                 then question 37 was skipped. It is assumed that the one platform from Q36 is the platform on which \n",
    "#                 the respondent spends most time. To take that into account I do some data prep before plottign the graph.\n",
    "\n",
    "# Iterate over a slise of dataset (questions 36, all parts)\n",
    "for i, row in dat.iloc[:,291:304].iterrows():\n",
    "    if row['Q36_Part_12'] == 'None':\n",
    "        dat.loc[i, 'Q37'] = 'None'                       # Responded doesn't use MOOCs\n",
    "    elif row.count() == 1:\n",
    "        dat.loc[i, 'Q37'] = ''.join(row.fillna(''))      # Respondent gave only one MOOC\n",
    "\n",
    "## Count how many MOOC platforms the respondent uses\n",
    "dat['No_MOOCs'] = dat.iloc[:,291:304].count(axis=1)\n",
    "\n",
    "# Plot\n",
    "\n",
    "# Get the counts of each MOOC\n",
    "cnts = dat.loc[dat['No_MOOCs'] == 1, 'Q37'].value_counts()\n",
    "cnts = cnts.drop(['None'])\n",
    "\n",
    "# Assign different color to 'Other' category\n",
    "plt_data = pd.DataFrame(cnts)\n",
    "plt_data['hue'] = ['#CEF6D8'] * plt_data.shape[0]\n",
    "plt_data.loc['Other', 'hue'] = '#E6E6E6'\n",
    "\n",
    "\n",
    "# Basic plot setting\n",
    "fig, ax = plt.subplots(figsize=(12,6))\n",
    "ax.set_facecolor('white')\n",
    "plt.barh(y=plt_data.index, width=plt_data.Q37, height=0.7, color=plt_data.hue)\n",
    "plt.title('Single-platform MOOC Learner Preferences (Q37 inferred)', fontsize=14, loc='left')\n",
    "\n",
    "\n",
    "# Remove figure frame and Y grid\n",
    "ax.spines['top'].set_visible(False)\n",
    "ax.spines['right'].set_visible(False)\n",
    "ax.spines['bottom'].set_visible(False)\n",
    "\n",
    "\n",
    "# X-axis formatting\n",
    "plt.xlabel('Number of Respondents', labelpad = 10)\n",
    "ax.tick_params(axis='x', colors='grey', labelsize=12)\n",
    "\n",
    "# Y-axis formatting\n",
    "ax.yaxis.grid(False)\n",
    "ax.tick_params(axis='y', colors='black', labelsize=12)\n",
    "\n",
    "# Plot from highest to lowest count\n",
    "plt.gca().invert_yaxis()\n",
    "\n",
    "# Draw callout box\n",
    "rect = patches.Rectangle((0,-0.6),1595,6.08,linewidth=0.4,edgecolor='grey',facecolor='none')\n",
    "plt.text(1030, 5.2, '80% of single-platform learners', fontsize=14, color='grey')\n",
    "ax.add_patch(rect);"
   ]
  },
  {
   "cell_type": "markdown",
   "metadata": {
    "_uuid": "0946417775b51c9b6492e100a454721d548849cf"
   },
   "source": [
    "### ... and so do multi-platform learners\n",
    "Among respondents who use multiple MOOC platforms, Coursera holds the highest mindshare. <span style=\"background-color: #EFFBEF; height: 50%;\">Coursera is where 3,748 Kagglers spend most of their online learning time</span>. DataCamp and Udemy share second place, with roughly equal number of respondents choosing them. Udacity in fourth place, edX in fifth, while Kaggle Learn dropped all the way to #6 spot. To me this suggests that once a learner discovers other MOOC platforms, Kaggle Learn can rarely compete. Still, an impressive performace for a completely free resource. "
   ]
  },
  {
   "cell_type": "code",
   "execution_count": null,
   "metadata": {
    "_kg_hide-input": true,
    "_uuid": "cc34bd760338de736ae59363610153fcc04737e8"
   },
   "outputs": [],
   "source": [
    "# Plot\n",
    "\n",
    "# Get the counts of each MOOC\n",
    "cnts = dat.loc[dat['No_MOOCs'] > 1, 'Q37'].value_counts()\n",
    "\n",
    "# Assign different color to 'Other' category\n",
    "plt_data = pd.DataFrame(cnts)\n",
    "plt_data['hue'] = ['#CEF6D8'] * plt_data.shape[0]\n",
    "plt_data.loc['Other', 'hue'] = '#E6E6E6'\n",
    "\n",
    "\n",
    "# Basic plot setting\n",
    "fig, ax = plt.subplots(figsize=(12,6))\n",
    "ax.set_facecolor('white')\n",
    "plt.barh(y=plt_data.index, width=plt_data.Q37, height=0.7, color=plt_data.hue)\n",
    "plt.title('Q37: On which learning platform have you spent the most amount of time?', fontsize=14, loc='left')\n",
    "\n",
    "\n",
    "# Remove figure frame and Y grid\n",
    "ax.spines['top'].set_visible(False)\n",
    "ax.spines['right'].set_visible(False)\n",
    "ax.spines['bottom'].set_visible(False)\n",
    "\n",
    "\n",
    "# X-axis formatting\n",
    "plt.xlabel('Number of Respondents', labelpad = 10)\n",
    "ax.tick_params(axis='x', colors='grey', labelsize=12)\n",
    "\n",
    "# Y-axis formatting\n",
    "ax.yaxis.grid(False)\n",
    "ax.tick_params(axis='y', colors='black', labelsize=12)\n",
    "\n",
    "# Plot from highest to lowest count\n",
    "plt.gca().invert_yaxis()\n",
    "\n",
    "# Draw callout box\n",
    "rect = patches.Rectangle((0,-0.6),3800,5.08,linewidth=0.4,edgecolor='grey',facecolor='none')\n",
    "plt.text(2480, 4.2, '80% of multi-platform learners', fontsize=14, color='grey')\n",
    "ax.add_patch(rect);"
   ]
  },
  {
   "cell_type": "markdown",
   "metadata": {
    "_uuid": "9e3567a03b0669c44ccb93028e887506054c407f"
   },
   "source": [
    "Does this mean Coursera is three times better than its closest rivals? Not exactly, but we can quantify the comparison better by pitting the MOOCs against one another, one pair at a time. Looking at respondents who use Coursera along with another platform (e.g. DataCamp) and using question 37 (which platform do you use the most?) as a proxy for users preference among platforms, I can see what percentage of people chose Coursera over each of the other platforms in top 5. For example, <span style=\"background-color: #EFFBEF; height: 50%;\">72% of respondents who have used both Coursera and Udacity (and other platforms potentially), spent more time engaging with the former</span>. Across its 4 closest competitors, Coursera does not dicisevely dominate against either, with DataCamp doing quite well in terms of winning Data Scientists' mindshare."
   ]
  },
  {
   "cell_type": "code",
   "execution_count": null,
   "metadata": {
    "_kg_hide-input": true,
    "_uuid": "e0806add182a6337c8a9514501447ad08736560f"
   },
   "outputs": [],
   "source": [
    "# Select appropriate slices of respondents: those who used at least 2 platforms of interest\n",
    "coursera = []\n",
    "coursera.append(dat[(dat['Q36_Part_2'] == 'Coursera') & (dat['Q36_Part_4'] == 'DataCamp')]['Q37'].value_counts()[0])\n",
    "coursera.append(dat[(dat['Q36_Part_2'] == 'Coursera') & (dat['Q36_Part_9'] == 'Udemy')]['Q37'].value_counts()[0])\n",
    "coursera.append(dat[(dat['Q36_Part_2'] == 'Coursera') & (dat['Q36_Part_1'] == 'Udacity')]['Q37'].value_counts()[0])\n",
    "coursera.append(dat[(dat['Q36_Part_2'] == 'Coursera') & (dat['Q36_Part_3'] == 'edX')]['Q37'].value_counts()[0])\n",
    "\n",
    "competition = []\n",
    "competition.append(dat[(dat['Q36_Part_2'] == 'Coursera') & (dat['Q36_Part_4'] == 'DataCamp')]['Q37'].value_counts()[1])\n",
    "competition.append(dat[(dat['Q36_Part_2'] == 'Coursera') & (dat['Q36_Part_9'] == 'Udemy')]['Q37'].value_counts()[1])\n",
    "competition.append(dat[(dat['Q36_Part_2'] == 'Coursera') & (dat['Q36_Part_1'] == 'Udacity')]['Q37'].value_counts()[1])\n",
    "competition.append(dat[(dat['Q36_Part_2'] == 'Coursera') & (dat['Q36_Part_3'] == 'edX')]['Q37'].value_counts()[1])\n",
    "\n",
    "# Format data for plotting\n",
    "plt_data = pd.DataFrame({'Coursera': coursera, 'Competition': competition})\n",
    "plt_data = (plt_data.transpose()/plt_data.sum(axis=1)).transpose()\n",
    "\n",
    "competition_labels = ['DataCamp', 'Udemy', 'Udacity', 'edX']\n",
    "\n",
    "fig, ax = plt.subplots(figsize=(12,4))\n",
    "plt.tight_layout()\n",
    "ax.get_xaxis().set_visible(False)\n",
    "ax.set_facecolor('white')\n",
    "\n",
    "plt.barh(width = plt_data['Competition'], y=competition_labels, color = '#E6E6E6', height=0.65)\n",
    "plt.barh(width = plt_data['Coursera'], left=plt_data['Competition'], y=competition_labels, height=0.65, color='#0068B0')\n",
    "\n",
    "# Add line markers\n",
    "plt.plot([0.5, 0.5], [-0.6, 3.3], color='#6E6E6E', linestyle='--', linewidth=1)\n",
    "plt.plot([0.25, 0.25], [-0.6, 3.3], color='#6E6E6E', linestyle='--', linewidth=1)\n",
    "\n",
    "# Add text labels\n",
    "plt.text(0, 4, 'What % of times, Kagglers choose Coursera over competition? (Q36 and Q37 inferred)', fontsize=14)\n",
    "plt.text(0.91, 3.5, 'Coursera', color='#0068B0', fontsize=13, fontweight='bold')\n",
    "plt.text(0, 3.5, 'Competition', color='#6E6E6E', fontsize=13, fontweight='bold')\n",
    "plt.text(0.49, 3.5, 'vs.', color='#6E6E6E', fontsize=12, fontweight='bold')\n",
    "plt.text(0.47, -0.8, 'Tie = 50%', color='#6E6E6E', fontsize=11)\n",
    "plt.text(0.18, -0.8, 'Winning = 75%', color='#6E6E6E', fontsize=11);\n",
    "\n",
    "ax.tick_params(axis='y', colors='grey', labelsize=14)"
   ]
  },
  {
   "cell_type": "markdown",
   "metadata": {
    "_uuid": "e6543f2d236f44e2d013edd4abfafd7ccbc0b7ec"
   },
   "source": [
    "Second most popular MOOC platform, DataCamp, is on much shakier ground compared to its competition. Less than 60% of respondents choose it over edX and Udacity, and slightly over 60% when compared to Udemy. Kaggle's very own learning platform, <span style=\"background-color: #EFFBEF; height: 50%;\">Kaggle Learn, is equally preferred to DataCamp</span>, which is not something that's apparent from the simple count plot above."
   ]
  },
  {
   "cell_type": "code",
   "execution_count": null,
   "metadata": {
    "_kg_hide-input": true,
    "_uuid": "a27c3ccf7eb9a878c8af5cfc23fa8762cd331e68"
   },
   "outputs": [],
   "source": [
    "# Select appropriate slices of respondents: those who used at least 2 platforms of interest\n",
    "datacamp = []\n",
    "datacamp.append(dat[(dat['Q36_Part_4'] == 'DataCamp') & (dat['Q36_Part_6'] == 'Kaggle Learn')]['Q37'].value_counts()[0])\n",
    "datacamp.append(dat[(dat['Q36_Part_4'] == 'DataCamp') & (dat['Q36_Part_9'] == 'Udemy')]['Q37'].value_counts()[0])\n",
    "datacamp.append(dat[(dat['Q36_Part_4'] == 'DataCamp') & (dat['Q36_Part_3'] == 'edX')]['Q37'].value_counts()[0])\n",
    "datacamp.append(dat[(dat['Q36_Part_4'] == 'DataCamp') & (dat['Q36_Part_1'] == 'Udacity')]['Q37'].value_counts()[0])\n",
    "\n",
    "competition = []\n",
    "competition.append(dat[(dat['Q36_Part_4'] == 'DataCamp') & (dat['Q36_Part_6'] == 'Kaggle Learn')]['Q37'].value_counts()[1])\n",
    "competition.append(dat[(dat['Q36_Part_4'] == 'DataCamp') & (dat['Q36_Part_9'] == 'Udemy')]['Q37'].value_counts()[1])\n",
    "competition.append(dat[(dat['Q36_Part_4'] == 'DataCamp') & (dat['Q36_Part_3'] == 'edX')]['Q37'].value_counts()[1])\n",
    "competition.append(dat[(dat['Q36_Part_4'] == 'DataCamp') & (dat['Q36_Part_1'] == 'Udacity')]['Q37'].value_counts()[1])\n",
    "\n",
    "# Format data for plotting\n",
    "plt_data = pd.DataFrame({'DataCamp': datacamp, 'Competition': competition})\n",
    "plt_data = (plt_data.transpose()/plt_data.sum(axis=1)).transpose()\n",
    "\n",
    "competition_labels = ['Kaggle Learn', 'Udacity', 'edX', 'Udemy']\n",
    "\n",
    "fig, ax = plt.subplots(figsize=(12,4))\n",
    "plt.tight_layout()\n",
    "ax.get_xaxis().set_visible(False)\n",
    "ax.set_facecolor('white')\n",
    "\n",
    "plt.barh(width = plt_data['Competition'], y=competition_labels, color = '#E6E6E6', height=0.65)\n",
    "plt.barh(width = plt_data['DataCamp'], left=plt_data['Competition'], y=competition_labels, height=0.65, color='#3BB3D2')\n",
    "\n",
    "# Add line markers\n",
    "plt.plot([0.5, 0.5], [-0.6, 3.3], color='#6E6E6E', linestyle='--', linewidth=1)\n",
    "plt.plot([0.25, 0.25], [-0.6, 3.3], color='#6E6E6E', linestyle='--', linewidth=1)\n",
    "\n",
    "# Add text labels\n",
    "plt.text(0, 4, 'What % of times, Kagglers choose DataCamp over competition? (Q36 and Q37 inferred)', fontsize=14)\n",
    "plt.text(0.9, 3.5, 'DataCamp', color='#3BB3D2', fontsize=13, fontweight='bold')\n",
    "plt.text(0, 3.5, 'Competition', color='#6E6E6E', fontsize=13, fontweight='bold')\n",
    "plt.text(0.49, 3.5, 'vs.', color='#6E6E6E', fontsize=12, fontweight='bold')\n",
    "plt.text(0.47, -0.8, 'Tie = 50%', color='#6E6E6E', fontsize=11)\n",
    "plt.text(0.18, -0.8, 'Winning = 75%', color='#6E6E6E', fontsize=11);\n",
    "\n",
    "ax.tick_params(axis='y', colors='grey', labelsize=14)"
   ]
  },
  {
   "cell_type": "markdown",
   "metadata": {
    "_uuid": "b10490e3a37776bf2ba143c7187040fac8aecae4"
   },
   "source": [
    "## What's next for MOOCs?\n",
    "MOOCs have been around long enough to become established enterprises. In 2018, Forbes estimates that Coursera's revenue alone is close to $140 millionn USD[5]. With the company rumoured to go public, <span style=\"background-color: #EFFBEF; height: 50%;\">we will see an increased drive for growth from Coursera and its competitors</span> [6]. This growth will be <span style=\"background-color: #EFFBEF; height: 50%;\">fueled by evergrowing demand in the emerging markets</span> such as India and China, where access to higher education is more limited, as the demand for data science professionals steadily grows. While MOOCs are fighting for Kaggler's mindshare, we should ponder why we do online learning: is it to get an extra notch on our professional belt or is it for the sake of self-development? Answer to that question will help you decide if engaging with any of these learning platforms makes sense for you.\n",
    "\n",
    "For myself, I go to MOOCs for one of two reasons: either out of interest in the subject area or to do a crash course in a technology for the purpose of passing a standardized certification exam. While I'm learning the subject I don't care so much about measurable outcome and while studying for a certification exam, I know the certificate (external to MOOC) is backed by a recognized institution. Online learning works for me in these scenarios, but I'm sure you can find many more uses for it."
   ]
  },
  {
   "cell_type": "markdown",
   "metadata": {
    "_uuid": "b1e180df2d12f40d2a79bac790a204b7b812df65"
   },
   "source": [
    "<br><br><br>\n",
    "## Appendix: Other Learning Platforms\n",
    "Aside from the learning platforms that were offered as multiple choice question in the survey, the respondents had an option to select \"Other\" and provide their own answer. Looking at these, I realize that I haven't heard about most of them. Of course, the brand names of Linkedin, YouTube, and Codecademy I'm familiar with, but <span style=\"background-color: #EFFBEF; height: 50%;\">stepik, pluralsight, nptel - this is the first I've heard of these</span>. Even as I tried to Google the resources there were some curious results. For exapmle, with [edureka](www.edureka.co) the second search result on Google was \"Do you mean Udemy?\". It was a clever ad by the more famous MOOC platform. When I went to see what [cognitive class ai](cognitiveclass.ai) is all about, there is an obvious banner ad at the top of the landing page directing me to take a Coursera IBM certification. Finally, [mlcourse.ai](mlcourse.ai) is just an offshoot of [ods.ai](ods.ai), a Russia-based Data Science community.  What's clear is the \"Other\" MOOC platforms are mostly smaller, nieche players that attract only a small fraction of Kagglers to their sites. In the next year's survey I would like Kaggle to include some of the heavyweights in the multiple choice, namely Linkedin and Codecademy, while TheSchool.AI and DataQuest can be left for \"Other\" category to be filled out by those who use them.\n",
    "\n",
    "_Random fact_: more people spell Code**a**cademy (with an \"a\") rather than the actual name Codecademy. I wonder why they chose to drop the \"a\" in their brand. "
   ]
  },
  {
   "cell_type": "code",
   "execution_count": null,
   "metadata": {
    "_kg_hide-input": true,
    "_uuid": "23ff43c862b65adb084ff30a58fe2df814b82404"
   },
   "outputs": [],
   "source": [
    "# Read in the data\n",
    "txt_dat = pd.read_csv('../input/freeFormResponses.csv', dtype='object')\n",
    "\n",
    "# Group platforms that appear under different names and/or are misspelled\n",
    "def txt_process(txt):\n",
    "    if 'linkedin' in txt or 'lynda' in txt or 'linda' in txt or 'lybda' in txt:\n",
    "        return 'Linkedin / lynda.com'\n",
    "    elif 'codeacademy' in txt or 'codecademy' in txt or 'code academy' in txt:\n",
    "        return 'codecademy'\n",
    "    elif 'cognitive' in txt:\n",
    "        return 'cognitive class ai'\n",
    "    elif 'mlcourse' in txt:\n",
    "        return 'mlcourse.ai'\n",
    "    elif 'stepic' in txt or 'stepik' in txt:\n",
    "        return 'stepik'\n",
    "    elif 'nptel' in txt:\n",
    "        return 'nptel'\n",
    "    elif 'vidhya' in txt:\n",
    "        return 'analytics vidhya'\n",
    "    elif 'ods' in txt:\n",
    "        return 'ods.ai'\n",
    "    elif 'pluralsight' in txt:\n",
    "        return 'pluralsight'\n",
    "    else:\n",
    "        return txt\n",
    "\n",
    "# Process free text for question 36\n",
    "txt_dat['Q36_OTHER_TEXT'] = txt_dat['Q36_OTHER_TEXT'].dropna().apply(lambda x: x.lower().strip())\n",
    "txt_dat['Q36_OTHER_TEXT'] = txt_dat['Q36_OTHER_TEXT'].dropna().apply(txt_process)\n",
    "\n",
    "# Plot\n",
    "\n",
    "# Basic plot setting\n",
    "fig, ax = plt.subplots(figsize=(12,6))\n",
    "ax.set_facecolor('white')\n",
    "plt.title('Q37: Other MOOC Platforms With More Than 10 Respondents', fontsize=14, loc='left')\n",
    "\n",
    "# Horizontal bars\n",
    "plt.barh(width=txt_dat['Q36_OTHER_TEXT'].value_counts()[:10], y=txt_dat['Q36_OTHER_TEXT'].value_counts()[:10].index, height=0.7, color='#CEF6D8');\n",
    "\n",
    "# X-axis formatting\n",
    "plt.xlabel('Number of Respondents', labelpad = 10)\n",
    "ax.tick_params(axis='x', colors='grey', labelsize=12)\n",
    "\n",
    "# Y-axis formatting\n",
    "ax.yaxis.grid(False)\n",
    "ax.tick_params(axis='y', colors='black', labelsize=12)\n",
    "\n",
    "# Fix the order to be highest to lowest\n",
    "plt.gca().invert_yaxis();"
   ]
  },
  {
   "cell_type": "markdown",
   "metadata": {
    "_uuid": "f544d80535e0f60dba08bf5e913cec6cf64edd96"
   },
   "source": [
    "## References\n",
    "[1] [_Udacity U-Turns on Money Back Guarantee_](https://www.insidehighered.com/news/2018/03/16/udacity-ends-pledge-students-get-hired-or-get-their-money-back). Insider Higher Ed. March 16, 2018.<br>\n",
    "[2]  [_Will MOOCs be Flukes?_](https://www.newyorker.com/science/maria-konnikova/moocs-failure-solutions). The New Yorker. November 7, 2014.<br>\n",
    "[3] [_The Future of Massively Open Online Courses_](https://www.forbes.com/sites/quora/2017/03/23/the-future-of-massively-open-online-courses-moocs/#4f7289046b83). Forbes. March 23, 2017.<br>\n",
    "[4] [_India Loves MOOCs_](https://www.technologyreview.com/s/539131/india-loves-moocs/). MIT Technology Review. July 26, 2015. <br>\n",
    "[5] [_This Company Could Be Your Next Teacher: Coursera Plots A Massive Future For Online Education_](https://www.forbes.com/sites/susanadams/2018/10/16/this-company-could-be-your-next-teacher-coursera-plots-a-massive-future-for-online-education/#2e348b5e2a39). Forbes. October 16, 2018.<br>\n",
    "[6] [_Beware of the Great MOOC Bait-and-Switch_](https://www.forbes.com/sites/dereknewton/2018/11/19/beware-of-the-great-mooc-bait-and-switch/#7f3bce8b12f2). Forbes. November 19, 2018."
   ]
  }
 ],
 "metadata": {
  "kernelspec": {
   "display_name": "Python 3",
   "language": "python",
   "name": "python3"
  },
  "language_info": {
   "codemirror_mode": {
    "name": "ipython",
    "version": 3
   },
   "file_extension": ".py",
   "mimetype": "text/x-python",
   "name": "python",
   "nbconvert_exporter": "python",
   "pygments_lexer": "ipython3",
   "version": "3.7.3"
  }
 },
 "nbformat": 4,
 "nbformat_minor": 1
}
