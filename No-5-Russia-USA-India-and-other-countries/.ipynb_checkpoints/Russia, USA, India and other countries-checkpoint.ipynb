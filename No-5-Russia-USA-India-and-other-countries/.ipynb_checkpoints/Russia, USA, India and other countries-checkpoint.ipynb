{
 "cells": [
  {
   "cell_type": "markdown",
   "metadata": {
    "_uuid": "fba8b36483ee3779fa487ffcd3f429b18bfabc29"
   },
   "source": [
    "## General information\n",
    "\n",
    "Some time ago Kaggle launched a big online survey for kagglers and now this data is public. There were multiple choice questions and some forms for open answers. Survey received 23,859 usable respondents from 147 countries and territories. As a result we have a big dataset with rich information on data scientists using Kaggle.\n",
    "\n",
    "In this kernel I'll try to analyze this data and provide various insights. Main tools for this will be Python and seaborn + plotly.\n",
    "\n",
    "***Scroll down to find new interactive visualizations where you can choose any country and the graph will be shown for it***\n",
    "\n",
    "![](https://www.kaggle.com/static/images/host-home/host-home-business.png)\n",
    "\n",
    "### Main idea: comparing countries\n",
    "\n",
    "While there are many ways to analyse the data, I have decided to perform the analysis based on the country of the responders. You'll see more about this lower."
   ]
  },
  {
   "cell_type": "code",
   "execution_count": 1,
   "metadata": {
    "_cell_guid": "b1076dfc-b9ad-4769-8c92-a6c4dae69d19",
    "_kg_hide-input": true,
    "_uuid": "8f2839f25d086af736a60e9eeb907d3b93b6e0e5",
    "scrolled": true
   },
   "outputs": [
    {
     "data": {
      "text/html": [
       "        <script type=\"text/javascript\">\n",
       "        window.PlotlyConfig = {MathJaxConfig: 'local'};\n",
       "        if (window.MathJax) {MathJax.Hub.Config({SVG: {font: \"STIX-Web\"}});}\n",
       "        if (typeof require !== 'undefined') {\n",
       "        require.undef(\"plotly\");\n",
       "        requirejs.config({\n",
       "            paths: {\n",
       "                'plotly': ['https://cdn.plot.ly/plotly-latest.min']\n",
       "            }\n",
       "        });\n",
       "        require(['plotly'], function(Plotly) {\n",
       "            window._Plotly = Plotly;\n",
       "        });\n",
       "        }\n",
       "        </script>\n",
       "        "
      ]
     },
     "metadata": {},
     "output_type": "display_data"
    }
   ],
   "source": [
    "# libraries\n",
    "import numpy as np \n",
    "import pandas as pd \n",
    "import os\n",
    "import math\n",
    "import matplotlib.pyplot as plt\n",
    "import seaborn as sns\n",
    "%matplotlib inline\n",
    "from plotly import tools\n",
    "import plotly.graph_objs as go\n",
    "from plotly.offline import init_notebook_mode, iplot\n",
    "import warnings\n",
    "warnings.filterwarnings(\"ignore\")\n",
    "init_notebook_mode(connected=True)\n",
    "pd.set_option('display.max_columns', None)\n",
    "from ipywidgets import interact, interactive, interact_manual\n",
    "import ipywidgets as widgets\n",
    "import colorlover as cl\n"
   ]
  },
  {
   "cell_type": "code",
   "execution_count": 2,
   "metadata": {
    "_cell_guid": "79c7e3d0-c299-4dcb-8224-4455121ee9b0",
    "_uuid": "d629ff2d2480ee46fbb7e2d37f6b5fab8052498a"
   },
   "outputs": [],
   "source": [
    "#loading data\n",
    "DIR = './input/kaggle-survey-2018/'\n",
    "df_free = pd.read_csv(DIR + 'freeFormResponses.csv', low_memory=False, header=[0,1])\n",
    "df_choice = pd.read_csv(DIR + 'multipleChoiceResponses.csv', low_memory=False, header=[0,1])\n",
    "schema = pd.read_csv(DIR + 'SurveySchema.csv', low_memory=False, header=[0,1])\n",
    "# Format Dataframes\n",
    "df_free.columns = ['_'.join(col) for col in df_free.columns]\n",
    "df_choice.columns = ['_'.join(col) for col in df_choice.columns]\n",
    "schema.columns = ['_'.join(col) for col in schema.columns]\n",
    "\n",
    "# For getting all columns\n",
    "pd.set_option('display.max_columns', None)"
   ]
  },
  {
   "cell_type": "markdown",
   "metadata": {
    "_uuid": "2d0d0d7892731ea2f1051ebbc03607f1826d0129"
   },
   "source": [
    "### Responders in different countries"
   ]
  },
  {
   "cell_type": "code",
   "execution_count": 3,
   "metadata": {
    "_kg_hide-input": true,
    "_uuid": "b0734a672b761533ba5890d67d8c794fee55377d",
    "scrolled": true
   },
   "outputs": [],
   "source": [
    "country_count = df_choice['Q3_In which country do you currently reside?'].value_counts().reset_index()\n",
    "country_count.columns = ['country', 'people']"
   ]
  },
  {
   "cell_type": "markdown",
   "metadata": {
    "_uuid": "599a78ec565190a1629e68fe5c77c68bd5cbd720"
   },
   "source": [
    "Let's see how many people responded to the survey in different countries."
   ]
  },
  {
   "cell_type": "code",
   "execution_count": 4,
   "metadata": {
    "_kg_hide-input": true,
    "_uuid": "e6a2f470bceba24da81c24be01263de927e49b88",
    "scrolled": false
   },
   "outputs": [],
   "source": [
    "# I use dataset from plotly to get country codes, which are required to plot the data.\n",
    "country_code = pd.read_csv('./input/plotly-country-code-mapping/2014_world_gdp_with_codes.csv')\n",
    "country_code.columns = [i.lower() for i in country_code.columns]\n",
    "country_count.loc[country_count['country'] == 'United States of America', 'country'] = 'United States'\n",
    "country_count.loc[country_count['country'] == 'United Kingdom of Great Britain and Northern Ireland', 'country'] = 'United Kingdom'\n",
    "country_count.loc[country_count['country'] == 'South Korea', 'country'] = '\"Korea, South\"'\n",
    "country_count.loc[country_count['country'] == 'Viet Nam', 'country'] = 'Vietnam'\n",
    "country_count.loc[country_count['country'] == 'Iran, Islamic Republic of...', 'country'] = 'Iran'\n",
    "country_count.loc[country_count['country'] == 'Hong Kong (S.A.R.)', 'country'] = 'Hong Kong'\n",
    "country_count.loc[country_count['country'] == 'Republic of Korea', 'country'] = '\"Korea, North\"'\n",
    "country_count = pd.merge(country_count, country_code, on='country')"
   ]
  },
  {
   "cell_type": "code",
   "execution_count": 5,
   "metadata": {
    "_kg_hide-input": true,
    "_uuid": "e980e3f8d3d37fa8132956a23e5107f738bffa48"
   },
   "outputs": [
    {
     "ename": "ValueError",
     "evalue": "Invalid property specified for object of type plotly.graph_objs.choropleth.ColorBar: 'autotick'\n\n    Valid properties:\n        bgcolor\n            Sets the color of padded area.\n        bordercolor\n            Sets the axis line color.\n        borderwidth\n            Sets the width (in px) or the border enclosing this\n            color bar.\n        dtick\n            Sets the step in-between ticks on this axis. Use with\n            `tick0`. Must be a positive number, or special strings\n            available to \"log\" and \"date\" axes. If the axis `type`\n            is \"log\", then ticks are set every 10^(n*dtick) where n\n            is the tick number. For example, to set a tick mark at\n            1, 10, 100, 1000, ... set dtick to 1. To set tick marks\n            at 1, 100, 10000, ... set dtick to 2. To set tick marks\n            at 1, 5, 25, 125, 625, 3125, ... set dtick to\n            log_10(5), or 0.69897000433. \"log\" has several special\n            values; \"L<f>\", where `f` is a positive number, gives\n            ticks linearly spaced in value (but not position). For\n            example `tick0` = 0.1, `dtick` = \"L0.5\" will put ticks\n            at 0.1, 0.6, 1.1, 1.6 etc. To show powers of 10 plus\n            small digits between, use \"D1\" (all digits) or \"D2\"\n            (only 2 and 5). `tick0` is ignored for \"D1\" and \"D2\".\n            If the axis `type` is \"date\", then you must convert the\n            time to milliseconds. For example, to set the interval\n            between ticks to one day, set `dtick` to 86400000.0.\n            \"date\" also has special values \"M<n>\" gives ticks\n            spaced by a number of months. `n` must be a positive\n            integer. To set ticks on the 15th of every third month,\n            set `tick0` to \"2000-01-15\" and `dtick` to \"M3\". To set\n            ticks every 4 years, set `dtick` to \"M48\"\n        exponentformat\n            Determines a formatting rule for the tick exponents.\n            For example, consider the number 1,000,000,000. If\n            \"none\", it appears as 1,000,000,000. If \"e\", 1e+9. If\n            \"E\", 1E+9. If \"power\", 1x10^9 (with 9 in a super\n            script). If \"SI\", 1G. If \"B\", 1B.\n        len\n            Sets the length of the color bar This measure excludes\n            the padding of both ends. That is, the color bar length\n            is this length minus the padding on both ends.\n        lenmode\n            Determines whether this color bar's length (i.e. the\n            measure in the color variation direction) is set in\n            units of plot \"fraction\" or in *pixels. Use `len` to\n            set the value.\n        nticks\n            Specifies the maximum number of ticks for the\n            particular axis. The actual number of ticks will be\n            chosen automatically to be less than or equal to\n            `nticks`. Has an effect only if `tickmode` is set to\n            \"auto\".\n        outlinecolor\n            Sets the axis line color.\n        outlinewidth\n            Sets the width (in px) of the axis line.\n        separatethousands\n            If \"true\", even 4-digit integers are separated\n        showexponent\n            If \"all\", all exponents are shown besides their\n            significands. If \"first\", only the exponent of the\n            first tick is shown. If \"last\", only the exponent of\n            the last tick is shown. If \"none\", no exponents appear.\n        showticklabels\n            Determines whether or not the tick labels are drawn.\n        showtickprefix\n            If \"all\", all tick labels are displayed with a prefix.\n            If \"first\", only the first tick is displayed with a\n            prefix. If \"last\", only the last tick is displayed with\n            a suffix. If \"none\", tick prefixes are hidden.\n        showticksuffix\n            Same as `showtickprefix` but for tick suffixes.\n        thickness\n            Sets the thickness of the color bar This measure\n            excludes the size of the padding, ticks and labels.\n        thicknessmode\n            Determines whether this color bar's thickness (i.e. the\n            measure in the constant color direction) is set in\n            units of plot \"fraction\" or in \"pixels\". Use\n            `thickness` to set the value.\n        tick0\n            Sets the placement of the first tick on this axis. Use\n            with `dtick`. If the axis `type` is \"log\", then you\n            must take the log of your starting tick (e.g. to set\n            the starting tick to 100, set the `tick0` to 2) except\n            when `dtick`=*L<f>* (see `dtick` for more info). If the\n            axis `type` is \"date\", it should be a date string, like\n            date data. If the axis `type` is \"category\", it should\n            be a number, using the scale where each category is\n            assigned a serial number from zero in the order it\n            appears.\n        tickangle\n            Sets the angle of the tick labels with respect to the\n            horizontal. For example, a `tickangle` of -90 draws the\n            tick labels vertically.\n        tickcolor\n            Sets the tick color.\n        tickfont\n            Sets the color bar's tick label font\n        tickformat\n            Sets the tick label formatting rule using d3 formatting\n            mini-languages which are very similar to those in\n            Python. For numbers, see: https://github.com/d3/d3-form\n            at/blob/master/README.md#locale_format And for dates\n            see: https://github.com/d3/d3-time-\n            format/blob/master/README.md#locale_format We add one\n            item to d3's date formatter: \"%{n}f\" for fractional\n            seconds with n digits. For example, *2016-10-13\n            09:15:23.456* with tickformat \"%H~%M~%S.%2f\" would\n            display \"09~15~23.46\"\n        tickformatstops\n            plotly.graph_objs.choropleth.colorbar.Tickformatstop\n            instance or dict with compatible properties\n        tickformatstopdefaults\n            When used in a template (as layout.template.data.chorop\n            leth.colorbar.tickformatstopdefaults), sets the default\n            property values to use for elements of\n            choropleth.colorbar.tickformatstops\n        ticklen\n            Sets the tick length (in px).\n        tickmode\n            Sets the tick mode for this axis. If \"auto\", the number\n            of ticks is set via `nticks`. If \"linear\", the\n            placement of the ticks is determined by a starting\n            position `tick0` and a tick step `dtick` (\"linear\" is\n            the default value if `tick0` and `dtick` are provided).\n            If \"array\", the placement of the ticks is set via\n            `tickvals` and the tick text is `ticktext`. (\"array\" is\n            the default value if `tickvals` is provided).\n        tickprefix\n            Sets a tick label prefix.\n        ticks\n            Determines whether ticks are drawn or not. If \"\", this\n            axis' ticks are not drawn. If \"outside\" (\"inside\"),\n            this axis' are drawn outside (inside) the axis lines.\n        ticksuffix\n            Sets a tick label suffix.\n        ticktext\n            Sets the text displayed at the ticks position via\n            `tickvals`. Only has an effect if `tickmode` is set to\n            \"array\". Used with `tickvals`.\n        ticktextsrc\n            Sets the source reference on plot.ly for  ticktext .\n        tickvals\n            Sets the values at which ticks on this axis appear.\n            Only has an effect if `tickmode` is set to \"array\".\n            Used with `ticktext`.\n        tickvalssrc\n            Sets the source reference on plot.ly for  tickvals .\n        tickwidth\n            Sets the tick width (in px).\n        title\n            plotly.graph_objs.choropleth.colorbar.Title instance or\n            dict with compatible properties\n        titlefont\n            Deprecated: Please use choropleth.colorbar.title.font\n            instead. Sets this color bar's title font. Note that\n            the title's font used to be set by the now deprecated\n            `titlefont` attribute.\n        titleside\n            Deprecated: Please use choropleth.colorbar.title.side\n            instead. Determines the location of color bar's title\n            with respect to the color bar. Note that the title's\n            location used to be set by the now deprecated\n            `titleside` attribute.\n        x\n            Sets the x position of the color bar (in plot\n            fraction).\n        xanchor\n            Sets this color bar's horizontal position anchor. This\n            anchor binds the `x` position to the \"left\", \"center\"\n            or \"right\" of the color bar.\n        xpad\n            Sets the amount of padding (in px) along the x\n            direction.\n        y\n            Sets the y position of the color bar (in plot\n            fraction).\n        yanchor\n            Sets this color bar's vertical position anchor This\n            anchor binds the `y` position to the \"top\", \"middle\" or\n            \"bottom\" of the color bar.\n        ypad\n            Sets the amount of padding (in px) along the y\n            direction.\n        ",
     "output_type": "error",
     "traceback": [
      "\u001b[1;31m---------------------------------------------------------------------------\u001b[0m",
      "\u001b[1;31mValueError\u001b[0m                                Traceback (most recent call last)",
      "\u001b[1;32m<ipython-input-5-c5567efe42b6>\u001b[0m in \u001b[0;36m<module>\u001b[1;34m\u001b[0m\n\u001b[0;32m     29\u001b[0m \u001b[1;33m\u001b[0m\u001b[0m\n\u001b[0;32m     30\u001b[0m \u001b[0mfig\u001b[0m \u001b[1;33m=\u001b[0m \u001b[0mdict\u001b[0m\u001b[1;33m(\u001b[0m \u001b[0mdata\u001b[0m\u001b[1;33m=\u001b[0m\u001b[0mdata\u001b[0m\u001b[1;33m,\u001b[0m \u001b[0mlayout\u001b[0m\u001b[1;33m=\u001b[0m\u001b[0mlayout\u001b[0m \u001b[1;33m)\u001b[0m\u001b[1;33m\u001b[0m\u001b[1;33m\u001b[0m\u001b[0m\n\u001b[1;32m---> 31\u001b[1;33m \u001b[0miplot\u001b[0m\u001b[1;33m(\u001b[0m \u001b[0mfig\u001b[0m\u001b[1;33m,\u001b[0m \u001b[0mvalidate\u001b[0m\u001b[1;33m=\u001b[0m\u001b[1;32mFalse\u001b[0m\u001b[1;33m,\u001b[0m \u001b[0mfilename\u001b[0m\u001b[1;33m=\u001b[0m\u001b[1;34m'd3-world-map'\u001b[0m \u001b[1;33m)\u001b[0m\u001b[1;33m\u001b[0m\u001b[1;33m\u001b[0m\u001b[0m\n\u001b[0m",
      "\u001b[1;32mC:\\ProgramData\\Anaconda3\\lib\\site-packages\\plotly\\offline\\offline.py\u001b[0m in \u001b[0;36miplot\u001b[1;34m(figure_or_data, show_link, link_text, validate, image, filename, image_width, image_height, config, auto_play, animation_opts)\u001b[0m\n\u001b[0;32m    372\u001b[0m              \u001b[0mauto_play\u001b[0m\u001b[1;33m=\u001b[0m\u001b[0mauto_play\u001b[0m\u001b[1;33m,\u001b[0m\u001b[1;33m\u001b[0m\u001b[1;33m\u001b[0m\u001b[0m\n\u001b[0;32m    373\u001b[0m              \u001b[0mpost_script\u001b[0m\u001b[1;33m=\u001b[0m\u001b[0mpost_script\u001b[0m\u001b[1;33m,\u001b[0m\u001b[1;33m\u001b[0m\u001b[1;33m\u001b[0m\u001b[0m\n\u001b[1;32m--> 374\u001b[1;33m              animation_opts=animation_opts)\n\u001b[0m\u001b[0;32m    375\u001b[0m \u001b[1;33m\u001b[0m\u001b[0m\n\u001b[0;32m    376\u001b[0m \u001b[1;33m\u001b[0m\u001b[0m\n",
      "\u001b[1;32mC:\\ProgramData\\Anaconda3\\lib\\site-packages\\plotly\\io\\_renderers.py\u001b[0m in \u001b[0;36mshow\u001b[1;34m(fig, renderer, validate, **kwargs)\u001b[0m\n\u001b[0;32m    346\u001b[0m     \u001b[1;31m# Mimetype renderers\u001b[0m\u001b[1;33m\u001b[0m\u001b[1;33m\u001b[0m\u001b[1;33m\u001b[0m\u001b[0m\n\u001b[0;32m    347\u001b[0m     bundle = renderers._build_mime_bundle(\n\u001b[1;32m--> 348\u001b[1;33m         fig_dict, renderers_string=renderer, **kwargs)\n\u001b[0m\u001b[0;32m    349\u001b[0m     \u001b[1;32mif\u001b[0m \u001b[0mbundle\u001b[0m\u001b[1;33m:\u001b[0m\u001b[1;33m\u001b[0m\u001b[1;33m\u001b[0m\u001b[0m\n\u001b[0;32m    350\u001b[0m         \u001b[1;32mif\u001b[0m \u001b[1;32mnot\u001b[0m \u001b[0mipython_display\u001b[0m\u001b[1;33m:\u001b[0m\u001b[1;33m\u001b[0m\u001b[1;33m\u001b[0m\u001b[0m\n",
      "\u001b[1;32mC:\\ProgramData\\Anaconda3\\lib\\site-packages\\plotly\\io\\_renderers.py\u001b[0m in \u001b[0;36m_build_mime_bundle\u001b[1;34m(self, fig_dict, renderers_string, **kwargs)\u001b[0m\n\u001b[0;32m    264\u001b[0m                         \u001b[0msetattr\u001b[0m\u001b[1;33m(\u001b[0m\u001b[0mrenderer\u001b[0m\u001b[1;33m,\u001b[0m \u001b[0mk\u001b[0m\u001b[1;33m,\u001b[0m \u001b[0mv\u001b[0m\u001b[1;33m)\u001b[0m\u001b[1;33m\u001b[0m\u001b[1;33m\u001b[0m\u001b[0m\n\u001b[0;32m    265\u001b[0m \u001b[1;33m\u001b[0m\u001b[0m\n\u001b[1;32m--> 266\u001b[1;33m                 \u001b[0mbundle\u001b[0m\u001b[1;33m.\u001b[0m\u001b[0mupdate\u001b[0m\u001b[1;33m(\u001b[0m\u001b[0mrenderer\u001b[0m\u001b[1;33m.\u001b[0m\u001b[0mto_mimebundle\u001b[0m\u001b[1;33m(\u001b[0m\u001b[0mfig_dict\u001b[0m\u001b[1;33m)\u001b[0m\u001b[1;33m)\u001b[0m\u001b[1;33m\u001b[0m\u001b[1;33m\u001b[0m\u001b[0m\n\u001b[0m\u001b[0;32m    267\u001b[0m \u001b[1;33m\u001b[0m\u001b[0m\n\u001b[0;32m    268\u001b[0m         \u001b[1;32mreturn\u001b[0m \u001b[0mbundle\u001b[0m\u001b[1;33m\u001b[0m\u001b[1;33m\u001b[0m\u001b[0m\n",
      "\u001b[1;32mC:\\ProgramData\\Anaconda3\\lib\\site-packages\\plotly\\io\\_base_renderers.py\u001b[0m in \u001b[0;36mto_mimebundle\u001b[1;34m(self, fig_dict)\u001b[0m\n\u001b[0;32m    354\u001b[0m             \u001b[0manimation_opts\u001b[0m\u001b[1;33m=\u001b[0m\u001b[0mself\u001b[0m\u001b[1;33m.\u001b[0m\u001b[0manimation_opts\u001b[0m\u001b[1;33m,\u001b[0m\u001b[1;33m\u001b[0m\u001b[1;33m\u001b[0m\u001b[0m\n\u001b[0;32m    355\u001b[0m             \u001b[0mdefault_width\u001b[0m\u001b[1;33m=\u001b[0m\u001b[1;34m'100%'\u001b[0m\u001b[1;33m,\u001b[0m\u001b[1;33m\u001b[0m\u001b[1;33m\u001b[0m\u001b[0m\n\u001b[1;32m--> 356\u001b[1;33m             \u001b[0mdefault_height\u001b[0m\u001b[1;33m=\u001b[0m\u001b[1;36m525\u001b[0m\u001b[1;33m,\u001b[0m\u001b[1;33m\u001b[0m\u001b[1;33m\u001b[0m\u001b[0m\n\u001b[0m\u001b[0;32m    357\u001b[0m         )\n\u001b[0;32m    358\u001b[0m \u001b[1;33m\u001b[0m\u001b[0m\n",
      "\u001b[1;32mC:\\ProgramData\\Anaconda3\\lib\\site-packages\\plotly\\io\\_html.py\u001b[0m in \u001b[0;36mto_html\u001b[1;34m(fig, config, auto_play, include_plotlyjs, include_mathjax, post_script, full_html, animation_opts, default_width, default_height, validate)\u001b[0m\n\u001b[0;32m    127\u001b[0m \u001b[1;33m\u001b[0m\u001b[0m\n\u001b[0;32m    128\u001b[0m     \u001b[1;31m# ## Validate figure ##\u001b[0m\u001b[1;33m\u001b[0m\u001b[1;33m\u001b[0m\u001b[1;33m\u001b[0m\u001b[0m\n\u001b[1;32m--> 129\u001b[1;33m     \u001b[0mfig_dict\u001b[0m \u001b[1;33m=\u001b[0m \u001b[0mvalidate_coerce_fig_to_dict\u001b[0m\u001b[1;33m(\u001b[0m\u001b[0mfig\u001b[0m\u001b[1;33m,\u001b[0m \u001b[0mvalidate\u001b[0m\u001b[1;33m)\u001b[0m\u001b[1;33m\u001b[0m\u001b[1;33m\u001b[0m\u001b[0m\n\u001b[0m\u001b[0;32m    130\u001b[0m \u001b[1;33m\u001b[0m\u001b[0m\n\u001b[0;32m    131\u001b[0m     \u001b[1;31m# ## Generate div id ##\u001b[0m\u001b[1;33m\u001b[0m\u001b[1;33m\u001b[0m\u001b[1;33m\u001b[0m\u001b[0m\n",
      "\u001b[1;32mC:\\ProgramData\\Anaconda3\\lib\\site-packages\\plotly\\io\\_utils.py\u001b[0m in \u001b[0;36mvalidate_coerce_fig_to_dict\u001b[1;34m(fig, validate)\u001b[0m\n\u001b[0;32m     12\u001b[0m         \u001b[1;32mif\u001b[0m \u001b[0mvalidate\u001b[0m\u001b[1;33m:\u001b[0m\u001b[1;33m\u001b[0m\u001b[1;33m\u001b[0m\u001b[0m\n\u001b[0;32m     13\u001b[0m             \u001b[1;31m# This will raise an exception if fig is not a valid plotly figure\u001b[0m\u001b[1;33m\u001b[0m\u001b[1;33m\u001b[0m\u001b[1;33m\u001b[0m\u001b[0m\n\u001b[1;32m---> 14\u001b[1;33m             \u001b[0mfig_dict\u001b[0m \u001b[1;33m=\u001b[0m \u001b[0mplotly\u001b[0m\u001b[1;33m.\u001b[0m\u001b[0mgraph_objs\u001b[0m\u001b[1;33m.\u001b[0m\u001b[0mFigure\u001b[0m\u001b[1;33m(\u001b[0m\u001b[0mfig\u001b[0m\u001b[1;33m)\u001b[0m\u001b[1;33m.\u001b[0m\u001b[0mto_plotly_json\u001b[0m\u001b[1;33m(\u001b[0m\u001b[1;33m)\u001b[0m\u001b[1;33m\u001b[0m\u001b[1;33m\u001b[0m\u001b[0m\n\u001b[0m\u001b[0;32m     15\u001b[0m         \u001b[1;32melse\u001b[0m\u001b[1;33m:\u001b[0m\u001b[1;33m\u001b[0m\u001b[1;33m\u001b[0m\u001b[0m\n\u001b[0;32m     16\u001b[0m             \u001b[0mfig_dict\u001b[0m \u001b[1;33m=\u001b[0m \u001b[0mfig\u001b[0m\u001b[1;33m\u001b[0m\u001b[1;33m\u001b[0m\u001b[0m\n",
      "\u001b[1;32mC:\\ProgramData\\Anaconda3\\lib\\site-packages\\plotly\\graph_objs\\_figure.py\u001b[0m in \u001b[0;36m__init__\u001b[1;34m(self, data, layout, frames, skip_invalid, **kwargs)\u001b[0m\n\u001b[0;32m    508\u001b[0m         \"\"\"\n\u001b[0;32m    509\u001b[0m         super(Figure,\n\u001b[1;32m--> 510\u001b[1;33m               self).__init__(data, layout, frames, skip_invalid, **kwargs)\n\u001b[0m\u001b[0;32m    511\u001b[0m \u001b[1;33m\u001b[0m\u001b[0m\n\u001b[0;32m    512\u001b[0m     def add_area(\n",
      "\u001b[1;32mC:\\ProgramData\\Anaconda3\\lib\\site-packages\\plotly\\basedatatypes.py\u001b[0m in \u001b[0;36m__init__\u001b[1;34m(self, data, layout_plotly, frames, skip_invalid, **kwargs)\u001b[0m\n\u001b[0;32m    150\u001b[0m         \u001b[1;31m# ### Import traces ###\u001b[0m\u001b[1;33m\u001b[0m\u001b[1;33m\u001b[0m\u001b[1;33m\u001b[0m\u001b[0m\n\u001b[0;32m    151\u001b[0m         data = self._data_validator.validate_coerce(data,\n\u001b[1;32m--> 152\u001b[1;33m                                                     skip_invalid=skip_invalid)\n\u001b[0m\u001b[0;32m    153\u001b[0m \u001b[1;33m\u001b[0m\u001b[0m\n\u001b[0;32m    154\u001b[0m         \u001b[1;31m# ### Save tuple of trace objects ###\u001b[0m\u001b[1;33m\u001b[0m\u001b[1;33m\u001b[0m\u001b[1;33m\u001b[0m\u001b[0m\n",
      "\u001b[1;32mC:\\ProgramData\\Anaconda3\\lib\\site-packages\\_plotly_utils\\basevalidators.py\u001b[0m in \u001b[0;36mvalidate_coerce\u001b[1;34m(self, v, skip_invalid)\u001b[0m\n\u001b[0;32m   2338\u001b[0m                     \u001b[1;32melse\u001b[0m\u001b[1;33m:\u001b[0m\u001b[1;33m\u001b[0m\u001b[1;33m\u001b[0m\u001b[0m\n\u001b[0;32m   2339\u001b[0m                         trace = self.class_map[trace_type](\n\u001b[1;32m-> 2340\u001b[1;33m                             skip_invalid=skip_invalid, **v_copy)\n\u001b[0m\u001b[0;32m   2341\u001b[0m                         \u001b[0mres\u001b[0m\u001b[1;33m.\u001b[0m\u001b[0mappend\u001b[0m\u001b[1;33m(\u001b[0m\u001b[0mtrace\u001b[0m\u001b[1;33m)\u001b[0m\u001b[1;33m\u001b[0m\u001b[1;33m\u001b[0m\u001b[0m\n\u001b[0;32m   2342\u001b[0m                 \u001b[1;32melse\u001b[0m\u001b[1;33m:\u001b[0m\u001b[1;33m\u001b[0m\u001b[1;33m\u001b[0m\u001b[0m\n",
      "\u001b[1;32mC:\\ProgramData\\Anaconda3\\lib\\site-packages\\plotly\\graph_objs\\__init__.py\u001b[0m in \u001b[0;36m__init__\u001b[1;34m(self, arg, autocolorscale, colorbar, colorscale, customdata, customdatasrc, geo, hoverinfo, hoverinfosrc, hoverlabel, hovertemplate, hovertemplatesrc, hovertext, hovertextsrc, ids, idssrc, locationmode, locations, locationssrc, marker, name, reversescale, selected, selectedpoints, showscale, stream, text, textsrc, uid, uirevision, unselected, visible, z, zauto, zmax, zmid, zmin, zsrc, **kwargs)\u001b[0m\n\u001b[0;32m  68464\u001b[0m             ] = autocolorscale if autocolorscale is not None else _v\n\u001b[0;32m  68465\u001b[0m         \u001b[0m_v\u001b[0m \u001b[1;33m=\u001b[0m \u001b[0marg\u001b[0m\u001b[1;33m.\u001b[0m\u001b[0mpop\u001b[0m\u001b[1;33m(\u001b[0m\u001b[1;34m'colorbar'\u001b[0m\u001b[1;33m,\u001b[0m \u001b[1;32mNone\u001b[0m\u001b[1;33m)\u001b[0m\u001b[1;33m\u001b[0m\u001b[1;33m\u001b[0m\u001b[0m\n\u001b[1;32m> 68466\u001b[1;33m         \u001b[0mself\u001b[0m\u001b[1;33m[\u001b[0m\u001b[1;34m'colorbar'\u001b[0m\u001b[1;33m]\u001b[0m \u001b[1;33m=\u001b[0m \u001b[0mcolorbar\u001b[0m \u001b[1;32mif\u001b[0m \u001b[0mcolorbar\u001b[0m \u001b[1;32mis\u001b[0m \u001b[1;32mnot\u001b[0m \u001b[1;32mNone\u001b[0m \u001b[1;32melse\u001b[0m \u001b[0m_v\u001b[0m\u001b[1;33m\u001b[0m\u001b[1;33m\u001b[0m\u001b[0m\n\u001b[0m\u001b[0;32m  68467\u001b[0m         \u001b[0m_v\u001b[0m \u001b[1;33m=\u001b[0m \u001b[0marg\u001b[0m\u001b[1;33m.\u001b[0m\u001b[0mpop\u001b[0m\u001b[1;33m(\u001b[0m\u001b[1;34m'colorscale'\u001b[0m\u001b[1;33m,\u001b[0m \u001b[1;32mNone\u001b[0m\u001b[1;33m)\u001b[0m\u001b[1;33m\u001b[0m\u001b[1;33m\u001b[0m\u001b[0m\n\u001b[0;32m  68468\u001b[0m         \u001b[0mself\u001b[0m\u001b[1;33m[\u001b[0m\u001b[1;34m'colorscale'\u001b[0m\u001b[1;33m]\u001b[0m \u001b[1;33m=\u001b[0m \u001b[0mcolorscale\u001b[0m \u001b[1;32mif\u001b[0m \u001b[0mcolorscale\u001b[0m \u001b[1;32mis\u001b[0m \u001b[1;32mnot\u001b[0m \u001b[1;32mNone\u001b[0m \u001b[1;32melse\u001b[0m \u001b[0m_v\u001b[0m\u001b[1;33m\u001b[0m\u001b[1;33m\u001b[0m\u001b[0m\n",
      "\u001b[1;32mC:\\ProgramData\\Anaconda3\\lib\\site-packages\\plotly\\basedatatypes.py\u001b[0m in \u001b[0;36m__setitem__\u001b[1;34m(self, prop, value)\u001b[0m\n\u001b[0;32m   3155\u001b[0m             \u001b[1;31m# ### Handle compound property ###\u001b[0m\u001b[1;33m\u001b[0m\u001b[1;33m\u001b[0m\u001b[1;33m\u001b[0m\u001b[0m\n\u001b[0;32m   3156\u001b[0m             \u001b[1;32mif\u001b[0m \u001b[0misinstance\u001b[0m\u001b[1;33m(\u001b[0m\u001b[0mvalidator\u001b[0m\u001b[1;33m,\u001b[0m \u001b[0mCompoundValidator\u001b[0m\u001b[1;33m)\u001b[0m\u001b[1;33m:\u001b[0m\u001b[1;33m\u001b[0m\u001b[1;33m\u001b[0m\u001b[0m\n\u001b[1;32m-> 3157\u001b[1;33m                 \u001b[0mself\u001b[0m\u001b[1;33m.\u001b[0m\u001b[0m_set_compound_prop\u001b[0m\u001b[1;33m(\u001b[0m\u001b[0mprop\u001b[0m\u001b[1;33m,\u001b[0m \u001b[0mvalue\u001b[0m\u001b[1;33m)\u001b[0m\u001b[1;33m\u001b[0m\u001b[1;33m\u001b[0m\u001b[0m\n\u001b[0m\u001b[0;32m   3158\u001b[0m \u001b[1;33m\u001b[0m\u001b[0m\n\u001b[0;32m   3159\u001b[0m             \u001b[1;31m# ### Handle compound array property ###\u001b[0m\u001b[1;33m\u001b[0m\u001b[1;33m\u001b[0m\u001b[1;33m\u001b[0m\u001b[0m\n",
      "\u001b[1;32mC:\\ProgramData\\Anaconda3\\lib\\site-packages\\plotly\\basedatatypes.py\u001b[0m in \u001b[0;36m_set_compound_prop\u001b[1;34m(self, prop, val)\u001b[0m\n\u001b[0;32m   3464\u001b[0m         \u001b[0mvalidator\u001b[0m \u001b[1;33m=\u001b[0m \u001b[0mself\u001b[0m\u001b[1;33m.\u001b[0m\u001b[0m_validators\u001b[0m\u001b[1;33m.\u001b[0m\u001b[0mget\u001b[0m\u001b[1;33m(\u001b[0m\u001b[0mprop\u001b[0m\u001b[1;33m)\u001b[0m\u001b[1;33m\u001b[0m\u001b[1;33m\u001b[0m\u001b[0m\n\u001b[0;32m   3465\u001b[0m         \u001b[1;31m# type: BasePlotlyType\u001b[0m\u001b[1;33m\u001b[0m\u001b[1;33m\u001b[0m\u001b[1;33m\u001b[0m\u001b[0m\n\u001b[1;32m-> 3466\u001b[1;33m         \u001b[0mval\u001b[0m \u001b[1;33m=\u001b[0m \u001b[0mvalidator\u001b[0m\u001b[1;33m.\u001b[0m\u001b[0mvalidate_coerce\u001b[0m\u001b[1;33m(\u001b[0m\u001b[0mval\u001b[0m\u001b[1;33m,\u001b[0m \u001b[0mskip_invalid\u001b[0m\u001b[1;33m=\u001b[0m\u001b[0mself\u001b[0m\u001b[1;33m.\u001b[0m\u001b[0m_skip_invalid\u001b[0m\u001b[1;33m)\u001b[0m\u001b[1;33m\u001b[0m\u001b[1;33m\u001b[0m\u001b[0m\n\u001b[0m\u001b[0;32m   3467\u001b[0m \u001b[1;33m\u001b[0m\u001b[0m\n\u001b[0;32m   3468\u001b[0m         \u001b[1;31m# Save deep copies of current and new states\u001b[0m\u001b[1;33m\u001b[0m\u001b[1;33m\u001b[0m\u001b[1;33m\u001b[0m\u001b[0m\n",
      "\u001b[1;32mC:\\ProgramData\\Anaconda3\\lib\\site-packages\\_plotly_utils\\basevalidators.py\u001b[0m in \u001b[0;36mvalidate_coerce\u001b[1;34m(self, v, skip_invalid)\u001b[0m\n\u001b[0;32m   2134\u001b[0m \u001b[1;33m\u001b[0m\u001b[0m\n\u001b[0;32m   2135\u001b[0m         \u001b[1;32melif\u001b[0m \u001b[0misinstance\u001b[0m\u001b[1;33m(\u001b[0m\u001b[0mv\u001b[0m\u001b[1;33m,\u001b[0m \u001b[0mdict\u001b[0m\u001b[1;33m)\u001b[0m\u001b[1;33m:\u001b[0m\u001b[1;33m\u001b[0m\u001b[1;33m\u001b[0m\u001b[0m\n\u001b[1;32m-> 2136\u001b[1;33m             \u001b[0mv\u001b[0m \u001b[1;33m=\u001b[0m \u001b[0mself\u001b[0m\u001b[1;33m.\u001b[0m\u001b[0mdata_class\u001b[0m\u001b[1;33m(\u001b[0m\u001b[0mv\u001b[0m\u001b[1;33m,\u001b[0m \u001b[0mskip_invalid\u001b[0m\u001b[1;33m=\u001b[0m\u001b[0mskip_invalid\u001b[0m\u001b[1;33m)\u001b[0m\u001b[1;33m\u001b[0m\u001b[1;33m\u001b[0m\u001b[0m\n\u001b[0m\u001b[0;32m   2137\u001b[0m \u001b[1;33m\u001b[0m\u001b[0m\n\u001b[0;32m   2138\u001b[0m         \u001b[1;32melif\u001b[0m \u001b[0misinstance\u001b[0m\u001b[1;33m(\u001b[0m\u001b[0mv\u001b[0m\u001b[1;33m,\u001b[0m \u001b[0mself\u001b[0m\u001b[1;33m.\u001b[0m\u001b[0mdata_class\u001b[0m\u001b[1;33m)\u001b[0m\u001b[1;33m:\u001b[0m\u001b[1;33m\u001b[0m\u001b[1;33m\u001b[0m\u001b[0m\n",
      "\u001b[1;32mC:\\ProgramData\\Anaconda3\\lib\\site-packages\\plotly\\graph_objs\\choropleth\\__init__.py\u001b[0m in \u001b[0;36m__init__\u001b[1;34m(self, arg, bgcolor, bordercolor, borderwidth, dtick, exponentformat, len, lenmode, nticks, outlinecolor, outlinewidth, separatethousands, showexponent, showticklabels, showtickprefix, showticksuffix, thickness, thicknessmode, tick0, tickangle, tickcolor, tickfont, tickformat, tickformatstops, tickformatstopdefaults, ticklen, tickmode, tickprefix, ticks, ticksuffix, ticktext, ticktextsrc, tickvals, tickvalssrc, tickwidth, title, titlefont, titleside, x, xanchor, xpad, y, yanchor, ypad, **kwargs)\u001b[0m\n\u001b[0;32m   2878\u001b[0m         \u001b[1;31m# Process unknown kwargs\u001b[0m\u001b[1;33m\u001b[0m\u001b[1;33m\u001b[0m\u001b[1;33m\u001b[0m\u001b[0m\n\u001b[0;32m   2879\u001b[0m         \u001b[1;31m# ----------------------\u001b[0m\u001b[1;33m\u001b[0m\u001b[1;33m\u001b[0m\u001b[1;33m\u001b[0m\u001b[0m\n\u001b[1;32m-> 2880\u001b[1;33m         \u001b[0mself\u001b[0m\u001b[1;33m.\u001b[0m\u001b[0m_process_kwargs\u001b[0m\u001b[1;33m(\u001b[0m\u001b[1;33m**\u001b[0m\u001b[0mdict\u001b[0m\u001b[1;33m(\u001b[0m\u001b[0marg\u001b[0m\u001b[1;33m,\u001b[0m \u001b[1;33m**\u001b[0m\u001b[0mkwargs\u001b[0m\u001b[1;33m)\u001b[0m\u001b[1;33m)\u001b[0m\u001b[1;33m\u001b[0m\u001b[1;33m\u001b[0m\u001b[0m\n\u001b[0m\u001b[0;32m   2881\u001b[0m \u001b[1;33m\u001b[0m\u001b[0m\n\u001b[0;32m   2882\u001b[0m         \u001b[1;31m# Reset skip_invalid\u001b[0m\u001b[1;33m\u001b[0m\u001b[1;33m\u001b[0m\u001b[1;33m\u001b[0m\u001b[0m\n",
      "\u001b[1;32mC:\\ProgramData\\Anaconda3\\lib\\site-packages\\plotly\\basedatatypes.py\u001b[0m in \u001b[0;36m_process_kwargs\u001b[1;34m(self, **kwargs)\u001b[0m\n\u001b[0;32m   2706\u001b[0m \u001b[1;33m\u001b[0m\u001b[0m\n\u001b[0;32m   2707\u001b[0m         \u001b[1;32mif\u001b[0m \u001b[0minvalid_kwargs\u001b[0m \u001b[1;32mand\u001b[0m \u001b[1;32mnot\u001b[0m \u001b[0mself\u001b[0m\u001b[1;33m.\u001b[0m\u001b[0m_skip_invalid\u001b[0m\u001b[1;33m:\u001b[0m\u001b[1;33m\u001b[0m\u001b[1;33m\u001b[0m\u001b[0m\n\u001b[1;32m-> 2708\u001b[1;33m             \u001b[0mself\u001b[0m\u001b[1;33m.\u001b[0m\u001b[0m_raise_on_invalid_property_error\u001b[0m\u001b[1;33m(\u001b[0m\u001b[1;33m*\u001b[0m\u001b[0minvalid_kwargs\u001b[0m\u001b[1;33m.\u001b[0m\u001b[0mkeys\u001b[0m\u001b[1;33m(\u001b[0m\u001b[1;33m)\u001b[0m\u001b[1;33m)\u001b[0m\u001b[1;33m\u001b[0m\u001b[1;33m\u001b[0m\u001b[0m\n\u001b[0m\u001b[0;32m   2709\u001b[0m \u001b[1;33m\u001b[0m\u001b[0m\n\u001b[0;32m   2710\u001b[0m     \u001b[1;33m@\u001b[0m\u001b[0mproperty\u001b[0m\u001b[1;33m\u001b[0m\u001b[1;33m\u001b[0m\u001b[0m\n",
      "\u001b[1;32mC:\\ProgramData\\Anaconda3\\lib\\site-packages\\plotly\\basedatatypes.py\u001b[0m in \u001b[0;36m_raise_on_invalid_property_error\u001b[1;34m(self, *args)\u001b[0m\n\u001b[0;32m   3331\u001b[0m                                  \u001b[0mfull_obj_name\u001b[0m\u001b[1;33m=\u001b[0m\u001b[0mfull_obj_name\u001b[0m\u001b[1;33m,\u001b[0m\u001b[1;33m\u001b[0m\u001b[1;33m\u001b[0m\u001b[0m\n\u001b[0;32m   3332\u001b[0m                                  \u001b[0minvalid_str\u001b[0m\u001b[1;33m=\u001b[0m\u001b[0minvalid_str\u001b[0m\u001b[1;33m,\u001b[0m\u001b[1;33m\u001b[0m\u001b[1;33m\u001b[0m\u001b[0m\n\u001b[1;32m-> 3333\u001b[1;33m                                  prop_descriptions=self._prop_descriptions))\n\u001b[0m\u001b[0;32m   3334\u001b[0m \u001b[1;33m\u001b[0m\u001b[0m\n\u001b[0;32m   3335\u001b[0m     \u001b[1;32mdef\u001b[0m \u001b[0mupdate\u001b[0m\u001b[1;33m(\u001b[0m\u001b[0mself\u001b[0m\u001b[1;33m,\u001b[0m \u001b[0mdict1\u001b[0m\u001b[1;33m=\u001b[0m\u001b[1;32mNone\u001b[0m\u001b[1;33m,\u001b[0m \u001b[1;33m**\u001b[0m\u001b[0mkwargs\u001b[0m\u001b[1;33m)\u001b[0m\u001b[1;33m:\u001b[0m\u001b[1;33m\u001b[0m\u001b[1;33m\u001b[0m\u001b[0m\n",
      "\u001b[1;31mValueError\u001b[0m: Invalid property specified for object of type plotly.graph_objs.choropleth.ColorBar: 'autotick'\n\n    Valid properties:\n        bgcolor\n            Sets the color of padded area.\n        bordercolor\n            Sets the axis line color.\n        borderwidth\n            Sets the width (in px) or the border enclosing this\n            color bar.\n        dtick\n            Sets the step in-between ticks on this axis. Use with\n            `tick0`. Must be a positive number, or special strings\n            available to \"log\" and \"date\" axes. If the axis `type`\n            is \"log\", then ticks are set every 10^(n*dtick) where n\n            is the tick number. For example, to set a tick mark at\n            1, 10, 100, 1000, ... set dtick to 1. To set tick marks\n            at 1, 100, 10000, ... set dtick to 2. To set tick marks\n            at 1, 5, 25, 125, 625, 3125, ... set dtick to\n            log_10(5), or 0.69897000433. \"log\" has several special\n            values; \"L<f>\", where `f` is a positive number, gives\n            ticks linearly spaced in value (but not position). For\n            example `tick0` = 0.1, `dtick` = \"L0.5\" will put ticks\n            at 0.1, 0.6, 1.1, 1.6 etc. To show powers of 10 plus\n            small digits between, use \"D1\" (all digits) or \"D2\"\n            (only 2 and 5). `tick0` is ignored for \"D1\" and \"D2\".\n            If the axis `type` is \"date\", then you must convert the\n            time to milliseconds. For example, to set the interval\n            between ticks to one day, set `dtick` to 86400000.0.\n            \"date\" also has special values \"M<n>\" gives ticks\n            spaced by a number of months. `n` must be a positive\n            integer. To set ticks on the 15th of every third month,\n            set `tick0` to \"2000-01-15\" and `dtick` to \"M3\". To set\n            ticks every 4 years, set `dtick` to \"M48\"\n        exponentformat\n            Determines a formatting rule for the tick exponents.\n            For example, consider the number 1,000,000,000. If\n            \"none\", it appears as 1,000,000,000. If \"e\", 1e+9. If\n            \"E\", 1E+9. If \"power\", 1x10^9 (with 9 in a super\n            script). If \"SI\", 1G. If \"B\", 1B.\n        len\n            Sets the length of the color bar This measure excludes\n            the padding of both ends. That is, the color bar length\n            is this length minus the padding on both ends.\n        lenmode\n            Determines whether this color bar's length (i.e. the\n            measure in the color variation direction) is set in\n            units of plot \"fraction\" or in *pixels. Use `len` to\n            set the value.\n        nticks\n            Specifies the maximum number of ticks for the\n            particular axis. The actual number of ticks will be\n            chosen automatically to be less than or equal to\n            `nticks`. Has an effect only if `tickmode` is set to\n            \"auto\".\n        outlinecolor\n            Sets the axis line color.\n        outlinewidth\n            Sets the width (in px) of the axis line.\n        separatethousands\n            If \"true\", even 4-digit integers are separated\n        showexponent\n            If \"all\", all exponents are shown besides their\n            significands. If \"first\", only the exponent of the\n            first tick is shown. If \"last\", only the exponent of\n            the last tick is shown. If \"none\", no exponents appear.\n        showticklabels\n            Determines whether or not the tick labels are drawn.\n        showtickprefix\n            If \"all\", all tick labels are displayed with a prefix.\n            If \"first\", only the first tick is displayed with a\n            prefix. If \"last\", only the last tick is displayed with\n            a suffix. If \"none\", tick prefixes are hidden.\n        showticksuffix\n            Same as `showtickprefix` but for tick suffixes.\n        thickness\n            Sets the thickness of the color bar This measure\n            excludes the size of the padding, ticks and labels.\n        thicknessmode\n            Determines whether this color bar's thickness (i.e. the\n            measure in the constant color direction) is set in\n            units of plot \"fraction\" or in \"pixels\". Use\n            `thickness` to set the value.\n        tick0\n            Sets the placement of the first tick on this axis. Use\n            with `dtick`. If the axis `type` is \"log\", then you\n            must take the log of your starting tick (e.g. to set\n            the starting tick to 100, set the `tick0` to 2) except\n            when `dtick`=*L<f>* (see `dtick` for more info). If the\n            axis `type` is \"date\", it should be a date string, like\n            date data. If the axis `type` is \"category\", it should\n            be a number, using the scale where each category is\n            assigned a serial number from zero in the order it\n            appears.\n        tickangle\n            Sets the angle of the tick labels with respect to the\n            horizontal. For example, a `tickangle` of -90 draws the\n            tick labels vertically.\n        tickcolor\n            Sets the tick color.\n        tickfont\n            Sets the color bar's tick label font\n        tickformat\n            Sets the tick label formatting rule using d3 formatting\n            mini-languages which are very similar to those in\n            Python. For numbers, see: https://github.com/d3/d3-form\n            at/blob/master/README.md#locale_format And for dates\n            see: https://github.com/d3/d3-time-\n            format/blob/master/README.md#locale_format We add one\n            item to d3's date formatter: \"%{n}f\" for fractional\n            seconds with n digits. For example, *2016-10-13\n            09:15:23.456* with tickformat \"%H~%M~%S.%2f\" would\n            display \"09~15~23.46\"\n        tickformatstops\n            plotly.graph_objs.choropleth.colorbar.Tickformatstop\n            instance or dict with compatible properties\n        tickformatstopdefaults\n            When used in a template (as layout.template.data.chorop\n            leth.colorbar.tickformatstopdefaults), sets the default\n            property values to use for elements of\n            choropleth.colorbar.tickformatstops\n        ticklen\n            Sets the tick length (in px).\n        tickmode\n            Sets the tick mode for this axis. If \"auto\", the number\n            of ticks is set via `nticks`. If \"linear\", the\n            placement of the ticks is determined by a starting\n            position `tick0` and a tick step `dtick` (\"linear\" is\n            the default value if `tick0` and `dtick` are provided).\n            If \"array\", the placement of the ticks is set via\n            `tickvals` and the tick text is `ticktext`. (\"array\" is\n            the default value if `tickvals` is provided).\n        tickprefix\n            Sets a tick label prefix.\n        ticks\n            Determines whether ticks are drawn or not. If \"\", this\n            axis' ticks are not drawn. If \"outside\" (\"inside\"),\n            this axis' are drawn outside (inside) the axis lines.\n        ticksuffix\n            Sets a tick label suffix.\n        ticktext\n            Sets the text displayed at the ticks position via\n            `tickvals`. Only has an effect if `tickmode` is set to\n            \"array\". Used with `tickvals`.\n        ticktextsrc\n            Sets the source reference on plot.ly for  ticktext .\n        tickvals\n            Sets the values at which ticks on this axis appear.\n            Only has an effect if `tickmode` is set to \"array\".\n            Used with `ticktext`.\n        tickvalssrc\n            Sets the source reference on plot.ly for  tickvals .\n        tickwidth\n            Sets the tick width (in px).\n        title\n            plotly.graph_objs.choropleth.colorbar.Title instance or\n            dict with compatible properties\n        titlefont\n            Deprecated: Please use choropleth.colorbar.title.font\n            instead. Sets this color bar's title font. Note that\n            the title's font used to be set by the now deprecated\n            `titlefont` attribute.\n        titleside\n            Deprecated: Please use choropleth.colorbar.title.side\n            instead. Determines the location of color bar's title\n            with respect to the color bar. Note that the title's\n            location used to be set by the now deprecated\n            `titleside` attribute.\n        x\n            Sets the x position of the color bar (in plot\n            fraction).\n        xanchor\n            Sets this color bar's horizontal position anchor. This\n            anchor binds the `x` position to the \"left\", \"center\"\n            or \"right\" of the color bar.\n        xpad\n            Sets the amount of padding (in px) along the x\n            direction.\n        y\n            Sets the y position of the color bar (in plot\n            fraction).\n        yanchor\n            Sets this color bar's vertical position anchor This\n            anchor binds the `y` position to the \"top\", \"middle\" or\n            \"bottom\" of the color bar.\n        ypad\n            Sets the amount of padding (in px) along the y\n            direction.\n        "
     ]
    }
   ],
   "source": [
    "data = [ dict(\n",
    "        type = 'choropleth',\n",
    "        locations = country_count['code'],\n",
    "        z = country_count['people'],\n",
    "        text = country_count['country'],\n",
    "        colorscale = 'Viridis',\n",
    "        autocolorscale = False,\n",
    "        reversescale = True,\n",
    "        marker = dict(\n",
    "            line = dict (\n",
    "                color = 'rgb(180,180,180)',\n",
    "                width = 0.5\n",
    "            ) ),\n",
    "#         colorbar = dict(\n",
    "#             autotick = False,\n",
    "#             title = 'Responders'),\n",
    "       colorbar = go.choropleth.ColorBar(\n",
    "            title = \"Responders\")                 \n",
    "\n",
    "      ) ]\n",
    "\n",
    "layout = dict(\n",
    "    title = 'Responders by country',\n",
    "    geo = dict(\n",
    "        showframe = False,\n",
    "        showcoastlines = False,\n",
    "        projection = dict(\n",
    "            type = 'Mercator'\n",
    "        )\n",
    "    )\n",
    ")\n",
    "\n",
    "fig = dict( data=data, layout=layout )\n",
    "iplot( fig, validate=False, filename='d3-world-map' )"
   ]
  },
  {
   "cell_type": "markdown",
   "metadata": {
    "_uuid": "6baadd63e33aada1824ccb735fb8294776765f72",
    "scrolled": true
   },
   "source": [
    "As expected most of the responders are from USA, India and China.\n",
    "\n",
    "USA is the country where Data Science is the most developed, India and China have a lot of aspiring DS.\n",
    "\n",
    "My country (Russia) has the fourth place, Kaggle is becoming more and more popular there."
   ]
  },
  {
   "cell_type": "markdown",
   "metadata": {
    "_uuid": "734bc64dcef9e35ec6bf1dd353c8d966a6fcae64"
   },
   "source": [
    "#### Dividing responders in groups by countries\n",
    "\n",
    "I have decided to compare countries based on the information of responders living there. While all countries are unique, it would be difficult to analyze each and every country. As a result I have decided to take USA and India separately, because they have the largest number of responders, Russia, because I live there and other countries will be grouped in one category."
   ]
  },
  {
   "cell_type": "code",
   "execution_count": null,
   "metadata": {
    "_kg_hide-input": true,
    "_uuid": "0eb392ac03b724e85010239227bde1c319d33c27"
   },
   "outputs": [],
   "source": [
    "df_choice['Q3_orig'] = df_choice['Q3_In which country do you currently reside?']\n",
    "df_choice.loc[df_choice['Q3_In which country do you currently reside?'].isin(['United States of America', 'Russia', 'India']) == False,\n",
    "              'Q3_In which country do you currently reside?'] = 'Other countries'"
   ]
  },
  {
   "cell_type": "markdown",
   "metadata": {
    "_uuid": "6d5fac28869f1721d270cf9ee972157ebac021bf"
   },
   "source": [
    "### How long did it take to answer the survey"
   ]
  },
  {
   "cell_type": "code",
   "execution_count": null,
   "metadata": {
    "_uuid": "f2e6562de99c2dd82d7076275e7d5b8b295d7121"
   },
   "outputs": [],
   "source": [
    "df_choice['Time from Start to Finish (seconds)_Duration (in minutes)'] = df_choice['Time from Start to Finish (seconds)_Duration (in seconds)'] / 60"
   ]
  },
  {
   "cell_type": "code",
   "execution_count": null,
   "metadata": {
    "_uuid": "92fa3a1d0a87db352e7e7d9b8926a7809f8604ac"
   },
   "outputs": [],
   "source": [
    "plt.hist(df_choice['Time from Start to Finish (seconds)_Duration (in minutes)'] / 60, bins=40);\n",
    "plt.yscale('log');\n",
    "plt.title('Distribution of time spent on the survey');\n",
    "plt.xlabel('Time (hours)');"
   ]
  },
  {
   "cell_type": "markdown",
   "metadata": {
    "_uuid": "9721cdec4ea2a39b9b56f5d67371541f313c9c9e"
   },
   "source": [
    "Well... it seems that a lot of people closed the survey almost immediately after opening it, thus giving little info. And some people spent days on the survey! I suppose they opened the tab and forgot about it. Let's have a look at the surveys which took less than 3 hours."
   ]
  },
  {
   "cell_type": "code",
   "execution_count": null,
   "metadata": {
    "_kg_hide-input": true,
    "_uuid": "11c05e9260a05c997d394f62a498321b1dffeeb1"
   },
   "outputs": [],
   "source": [
    "data = []\n",
    "for i in df_choice['Q3_In which country do you currently reside?'].unique():\n",
    "    trace = {\n",
    "            \"type\": 'violin',\n",
    "            \"x\": df_choice.loc[(df_choice['Q3_In which country do you currently reside?'] == i) & (df_choice['Time from Start to Finish (seconds)_Duration (in minutes)'] < 180),\n",
    "                               'Q3_In which country do you currently reside?'],\n",
    "            \"y\": df_choice.loc[(df_choice['Q3_In which country do you currently reside?'] == i) & (df_choice['Time from Start to Finish (seconds)_Duration (in minutes)'] < 180),\n",
    "                               'Time from Start to Finish (seconds)_Duration (in minutes)'],\n",
    "            \"name\": i,\n",
    "            \"meanline\": {\n",
    "                \"visible\": True\n",
    "            }\n",
    "        }\n",
    "    data.append(trace)\n",
    "\n",
    "        \n",
    "fig = {\n",
    "    \"data\": data,\n",
    "    \"layout\" : {\n",
    "        \"title\": \"\",\n",
    "        \"yaxis\": {\n",
    "            \"zeroline\": False,\n",
    "        }\n",
    "    }\n",
    "}\n",
    "\n",
    "fig['layout'].update(title='Distribution of time spent on test by country');\n",
    "iplot(fig)"
   ]
  },
  {
   "cell_type": "code",
   "execution_count": null,
   "metadata": {
    "_kg_hide-input": true,
    "_uuid": "7de0f488c6f14013143814744b35b313df53acac",
    "scrolled": false
   },
   "outputs": [],
   "source": [
    "data = []\n",
    "for j, c in enumerate(df_choice['Q3_In which country do you currently reside?'].unique()):\n",
    "    df_small = df_choice.loc[(df_choice['Q3_In which country do you currently reside?'] == c) & (df_choice['Time from Start to Finish (seconds)_Duration (in minutes)'] < 60),\n",
    "                            'Time from Start to Finish (seconds)_Duration (in minutes)']\n",
    "    trace = go.Histogram(\n",
    "        x=df_small,\n",
    "        name=c,\n",
    "        marker=dict(color=j, opacity=0.5),\n",
    "        showlegend=False\n",
    "    )  \n",
    "    data.append(trace)\n",
    "fig = go.Figure(data=data)\n",
    "fig['layout'].update(height=400, width=800, barmode='overlay', title='Distribution of time spent on test by country');\n",
    "iplot(fig);"
   ]
  },
  {
   "cell_type": "markdown",
   "metadata": {
    "_uuid": "cbf46c77f91293d48b16663f0ea9ae36ad02a4b5"
   },
   "source": [
    "For all countries situation is similar: those who seriously took the survey, spent ~15-30 minutes on it."
   ]
  },
  {
   "cell_type": "markdown",
   "metadata": {
    "_uuid": "7977bf3081d1a7ba0be94c9ae266295856acf46a"
   },
   "source": [
    "### Gender and age"
   ]
  },
  {
   "cell_type": "code",
   "execution_count": null,
   "metadata": {
    "_kg_hide-input": true,
    "_uuid": "27d6a7579976d860b756f93df2f10cc253ff3d56"
   },
   "outputs": [],
   "source": [
    "data = []\n",
    "for i in df_choice['Q1_What is your gender? - Selected Choice'].unique():\n",
    "    trace = go.Bar(\n",
    "        x=df_choice.loc[df_choice['Q1_What is your gender? - Selected Choice'] == i, 'Q2_What is your age (# years)?'].value_counts().sort_index().index,\n",
    "        y=df_choice.loc[df_choice['Q1_What is your gender? - Selected Choice'] == i, 'Q2_What is your age (# years)?'].value_counts().sort_index().values,\n",
    "        name=i\n",
    "    )\n",
    "    data.append(trace)\n",
    "layout = go.Layout(\n",
    "    barmode='stack'\n",
    ")\n",
    "fig = go.Figure(data=data, layout=layout)\n",
    "iplot(fig, filename='stacked-bar')"
   ]
  },
  {
   "cell_type": "code",
   "execution_count": null,
   "metadata": {
    "_kg_hide-input": true,
    "_uuid": "7281e18cfbbc3c7977a7dcf4b4766cffded510b8",
    "scrolled": true
   },
   "outputs": [],
   "source": [
    "s = pd.crosstab(df_choice['Q1_What is your gender? - Selected Choice'],\n",
    "                df_choice['Q2_What is your age (# years)?'], normalize='index').style.background_gradient(cmap='viridis', low=.5, high=0).highlight_null('red')\n",
    "s"
   ]
  },
  {
   "cell_type": "code",
   "execution_count": null,
   "metadata": {
    "_kg_hide-input": true,
    "_uuid": "f82ce9d3a9079f7fbdced045620bc3e471ff903f",
    "scrolled": false
   },
   "outputs": [],
   "source": [
    "def plot_country_two_vars_dropdown(var1='', var2='', title_name=''):\n",
    "    df = df_choice.copy()\n",
    "    df[var2] = df[var2].astype('category')\n",
    "    df[var1] = df[var1].astype('category')\n",
    "\n",
    "    data = []\n",
    "    buttons = []\n",
    "    n_mult = df[var1].nunique()\n",
    "    n = df['Q3_orig'].nunique() * n_mult\n",
    "    for j, c in enumerate(df['Q3_orig'].unique()):\n",
    "        visibility = [False] * n\n",
    "        for ind, i in enumerate(df[var1].unique()):\n",
    "            grouped = df.loc[(df[var1] == i) & (df['Q3_orig'] == c),\n",
    "                                var2].value_counts().sort_index()\n",
    "            trace = go.Bar(\n",
    "                x=grouped.index,\n",
    "                y=grouped.values,\n",
    "                name=i,\n",
    "\n",
    "                showlegend=True if j == 0 else False,\n",
    "                legendgroup=i,\n",
    "                visible=True if j == 0 else False\n",
    "            )\n",
    "\n",
    "            data.append(trace)\n",
    "        visibility[j*n_mult:j*n_mult + n_mult] = [True] * n_mult\n",
    "        buttons.append(dict(label = c,\n",
    "                            method = 'update',\n",
    "                            args = [{'visible': visibility},\n",
    "                                    {'title': f'Responders in {c} by {title_name}'}]))\n",
    "            \n",
    "    updatemenus = list([dict(active=-1, buttons=buttons, x=1, y=2)])\n",
    "    layout = dict(height=400, width=800, title=f\"Responders in {df['Q3_orig'].unique()[0]} by {title_name}\", updatemenus=updatemenus)\n",
    "    fig = dict(data=data, layout=layout)\n",
    "    return fig"
   ]
  },
  {
   "cell_type": "code",
   "execution_count": null,
   "metadata": {
    "_kg_hide-input": true,
    "_uuid": "d2ce2cf1def076810c26cead398ad892724eb44a",
    "scrolled": true
   },
   "outputs": [],
   "source": [
    "def plot_country_two_vars(var1='', var2='', title_name=''):\n",
    "    colors = cl.scales[str(df_choice[var1].fillna('').nunique())]['qual']['Paired']\n",
    "    fig = tools.make_subplots(rows=4, cols=1, subplot_titles=('United States of America', 'Other countries', 'India', 'Russia'), print_grid=False)\n",
    "    for j, c in enumerate(df_choice['Q3_In which country do you currently reside?'].unique()):\n",
    "        data = []\n",
    "        for ind, i in enumerate(df_choice[var1].unique()):\n",
    "            grouped = df_choice.loc[(df_choice[var1] == i) & (df_choice['Q3_In which country do you currently reside?'] == c),\n",
    "                                var2].value_counts().sort_index()\n",
    "            trace = go.Bar(\n",
    "                x=grouped.index,\n",
    "                y=grouped.values,\n",
    "                name=i,\n",
    "                marker=dict(color=colors[ind]),\n",
    "                showlegend=True if j == 0 else False,\n",
    "                legendgroup=i\n",
    "            )\n",
    "            fig.append_trace(trace, j + 1, 1)    \n",
    "\n",
    "    fig['layout'].update(height=1000, width=800, title=f'Responders in countries by {title_name}');\n",
    "    return fig\n",
    "fig = plot_country_two_vars(var1='Q1_What is your gender? - Selected Choice', var2='Q2_What is your age (# years)?', title_name='age and gender')\n",
    "iplot(fig);"
   ]
  },
  {
   "cell_type": "markdown",
   "metadata": {
    "_uuid": "62dfca2a514d4efd02dc43b8bedb7cfc30ce25a6"
   },
   "source": [
    "### New interactive graphs\n",
    "I have decided that showing only 4 countries may be not interesting enough. So I have added interactive graphs to this notebook - you can choose what you see by yourself!\n",
    "You can select country for which data will be shown, column for colors and column for x labels. If you change values in widgets, it will take several seconds to update the plot."
   ]
  },
  {
   "cell_type": "code",
   "execution_count": null,
   "metadata": {
    "_kg_hide-input": true,
    "_uuid": "eb3a2fc6bce5c60bba1e471a200e6b37559acb02"
   },
   "outputs": [],
   "source": [
    "fig = plot_country_two_vars_dropdown(var1='Q1_What is your gender? - Selected Choice', var2='Q2_What is your age (# years)?', title_name='age and gender')\n",
    "iplot(fig);"
   ]
  },
  {
   "cell_type": "markdown",
   "metadata": {
    "_uuid": "689cfcddd6e4c82b814f2b7df1577392ddfdb399"
   },
   "source": [
    "Well, there are much more males then other genders. This could be due to bias or due to higher interest in this sphere. I won't say whether there is a discrimination or barriers - this isn't the place for this. Let's have a look at other things:\n",
    "* In general there are a lot of students or young professionals. I suppose that a lot of young people try to take part in competitions to get experience or medals/prizes, which should boost their career;\n",
    "* It is worth noticing that India has a different trend - while in Russia, USA and other countries kagglers are 25-29 years old, in India most of responders are 18-21. I wonder what is the reason...\n",
    "* Also it is interesting that the ratio of women to other genders is higher in USA than in other countries. Good news!"
   ]
  },
  {
   "cell_type": "markdown",
   "metadata": {
    "_uuid": "cfc834e7f634f1f55864473eb47dc755003c37ee"
   },
   "source": [
    "### Degree"
   ]
  },
  {
   "cell_type": "code",
   "execution_count": null,
   "metadata": {
    "_kg_hide-input": true,
    "_uuid": "22682d9a0865d6071e8e24fe7968154a522c1378"
   },
   "outputs": [],
   "source": [
    "s = pd.crosstab(df_choice['Q2_What is your age (# years)?'],\n",
    "                df_choice['Q4_What is the highest level of formal education that you have attained or plan to attain within the next 2 years?']).style.background_gradient(cmap='viridis', low=.5, high=0).highlight_null('red')\n",
    "s"
   ]
  },
  {
   "cell_type": "markdown",
   "metadata": {
    "_uuid": "b5f3e36bf970380dc7900df10b59ffe873c98ac3"
   },
   "source": [
    "It seems that there are two main clusters of kagglers based on education and age: bachelors of 18-29 years and masters of 22-34 years."
   ]
  },
  {
   "cell_type": "code",
   "execution_count": null,
   "metadata": {
    "_uuid": "7b0a71753f024fd968965909a6d0f521bc14f308",
    "scrolled": true
   },
   "outputs": [],
   "source": [
    "fig = plot_country_two_vars(var1='Q1_What is your gender? - Selected Choice',\n",
    "                            var2='Q4_What is the highest level of formal education that you have attained or plan to attain within the next 2 years?',\n",
    "                            title_name='degree')\n",
    "iplot(fig);"
   ]
  },
  {
   "cell_type": "code",
   "execution_count": null,
   "metadata": {
    "_uuid": "2a814f1bf519b84a1fbba32dda6292c2fe368f22"
   },
   "outputs": [],
   "source": [
    "fig = plot_country_two_vars_dropdown(var1='Q1_What is your gender? - Selected Choice',\n",
    "                                     var2='Q4_What is the highest level of formal education that you have attained or plan to attain within the next 2 years?',\n",
    "                                     title_name='degree')\n",
    "iplot(fig);"
   ]
  },
  {
   "cell_type": "code",
   "execution_count": null,
   "metadata": {
    "_uuid": "361ccac2ef8aeed15d80a16d304e8816959268e6"
   },
   "outputs": [],
   "source": [
    "s = pd.crosstab(df_choice['Q1_What is your gender? - Selected Choice'],\n",
    "                df_choice['Q4_What is the highest level of formal education that you have attained or plan to attain within the next 2 years?'], normalize='index').style.background_gradient(cmap='viridis', low=.05, high=0).highlight_null('red')\n",
    "s"
   ]
  },
  {
   "cell_type": "markdown",
   "metadata": {
    "_uuid": "e00a94e820e3f120a5bcc05e70cfd3a86b442432"
   },
   "source": [
    "It isn't surprising that kagglers usually have (or plan to get) higher education degree. Master degree is the most common one (though in India Bachelor degree is more wide-spread).\n",
    "\n",
    "It is quite interesting that the rate of having a higher degree (master and doctoral) is higher for women than for men."
   ]
  },
  {
   "cell_type": "code",
   "execution_count": null,
   "metadata": {
    "_kg_hide-input": true,
    "_uuid": "8f4f69ccf8a2cb7e62a4e28356b91c56b8f17342"
   },
   "outputs": [],
   "source": [
    "def plot_country_one_var_dropdown(var='', title_name=''):\n",
    "    df_choice[var] = df_choice[var].astype('category')\n",
    "    data = []\n",
    "    buttons = []\n",
    "    n = df_choice['Q3_orig'].nunique()\n",
    "    for j, c in enumerate(df_choice['Q3_orig'].unique()):\n",
    "        visibility = [False] * n\n",
    "        grouped = df_choice.loc[df_choice['Q3_orig'] == c,\n",
    "                                var].value_counts().sort_index()\n",
    "        grouped = grouped / grouped.sum()\n",
    "        if var == 'Q9_What is your current yearly compensation (approximate $USD)?':\n",
    "            map_dict = {'0-10,000': 0,\n",
    "                        '10-20,000': 1,\n",
    "                        '100-125,000': 10,\n",
    "                        '125-150,000': 11,\n",
    "                        '150-200,000': 12,\n",
    "                        '20-30,000': 2,\n",
    "                        '200-250,000': 13,\n",
    "                        '250-300,000': 14,\n",
    "                        '30-40,000': 3,\n",
    "                        '300-400,000': 15,\n",
    "                        '40-50,000': 4,\n",
    "                        '400-500,000': 16,\n",
    "                        '50-60,000': 5,\n",
    "                        '60-70,000': 6,\n",
    "                        '70-80,000': 7,\n",
    "                        '80-90,000': 8,\n",
    "                        '90-100,000': 9,\n",
    "                        '500,000+': 17,\n",
    "                        'I do not wish to disclose my approximate yearly compensation': 18}\n",
    "            grouped = grouped.reset_index()\n",
    "            grouped.columns = ['salary', 'counts']\n",
    "            grouped['sorting'] = grouped['salary'].apply(lambda x: map_dict[x])\n",
    "            grouped = grouped.sort_values('sorting', ascending=True)\n",
    "            trace = go.Bar(\n",
    "                x=grouped['salary'],\n",
    "                y=grouped['counts'],\n",
    "                name=c,\n",
    "                marker=dict(color=j),\n",
    "                showlegend=True,\n",
    "                visible=True if j == 0 else False\n",
    "            )\n",
    "            data.append(trace)\n",
    "\n",
    "        elif var == 'Q24_How long have you been writing code to analyze data?':\n",
    "            map_dict = {'I have never written code but I want to learn': 8,\n",
    "                        '5-10 years': 3,\n",
    "                        '3-5 years': 2,\n",
    "                        '< 1 year': 0,\n",
    "                        '1-2 years': 1,\n",
    "                        '10-20 years': 4,\n",
    "                        '20-30 years': 5,\n",
    "                        '30-40 years': 6,\n",
    "                        'I have never written code and I do not want to learn': 9,\n",
    "                        '40+ years': 7}\n",
    "            grouped = grouped.reset_index()\n",
    "            grouped.columns = ['salary', 'counts']\n",
    "            grouped['sorting'] = grouped['salary'].apply(lambda x: map_dict[x])\n",
    "            grouped = grouped.sort_values('sorting', ascending=True)\n",
    "            trace = go.Bar(\n",
    "                x=grouped['salary'],\n",
    "                y=grouped['counts'],\n",
    "                name=c,\n",
    "                marker=dict(color=j),\n",
    "                showlegend=True,\n",
    "                visible=True if j == 0 else False\n",
    "            )\n",
    "            data.append(trace)\n",
    "        else:\n",
    "            trace = go.Bar(\n",
    "                x=grouped.index,\n",
    "                y=grouped.values,\n",
    "                name=c,\n",
    "                marker=dict(color=j),\n",
    "                showlegend=True,\n",
    "                visible=True if j == 0 else False\n",
    "            )\n",
    "            data.append(trace)\n",
    "\n",
    "        visibility[j*1:j*1 + 1] = [True]\n",
    "        buttons.append(dict(label = c,\n",
    "                            method = 'update',\n",
    "                            args = [{'visible': visibility},\n",
    "                                    {'title': f'Responders in {c} by {title_name}'}]))\n",
    "            \n",
    "            \n",
    "    updatemenus = list([dict(active=-1, buttons=buttons, x=1, y=2)])\n",
    "    layout = dict(height=400, width=800, title=f\"Responders in {df_choice['Q3_orig'].unique()[0]} by {title_name}\", updatemenus=updatemenus)\n",
    "    fig = dict(data=data, layout=layout)\n",
    "    return fig"
   ]
  },
  {
   "cell_type": "markdown",
   "metadata": {
    "_uuid": "cad88a68e5c13397dac18965b731c2f2ce31ac2e"
   },
   "source": [
    "### Major"
   ]
  },
  {
   "cell_type": "code",
   "execution_count": null,
   "metadata": {
    "_kg_hide-input": true,
    "_uuid": "199d1c49fe06ec3ead27d99fb6a939bd329a731f",
    "scrolled": false
   },
   "outputs": [],
   "source": [
    "def plot_country_one_var(var='', title_name=''):\n",
    "    data = []\n",
    "    for j, c in enumerate(df_choice['Q3_In which country do you currently reside?'].unique()):\n",
    "        grouped = df_choice.loc[df_choice['Q3_In which country do you currently reside?'] == c,\n",
    "                                var].value_counts().sort_index()\n",
    "        grouped = grouped / grouped.sum()\n",
    "        if var == 'Q9_What is your current yearly compensation (approximate $USD)?':\n",
    "            map_dict = {'0-10,000': 0,\n",
    "                        '10-20,000': 1,\n",
    "                        '100-125,000': 10,\n",
    "                        '125-150,000': 11,\n",
    "                        '150-200,000': 12,\n",
    "                        '20-30,000': 2,\n",
    "                        '200-250,000': 13,\n",
    "                        '250-300,000': 14,\n",
    "                        '30-40,000': 3,\n",
    "                        '300-400,000': 15,\n",
    "                        '40-50,000': 4,\n",
    "                        '400-500,000': 16,\n",
    "                        '50-60,000': 5,\n",
    "                        '60-70,000': 6,\n",
    "                        '70-80,000': 7,\n",
    "                        '80-90,000': 8,\n",
    "                        '90-100,000': 9,\n",
    "                        '500,000+': 17,\n",
    "                        'I do not wish to disclose my approximate yearly compensation': 18}\n",
    "            grouped = grouped.reset_index()\n",
    "            grouped.columns = ['salary', 'counts']\n",
    "            grouped['sorting'] = grouped['salary'].apply(lambda x: map_dict[x])\n",
    "            grouped = grouped.sort_values('sorting', ascending=True)\n",
    "            trace = go.Bar(\n",
    "                x=grouped['salary'],\n",
    "                y=grouped['counts'],\n",
    "                name=c,\n",
    "                marker=dict(color=j),\n",
    "                showlegend=True\n",
    "            )\n",
    "            data.append(trace)\n",
    "        elif var == 'Q24_How long have you been writing code to analyze data?':\n",
    "            map_dict = {'I have never written code but I want to learn': 8,\n",
    "                        '5-10 years': 3,\n",
    "                        '3-5 years': 2,\n",
    "                        '< 1 year': 0,\n",
    "                        '1-2 years': 1,\n",
    "                        '10-20 years': 4,\n",
    "                        '20-30 years': 5,\n",
    "                        '30-40 years': 6,\n",
    "                        'I have never written code and I do not want to learn': 9,\n",
    "                        '40+ years': 7}\n",
    "            grouped = grouped.reset_index()\n",
    "            grouped.columns = ['salary', 'counts']\n",
    "            grouped['sorting'] = grouped['salary'].apply(lambda x: map_dict[x])\n",
    "            grouped = grouped.sort_values('sorting', ascending=True)\n",
    "            trace = go.Bar(\n",
    "                x=grouped['salary'],\n",
    "                y=grouped['counts'],\n",
    "                name=c,\n",
    "                marker=dict(color=j),\n",
    "                showlegend=True\n",
    "            )\n",
    "            data.append(trace)\n",
    "        else:\n",
    "            trace = go.Bar(\n",
    "                x=grouped.index,\n",
    "                y=grouped.values,\n",
    "                name=c,\n",
    "                marker=dict(color=j),\n",
    "                showlegend=True\n",
    "            )\n",
    "            data.append(trace)    \n",
    "    fig = go.Figure(data=data)\n",
    "    fig['layout'].update(height=400, width=800, title=f'Responders in countries by {title_name}', barmode='group');\n",
    "    return fig\n",
    "\n",
    "fig = plot_country_one_var(var='Q5_Which best describes your undergraduate major? - Selected Choice', title_name='major')\n",
    "iplot(fig);"
   ]
  },
  {
   "cell_type": "code",
   "execution_count": null,
   "metadata": {
    "_uuid": "d80a18ae45c158056433fceabd2cbbe3949af540"
   },
   "outputs": [],
   "source": [
    "fig = plot_country_one_var_dropdown(var='Q5_Which best describes your undergraduate major? - Selected Choice', title_name='major')\n",
    "iplot(fig);"
   ]
  },
  {
   "cell_type": "code",
   "execution_count": null,
   "metadata": {
    "_kg_hide-input": true,
    "_uuid": "b9b09cc5db0c4e045eff0e3537f33c528f1bbc85"
   },
   "outputs": [],
   "source": [
    "s = pd.crosstab(df_choice['Q1_What is your gender? - Selected Choice'],\n",
    "                df_choice['Q5_Which best describes your undergraduate major? - Selected Choice'], normalize='index').style.background_gradient(cmap='viridis', low=.01, high=0).highlight_null('red')\n",
    "s"
   ]
  },
  {
   "cell_type": "markdown",
   "metadata": {
    "_uuid": "9c6272742c28441bc032ef0cb70b297e278684a0"
   },
   "source": [
    "People come from various backgrounds, though most come from math and CS, which isn't surprising. On the other hand, we can say, that those who come from non-relevant background could have higher interest and drive in growing as a DS.\n",
    "\n",
    "In is quite interesting that in India most kagglers have CS or engineering degree and business disciplines as well as maths aren't as popular as in other countries."
   ]
  },
  {
   "cell_type": "markdown",
   "metadata": {
    "_uuid": "d5a326d053625a4a13c6cb2dfa5019dad48a8dc3"
   },
   "source": [
    "### Industry and profession"
   ]
  },
  {
   "cell_type": "code",
   "execution_count": null,
   "metadata": {
    "_kg_hide-input": true,
    "_uuid": "d51537b9f33ceb139a738312dcabd84f23f48136"
   },
   "outputs": [],
   "source": [
    "countsDf = df_choice['Q6_Select the title most similar to your current role (or most recent title if retired): - Selected Choice'].value_counts()\n",
    "trace1 = go.Bar(\n",
    "                x = countsDf.index,\n",
    "                y = countsDf.values,\n",
    "                name = \"Kaggle\",\n",
    "                marker = dict(color = 'gold'),\n",
    "                text = countsDf.index)\n",
    "data = [trace1]\n",
    "layout = go.Layout(barmode = \"group\",title='Title', yaxis= dict(title='Counts'),showlegend=False)\n",
    "fig = go.Figure(data = data, layout = layout)\n",
    "iplot(fig)"
   ]
  },
  {
   "cell_type": "markdown",
   "metadata": {
    "_uuid": "518fe582d8ad14157a0ac831b1d11dfa5bc47bca"
   },
   "source": [
    "I know that many people has shown this graph, but still let's look at it again. I think that most of these titles can be joined into several groups:\n",
    "- Students can be a separate group,\n",
    "- Let's leave DS also by themselves;\n",
    "- People in research;\n",
    "- Next we have analysts - DA, BA and others, who need a different set of skills, but could be considered a level before DS;\n",
    "- DE and SE who build production systems;\n",
    "- Managers to lead the products;\n",
    "- And others;\n",
    "\n",
    "This grouping is arbitrate and could be wrong, but let's see what will be the result."
   ]
  },
  {
   "cell_type": "code",
   "execution_count": null,
   "metadata": {
    "_kg_hide-input": true,
    "_uuid": "3110a8b4c5a184469ab79eca9417e8499ad52a2a",
    "scrolled": false
   },
   "outputs": [],
   "source": [
    "countsDf = countsDf.reset_index()\n",
    "countsDf.columns = ['title', 'number']\n",
    "countsDf.loc[countsDf['title'].isin(['Consultant', 'Business Analyst', 'Marketing Analyst']), 'title'] = 'Data Analyst'\n",
    "countsDf.loc[countsDf['title'].isin(['Software Engineer', 'DBA/Database Engineer', 'Developer Advocate']), 'title'] = 'Data Engineer'\n",
    "countsDf.loc[countsDf['title'].isin(['Research Assistant', 'Research Scientist', 'Statistician']), 'title'] = 'Research'\n",
    "countsDf.loc[countsDf['title'].isin(['Product/Project Manager', 'Chief Officer']), 'title'] = 'Manager'\n",
    "countsDf.loc[countsDf['title'].isin(['Salesperson', 'Principal Investigator', 'Data Journalist', 'Not employed']), 'title'] = 'Other'\n",
    "countsDf = countsDf.groupby('title')['number'].sum()\n",
    "trace1 = go.Bar(\n",
    "                x = countsDf.index,\n",
    "                y = countsDf.values,\n",
    "                name = \"Kaggle\",\n",
    "                marker = dict(color = 'brown'),\n",
    "                text = countsDf.values,\n",
    "                textposition = 'outside')\n",
    "data = [trace1]\n",
    "layout = go.Layout(barmode = \"group\",title='Grouped titles', yaxis= dict(title='Counts'),showlegend=False)\n",
    "fig = go.Figure(data = data, layout = layout)\n",
    "iplot(fig)"
   ]
  },
  {
   "cell_type": "markdown",
   "metadata": {
    "_uuid": "a31b59571902889a30b9555c64589c636db36274"
   },
   "source": [
    "Now we see that the number of DE and DS is almost equal and the number of DA isn't far behind.\n",
    "It is worth noticing that different companies could have very different titles. For example in Facebook DS could work as DA; in some companies situation could be opposite."
   ]
  },
  {
   "cell_type": "code",
   "execution_count": null,
   "metadata": {
    "_kg_hide-input": true,
    "_uuid": "b504922ca97391bd59a4a9239ac6a30d80d2fe54"
   },
   "outputs": [],
   "source": [
    "s = pd.crosstab(df_choice['Q7_In what industry is your current employer/contract (or your most recent employer if retired)? - Selected Choice'],\n",
    "                df_choice['Q10_Does your current employer incorporate machine learning methods into their business?']).style.background_gradient(cmap='viridis', low=.1, high=0).highlight_null('red')\n",
    "s"
   ]
  },
  {
   "cell_type": "markdown",
   "metadata": {
    "_uuid": "493d6057bfb16480d6b4a80d85c7b47ae10dc7b5"
   },
   "source": [
    "I think it is interesting to see which industries have the most developed ML practices. It isn't surprising that IT companies are far ahead."
   ]
  },
  {
   "cell_type": "code",
   "execution_count": null,
   "metadata": {
    "_kg_hide-input": true,
    "_uuid": "9483df3ab97c90728425304c99bd967c3120d497"
   },
   "outputs": [],
   "source": [
    "df_choice.loc[df_choice['Q6_Select the title most similar to your current role (or most recent title if retired): - Selected Choice'].isin(['Consultant', 'Business Analyst', 'Marketing Analyst']),\n",
    "              'Q6_Select the title most similar to your current role (or most recent title if retired): - Selected Choice'] = 'Data Analyst'\n",
    "df_choice.loc[df_choice['Q6_Select the title most similar to your current role (or most recent title if retired): - Selected Choice'].isin(['Software Engineer', 'DBA/Database Engineer', 'Developer Advocate']),\n",
    "              'Q6_Select the title most similar to your current role (or most recent title if retired): - Selected Choice'] = 'Data Engineer'\n",
    "df_choice.loc[df_choice['Q6_Select the title most similar to your current role (or most recent title if retired): - Selected Choice'].isin(['Research Assistant', 'Research Scientist', 'Statistician']),\n",
    "              'Q6_Select the title most similar to your current role (or most recent title if retired): - Selected Choice'] = 'Research'\n",
    "df_choice.loc[df_choice['Q6_Select the title most similar to your current role (or most recent title if retired): - Selected Choice'].isin(['Product/Project Manager', 'Chief Officer']),\n",
    "              'Q6_Select the title most similar to your current role (or most recent title if retired): - Selected Choice'] = 'Manager'\n",
    "df_choice.loc[df_choice['Q6_Select the title most similar to your current role (or most recent title if retired): - Selected Choice'].isin(['Salesperson', 'Principal Investigator', 'Data Journalist', 'Not employed']),\n",
    "              'Q6_Select the title most similar to your current role (or most recent title if retired): - Selected Choice'] = 'Other'"
   ]
  },
  {
   "cell_type": "code",
   "execution_count": null,
   "metadata": {
    "_uuid": "178dcc1612bf47b374adf6e3b9c63db3a4917b42",
    "scrolled": false
   },
   "outputs": [],
   "source": [
    "fig = plot_country_one_var(var='Q6_Select the title most similar to your current role (or most recent title if retired): - Selected Choice', title_name='title')\n",
    "iplot(fig);"
   ]
  },
  {
   "cell_type": "code",
   "execution_count": null,
   "metadata": {
    "_uuid": "9a672b597144fe1bb527ead2629e509ef1a9f6a4"
   },
   "outputs": [],
   "source": [
    "fig = plot_country_one_var_dropdown(var='Q6_Select the title most similar to your current role (or most recent title if retired): - Selected Choice',\n",
    "                                    title_name='title')\n",
    "iplot(fig);"
   ]
  },
  {
   "cell_type": "markdown",
   "metadata": {
    "_uuid": "b8bc89bcececb3ce58baed3d09cef88c7d778f85"
   },
   "source": [
    "We can see real differences between countries:\n",
    "* In Russia most of Kagglers are DE or DS, who are most relevant for Kaggle;\n",
    "* In USA there are more DA that DE among the Kagglers! I suppose this could be due to the fact that some DS are called DA. Also lot's of students;\n",
    "* In India most of Kagglers are students, who aspire to become DS (or DE);\n",
    "* Other countries are similar to Russia, but have a higher rate of students;"
   ]
  },
  {
   "cell_type": "code",
   "execution_count": null,
   "metadata": {
    "_uuid": "0bff0aedfb18f5e97f98868ae988bfc5f1862efc",
    "scrolled": true
   },
   "outputs": [],
   "source": [
    "fig = plot_country_two_vars(var2='Q6_Select the title most similar to your current role (or most recent title if retired): - Selected Choice',\n",
    "                            var1='Q8_How many years of experience do you have in your current role?', title_name='title and experience')\n",
    "iplot(fig);"
   ]
  },
  {
   "cell_type": "code",
   "execution_count": null,
   "metadata": {
    "_uuid": "32f01ac3b62da0a0884076fcc33da4fd1f9dc108"
   },
   "outputs": [],
   "source": [
    "fig = plot_country_two_vars_dropdown(var1='Q8_How many years of experience do you have in your current role?',\n",
    "                                     var2='Q6_Select the title most similar to your current role (or most recent title if retired): - Selected Choice',\n",
    "                                     title_name='title and experience')\n",
    "iplot(fig);"
   ]
  },
  {
   "cell_type": "markdown",
   "metadata": {
    "_uuid": "7b3d0cc7326411676956b606ade545407bcc2628"
   },
   "source": [
    "As expected most of the students have none to little education. And there are a lot of starting DA, DE and DS.\n",
    "\n",
    "One interesting thing which I see is that there are a lot of experienced DE in Russia. I think they are programmers who switched career to SE."
   ]
  },
  {
   "cell_type": "markdown",
   "metadata": {
    "_uuid": "b9b9d50c177f4691aa8061a3959f9c350a354223"
   },
   "source": [
    "### Salary"
   ]
  },
  {
   "cell_type": "code",
   "execution_count": null,
   "metadata": {
    "_uuid": "2876b7c5779c91669cce44ef2492d95f6c62f3de",
    "scrolled": false
   },
   "outputs": [],
   "source": [
    "fig = plot_country_one_var(var='Q9_What is your current yearly compensation (approximate $USD)?', title_name='salary')\n",
    "iplot(fig);"
   ]
  },
  {
   "cell_type": "code",
   "execution_count": null,
   "metadata": {
    "_uuid": "e7560737c127299e4a8ec5e5333b92662a6d0242"
   },
   "outputs": [],
   "source": [
    "fig = plot_country_one_var_dropdown(var='Q9_What is your current yearly compensation (approximate $USD)?', title_name='salary')\n",
    "iplot(fig);"
   ]
  },
  {
   "cell_type": "markdown",
   "metadata": {
    "_uuid": "26d864122942f2413bf4b6d4aa9a77c7222e9307"
   },
   "source": [
    "It is difficult to compare salaries in different countries. 100-200k $ could be a norm for an American DS and a good salary in general, but in Russia 10-20k is a really big salary."
   ]
  },
  {
   "cell_type": "markdown",
   "metadata": {
    "_uuid": "a453a00db293260c7b1ca16784a655cf030d9cc7"
   },
   "source": [
    "### Years of experience"
   ]
  },
  {
   "cell_type": "code",
   "execution_count": null,
   "metadata": {
    "_kg_hide-input": true,
    "_uuid": "34499690e7670780218012d7256dbae3f8a13a2a",
    "scrolled": false
   },
   "outputs": [],
   "source": [
    "fig = plot_country_one_var(var='Q24_How long have you been writing code to analyze data?', title_name='years of coding for data analysis')\n",
    "iplot(fig);"
   ]
  },
  {
   "cell_type": "markdown",
   "metadata": {
    "_uuid": "f22dcac9b9ca6f1cbaf8331f7ff2409fafe38918"
   },
   "source": [
    "Most countries have similar patterns, but America has more experiences DS. This is understandable as DS popularity began there."
   ]
  },
  {
   "cell_type": "markdown",
   "metadata": {
    "_uuid": "5d9950ae7d9b87ffa5714607bbe0d6e7b829b81a"
   },
   "source": [
    "### Years of learning ML vs self-confidence"
   ]
  },
  {
   "cell_type": "code",
   "execution_count": null,
   "metadata": {
    "_kg_hide-input": true,
    "_uuid": "0cfcaecde8614b5e1e04f2bdb34dd28f023300f7",
    "scrolled": false
   },
   "outputs": [],
   "source": [
    "var1='Q26_Do you consider yourself to be a data scientist?'\n",
    "var2='Q25_For how many years have you used machine learning methods (at work or in school)?'\n",
    "title_name='years of learning ML and self-confidence'\n",
    "colors = cl.scales[str(df_choice[var1].fillna('').nunique())]['qual']['Paired']\n",
    "fig = tools.make_subplots(rows=4, cols=1, subplot_titles=('United States of America', 'Other countries', 'India', 'Russia'), print_grid=False)\n",
    "for j, c in enumerate(df_choice['Q3_In which country do you currently reside?'].unique()):\n",
    "    #data = []\n",
    "    for ind, i in enumerate(df_choice[var1].unique()):\n",
    "        grouped = df_choice.loc[(df_choice[var1] == i) & (df_choice['Q3_In which country do you currently reside?'] == c),\n",
    "                            var2].value_counts().sort_index()\n",
    "        map_dict = {'I have never studied machine learning but plan to learn in the future': 8,\n",
    "                    '< 1 year': 0,\n",
    "                    '4-5 years': 4,\n",
    "                    '2-3 years': 2,\n",
    "                    '1-2 years': 1,\n",
    "                    '5-10 years': 5,\n",
    "                    '3-4 years': 3,\n",
    "                    'I have never studied machine learning and I do not plan to': 9,\n",
    "                    '20+ years': 7,\n",
    "                    '10-15 years': 6}\n",
    "        grouped = grouped.reset_index()\n",
    "        grouped.columns = ['years', 'counts']\n",
    "        #print(grouped.shape)\n",
    "        #break\n",
    "        grouped['sorting'] = grouped['years'].apply(lambda x: map_dict[x])\n",
    "        grouped = grouped.sort_values('sorting', ascending=True)\n",
    "        trace = go.Bar(\n",
    "            x=grouped.years,\n",
    "            y=grouped.counts,\n",
    "            name=i,\n",
    "            marker=dict(color=colors[ind]),\n",
    "            showlegend=True if j == 0 else False,\n",
    "            legendgroup=i\n",
    "        )\n",
    "        fig.append_trace(trace, j + 1, 1)    \n",
    "\n",
    "fig['layout'].update(height=1000, width=800, title=f'Responders in countries by {title_name}');\n",
    "\n",
    "iplot(fig);"
   ]
  },
  {
   "cell_type": "markdown",
   "metadata": {
    "_uuid": "a50b94d2d5606743aae281569de84868a87870dd"
   },
   "source": [
    "Quite interesting. Usually people with 2 or more years of ML-experience are confident that they are DS, but in Russia people with 1-2 or even less that 1 year of experience consider themselves to be DS."
   ]
  },
  {
   "cell_type": "markdown",
   "metadata": {
    "_uuid": "7bedf000b0933c5ac021a18ba6b3b5e7ee05f238"
   },
   "source": [
    "## Multiple choice queations"
   ]
  },
  {
   "cell_type": "markdown",
   "metadata": {
    "_uuid": "61ba9edf7a70348398c76a7258ac0553b3137d76"
   },
   "source": [
    "### Where do DS get useful information?"
   ]
  },
  {
   "cell_type": "code",
   "execution_count": null,
   "metadata": {
    "_kg_hide-input": true,
    "_uuid": "bac8a0faf1db1b856a59ab74c1b185970cb9d840"
   },
   "outputs": [],
   "source": [
    "def plot_choice_var(var='', title_name=''):\n",
    "    col_names = [col for col in df_choice.columns if f'{var}_Part' in col]\n",
    "    data = []\n",
    "    small_df = df_choice[col_names]\n",
    "    text_values = [col.split('- ')[2] for col in col_names]\n",
    "    counts = []\n",
    "    for m, n in zip(col_names, text_values):\n",
    "        if small_df[m].nunique() == 0:\n",
    "            counts.append(0)\n",
    "        else:\n",
    "            counts.append(sum(small_df[m] == n))\n",
    "    trace = go.Bar(\n",
    "        x=text_values,\n",
    "        y=counts,\n",
    "        name=c,\n",
    "        marker=dict(color='silver'),\n",
    "        showlegend=False\n",
    "    )\n",
    "    data.append(trace)    \n",
    "    fig = go.Figure(data=data)\n",
    "    fig['layout'].update(height=400, width=800, title=f'Popular {title_name}');\n",
    "    return fig\n",
    "\n",
    "def plot_country_multiple_choice_var(var='', title_name=''):\n",
    "    col_names = [col for col in df_choice.columns if f'{var}_Part' in col]\n",
    "    #print(col_names)\n",
    "    data = []\n",
    "    for j, c in enumerate(df_choice['Q3_In which country do you currently reside?'].unique()):\n",
    "        small_df = df_choice.loc[df_choice['Q3_In which country do you currently reside?'] == c, col_names]\n",
    "        text_values = [col.split('- ')[2] for col in col_names]\n",
    "        counts = []\n",
    "        for m, n in zip(col_names, text_values):\n",
    "            if small_df[m].nunique() == 0:\n",
    "                counts.append(0)\n",
    "            else:\n",
    "                counts.append(sum(small_df[m] == n))\n",
    "        counts = [i / len(small_df) for i in counts]\n",
    "        trace = go.Bar(\n",
    "            x=text_values,\n",
    "            y=counts,\n",
    "            name=c,\n",
    "            marker=dict(color=j),\n",
    "            showlegend=True\n",
    "        )\n",
    "        data.append(trace)    \n",
    "    fig = go.Figure(data=data)\n",
    "    fig['layout'].update(height=400, width=800, title=f'Popular {title_name} in different countries', barmode='group');\n",
    "    return fig\n",
    "\n",
    "def plot_one_text_var(q='', title=''):\n",
    "    col_name = [col for col in df_free.columns if q in col][0]\n",
    "    df_ = df_free[col_name].value_counts().head(7)\n",
    "    trace = go.Pie(labels=df_.index, \n",
    "                   values=df_.values\n",
    "                  )\n",
    "\n",
    "    data = [trace]\n",
    "    layout = go.Layout(\n",
    "        title=title\n",
    "    )\n",
    "\n",
    "    fig = go.Figure(data=data, layout=layout)\n",
    "    return fig\n",
    "\n",
    "var_name = dict([('Q38', 'resources'), ('Q13', 'IDE'), ('Q14', 'hosted notebooks'), ('Q15', 'cloud computing services'), ('Q16', 'programming languages'),\n",
    "         ('Q19', 'ML frameworks'), ('Q21', 'data visualization libraries'), ('Q29', 'data bases'), ('Q31', 'types of data used'), ('Q36', 'online platforms'),\n",
    "         ('Q47', 'tools for interpretation'), ('Q49', 'tools for reproducibility')])\n",
    "cols2 = ['Q38', 'Q13', 'Q14', 'Q15','Q16', 'Q19', 'Q21', 'Q29', 'Q31', 'Q36', 'Q47', 'Q49']\n",
    "\n",
    "def plot_country_multiple_choice_var_dropdown(var=''):\n",
    "    t = var_name[var]\n",
    "    #print(t)\n",
    "    col_names = [col for col in df_choice.columns if f'{var}_Part' in col]\n",
    "    data = []\n",
    "    buttons = []\n",
    "    n = df_choice['Q3_orig'].nunique()\n",
    "    for j, c in enumerate(sorted(df_choice['Q3_orig'].unique(), reverse=True)[::-1]):\n",
    "        visibility = [False] * 58\n",
    "        small_df = df_choice.loc[df_choice['Q3_orig'] == c, col_names]\n",
    "        text_values = [col.split('- ')[2] for col in col_names]\n",
    "        counts = []\n",
    "        for m, n in zip(col_names, text_values):\n",
    "            if small_df[m].nunique() == 0:\n",
    "                counts.append(0)\n",
    "            else:\n",
    "                counts.append(sum(small_df[m] == n))\n",
    "        orig_counts = counts.copy()\n",
    "        counts = [i / len(small_df) for i in counts]\n",
    "        trace = go.Bar(\n",
    "            x=text_values,\n",
    "            y=counts,\n",
    "            name=c,\n",
    "            marker=dict(color=j),\n",
    "            showlegend=True,\n",
    "            visible=True if j == 0 else False,\n",
    "            text = orig_counts,\n",
    "            textposition = 'outside'\n",
    "        )\n",
    "        data.append(trace)\n",
    "        visibility[j:j + 1] = [True]\n",
    "        buttons.append(dict(label = c,\n",
    "                                method = 'update',\n",
    "                                args = [{'visible': visibility},\n",
    "                                        {'title': f\"Responders in {c} by {t}\"}]))\n",
    "    updatemenus = list([dict(active=-1, buttons=buttons, x=1, y=2)])\n",
    "    layout = dict(height=500, width=800, title=f\"Responders in {sorted(df_choice['Q3_orig'].unique())[0]} by {t}\", updatemenus=updatemenus)\n",
    "    fig = dict(data=data, layout=layout)\n",
    "\n",
    "    iplot(fig);"
   ]
  },
  {
   "cell_type": "code",
   "execution_count": null,
   "metadata": {
    "_uuid": "b4367bf50c7bba1edadd37c397a5c1933ce5f45d"
   },
   "outputs": [],
   "source": [
    "fig = plot_choice_var(var='Q38', title_name='resources')\n",
    "iplot(fig);"
   ]
  },
  {
   "cell_type": "code",
   "execution_count": null,
   "metadata": {
    "_kg_hide-input": true,
    "_uuid": "b1ac178ac87721a5fd222c309e6387237e951add",
    "scrolled": false
   },
   "outputs": [],
   "source": [
    "fig = plot_country_multiple_choice_var(var='Q38', title_name='resources')\n",
    "iplot(fig);"
   ]
  },
  {
   "cell_type": "code",
   "execution_count": null,
   "metadata": {
    "_uuid": "4a0533fc42045042002320d2e985fdb53fc78cd3"
   },
   "outputs": [],
   "source": [
    "plot_country_multiple_choice_var_dropdown('Q38')"
   ]
  },
  {
   "cell_type": "markdown",
   "metadata": {
    "_uuid": "2df34fdc36a3773a181babae52be983a149895f3"
   },
   "source": [
    "Quite interesting!\n",
    "* Kaggle forums and Medium seem to be universally popular;\n",
    "* ArXiv is quite popular, but Russia likes it the most!;\n",
    "* Twitter, Knuggets and Reddit are also widely used;\n",
    "* In America https://fivethirtyeight.com is very popular, even though it is almost unknown in other countries;\n",
    "* And of course Siraj is popular in India with his famous teaching style;"
   ]
  },
  {
   "cell_type": "markdown",
   "metadata": {
    "_uuid": "13c0b1d8159eaf11a8b055a43cec37ba428bb249"
   },
   "source": [
    "And now let's see what other resourses people use. I'll show data for resources which were named by at least 10 responders."
   ]
  },
  {
   "cell_type": "code",
   "execution_count": null,
   "metadata": {
    "_kg_hide-input": true,
    "_uuid": "3afe5fe9fca34af2d1c57ff9135bf86010cffaf2"
   },
   "outputs": [],
   "source": [
    "fig = plot_one_text_var('Q38', title='Other popular resources')\n",
    "iplot(fig)"
   ]
  },
  {
   "cell_type": "markdown",
   "metadata": {
    "_uuid": "b90d31508078b566f00d03d06cb637c371b81ab8"
   },
   "source": [
    "First place is ods.ai - a slack community of Russian DS which is open for everyone wishing to diccuss DS."
   ]
  },
  {
   "cell_type": "markdown",
   "metadata": {
    "_uuid": "518eb351f280c15a418d7e163c40c4909dc6c94f"
   },
   "source": [
    "### Most popular IDE"
   ]
  },
  {
   "cell_type": "code",
   "execution_count": null,
   "metadata": {
    "_uuid": "c49af72d7272becc937843d22a87141708014402"
   },
   "outputs": [],
   "source": [
    "fig = plot_choice_var(var='Q13', title_name='IDE')\n",
    "iplot(fig);"
   ]
  },
  {
   "cell_type": "code",
   "execution_count": null,
   "metadata": {
    "_kg_hide-input": true,
    "_uuid": "ab6c95d80037a065d8f10b03f9b96ef51e93a274",
    "scrolled": false
   },
   "outputs": [],
   "source": [
    "fig = plot_country_multiple_choice_var(var='Q13', title_name='IDE')\n",
    "iplot(fig);"
   ]
  },
  {
   "cell_type": "code",
   "execution_count": null,
   "metadata": {
    "_uuid": "6f53779cc13b48f8da2ba6a9d782ccfc3673de59"
   },
   "outputs": [],
   "source": [
    "plot_country_multiple_choice_var_dropdown('Q13')"
   ]
  },
  {
   "cell_type": "code",
   "execution_count": null,
   "metadata": {
    "_kg_hide-input": true,
    "_uuid": "fe450f104168bf5f12c2b4ffc8a3011bdfc539d7",
    "scrolled": false
   },
   "outputs": [],
   "source": [
    "fig = plot_one_text_var('Q13', title='Other popular IDE')\n",
    "iplot(fig)"
   ]
  },
  {
   "cell_type": "markdown",
   "metadata": {
    "_uuid": "ecb41c8ce3cf312d623b30b56621402d03c3b37b"
   },
   "source": [
    "* Most popular IDE is Jupyter Notebooks. Well, obviously it is one of the best tools for fast EDA and modelling in Python;\n",
    "* RStudio is quite popular in USA - so lots of R-DS there? And it seems that in Russia the interest in R is quite low;\n",
    "* In Russia most people prefer to use Pycharm and other countries tend to use Notepad++. Different styles of coding?\n",
    "* Interesting that Spyder is quite popular in India;\n",
    "* Among other IDE Eclipse and Emacs are most widely used. A lot of people from Java-development?"
   ]
  },
  {
   "cell_type": "markdown",
   "metadata": {
    "_uuid": "4b92cfebf8b526f91c3999aaf4baf6c2431f3aee"
   },
   "source": [
    "### Hosted notebooks"
   ]
  },
  {
   "cell_type": "code",
   "execution_count": null,
   "metadata": {
    "_uuid": "1a9df3f6396c9d469b662f34b0e4f6c4f396ce77"
   },
   "outputs": [],
   "source": [
    "fig = plot_choice_var(var='Q14', title_name='hosted notebooks')\n",
    "iplot(fig);"
   ]
  },
  {
   "cell_type": "code",
   "execution_count": null,
   "metadata": {
    "_uuid": "88a2ee8b2fffcec449a269a50d14b31fa0058e3a",
    "scrolled": true
   },
   "outputs": [],
   "source": [
    "fig = plot_country_multiple_choice_var(var='Q14', title_name='hosted notebooks')\n",
    "iplot(fig);"
   ]
  },
  {
   "cell_type": "code",
   "execution_count": null,
   "metadata": {
    "_uuid": "eb1224475ff27dfba9dedb251407d2ea34a7ce07"
   },
   "outputs": [],
   "source": [
    "plot_country_multiple_choice_var_dropdown('Q14')"
   ]
  },
  {
   "cell_type": "code",
   "execution_count": null,
   "metadata": {
    "_uuid": "8a79f48058aeeb4ca09b9a5275b2fab420451efc"
   },
   "outputs": [],
   "source": [
    "fig = plot_one_text_var(q='Q14')\n",
    "iplot(fig)"
   ]
  },
  {
   "cell_type": "markdown",
   "metadata": {
    "_uuid": "0c498ff101bdf2f39dad47840c2a44b03834716f"
   },
   "source": [
    "Most countries have a similar pattern - high rate of using free resources. And many don't use them at all.\n",
    "Among other notebooks Databricks for Spark is used."
   ]
  },
  {
   "cell_type": "markdown",
   "metadata": {
    "_uuid": "a9137e585119183fe214933b3142303d1e1281c6"
   },
   "source": [
    "### cloud computing services"
   ]
  },
  {
   "cell_type": "code",
   "execution_count": null,
   "metadata": {
    "_uuid": "4b37785427e1b610f2582485ee9c431ca98ad7ca"
   },
   "outputs": [],
   "source": [
    "fig = plot_choice_var(var='Q15', title_name='cloud computing services')\n",
    "iplot(fig);"
   ]
  },
  {
   "cell_type": "code",
   "execution_count": null,
   "metadata": {
    "_uuid": "9558d39bcb0380d6463dbf614e3dbcd06d2bc6de",
    "scrolled": true
   },
   "outputs": [],
   "source": [
    "fig = plot_country_multiple_choice_var(var='Q15', title_name='cloud computing services')\n",
    "iplot(fig);"
   ]
  },
  {
   "cell_type": "code",
   "execution_count": null,
   "metadata": {
    "_uuid": "769710b8b38a342741acec2aa5a1f373829dc0b6"
   },
   "outputs": [],
   "source": [
    "plot_country_multiple_choice_var_dropdown('Q15')"
   ]
  },
  {
   "cell_type": "code",
   "execution_count": null,
   "metadata": {
    "_uuid": "333e297442c6bd15dae2257c33f6409644291966"
   },
   "outputs": [],
   "source": [
    "fig = plot_one_text_var('Q15', title='Other popular cloud computing services')\n",
    "iplot(fig)\n"
   ]
  },
  {
   "cell_type": "markdown",
   "metadata": {
    "_uuid": "c3f43a50cba054f22d73b77ec7cedebafe2fbc9f"
   },
   "source": [
    "Quite interesting that while in Russia and India most don't use cloud services, in USA situation is the opposite.\n",
    "Additionaly Digital Ocean is used by some people."
   ]
  },
  {
   "cell_type": "markdown",
   "metadata": {
    "_uuid": "f9e9978b0634e133ca4a950ad16147cfa8435f83"
   },
   "source": [
    "### programming languages"
   ]
  },
  {
   "cell_type": "code",
   "execution_count": null,
   "metadata": {
    "_uuid": "57ab8a8808276299f976b7b124f5883d964c863f"
   },
   "outputs": [],
   "source": [
    "fig = plot_choice_var(var='Q16', title_name='programming languages')\n",
    "iplot(fig);"
   ]
  },
  {
   "cell_type": "code",
   "execution_count": null,
   "metadata": {
    "_uuid": "b481cf42d297a420d387394e939c6e020549b565",
    "scrolled": true
   },
   "outputs": [],
   "source": [
    "fig = plot_country_multiple_choice_var(var='Q16', title_name='programming languages')\n",
    "iplot(fig);"
   ]
  },
  {
   "cell_type": "code",
   "execution_count": null,
   "metadata": {
    "_uuid": "8ac412abce34101aee8fa42c7f66f0bec57a9f7e"
   },
   "outputs": [],
   "source": [
    "plot_country_multiple_choice_var_dropdown('Q16')"
   ]
  },
  {
   "cell_type": "code",
   "execution_count": null,
   "metadata": {
    "_uuid": "cd17f46c011ca9662e943b56806ccf23368d0767"
   },
   "outputs": [],
   "source": [
    "fig = plot_one_text_var('Q16', title='Other popular programming languages')\n",
    "iplot(fig)"
   ]
  },
  {
   "cell_type": "markdown",
   "metadata": {
    "_uuid": "79ce1551b9148f92d30c7287bee25ffef9af6867"
   },
   "source": [
    "Python and SQL are widely used. In Russia R is quite rare. Russia and India use C/C++ a lot and Java is popular in India."
   ]
  },
  {
   "cell_type": "markdown",
   "metadata": {
    "_uuid": "fefd31fe40a822392211669559f5450d8c59a0fd"
   },
   "source": [
    "### ML Frameworks"
   ]
  },
  {
   "cell_type": "code",
   "execution_count": null,
   "metadata": {
    "_uuid": "8f7cf3798756c06530d3994a2270d9ce46db1144"
   },
   "outputs": [],
   "source": [
    "fig = plot_choice_var(var='Q19', title_name='ML frameworks')\n",
    "iplot(fig);"
   ]
  },
  {
   "cell_type": "code",
   "execution_count": null,
   "metadata": {
    "_uuid": "13e5b3a813051e30ec707c60aea9ed91dbf7a03c",
    "scrolled": false
   },
   "outputs": [],
   "source": [
    "fig = plot_country_multiple_choice_var(var='Q19', title_name='ML frameworks')\n",
    "iplot(fig);"
   ]
  },
  {
   "cell_type": "code",
   "execution_count": null,
   "metadata": {
    "_uuid": "9fa89702448e0ca874379de98ef9e0d831257a29"
   },
   "outputs": [],
   "source": [
    "plot_country_multiple_choice_var_dropdown('Q19')"
   ]
  },
  {
   "cell_type": "code",
   "execution_count": null,
   "metadata": {
    "_uuid": "7404c4aea20cb2105efc57d7bc2b3f2f7c108cd3"
   },
   "outputs": [],
   "source": [
    "fig = plot_one_text_var('Q19', title='Other popular ML frameworks')\n",
    "iplot(fig)"
   ]
  },
  {
   "cell_type": "markdown",
   "metadata": {
    "_uuid": "5f91ac17169b3bab58a611887c37de44bdcdfec0"
   },
   "source": [
    "In Russia catboost library from Yandex is quite popular. It is even more used than lightgbm, which for some reason is almost not used in other countries.\n",
    "\n",
    "It is interesting that Theano is still used. It was one of the first frameworks, I suppose a lot of people used it (myself included :))."
   ]
  },
  {
   "cell_type": "markdown",
   "metadata": {
    "_uuid": "9292fbddae2938fc9834a77787d9f7e669f83103"
   },
   "source": [
    "### data visualization libraries"
   ]
  },
  {
   "cell_type": "code",
   "execution_count": null,
   "metadata": {
    "_uuid": "aaa36829c2704b18877c4ec1c4b9c52c76e6e0e6"
   },
   "outputs": [],
   "source": [
    "fig = plot_choice_var(var='Q21', title_name='data visualization libraries')\n",
    "iplot(fig);"
   ]
  },
  {
   "cell_type": "code",
   "execution_count": null,
   "metadata": {
    "_uuid": "c991b87941705fa1285e17cc51ff44c3ece4844f",
    "scrolled": false
   },
   "outputs": [],
   "source": [
    "fig = plot_country_multiple_choice_var(var='Q21', title_name='data visualization libraries')\n",
    "iplot(fig);"
   ]
  },
  {
   "cell_type": "code",
   "execution_count": null,
   "metadata": {
    "_uuid": "b19961b226761fb4ab29b791cb1849099c118fb9"
   },
   "outputs": [],
   "source": [
    "plot_country_multiple_choice_var_dropdown('Q21')"
   ]
  },
  {
   "cell_type": "code",
   "execution_count": null,
   "metadata": {
    "_uuid": "c5285c3660a5f3b957a245bed6abc06d8bf7c44a"
   },
   "outputs": [],
   "source": [
    "fig = plot_one_text_var('Q21', title='Other popular data visualization libraries')\n",
    "iplot(fig)"
   ]
  },
  {
   "cell_type": "markdown",
   "metadata": {
    "_uuid": "9ec13f66da41b94369d664de8932f55328ecbb50"
   },
   "source": [
    "Nothing unexpected here. R users use ggplot2, Python - matplotlib/seaborn and plotly.\n",
    "\n",
    "Tableau is quite a popular tool to visualize data in companies."
   ]
  },
  {
   "cell_type": "markdown",
   "metadata": {
    "_uuid": "f10b0a9cdee9a8e2e1ee4137f2d2df5ca5732533"
   },
   "source": [
    "### data bases"
   ]
  },
  {
   "cell_type": "code",
   "execution_count": null,
   "metadata": {
    "_uuid": "1710d83d28e19bd5c5e3d0bf793a947c28a666c5"
   },
   "outputs": [],
   "source": [
    "fig = plot_choice_var(var='Q29', title_name='data bases')\n",
    "iplot(fig);"
   ]
  },
  {
   "cell_type": "code",
   "execution_count": null,
   "metadata": {
    "_uuid": "18a6971d88bb054df3bdba81116c202b4a5cf121",
    "scrolled": false
   },
   "outputs": [],
   "source": [
    "fig = plot_country_multiple_choice_var(var='Q29', title_name='data bases')\n",
    "iplot(fig);"
   ]
  },
  {
   "cell_type": "code",
   "execution_count": null,
   "metadata": {
    "_uuid": "2135b4b1ad450d662153a6cb542ed620e6d2b5b8"
   },
   "outputs": [],
   "source": [
    "plot_country_multiple_choice_var_dropdown('Q29')"
   ]
  },
  {
   "cell_type": "code",
   "execution_count": null,
   "metadata": {
    "_uuid": "e99d7aeba4e019b0172e220291b0c8d9987f23b6"
   },
   "outputs": [],
   "source": [
    "fig = plot_one_text_var('Q29', title='Other popular data bases')\n",
    "iplot(fig)"
   ]
  },
  {
   "cell_type": "markdown",
   "metadata": {
    "_uuid": "3080235fe880e2c0044d4d266e999c6a6ad0eec7"
   },
   "source": [
    "Postgress is really popular in Russia.\n",
    "\n",
    "By the way, I'm surpised that Teradata was not  in the main options."
   ]
  },
  {
   "cell_type": "markdown",
   "metadata": {
    "_uuid": "f787a39dcb56a4e0dff41f7a8bfa13a480588c9e"
   },
   "source": [
    "### types of data used"
   ]
  },
  {
   "cell_type": "code",
   "execution_count": null,
   "metadata": {
    "_uuid": "fd180c6a4672bb7de010989144feae5772ce9b9f"
   },
   "outputs": [],
   "source": [
    "fig = plot_choice_var(var='Q31', title_name='types of data used')\n",
    "iplot(fig);"
   ]
  },
  {
   "cell_type": "code",
   "execution_count": null,
   "metadata": {
    "_uuid": "1e317809b9ab671134dcf70343f6a0f3fd7510ad",
    "scrolled": false
   },
   "outputs": [],
   "source": [
    "fig = plot_country_multiple_choice_var(var='Q31', title_name='types of data used')\n",
    "iplot(fig);"
   ]
  },
  {
   "cell_type": "code",
   "execution_count": null,
   "metadata": {
    "_uuid": "ce4471edc481c74e7837249a713864c5a816a2da"
   },
   "outputs": [],
   "source": [
    "plot_country_multiple_choice_var_dropdown('Q31')"
   ]
  },
  {
   "cell_type": "code",
   "execution_count": null,
   "metadata": {
    "_uuid": "641b4f0707ef572bd8fa8ffc4d5c44b57a867785"
   },
   "outputs": [],
   "source": [
    "fig = plot_one_text_var('Q31', title='Other popular types of data used')\n",
    "iplot(fig)"
   ]
  },
  {
   "cell_type": "markdown",
   "metadata": {
    "_uuid": "3e91037ffa099354a99674833a378352c180b8f1"
   },
   "source": [
    "It is interestig that images are relatively less used in America, than in other countries."
   ]
  },
  {
   "cell_type": "markdown",
   "metadata": {
    "_uuid": "9d21782686c1365ca14cb2cfe64dffa64447e04b"
   },
   "source": [
    "### online platforms"
   ]
  },
  {
   "cell_type": "code",
   "execution_count": null,
   "metadata": {
    "_uuid": "929e0b4651ac8d08a623bc12a031e04536ffe900"
   },
   "outputs": [],
   "source": [
    "fig = plot_choice_var(var='Q36', title_name='online platforms')\n",
    "iplot(fig);"
   ]
  },
  {
   "cell_type": "code",
   "execution_count": null,
   "metadata": {
    "_uuid": "ad0cf7a907f345e2581e119088e32692ec42f963",
    "scrolled": false
   },
   "outputs": [],
   "source": [
    "fig = plot_country_multiple_choice_var(var='Q36', title_name='online platforms')\n",
    "iplot(fig);"
   ]
  },
  {
   "cell_type": "code",
   "execution_count": null,
   "metadata": {
    "_uuid": "a9e76d3347b4ca2f26b1ee7606ff8b80fdb5dbda"
   },
   "outputs": [],
   "source": [
    "plot_country_multiple_choice_var_dropdown('Q36')"
   ]
  },
  {
   "cell_type": "code",
   "execution_count": null,
   "metadata": {
    "_uuid": "59ea1f14e38f45140b99cd3f7e1b6473a5926be3"
   },
   "outputs": [],
   "source": [
    "fig = plot_one_text_var('Q36', title='Other popular types of online platforms')\n",
    "iplot(fig)"
   ]
  },
  {
   "cell_type": "markdown",
   "metadata": {
    "_uuid": "fa085483cfba8ccc4bddfdfb6c110f9faca0e496"
   },
   "source": [
    "It is worth noticing while kagglers in most countries use several platforms, in Russia Coursera is dominating.\n",
    "\n",
    "By the way, 46 people mentioned that they use mlcourse.ai. This is a recently created course by Russian community ods.ai and it is great :)"
   ]
  },
  {
   "cell_type": "markdown",
   "metadata": {
    "_uuid": "e9597a4f1d59d0e45ae7e5923b93a230fdaf6afb"
   },
   "source": [
    "### tools for interpretation"
   ]
  },
  {
   "cell_type": "code",
   "execution_count": null,
   "metadata": {
    "_uuid": "ac651612e6e9902ce94797359866c78e6799b0cc"
   },
   "outputs": [],
   "source": [
    "fig = plot_choice_var(var='Q47', title_name='tools for interpretation')\n",
    "iplot(fig);"
   ]
  },
  {
   "cell_type": "code",
   "execution_count": null,
   "metadata": {
    "_uuid": "f3a40372582102b10745f8e888b1d9edb6a18558",
    "scrolled": false
   },
   "outputs": [],
   "source": [
    "fig = plot_country_multiple_choice_var(var='Q47', title_name='tools for interpretation')\n",
    "iplot(fig);"
   ]
  },
  {
   "cell_type": "code",
   "execution_count": null,
   "metadata": {
    "_uuid": "221a50c033ed1fb23a8301d48829d104eb73eb41"
   },
   "outputs": [],
   "source": [
    "plot_country_multiple_choice_var_dropdown('Q47')"
   ]
  },
  {
   "cell_type": "markdown",
   "metadata": {
    "_uuid": "4a1c5646552be05edf27797bf3095df07732845f"
   },
   "source": [
    "In Russia people tend examine feature importance and use partial dependency plots more than in other countries. In India plotting decision boundaries in popular. And in USA sensitivity analysis is relatively popular."
   ]
  },
  {
   "cell_type": "markdown",
   "metadata": {
    "_uuid": "cffacbd4b313fb0f53658372344ad8314f68c1e5"
   },
   "source": [
    "### tools for reproducability"
   ]
  },
  {
   "cell_type": "code",
   "execution_count": null,
   "metadata": {
    "_uuid": "da69e5cb89208c02f8b4b7fae7079db1d1b445f8"
   },
   "outputs": [],
   "source": [
    "fig = plot_choice_var(var='Q49', title_name='tools for reproducibility')\n",
    "iplot(fig);"
   ]
  },
  {
   "cell_type": "code",
   "execution_count": null,
   "metadata": {
    "_uuid": "b772c9cdcc78247f3a81552f205fb02a0555f5e1",
    "scrolled": false
   },
   "outputs": [],
   "source": [
    "fig = plot_country_multiple_choice_var(var='Q49', title_name='tools for reproducibility')\n",
    "iplot(fig);"
   ]
  },
  {
   "cell_type": "code",
   "execution_count": null,
   "metadata": {
    "_uuid": "737d35e08117e5adbcc9bd59617c914850500f1f"
   },
   "outputs": [],
   "source": [
    "plot_country_multiple_choice_var_dropdown('Q49')"
   ]
  }
 ],
 "metadata": {
  "kernelspec": {
   "display_name": "Python 3",
   "language": "python",
   "name": "python3"
  },
  "language_info": {
   "codemirror_mode": {
    "name": "ipython",
    "version": 3
   },
   "file_extension": ".py",
   "mimetype": "text/x-python",
   "name": "python",
   "nbconvert_exporter": "python",
   "pygments_lexer": "ipython3",
   "version": "3.7.3"
  }
 },
 "nbformat": 4,
 "nbformat_minor": 1
}
